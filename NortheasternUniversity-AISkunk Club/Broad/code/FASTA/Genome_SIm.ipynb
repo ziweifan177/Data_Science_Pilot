{
 "cells": [
  {
   "cell_type": "code",
   "execution_count": 5,
   "metadata": {},
   "outputs": [],
   "source": [
    "import numpy as np\n",
    "import random"
   ]
  },
  {
   "cell_type": "code",
   "execution_count": 6,
   "metadata": {},
   "outputs": [],
   "source": [
    "mutation_rate=0.1  # 0 to 1 \"lambda\""
   ]
  },
  {
   "cell_type": "code",
   "execution_count": 17,
   "metadata": {},
   "outputs": [],
   "source": [
    "seq='AGCTTTTCATTCTGACTGCAAC'"
   ]
  },
  {
   "cell_type": "code",
   "execution_count": 18,
   "metadata": {},
   "outputs": [
    {
     "data": {
      "text/plain": [
       "['A', 'G', 'C', 'T', 'T']"
      ]
     },
     "execution_count": 18,
     "metadata": {},
     "output_type": "execute_result"
    }
   ],
   "source": [
    "l=list(seq)\n",
    "l[0:5]"
   ]
  },
  {
   "cell_type": "code",
   "execution_count": 23,
   "metadata": {
    "scrolled": true
   },
   "outputs": [
    {
     "name": "stdout",
     "output_type": "stream",
     "text": [
      "0.004066348480990856\n"
     ]
    }
   ],
   "source": [
    "flip = np.random.uniform(0,1)\n",
    "print(flip )"
   ]
  },
  {
   "cell_type": "code",
   "execution_count": 44,
   "metadata": {},
   "outputs": [],
   "source": [
    "def mutate_base(b):\n",
    "    if b=='A':\n",
    "      return 'C'\n",
    "    return 'A'"
   ]
  },
  {
   "cell_type": "code",
   "execution_count": 49,
   "metadata": {},
   "outputs": [
    {
     "name": "stdout",
     "output_type": "stream",
     "text": [
      "Mutating C\n",
      "1  mutations of 22\n",
      "ori:  AGCTTTTCATTCTGACTGCAAC\n",
      "mutated_seq_str:  AGCTTTTCATTCTGACTGAAAC 22\n",
      "mutated_seq:  ['A', 'G', 'C', 'T', 'T', 'T', 'T', 'C', 'A', 'T', 'T', 'C', 'T', 'G', 'A', 'C', 'T', 'G', 'A', 'A', 'A', 'C'] 22\n"
     ]
    }
   ],
   "source": [
    "cnt=0\n",
    "mutated_seq=[]\n",
    "for base in seq:\n",
    "    flip = np.random.uniform(0,1)\n",
    "\n",
    "    if (flip<mutation_rate):\n",
    "        print ('Mutating', base)\n",
    "        cnt=cnt+1\n",
    "        m=mutate_base(base)\n",
    "        mutated_seq.append(m)     \n",
    "    \n",
    "    else:\n",
    "        mutated_seq.append(base) \n",
    "        \n",
    "print (cnt,' mutations of', len(seq)) \n",
    "print('ori: ', seq)\n",
    "print ('mutated_seq_str: ',''.join(mutated_seq), len(mutated_seq))\n",
    "print('mutated_seq: ', mutated_seq, len(mutated_seq))"
   ]
  },
  {
   "cell_type": "code",
   "execution_count": 25,
   "metadata": {},
   "outputs": [
    {
     "data": {
      "text/plain": [
       "'AGCTTTTCATTCTGACTGCAACGGQQAATATGTCTCTGTGTGGATTAAAAAAAGAGTQTCTGATAGCAGCQTQTGQAQTGGTQACCTGCCGTGAGTAAATTAAAATTQTAQTGACTTAGGTCQCTAAATACTTQAACCQAAGCTTTTCCTTCAGACTGCACCGGGCACTATGTCTCTATATGGATTAAAAAAAGAGTGTCTGATAGCAGCTTCTGAACTAATTACCTGCCGTGAGTAAATTCAAATTTTATTGACTTAGGTCACTACATACTTTAACCAA'"
      ]
     },
     "execution_count": 25,
     "metadata": {},
     "output_type": "execute_result"
    }
   ],
   "source": [
    "# mutated_seq[0:33]\n",
    "s=''.join(mutated_seq)\n",
    "s"
   ]
  },
  {
   "cell_type": "code",
   "execution_count": null,
   "metadata": {
    "collapsed": true
   },
   "outputs": [],
   "source": [
    "# difference"
   ]
  },
  {
   "cell_type": "code",
   "execution_count": null,
   "metadata": {
    "collapsed": true
   },
   "outputs": [],
   "source": []
  },
  {
   "cell_type": "code",
   "execution_count": null,
   "metadata": {
    "collapsed": true
   },
   "outputs": [],
   "source": []
  },
  {
   "cell_type": "code",
   "execution_count": null,
   "metadata": {
    "collapsed": true
   },
   "outputs": [],
   "source": []
  },
  {
   "cell_type": "code",
   "execution_count": null,
   "metadata": {
    "collapsed": true
   },
   "outputs": [],
   "source": []
  },
  {
   "cell_type": "code",
   "execution_count": null,
   "metadata": {
    "collapsed": true
   },
   "outputs": [],
   "source": []
  },
  {
   "cell_type": "code",
   "execution_count": null,
   "metadata": {
    "collapsed": true
   },
   "outputs": [],
   "source": []
  },
  {
   "cell_type": "code",
   "execution_count": null,
   "metadata": {
    "collapsed": true
   },
   "outputs": [],
   "source": []
  },
  {
   "cell_type": "code",
   "execution_count": null,
   "metadata": {
    "collapsed": true
   },
   "outputs": [],
   "source": []
  }
 ],
 "metadata": {
  "kernelspec": {
   "display_name": "Python 3",
   "language": "python",
   "name": "python3"
  },
  "language_info": {
   "codemirror_mode": {
    "name": "ipython",
    "version": 3
   },
   "file_extension": ".py",
   "mimetype": "text/x-python",
   "name": "python",
   "nbconvert_exporter": "python",
   "pygments_lexer": "ipython3",
   "version": "3.7.0b3"
  }
 },
 "nbformat": 4,
 "nbformat_minor": 2
}
