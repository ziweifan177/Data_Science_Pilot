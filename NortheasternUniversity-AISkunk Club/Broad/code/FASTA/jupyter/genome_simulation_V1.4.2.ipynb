{
 "cells": [
  {
   "cell_type": "markdown",
   "metadata": {},
   "source": [
    "__Tips: Please install Bio before running by:__\n",
    "pip install biopython"
   ]
  },
  {
   "cell_type": "code",
   "execution_count": 100,
   "metadata": {
    "scrolled": true
   },
   "outputs": [],
   "source": [
    "# python3 genome_simulation.py --ini='bacteria.ini' --data='Escherichia_coli_DH10B.fasta'\n",
    "from configparser import ConfigParser\n",
    "import optparse\n",
    "import random, os, sys\n",
    "\n",
    "import logging\n",
    "from datetime import datetime\n",
    "import numpy as np\n",
    "import calendar;\n",
    "import time;\n",
    "from Bio import SeqIO \n",
    "from decimal import *\n",
    "import numpy as np"
   ]
  },
  {
   "cell_type": "markdown",
   "metadata": {},
   "source": [
    "#### Step 0. Function definition:\n",
    "__A. parse_file(filename, formatname, length):__ Return the sequencing from file with specified format and length.  \n",
    "__B. mutate_prob(target_bases_list, prob):__ Mutate the base by picking from bases list with probability.  \n",
    "__C. mutation_simulate(ori_seq):__ Mutate the original sequencing by probability/flipping and return the mutated sequencing, and how many bases have been mutated."
   ]
  },
  {
   "cell_type": "code",
   "execution_count": 101,
   "metadata": {},
   "outputs": [],
   "source": [
    "def parse_file(filename, formatname, length): \n",
    "    '''\n",
    "        filename: file path\n",
    "        formatname: 'fasta', 'abi', 'genbank or gb' etc...\n",
    "        length: top number for snipping\n",
    "    '''\n",
    "    with open(filename, \"rU\") as handle:\n",
    "        for record in SeqIO.parse(handle, formatname) :\n",
    "            if len(record.seq)>length:\n",
    "                base_top = record.seq[:length]\n",
    "        return record, base_top"
   ]
  },
  {
   "cell_type": "code",
   "execution_count": 102,
   "metadata": {},
   "outputs": [],
   "source": [
    "def mutate_prob(target_bases_list, prob1): \n",
    "    picked_base = np.random.choice(target_bases_list, 1, prob1) #Pick 1 from target list based on prob1.\n",
    "    return picked_base"
   ]
  },
  {
   "cell_type": "code",
   "execution_count": 103,
   "metadata": {},
   "outputs": [],
   "source": [
    "def mutation_simulate(ori_seq):\n",
    "    count=0\n",
    "    mutated_seq=[]\n",
    "\n",
    "    for ori_base in ori_seq:\n",
    "        flip = np.random.uniform(0, 1)\n",
    "        #print('flip on ', ori_base, flip)\n",
    "        \n",
    "        lambda_list = list(conf_lamba)\n",
    "        picked_lamba = np.random.choice(lambda_list, 1)\n",
    "    \n",
    "        # For C base: transit to A or G by flip probability (if flip < lamda picked randomly from configuration lambda list.)\n",
    "        if (ori_base == 'C') and (flip <= picked_lamba): #C-> G or A\n",
    "            mutated_base = mutate_prob(['A','G'], flip)  #Pick 1 from target list based on flip.\n",
    "            count+=1\n",
    "            if mutated_base:\n",
    "                #print ('(Mutated', ori_base, ' to: ', mutated_base, ' flip: ', flip, 'lambda: ', picked_lamba, ')')\n",
    "                mutated_seq.append(mutated_base)   \n",
    "            else:\n",
    "                mutated_seq.append(ori_base)\n",
    "                \n",
    "        # For G base: transit to C or T by flip probability (if flip < lamda picked randomly from configuration lambda list.)       \n",
    "        elif (ori_base == 'G') and (flip <= picked_lamba): #G-> C or T\n",
    "            mutated_base = mutate_prob(['C','T'], flip)  #Pick 1 from target list based on flip.\n",
    "            count+=1\n",
    "            if mutated_base:\n",
    "                #print ('(Mutated', ori_base, ' to: ', mutated_base, ' flip: ', flip, 'lambda: ', picked_lamba, ')')\n",
    "                mutated_seq.append(mutated_base)   \n",
    "            else:\n",
    "                mutated_seq.append(ori_base)            \n",
    "        else:\n",
    "            mutated_seq.append(ori_base)\n",
    "\n",
    "    return mutated_seq, count"
   ]
  },
  {
   "cell_type": "markdown",
   "metadata": {},
   "source": [
    "#### Step 1. Please configure these parameters accordingly before running:\n",
    "- ALL parameters in configuration will be kept in the format of 'conf_XXXXX' for easily recognization."
   ]
  },
  {
   "cell_type": "code",
   "execution_count": 104,
   "metadata": {
    "scrolled": true
   },
   "outputs": [],
   "source": [
    "#[lamba]\n",
    "# conf_lamba_min/max: It is on a per generation basis ... update mutation rate to different values within the rage. \n",
    "# conf_lamba_min/max:Start by one generation the min rate then the next the max rate then the min rate etc\n",
    "# conf_lamba_min=0.1 \n",
    "# conf_lamba_max=0.5\n",
    "\n",
    "# conf_lamba: can have multiple lambas\n",
    "conf_lamba=0.2,0.1,0.3\n",
    "conf_generation=7\n",
    "\n",
    "#[mutation]\n",
    "# run_times: How many mutated seqs will be generated.\n",
    "conf_run_times=4 \n",
    "conf_numrows=1\n",
    "\n",
    "#[fasta]\n",
    "# conf_filepath: The path of fasta file.\n",
    "#conf_filepath = 'C:\\Projects\\Broad\\code\\FASTA\\Escherichia_coli_DH10B.fasta'\n",
    "conf_filepath = '../Escherichia_coli_DH10B.fasta'\n",
    "# conf_top_num: How many bases could be kept from fasta file.\n",
    "conf_top_num = 40 \n",
    "# conf_generated_file_format: specify the format will be generated with: '.nex','.txt' etc.\n",
    "conf_generated_file_format = '.txt'\n"
   ]
  },
  {
   "cell_type": "markdown",
   "metadata": {},
   "source": [
    "#### Step 2: Get the specified length of the sequences from the specified file."
   ]
  },
  {
   "cell_type": "code",
   "execution_count": 105,
   "metadata": {},
   "outputs": [],
   "source": [
    "# 0. FAKE seq for testing:\n",
    "# ori_seq='AGCTACTGGC'"
   ]
  },
  {
   "cell_type": "code",
   "execution_count": 106,
   "metadata": {
    "scrolled": true
   },
   "outputs": [
    {
     "name": "stdout",
     "output_type": "stream",
     "text": [
      "AGCTTTTCATTCTGACTGCAACGGGCAATATGTCTCTGTG\n"
     ]
    },
    {
     "name": "stderr",
     "output_type": "stream",
     "text": [
      "c:\\python37\\lib\\site-packages\\ipykernel_launcher.py:7: DeprecationWarning: 'U' mode is deprecated\n",
      "  import sys\n"
     ]
    }
   ],
   "source": [
    "# Get the trimmed seq string from specified file.\n",
    "record, base_top = parse_file(conf_filepath, \"fasta\", int(conf_top_num))\n",
    "ori_seq = str(base_top)\n",
    "print(ori_seq)"
   ]
  },
  {
   "cell_type": "markdown",
   "metadata": {},
   "source": [
    "#### Step 3: Generate the mutated sequences with specified times and write these mutated sequeces to file with specified format.\n",
    "- In this case, write the mutated sequeces in .nex file.  \n",
    "- The file will be named with timestamp.  \n",
    "- e.g.: __Generated file: GBAC_<Generation\\><mutation_rate\\>Seq__  \n",
    "GBAC_7_0.2 AGCTTTTCATTCTGACTGAAACGGGCAATATGTCTCTGTG  \n",
    "GBAC_7_0.2 AGATTTTCATTCTGACTGCAACGGTCAATATGTCTCTGTG  \n",
    "GBAC_7_0.2 AGCTTTTCATTCTGACTGCAACGCGCAATATTTCTATCTC  \n",
    "GBAC_7_0.2 AGATTTTCATTCTGACTTCAACGCGAAATATGTCTCTGTG  \n",
    "GBAC_7_0.2 AGCTTTTCATTCTGACTGCAACGGGCAATATGTCTCTGTG  "
   ]
  },
  {
   "cell_type": "code",
   "execution_count": 107,
   "metadata": {
    "scrolled": true
   },
   "outputs": [
    {
     "name": "stdout",
     "output_type": "stream",
     "text": [
      "1565132744\n"
     ]
    }
   ],
   "source": [
    "# Generate file name with timestamp.\n",
    "timestamp = calendar.timegm(time.gmtime())\n",
    "print(timestamp)\n",
    "mut_seq_nexfilepath = \"file_generated\\\\\"+\"SimSeqFile_\"+ str(timestamp) + conf_generated_file_format"
   ]
  },
  {
   "cell_type": "markdown",
   "metadata": {},
   "source": [
    "#### Step 4: Generate the sequences and differences for output file."
   ]
  },
  {
   "cell_type": "code",
   "execution_count": 108,
   "metadata": {
    "scrolled": true
   },
   "outputs": [],
   "source": [
    "def compare_seq(seq1, seq2):\n",
    "    diff_seq = ''\n",
    "    diff_index=''\n",
    "    diff=''\n",
    "    \n",
    "    if len(seq1)==len(seq2):\n",
    "        for i in range(0, len(seq1)):\n",
    "            if seq1[i]!= seq2[i]:\n",
    "                #diff_str+=str(i)+':'+seq1[i]+'->'+seq2[i]\n",
    "                diff_seq+=seq2[i]\n",
    "                diff_index+=str(i)+','\n",
    "        diff = diff_seq+' '+diff_index\n",
    "        \n",
    "    else:\n",
    "        return\n",
    "\n",
    "    return diff"
   ]
  },
  {
   "cell_type": "code",
   "execution_count": 148,
   "metadata": {},
   "outputs": [],
   "source": [
    "# Sike:\n",
    "def dna_seq_compare(ori_seq, mutated_seq):\n",
    "    len1 = len(ori_seq)\n",
    "    len2 = len(mutated_seq)\n",
    "    mismatches = []\n",
    "    \n",
    "    for pos in range (0, min(len1, len2)):\n",
    "        if ori_seq[pos]!= mutated_seq[pos]:\n",
    "            mismatches.append(\"|\")\n",
    "        else:\n",
    "            mismatches.append(\" \")\n",
    "    mismatches = \"\".join(mismatches)\n",
    "\n",
    "    return mismatches+'\\n'+ mutated_seq"
   ]
  },
  {
   "cell_type": "code",
   "execution_count": 160,
   "metadata": {
    "scrolled": false
   },
   "outputs": [
    {
     "name": "stdout",
     "output_type": "stream",
     "text": [
      "AGCTTTTCATTCTGACTGCAACGGGCAATATGTCTCTGTG\n",
      "  |        |     |     |                \n",
      "AGATTTTCATTATGACTTCAACGCGCAATATGTCTCTGTG\n",
      "_______________________________________\n",
      "AGCTTTTCATTCTGACTGCAACGGGCAATATGTCTCTGTG\n",
      "                  |      |              \n",
      "AGCTTTTCATTCTGACTGAAACGGGAAATATGTCTCTGTG\n",
      "_______________________________________\n",
      "AGCTTTTCATTCTGACTGCAACGGGCAATATGTCTCTGTG\n",
      "                                       |\n",
      "AGCTTTTCATTCTGACTGCAACGGGCAATATGTCTCTGTT\n",
      "_______________________________________\n",
      "AGCTTTTCATTCTGACTGCAACGGGCAATATGTCTCTGTG\n",
      "                                     |  \n",
      "AGCTTTTCATTCTGACTGCAACGGGCAATATGTCTCTTTG\n",
      "_______________________________________\n",
      "1 time(s) mutation:AATC 2,11,17,23,\n",
      "2 time(s) mutation:AA 18,25,\n",
      "3 time(s) mutation:T 39,\n",
      "4 time(s) mutation:T 37,\n",
      "\n"
     ]
    }
   ],
   "source": [
    "multi_mutated_seq=''\n",
    "diff_str = ''\n",
    "multi_mutated_seq ='Original_Sequencing:   ' + ori_seq+'\\n'\n",
    "\n",
    "for run_time in range(conf_run_times):\n",
    "    #print('\\nMutating...', run_time+1, 'times: ')\n",
    "    mutated_seq_file_list, count = mutation_simulate(ori_seq) #Tuple return: mutation_simulate(): mutated_seq, count. Get mutated_seq.\n",
    "        \n",
    "    #seq_num = 'GBAC_' + str(conf_generation)+'_'+ str(conf_lamba)\n",
    "    mutated_seq = ''.join([''.join(base) for base in mutated_seq_file_list])\n",
    "    #multi_mutated_seq += seq_num +':'+ mutated_seq+'\\n'\n",
    "    \n",
    "    diff_str += str(run_time+1)+' time(s) mutation:'+ compare_seq(ori_seq, mutated_seq)+'\\n'\n",
    "    \n",
    "    #Sike: diff marker:\n",
    "    print(ori_seq)\n",
    "    str_diff_result = dna_seq_compare(ori_seq, mutated_seq)+'\\n'+'_______________________________________'\n",
    "    print(str_diff_result)\n",
    "\n",
    "#print(multi_mutated_seq)\n",
    "print(diff_str)"
   ]
  },
  {
   "cell_type": "code",
   "execution_count": 157,
   "metadata": {},
   "outputs": [],
   "source": [
    "def write_file(filepath, content):\n",
    "    with open(filepath, \"w\") as file:\n",
    "        file.write(content)\n",
    "        print('Done. Wrote to: ', filepath)"
   ]
  },
  {
   "cell_type": "code",
   "execution_count": 158,
   "metadata": {
    "scrolled": true
   },
   "outputs": [
    {
     "name": "stdout",
     "output_type": "stream",
     "text": [
      "Done. Wrote to:  file_generated\\SimSeqFile_1565132744.txt\n"
     ]
    }
   ],
   "source": [
    "write_file(mut_seq_nexfilepath, multi_mutated_seq+'\\n')"
   ]
  },
  {
   "cell_type": "code",
   "execution_count": 159,
   "metadata": {
    "scrolled": true
   },
   "outputs": [
    {
     "name": "stdout",
     "output_type": "stream",
     "text": [
      "Done. Wrote to:  file_generated\\Diff_Ori_Mut_1565132744.txt\n"
     ]
    }
   ],
   "source": [
    "diff_filepath = \"file_generated\\\\\"+\"Diff_Ori_Mut_\"+ str(timestamp) + conf_generated_file_format\n",
    "write_file(diff_filepath, diff_str)"
   ]
  }
 ],
 "metadata": {
  "kernelspec": {
   "display_name": "Python 3",
   "language": "python",
   "name": "python3"
  },
  "language_info": {
   "codemirror_mode": {
    "name": "ipython",
    "version": 3
   },
   "file_extension": ".py",
   "mimetype": "text/x-python",
   "name": "python",
   "nbconvert_exporter": "python",
   "pygments_lexer": "ipython3",
   "version": "3.7.0b3"
  }
 },
 "nbformat": 4,
 "nbformat_minor": 2
}
