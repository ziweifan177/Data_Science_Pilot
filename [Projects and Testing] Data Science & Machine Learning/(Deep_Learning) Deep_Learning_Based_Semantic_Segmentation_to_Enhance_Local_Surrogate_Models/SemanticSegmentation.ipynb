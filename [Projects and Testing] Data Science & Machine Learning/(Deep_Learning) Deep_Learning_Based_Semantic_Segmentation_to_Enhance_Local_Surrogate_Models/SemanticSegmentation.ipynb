{
 "cells": [
  {
   "cell_type": "markdown",
   "metadata": {},
   "source": [
    "# Deep Learning Based Semantic Segmentation to Enhance Local Surrogate Models"
   ]
  },
  {
   "cell_type": "markdown",
   "metadata": {},
   "source": [
    "## Knowledge structure about Segmentation:  \n",
    "<img src='Image/Concept.jpg'>"
   ]
  },
  {
   "cell_type": "markdown",
   "metadata": {},
   "source": [
    "__A general semantic segmentation architecture can be broadly thought of as an encoder network followed by a decoder network:__  \n",
    "The encoder is usually is a pre-trained classification network like VGG/ResNet followed by a decoder network.  \n",
    "The task of the decoder is to semantically project the discriminative features (lower resolution) learnt by the encoder onto the pixel space (higher resolution) to get a dense classification."
   ]
  },
  {
   "cell_type": "markdown",
   "metadata": {},
   "source": [
    "### Reference:  \n",
    "- https://nanonets.com/blog/how-to-do-semantic-segmentation-using-deep-learning/  \n",
    "- https://blog.goodaudience.com/using-convolutional-neural-networks-for-image-segmentation-a-quick-intro-75bd68779225  \n",
    "- https://towardsdatascience.com/image-segmentation-using-pythons-scikit-image-module-533a61ecc980"
   ]
  },
  {
   "cell_type": "code",
   "execution_count": null,
   "metadata": {},
   "outputs": [],
   "source": []
  }
 ],
 "metadata": {
  "kernelspec": {
   "display_name": "Python 3",
   "language": "python",
   "name": "python3"
  },
  "language_info": {
   "codemirror_mode": {
    "name": "ipython",
    "version": 3
   },
   "file_extension": ".py",
   "mimetype": "text/x-python",
   "name": "python",
   "nbconvert_exporter": "python",
   "pygments_lexer": "ipython3",
   "version": "3.7.0b3"
  }
 },
 "nbformat": 4,
 "nbformat_minor": 2
}
