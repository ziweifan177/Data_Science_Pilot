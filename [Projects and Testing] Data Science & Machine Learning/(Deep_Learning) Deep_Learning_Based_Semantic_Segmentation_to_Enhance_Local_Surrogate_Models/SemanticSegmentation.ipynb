{
 "cells": [
  {
   "cell_type": "markdown",
   "metadata": {},
   "source": [
    "# Deep Learning Based Semantic Segmentation to Enhance Local Surrogate Models"
   ]
  },
  {
   "cell_type": "markdown",
   "metadata": {},
   "source": [
    "## Summary:  \n",
    "- Image segmentation algorithms used as the first step in surrogate model based model interpretability algorithms don’t create very interpretable segmentation.\n",
    "- We believe replacing the image segmentation step with deep learning based semantic segmentation can create much more interpretable models.\n"
   ]
  },
  {
   "cell_type": "markdown",
   "metadata": {},
   "source": [
    "## Problem Description: \n",
    "- Using local surrogate models based interpretability algorithms such as LIME on image data work by creating interpretable model-agnostic explanations by first segmenting with image processing algorithms such as slic, watershed, chan_vese, etc. (see https://scikit-image.org/docs/dev/api/skimage.segmentation.html)  \n",
    "- The problem with this kind of image segmentation from a model interpretability standpoint is that even when important predictive features of images are identified they are not mapped to any semantic meaning.   \n",
    "- In the example below the local surrogate model interpretability LIME, using slic to segment the image, identifies the red regions as important for a making prediction of an astronaut or not.  Unfortunately those regions have no semantic meaning. They may be part of the helmet, or the space suit but what one really wants to know is which semantic features are important.   \n",
    "- Is the space suit or helmet or face or some combination is used to make the prediction?\n",
    "<img src='Image/suit.png'>"
   ]
  },
  {
   "cell_type": "markdown",
   "metadata": {},
   "source": [
    "## Deep Learning Based Semantic Segmentation:  \n",
    "Deep learning based semantic segmentation has been shown to be able segment images into regions much more suited for model interpretability. Rather than segmenting on color and brightness they identify and segment the objects in an image.  In the example below, we can see the deep learning based semantic segmentation has identified the regions of the image corresponding to the people, table and TV.  \n",
    "\n",
    "- In this project we propose replacing the image processing algorithms based on color and other statistical properties of images with deep learning based semantic segmentation for the segmentation step in surrogate models based interpretability algorithms such as LIME on images.\n",
    "\n",
    "<img src='Image/person.png'>"
   ]
  },
  {
   "cell_type": "markdown",
   "metadata": {},
   "source": [
    "## Some background:\n",
    "### 1. Knowledge structure about Segmentation:  \n",
    "<img src='Image/Concept.jpg'>"
   ]
  },
  {
   "cell_type": "markdown",
   "metadata": {},
   "source": [
    "## 3. Why Semantic Segmentation:  \n",
    "- Semantic segmentation is unlike classification where the end result of the very deep network is the only important thing, not only requires <font color='red'>discrimination at pixel level</font> but also a mechanism to <font color='red'>project the discriminative features</font> learnt at different stages of the encoder onto the pixel space.  \n",
    "\n",
    "- __A general semantic segmentation architecture can be broadly thought of as an encoder network followed by a decoder network:__  \n",
    "The encoder is usually is a pre-trained classification network like VGG/ResNet followed by a decoder network.  \n",
    "The task of the decoder is to semantically project the discriminative features (lower resolution) learnt by the encoder onto the pixel space (higher resolution) to get a dense classification."
   ]
  },
  {
   "cell_type": "markdown",
   "metadata": {},
   "source": [
    "## 4. VGG16:  \n",
    "<img src='Image/vgg16.png'>  \n",
    "#### VGG16 Architecture:  \n",
    "<img src='Image/vgg16-neural-network.jpg'>  \n",
    "<img src='Image/Capture-564x570.jpg'>\n",
    "####  Hidden layers:  \n",
    "   - All hiddeng layers are equipped with the rectification (ReLU) non-linearity.   \n",
    "   \n",
    "#### Fully-Connected (FC) layers:  \n",
    "- 3 follow a stack of convolutional layers (which has a different depth in different architectures): \n",
    "    - the 1, 2 have 4096 channels each.  \n",
    "    - the 3rd performs 1000-way ILSVRC classification and thus contains 1000 channels (one for each class).  \n",
    "    - The final layer is the soft-max layer.   \n",
    "    - The configuration of the fully connected layers is the same in all networks.  \n"
   ]
  },
  {
   "cell_type": "code",
   "execution_count": 1,
   "metadata": {},
   "outputs": [],
   "source": [
    "#import tensorflow as tf\n",
    "\n",
    "import os\n",
    "import sys\n",
    "import tensorflow as tf\n",
    "import skimage.io as io\n",
    "import numpy as np"
   ]
  },
  {
   "cell_type": "code",
   "execution_count": 2,
   "metadata": {},
   "outputs": [
    {
     "name": "stdout",
     "output_type": "stream",
     "text": [
      "1.13.1\n"
     ]
    }
   ],
   "source": [
    "print(tf.__version__)"
   ]
  },
  {
   "cell_type": "code",
   "execution_count": 3,
   "metadata": {},
   "outputs": [],
   "source": [
    "def get_kernel_size(factor):\n",
    "    \"\"\"\n",
    "    Find the kernel size given the desired factor of upsampling.\n",
    "    \"\"\"\n",
    "    return 2 * factor - factor % 2\n"
   ]
  },
  {
   "cell_type": "code",
   "execution_count": 4,
   "metadata": {},
   "outputs": [],
   "source": [
    "def upsample_filt(size):\n",
    "    \"\"\"\n",
    "    Make a 2D bilinear kernel suitable for upsampling of the given (h, w) size.\n",
    "    \"\"\"\n",
    "    factor = (size + 1) // 2\n",
    "    if size % 2 == 1:\n",
    "        center = factor - 1\n",
    "    else:\n",
    "        center = factor - 0.5\n",
    "    og = np.ogrid[:size, :size]\n",
    "    return (1 - abs(og[0] - center) / factor) * \\\n",
    "           (1 - abs(og[1] - center) / factor)"
   ]
  },
  {
   "cell_type": "code",
   "execution_count": 5,
   "metadata": {},
   "outputs": [],
   "source": [
    "def bilinear_upsample_weights(factor, number_of_classes):\n",
    "    \"\"\"\n",
    "    Create weights matrix for transposed convolution with bilinear filter\n",
    "    initialization.\n",
    "    \"\"\"    \n",
    "    filter_size = get_kernel_size(factor)\n",
    "    \n",
    "    weights = np.zeros((filter_size,\n",
    "                        filter_size,\n",
    "                        number_of_classes,\n",
    "                        number_of_classes), dtype=np.float32)\n",
    "    \n",
    "    upsample_kernel = upsample_filt(filter_size)\n",
    "    \n",
    "    for i in range(number_of_classes):\n",
    "        \n",
    "        weights[:, :, i, i] = upsample_kernel\n",
    "    \n",
    "    return weights"
   ]
  },
  {
   "cell_type": "code",
   "execution_count": 6,
   "metadata": {},
   "outputs": [],
   "source": [
    "from __future__ import division\n",
    "%matplotlib inline\n",
    "\n",
    "os.environ[\"CUDA_VISIBLE_DEVICES\"] = '1'\n",
    "sys.path.append(\"C:\\\\Projects\\\\(Deep_Learning)Deep_Learning_Based_Semantic_Segmentation_to_Enhance_Local_Surrogate_Models\\\\Model\\\\slim\")#/home/dpakhom1/workspace/my_models/slim/\n",
    "checkpoints_dir = 'C:\\\\Projects\\\\(Deep_Learning)Deep_Learning_Based_Semantic_Segmentation_to_Enhance_Local_Surrogate_Models\\\\Model\\\\checkpoint' #checkpoint\n"
   ]
  },
  {
   "cell_type": "code",
   "execution_count": 7,
   "metadata": {
    "scrolled": true
   },
   "outputs": [
    {
     "name": "stdout",
     "output_type": "stream",
     "text": [
      "['C:\\\\Projects\\\\(Deep_Learning)Deep_Learning_Based_Semantic_Segmentation_to_Enhance_Local_Surrogate_Models', 'c:\\\\python37\\\\python37.zip', 'c:\\\\python37\\\\DLLs', 'c:\\\\python37\\\\lib', 'c:\\\\python37', '', 'c:\\\\python37\\\\lib\\\\site-packages', 'c:\\\\python37\\\\lib\\\\site-packages\\\\setuptools-41.4.0-py3.7.egg', 'c:\\\\python37\\\\lib\\\\site-packages\\\\win32', 'c:\\\\python37\\\\lib\\\\site-packages\\\\win32\\\\lib', 'c:\\\\python37\\\\lib\\\\site-packages\\\\Pythonwin', 'c:\\\\python37\\\\lib\\\\site-packages\\\\IPython\\\\extensions', 'C:\\\\Users\\\\Zi Wei Fan\\\\.ipython', 'C:\\\\Projects\\\\(Deep_Learning)Deep_Learning_Based_Semantic_Segmentation_to_Enhance_Local_Surrogate_Models\\\\Model\\\\slim']\n"
     ]
    }
   ],
   "source": [
    "print(sys.path)"
   ]
  },
  {
   "cell_type": "code",
   "execution_count": 8,
   "metadata": {},
   "outputs": [
    {
     "name": "stdout",
     "output_type": "stream",
     "text": [
      "WARNING:tensorflow:From <ipython-input-8-bff36879ade0>:27: to_float (from tensorflow.python.ops.math_ops) is deprecated and will be removed in a future version.\n",
      "Instructions for updating:\n",
      "Use tf.cast instead.\n",
      "\n",
      "WARNING: The TensorFlow contrib module will not be included in TensorFlow 2.0.\n",
      "For more information, please see:\n",
      "  * https://github.com/tensorflow/community/blob/master/rfcs/20180907-contrib-sunset.md\n",
      "  * https://github.com/tensorflow/addons\n",
      "If you depend on functionality not listed there, please file an issue.\n",
      "\n"
     ]
    }
   ],
   "source": [
    "\n",
    "image_filename = 'Image/train/cat.jpg'\n",
    "annotation_filename = 'Image/train/cat_annotation.png'\n",
    "\n",
    "image_filename_placeholder = tf.placeholder(tf.string)\n",
    "annotation_filename_placeholder = tf.placeholder(tf.string)\n",
    "is_training_placeholder = tf.placeholder(tf.bool)\n",
    "\n",
    "feed_dict_to_use = {image_filename_placeholder: image_filename,\n",
    "                    annotation_filename_placeholder: annotation_filename,\n",
    "                    is_training_placeholder: True}\n",
    "\n",
    "image_tensor = tf.read_file(image_filename_placeholder)\n",
    "annotation_tensor = tf.read_file(annotation_filename_placeholder)\n",
    "\n",
    "image_tensor = tf.image.decode_jpeg(image_tensor, channels=3)\n",
    "annotation_tensor = tf.image.decode_png(annotation_tensor, channels=1)\n",
    "\n",
    "# Get ones for each class instead of a number -- we need that\n",
    "# for cross-entropy loss later on. Sometimes the groundtruth\n",
    "# masks have values other than 1 and 0. \n",
    "class_labels_tensor = tf.equal(annotation_tensor, 1)\n",
    "background_labels_tensor = tf.not_equal(annotation_tensor, 1)\n",
    "\n",
    "# Convert the boolean values into floats -- so that\n",
    "# computations in cross-entropy loss is correct\n",
    "bit_mask_class = tf.to_float(class_labels_tensor)\n",
    "bit_mask_background = tf.to_float(background_labels_tensor)\n",
    "\n",
    "combined_mask = tf.concat(axis=2, values=[bit_mask_class,\n",
    "                                                bit_mask_background])\n",
    "\n",
    "# Lets reshape our input so that it becomes suitable for \n",
    "# tf.softmax_cross_entropy_with_logits with [batch_size, num_classes]\n",
    "flat_labels = tf.reshape(tensor=combined_mask, shape=(-1, 2))\n",
    "\n",
    "import numpy as np\n",
    "import tensorflow as tf\n",
    "import sys\n",
    "import os\n",
    "from matplotlib import pyplot as plt\n",
    "\n",
    "from nets import vgg\n",
    "from preprocessing import vgg_preprocessing\n",
    "\n",
    "# Load the mean pixel values and the function\n",
    "# that performs the subtraction from each pixel\n",
    "from preprocessing.vgg_preprocessing import (_mean_image_subtraction,\n",
    "                                            _R_MEAN, _G_MEAN, _B_MEAN)\n",
    "try:\n",
    "    import urllib.request as urllib2\n",
    "except ImportError:\n",
    "    import urllib2"
   ]
  },
  {
   "cell_type": "markdown",
   "metadata": {},
   "source": [
    "__Note__:  \n",
    "   - TypeError: concat() got an unexpected keyword argument 'concat_dim': Seems not compatible with current TensorFlow\n",
    "modify concat_dim to axis."
   ]
  },
  {
   "cell_type": "code",
   "execution_count": 9,
   "metadata": {},
   "outputs": [],
   "source": [
    "fig_size = [15, 4]\n",
    "plt.rcParams[\"figure.figsize\"] = fig_size\n",
    "\n",
    "slim = tf.contrib.slim"
   ]
  },
  {
   "cell_type": "code",
   "execution_count": 10,
   "metadata": {
    "scrolled": false
   },
   "outputs": [],
   "source": [
    "upsample_factor = 32\n",
    "number_of_classes = 2\n",
    "log_folder = 'Log'\n",
    "\n",
    "vgg_checkpoint_path = os.path.join(checkpoints_dir, 'vgg_16.ckpt')"
   ]
  },
  {
   "cell_type": "code",
   "execution_count": 11,
   "metadata": {},
   "outputs": [],
   "source": [
    "# Convert image to float32 before subtracting the\n",
    "# mean pixel value\n",
    "image_float = tf.to_float(image_tensor, name='ToFloat')\n",
    "\n",
    "# Subtract the mean pixel value from each pixel\n",
    "mean_centered_image = _mean_image_subtraction(image_float,\n",
    "                                          [_R_MEAN, _G_MEAN, _B_MEAN])\n",
    "\n",
    "processed_images = tf.expand_dims(mean_centered_image, 0)\n",
    "\n",
    "upsample_filter_np = bilinear_upsample_weights(upsample_factor,\n",
    "                                               number_of_classes)\n",
    "\n",
    "upsample_filter_tensor = tf.constant(upsample_filter_np)\n"
   ]
  },
  {
   "cell_type": "code",
   "execution_count": 12,
   "metadata": {
    "scrolled": false
   },
   "outputs": [
    {
     "name": "stdout",
     "output_type": "stream",
     "text": [
      "WARNING:tensorflow:From c:\\python37\\lib\\site-packages\\tensorflow\\python\\framework\\op_def_library.py:263: colocate_with (from tensorflow.python.framework.ops) is deprecated and will be removed in a future version.\n",
      "Instructions for updating:\n",
      "Colocations handled automatically by placer.\n",
      "WARNING:tensorflow:From c:\\python37\\lib\\site-packages\\tensorflow\\python\\keras\\layers\\core.py:143: calling dropout (from tensorflow.python.ops.nn_ops) with keep_prob is deprecated and will be removed in a future version.\n",
      "Instructions for updating:\n",
      "Please use `rate` instead of `keep_prob`. Rate should be set to `rate = 1 - keep_prob`.\n"
     ]
    }
   ],
   "source": [
    "# Define the model that we want to use -- specify to use only two classes at the last layer\n",
    "with slim.arg_scope(vgg.vgg_arg_scope()):\n",
    "    \n",
    "    logits, end_points = vgg.vgg_16(processed_images,\n",
    "                           num_classes=2,\n",
    "                           is_training=is_training_placeholder,\n",
    "                           spatial_squeeze=False,\n",
    "                           fc_conv_padding='SAME')\n",
    "\n",
    "downsampled_logits_shape = tf.shape(logits)"
   ]
  },
  {
   "cell_type": "code",
   "execution_count": 13,
   "metadata": {
    "scrolled": true
   },
   "outputs": [
    {
     "name": "stdout",
     "output_type": "stream",
     "text": [
      "WARNING:tensorflow:From <ipython-input-13-0de2aab6b8f9>:20: softmax_cross_entropy_with_logits (from tensorflow.python.ops.nn_ops) is deprecated and will be removed in a future version.\n",
      "Instructions for updating:\n",
      "\n",
      "Future major versions of TensorFlow will allow gradients to flow\n",
      "into the labels input on backprop by default.\n",
      "\n",
      "See `tf.nn.softmax_cross_entropy_with_logits_v2`.\n",
      "\n",
      "WARNING:tensorflow:From <ipython-input-13-0de2aab6b8f9>:28: calling argmax (from tensorflow.python.ops.math_ops) with dimension is deprecated and will be removed in a future version.\n",
      "Instructions for updating:\n",
      "Use the `axis` argument instead\n"
     ]
    }
   ],
   "source": [
    "\n",
    "# Calculate the ouput size of the upsampled tensor\n",
    "upsampled_logits_shape = tf.stack([\n",
    "                                  downsampled_logits_shape[0],\n",
    "                                  downsampled_logits_shape[1] * upsample_factor,\n",
    "                                  downsampled_logits_shape[2] * upsample_factor,\n",
    "                                  downsampled_logits_shape[3]\n",
    "                                 ])\n",
    "\n",
    "# Perform the upsampling\n",
    "upsampled_logits = tf.nn.conv2d_transpose(logits, upsample_filter_tensor,\n",
    "                                 output_shape=upsampled_logits_shape,\n",
    "                                 strides=[1, upsample_factor, upsample_factor, 1])\n",
    "\n",
    "# Flatten the predictions, so that we can compute cross-entropy for\n",
    "# each pixel and get a sum of cross-entropies.\n",
    "flat_logits = tf.reshape(tensor=upsampled_logits, shape=(-1, number_of_classes))\n",
    "\n",
    "cross_entropies = tf.nn.softmax_cross_entropy_with_logits(logits=flat_logits,\n",
    "                                                          labels=flat_labels)\n",
    "\n",
    "cross_entropy_sum = tf.reduce_sum(cross_entropies)\n",
    "\n",
    "# Tensor to get the final prediction for each pixel -- pay \n",
    "# attention that we don't need softmax in this case because\n",
    "# we only need the final decision. If we also need the respective\n",
    "# probabilities we will have to apply softmax.\n",
    "pred = tf.argmax(upsampled_logits, dimension=3)\n",
    "\n",
    "probabilities = tf.nn.softmax(upsampled_logits)"
   ]
  },
  {
   "cell_type": "code",
   "execution_count": 14,
   "metadata": {
    "scrolled": false
   },
   "outputs": [],
   "source": [
    "\n",
    "# Here we define an optimizer and put all the variables\n",
    "# that will be created under a namespace of 'adam_vars'.\n",
    "# This is done so that we can easily access them later.\n",
    "# Those variables are used by adam optimizer and are not\n",
    "# related to variables of the vgg model.\n",
    "\n",
    "# We also retrieve gradient Tensors for each of our variables\n",
    "# This way we can later visualize them in tensorboard.\n",
    "# optimizer.compute_gradients and optimizer.apply_gradients\n",
    "# is equivalent to running:\n",
    "# train_step = tf.train.AdamOptimizer(learning_rate=0.0001).minimize(cross_entropy_sum)\n",
    "with tf.variable_scope(\"adam_vars\"):\n",
    "    optimizer = tf.train.AdamOptimizer(learning_rate=0.0001)\n",
    "    gradients = optimizer.compute_gradients(loss=cross_entropy_sum)\n",
    "    \n",
    "    for grad_var_pair in gradients:\n",
    "        \n",
    "        current_variable = grad_var_pair[1]\n",
    "        current_gradient = grad_var_pair[0]\n",
    "        \n",
    "        # Relace some characters from the original variable name\n",
    "        # tensorboard doesn't accept ':' symbol\n",
    "        gradient_name_to_save = current_variable.name.replace(\":\", \"_\")\n",
    "        \n",
    "        # Let's get histogram of gradients for each layer and\n",
    "        # visualize them later in tensorboard\n",
    "        tf.summary.histogram(gradient_name_to_save, current_gradient) \n",
    "    \n",
    "    train_step = optimizer.apply_gradients(grads_and_vars=gradients)\n",
    "    \n",
    "# Now we define a function that will load the weights from VGG checkpoint\n",
    "# into our variables when we call it. We exclude the weights from the last layer\n",
    "# which is responsible for class predictions. We do this because \n",
    "# we will have different number of classes to predict and we can't\n",
    "# use the old ones as an initialization.\n",
    "vgg_except_fc8_weights = slim.get_variables_to_restore(exclude=['vgg_16/fc8', 'adam_vars'])\n",
    "\n",
    "# Here we get variables that belong to the last layer of network.\n",
    "# As we saw, the number of classes that VGG was originally trained on\n",
    "# is different from ours -- in our case it is only 2 classes.\n",
    "vgg_fc8_weights = slim.get_variables_to_restore(include=['vgg_16/fc8'])\n",
    "\n",
    "adam_optimizer_variables = slim.get_variables_to_restore(include=['adam_vars'])\n",
    "\n",
    "# Add summary op for the loss -- to be able to see it in\n",
    "# tensorboard.\n",
    "tf.summary.scalar('cross_entropy_loss', cross_entropy_sum)\n",
    "\n",
    "# Put all summary ops into one op. Produces string when\n",
    "# you run it.\n",
    "merged_summary_op = tf.summary.merge_all()\n",
    "\n",
    "# Create the summary writer -- to write all the logs\n",
    "# into a specified file. This file can be later read\n",
    "# by tensorboard.\n",
    "summary_string_writer = tf.summary.FileWriter(log_folder)\n",
    "\n",
    "# Create the log folder if doesn't exist yet\n",
    "if not os.path.exists(log_folder):\n",
    "    os.makedirs(log_folder)\n",
    "\n",
    "# Create an OP that performs the initialization of\n",
    "# values of variables to the values from VGG.\n",
    "read_vgg_weights_except_fc8_func = slim.assign_from_checkpoint_fn(\n",
    "                                   vgg_checkpoint_path,\n",
    "                                   vgg_except_fc8_weights)\n",
    "\n",
    "# Initializer for new fc8 weights -- for two classes.\n",
    "vgg_fc8_weights_initializer = tf.variables_initializer(vgg_fc8_weights)\n",
    "\n",
    "# Initializer for adam variables\n",
    "optimization_variables_initializer = tf.variables_initializer(adam_optimizer_variables)\n"
   ]
  },
  {
   "cell_type": "code",
   "execution_count": 15,
   "metadata": {
    "scrolled": false
   },
   "outputs": [
    {
     "name": "stdout",
     "output_type": "stream",
     "text": [
      "WARNING:tensorflow:From c:\\python37\\lib\\site-packages\\tensorflow\\python\\training\\saver.py:1266: checkpoint_exists (from tensorflow.python.training.checkpoint_management) is deprecated and will be removed in a future version.\n",
      "Instructions for updating:\n",
      "Use standard file APIs to check for files with this prefix.\n"
     ]
    },
    {
     "ename": "ValueError",
     "evalue": "The passed save_path is not a valid checkpoint: C:\\Projects\\(Deep_Learning)Deep_Learning_Based_Semantic_Segmentation_to_Enhance_Local_Surrogate_Models\\Model\\checkpoint\\vgg_16.ckpt",
     "output_type": "error",
     "traceback": [
      "\u001b[1;31m---------------------------------------------------------------------------\u001b[0m",
      "\u001b[1;31mValueError\u001b[0m                                Traceback (most recent call last)",
      "\u001b[1;32m<ipython-input-15-14a49dae87a4>\u001b[0m in \u001b[0;36m<module>\u001b[1;34m\u001b[0m\n\u001b[0;32m      2\u001b[0m \u001b[1;33m\u001b[0m\u001b[0m\n\u001b[0;32m      3\u001b[0m     \u001b[1;31m# Run the initializers.\u001b[0m\u001b[1;33m\u001b[0m\u001b[1;33m\u001b[0m\u001b[0m\n\u001b[1;32m----> 4\u001b[1;33m     \u001b[0mread_vgg_weights_except_fc8_func\u001b[0m\u001b[1;33m(\u001b[0m\u001b[0msess\u001b[0m\u001b[1;33m)\u001b[0m\u001b[1;33m\u001b[0m\u001b[0m\n\u001b[0m\u001b[0;32m      5\u001b[0m     \u001b[0msess\u001b[0m\u001b[1;33m.\u001b[0m\u001b[0mrun\u001b[0m\u001b[1;33m(\u001b[0m\u001b[0mvgg_fc8_weights_initializer\u001b[0m\u001b[1;33m)\u001b[0m\u001b[1;33m\u001b[0m\u001b[0m\n\u001b[0;32m      6\u001b[0m     \u001b[0msess\u001b[0m\u001b[1;33m.\u001b[0m\u001b[0mrun\u001b[0m\u001b[1;33m(\u001b[0m\u001b[0moptimization_variables_initializer\u001b[0m\u001b[1;33m)\u001b[0m\u001b[1;33m\u001b[0m\u001b[0m\n",
      "\u001b[1;32mc:\\python37\\lib\\site-packages\\tensorflow\\contrib\\framework\\python\\ops\\variables.py\u001b[0m in \u001b[0;36mcallback\u001b[1;34m(session)\u001b[0m\n\u001b[0;32m    748\u001b[0m                            write_version=saver_pb2.SaverDef.V1)\n\u001b[0;32m    749\u001b[0m     \u001b[1;32mdef\u001b[0m \u001b[0mcallback\u001b[0m\u001b[1;33m(\u001b[0m\u001b[0msession\u001b[0m\u001b[1;33m)\u001b[0m\u001b[1;33m:\u001b[0m\u001b[1;33m\u001b[0m\u001b[0m\n\u001b[1;32m--> 750\u001b[1;33m       \u001b[0msaver\u001b[0m\u001b[1;33m.\u001b[0m\u001b[0mrestore\u001b[0m\u001b[1;33m(\u001b[0m\u001b[0msession\u001b[0m\u001b[1;33m,\u001b[0m \u001b[0mmodel_path\u001b[0m\u001b[1;33m)\u001b[0m\u001b[1;33m\u001b[0m\u001b[0m\n\u001b[0m\u001b[0;32m    751\u001b[0m     \u001b[1;32mreturn\u001b[0m \u001b[0mcallback\u001b[0m\u001b[1;33m\u001b[0m\u001b[0m\n\u001b[0;32m    752\u001b[0m   \u001b[1;32melse\u001b[0m\u001b[1;33m:\u001b[0m\u001b[1;33m\u001b[0m\u001b[0m\n",
      "\u001b[1;32mc:\\python37\\lib\\site-packages\\tensorflow\\python\\training\\saver.py\u001b[0m in \u001b[0;36mrestore\u001b[1;34m(self, sess, save_path)\u001b[0m\n\u001b[0;32m   1266\u001b[0m     \u001b[1;32mif\u001b[0m \u001b[1;32mnot\u001b[0m \u001b[0mcheckpoint_management\u001b[0m\u001b[1;33m.\u001b[0m\u001b[0mcheckpoint_exists\u001b[0m\u001b[1;33m(\u001b[0m\u001b[0mcompat\u001b[0m\u001b[1;33m.\u001b[0m\u001b[0mas_text\u001b[0m\u001b[1;33m(\u001b[0m\u001b[0msave_path\u001b[0m\u001b[1;33m)\u001b[0m\u001b[1;33m)\u001b[0m\u001b[1;33m:\u001b[0m\u001b[1;33m\u001b[0m\u001b[0m\n\u001b[0;32m   1267\u001b[0m       raise ValueError(\"The passed save_path is not a valid checkpoint: \"\n\u001b[1;32m-> 1268\u001b[1;33m                        + compat.as_text(save_path))\n\u001b[0m\u001b[0;32m   1269\u001b[0m \u001b[1;33m\u001b[0m\u001b[0m\n\u001b[0;32m   1270\u001b[0m     \u001b[0mlogging\u001b[0m\u001b[1;33m.\u001b[0m\u001b[0minfo\u001b[0m\u001b[1;33m(\u001b[0m\u001b[1;34m\"Restoring parameters from %s\"\u001b[0m\u001b[1;33m,\u001b[0m \u001b[0mcompat\u001b[0m\u001b[1;33m.\u001b[0m\u001b[0mas_text\u001b[0m\u001b[1;33m(\u001b[0m\u001b[0msave_path\u001b[0m\u001b[1;33m)\u001b[0m\u001b[1;33m)\u001b[0m\u001b[1;33m\u001b[0m\u001b[0m\n",
      "\u001b[1;31mValueError\u001b[0m: The passed save_path is not a valid checkpoint: C:\\Projects\\(Deep_Learning)Deep_Learning_Based_Semantic_Segmentation_to_Enhance_Local_Surrogate_Models\\Model\\checkpoint\\vgg_16.ckpt"
     ]
    }
   ],
   "source": [
    "with tf.Session() as sess:\n",
    "    \n",
    "    # Run the initializers.\n",
    "    read_vgg_weights_except_fc8_func(sess)\n",
    "    sess.run(vgg_fc8_weights_initializer)\n",
    "    sess.run(optimization_variables_initializer)\n",
    "    \n",
    "    train_image, train_annotation = sess.run([image_tensor, annotation_tensor],\n",
    "                                              feed_dict=feed_dict_to_use)\n",
    "    \n",
    "    f, (ax1, ax2) = plt.subplots(1, 2, sharey=True)\n",
    "    ax1.imshow(train_image)\n",
    "    ax1.set_title('Input image')\n",
    "    probability_graph = ax2.imshow(np.dstack((train_annotation,)*3)*100)\n",
    "    ax2.set_title('Input Ground-Truth Annotation')\n",
    "    plt.show()\n",
    "    \n",
    "    # Let's perform 10 interations\n",
    "    for i in range(10):\n",
    "        \n",
    "        loss, summary_string = sess.run([cross_entropy_sum, merged_summary_op],\n",
    "                                        feed_dict=feed_dict_to_use)\n",
    "        \n",
    "        sess.run(train_step, feed_dict=feed_dict_to_use)\n",
    "        \n",
    "        pred_np, probabilities_np = sess.run([pred, probabilities],\n",
    "                                              feed_dict=feed_dict_to_use)\n",
    "        \n",
    "        summary_string_writer.add_summary(summary_string, i)\n",
    "        \n",
    "        cmap = plt.get_cmap('bwr')\n",
    "        \n",
    "        f, (ax1, ax2) = plt.subplots(1, 2, sharey=True)\n",
    "        ax1.imshow(np.uint8(pred_np.squeeze() != 1), vmax=1.5, vmin=-0.4, cmap=cmap)\n",
    "        ax1.set_title('Argmax. Iteration # ' + str(i))\n",
    "        probability_graph = ax2.imshow(probabilities_np.squeeze()[:, :, 0])\n",
    "        ax2.set_title('Probability of the Class. Iteration # ' + str(i))\n",
    "        \n",
    "        plt.colorbar(probability_graph)\n",
    "        plt.show()\n",
    "        \n",
    "        print(\"Current Loss: \" +  str(loss))\n",
    "    \n",
    "    feed_dict_to_use[is_training_placeholder] = False\n",
    "    \n",
    "    final_predictions, final_probabilities, final_loss = sess.run([pred,\n",
    "                                                                   probabilities,\n",
    "                                                                   cross_entropy_sum],\n",
    "                                                         feed_dict=feed_dict_to_use)\n",
    "    \n",
    "    \n",
    "    f, (ax1, ax2) = plt.subplots(1, 2, sharey=True)\n",
    "    \n",
    "    ax1.imshow(np.uint8(final_predictions.squeeze() != 1),\n",
    "               vmax=1.5,\n",
    "               vmin=-0.4,\n",
    "               cmap=cmap)\n",
    "    \n",
    "    ax1.set_title('Final Argmax')\n",
    "    \n",
    "    \n",
    "    probability_graph = ax2.imshow(final_probabilities.squeeze()[:, :, 0])\n",
    "    ax2.set_title('Final Probability of the Class')\n",
    "    plt.colorbar(probability_graph)\n",
    "    \n",
    "    plt.show()\n",
    "    \n",
    "    print(\"Final Loss: \" +  str(final_loss))   \n",
    "\n",
    "summary_string_writer.close()"
   ]
  },
  {
   "cell_type": "markdown",
   "metadata": {},
   "source": [
    "### Reference:  \n",
    "- https://nanonets.com/blog/how-to-do-semantic-segmentation-using-deep-learning/  \n",
    "- https://blog.goodaudience.com/using-convolutional-neural-networks-for-image-segmentation-a-quick-intro-75bd68779225  \n",
    "- https://towardsdatascience.com/image-segmentation-using-pythons-scikit-image-module-533a61ecc980\n",
    "- http://www.cs.toronto.edu/~frossard/post/vgg16/  \n",
    "- https://ujjwalkarn.me/2016/08/11/intuitive-explanation-convnets/\n",
    "- https://machinelearningmastery.com/adam-optimization-algorithm-for-deep-learning/  \n",
    "- http://warmspringwinds.github.io/tensorflow/tf-slim/2016/12/18/image-segmentation-with-tensorflow-using-cnns-and-conditional-random-fields/ #!!!!!!!!\n",
    "- https://nbviewer.jupyter.org/github/warmspringwinds/tensorflow_notes/blob/master/image_segmentation_conditional_random_fields.ipynb #!!!!!!!!!!!!!"
   ]
  },
  {
   "cell_type": "code",
   "execution_count": null,
   "metadata": {},
   "outputs": [],
   "source": []
  }
 ],
 "metadata": {
  "kernelspec": {
   "display_name": "Python 3",
   "language": "python",
   "name": "python3"
  },
  "language_info": {
   "codemirror_mode": {
    "name": "ipython",
    "version": 3
   },
   "file_extension": ".py",
   "mimetype": "text/x-python",
   "name": "python",
   "nbconvert_exporter": "python",
   "pygments_lexer": "ipython3",
   "version": "3.7.0b3"
  }
 },
 "nbformat": 4,
 "nbformat_minor": 2
}
