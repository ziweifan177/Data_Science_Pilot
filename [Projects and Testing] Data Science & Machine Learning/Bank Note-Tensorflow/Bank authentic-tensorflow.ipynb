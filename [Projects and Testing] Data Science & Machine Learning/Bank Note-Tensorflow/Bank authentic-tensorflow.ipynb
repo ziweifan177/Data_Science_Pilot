{
 "cells": [
  {
   "cell_type": "markdown",
   "metadata": {},
   "source": [
    "# Bank authentic"
   ]
  },
  {
   "cell_type": "markdown",
   "metadata": {},
   "source": [
    "The data consists of 5 columns, where class indicates whether or not a Bank Note was authentic:\n",
    "\n",
    "- variance of Wavelet Transformed image (continuous)  \n",
    "- skewness of Wavelet Transformed image (continuous)  \n",
    "- curtosis of Wavelet Transformed image (continuous)  \n",
    "- entropy of image (continuous)  \n",
    "- class (integer): [Target] indicates whether or not a Bank Note was authentic.\n"
   ]
  },
  {
   "cell_type": "markdown",
   "metadata": {},
   "source": [
    "### Get the Data"
   ]
  },
  {
   "cell_type": "code",
   "execution_count": 31,
   "metadata": {},
   "outputs": [],
   "source": [
    "import pandas as pd"
   ]
  },
  {
   "cell_type": "code",
   "execution_count": 32,
   "metadata": {},
   "outputs": [],
   "source": [
    "data = pd.read_csv(\"bank_note_data.csv\")"
   ]
  },
  {
   "cell_type": "code",
   "execution_count": 33,
   "metadata": {},
   "outputs": [
    {
     "data": {
      "text/html": [
       "<div>\n",
       "<style scoped>\n",
       "    .dataframe tbody tr th:only-of-type {\n",
       "        vertical-align: middle;\n",
       "    }\n",
       "\n",
       "    .dataframe tbody tr th {\n",
       "        vertical-align: top;\n",
       "    }\n",
       "\n",
       "    .dataframe thead th {\n",
       "        text-align: right;\n",
       "    }\n",
       "</style>\n",
       "<table border=\"1\" class=\"dataframe\">\n",
       "  <thead>\n",
       "    <tr style=\"text-align: right;\">\n",
       "      <th></th>\n",
       "      <th>Image.Var</th>\n",
       "      <th>Image.Skew</th>\n",
       "      <th>Image.Curt</th>\n",
       "      <th>Entropy</th>\n",
       "      <th>Class</th>\n",
       "    </tr>\n",
       "  </thead>\n",
       "  <tbody>\n",
       "    <tr>\n",
       "      <th>0</th>\n",
       "      <td>3.6216</td>\n",
       "      <td>8.6661</td>\n",
       "      <td>-2.8073</td>\n",
       "      <td>-0.44699</td>\n",
       "      <td>0</td>\n",
       "    </tr>\n",
       "    <tr>\n",
       "      <th>1</th>\n",
       "      <td>4.5459</td>\n",
       "      <td>8.1674</td>\n",
       "      <td>-2.4586</td>\n",
       "      <td>-1.46210</td>\n",
       "      <td>0</td>\n",
       "    </tr>\n",
       "    <tr>\n",
       "      <th>2</th>\n",
       "      <td>3.8660</td>\n",
       "      <td>-2.6383</td>\n",
       "      <td>1.9242</td>\n",
       "      <td>0.10645</td>\n",
       "      <td>0</td>\n",
       "    </tr>\n",
       "    <tr>\n",
       "      <th>3</th>\n",
       "      <td>3.4566</td>\n",
       "      <td>9.5228</td>\n",
       "      <td>-4.0112</td>\n",
       "      <td>-3.59440</td>\n",
       "      <td>0</td>\n",
       "    </tr>\n",
       "  </tbody>\n",
       "</table>\n",
       "</div>"
      ],
      "text/plain": [
       "   Image.Var  Image.Skew  Image.Curt  Entropy  Class\n",
       "0     3.6216      8.6661     -2.8073 -0.44699      0\n",
       "1     4.5459      8.1674     -2.4586 -1.46210      0\n",
       "2     3.8660     -2.6383      1.9242  0.10645      0\n",
       "3     3.4566      9.5228     -4.0112 -3.59440      0"
      ]
     },
     "execution_count": 33,
     "metadata": {},
     "output_type": "execute_result"
    }
   ],
   "source": [
    "data.head(4)"
   ]
  },
  {
   "cell_type": "code",
   "execution_count": 34,
   "metadata": {
    "scrolled": true
   },
   "outputs": [
    {
     "data": {
      "text/plain": [
       "Index(['Image.Var', 'Image.Skew', 'Image.Curt', 'Entropy', 'Class'], dtype='object')"
      ]
     },
     "execution_count": 34,
     "metadata": {},
     "output_type": "execute_result"
    }
   ],
   "source": [
    "data.columns"
   ]
  },
  {
   "cell_type": "markdown",
   "metadata": {},
   "source": [
    "### EDA"
   ]
  },
  {
   "cell_type": "code",
   "execution_count": 24,
   "metadata": {},
   "outputs": [],
   "source": [
    "import seaborn as sns\n",
    "%matplotlib inline"
   ]
  },
  {
   "cell_type": "code",
   "execution_count": 25,
   "metadata": {},
   "outputs": [
    {
     "data": {
      "text/plain": [
       "<matplotlib.axes._subplots.AxesSubplot at 0x1fd240d6748>"
      ]
     },
     "execution_count": 25,
     "metadata": {},
     "output_type": "execute_result"
    },
    {
     "data": {
      "image/png": "[encoded data removed]",
      "text/plain": [
       "<Figure size 432x288 with 1 Axes>"
      ]
     },
     "metadata": {
      "needs_background": "light"
     },
     "output_type": "display_data"
    }
   ],
   "source": [
    "sns.countplot(x='Class', data=data)"
   ]
  },
  {
   "cell_type": "code",
   "execution_count": 26,
   "metadata": {},
   "outputs": [
    {
     "ename": "LinAlgError",
     "evalue": "singular matrix",
     "output_type": "error",
     "traceback": [
      "\u001b[1;31m---------------------------------------------------------------------------\u001b[0m",
      "\u001b[1;31mLinAlgError\u001b[0m                               Traceback (most recent call last)",
      "\u001b[1;32m<ipython-input-26-f71887debf44>\u001b[0m in \u001b[0;36m<module>\u001b[1;34m\u001b[0m\n\u001b[1;32m----> 1\u001b[1;33m \u001b[0msns\u001b[0m\u001b[1;33m.\u001b[0m\u001b[0mpairplot\u001b[0m\u001b[1;33m(\u001b[0m\u001b[0mdata\u001b[0m\u001b[1;33m,\u001b[0m \u001b[0mhue\u001b[0m\u001b[1;33m=\u001b[0m\u001b[1;34m'Class'\u001b[0m\u001b[1;33m)\u001b[0m\u001b[1;33m\u001b[0m\u001b[0m\n\u001b[0m",
      "\u001b[1;32mc:\\anaconda3\\anaconda3_2\\envs\\tensorflow\\lib\\site-packages\\seaborn\\axisgrid.py\u001b[0m in \u001b[0;36mpairplot\u001b[1;34m(data, hue, hue_order, palette, vars, x_vars, y_vars, kind, diag_kind, markers, height, aspect, dropna, plot_kws, diag_kws, grid_kws, size)\u001b[0m\n\u001b[0;32m   2109\u001b[0m             \u001b[0mdiag_kws\u001b[0m\u001b[1;33m.\u001b[0m\u001b[0msetdefault\u001b[0m\u001b[1;33m(\u001b[0m\u001b[1;34m\"shade\"\u001b[0m\u001b[1;33m,\u001b[0m \u001b[1;32mTrue\u001b[0m\u001b[1;33m)\u001b[0m\u001b[1;33m\u001b[0m\u001b[0m\n\u001b[0;32m   2110\u001b[0m             \u001b[0mdiag_kws\u001b[0m\u001b[1;33m[\u001b[0m\u001b[1;34m\"legend\"\u001b[0m\u001b[1;33m]\u001b[0m \u001b[1;33m=\u001b[0m \u001b[1;32mFalse\u001b[0m\u001b[1;33m\u001b[0m\u001b[0m\n\u001b[1;32m-> 2111\u001b[1;33m             \u001b[0mgrid\u001b[0m\u001b[1;33m.\u001b[0m\u001b[0mmap_diag\u001b[0m\u001b[1;33m(\u001b[0m\u001b[0mkdeplot\u001b[0m\u001b[1;33m,\u001b[0m \u001b[1;33m**\u001b[0m\u001b[0mdiag_kws\u001b[0m\u001b[1;33m)\u001b[0m\u001b[1;33m\u001b[0m\u001b[0m\n\u001b[0m\u001b[0;32m   2112\u001b[0m \u001b[1;33m\u001b[0m\u001b[0m\n\u001b[0;32m   2113\u001b[0m     \u001b[1;31m# Maybe plot on the off-diagonals\u001b[0m\u001b[1;33m\u001b[0m\u001b[1;33m\u001b[0m\u001b[0m\n",
      "\u001b[1;32mc:\\anaconda3\\anaconda3_2\\envs\\tensorflow\\lib\\site-packages\\seaborn\\axisgrid.py\u001b[0m in \u001b[0;36mmap_diag\u001b[1;34m(self, func, **kwargs)\u001b[0m\n\u001b[0;32m   1397\u001b[0m                     \u001b[0mcolor\u001b[0m \u001b[1;33m=\u001b[0m \u001b[0mfixed_color\u001b[0m\u001b[1;33m\u001b[0m\u001b[0m\n\u001b[0;32m   1398\u001b[0m \u001b[1;33m\u001b[0m\u001b[0m\n\u001b[1;32m-> 1399\u001b[1;33m                 \u001b[0mfunc\u001b[0m\u001b[1;33m(\u001b[0m\u001b[0mdata_k\u001b[0m\u001b[1;33m,\u001b[0m \u001b[0mlabel\u001b[0m\u001b[1;33m=\u001b[0m\u001b[0mlabel_k\u001b[0m\u001b[1;33m,\u001b[0m \u001b[0mcolor\u001b[0m\u001b[1;33m=\u001b[0m\u001b[0mcolor\u001b[0m\u001b[1;33m,\u001b[0m \u001b[1;33m**\u001b[0m\u001b[0mkwargs\u001b[0m\u001b[1;33m)\u001b[0m\u001b[1;33m\u001b[0m\u001b[0m\n\u001b[0m\u001b[0;32m   1400\u001b[0m \u001b[1;33m\u001b[0m\u001b[0m\n\u001b[0;32m   1401\u001b[0m             \u001b[0mself\u001b[0m\u001b[1;33m.\u001b[0m\u001b[0m_clean_axis\u001b[0m\u001b[1;33m(\u001b[0m\u001b[0max\u001b[0m\u001b[1;33m)\u001b[0m\u001b[1;33m\u001b[0m\u001b[0m\n",
      "\u001b[1;32mc:\\anaconda3\\anaconda3_2\\envs\\tensorflow\\lib\\site-packages\\seaborn\\distributions.py\u001b[0m in \u001b[0;36mkdeplot\u001b[1;34m(data, data2, shade, vertical, kernel, bw, gridsize, cut, clip, legend, cumulative, shade_lowest, cbar, cbar_ax, cbar_kws, ax, **kwargs)\u001b[0m\n\u001b[0;32m    689\u001b[0m         ax = _univariate_kdeplot(data, shade, vertical, kernel, bw,\n\u001b[0;32m    690\u001b[0m                                  \u001b[0mgridsize\u001b[0m\u001b[1;33m,\u001b[0m \u001b[0mcut\u001b[0m\u001b[1;33m,\u001b[0m \u001b[0mclip\u001b[0m\u001b[1;33m,\u001b[0m \u001b[0mlegend\u001b[0m\u001b[1;33m,\u001b[0m \u001b[0max\u001b[0m\u001b[1;33m,\u001b[0m\u001b[1;33m\u001b[0m\u001b[0m\n\u001b[1;32m--> 691\u001b[1;33m                                  cumulative=cumulative, **kwargs)\n\u001b[0m\u001b[0;32m    692\u001b[0m \u001b[1;33m\u001b[0m\u001b[0m\n\u001b[0;32m    693\u001b[0m     \u001b[1;32mreturn\u001b[0m \u001b[0max\u001b[0m\u001b[1;33m\u001b[0m\u001b[0m\n",
      "\u001b[1;32mc:\\anaconda3\\anaconda3_2\\envs\\tensorflow\\lib\\site-packages\\seaborn\\distributions.py\u001b[0m in \u001b[0;36m_univariate_kdeplot\u001b[1;34m(data, shade, vertical, kernel, bw, gridsize, cut, clip, legend, ax, cumulative, **kwargs)\u001b[0m\n\u001b[0;32m    292\u001b[0m                               \u001b[1;34m\"only implemented in statsmodels.\"\u001b[0m\u001b[1;33m\u001b[0m\u001b[0m\n\u001b[0;32m    293\u001b[0m                               \"Please install statsmodels.\")\n\u001b[1;32m--> 294\u001b[1;33m         \u001b[0mx\u001b[0m\u001b[1;33m,\u001b[0m \u001b[0my\u001b[0m \u001b[1;33m=\u001b[0m \u001b[0m_scipy_univariate_kde\u001b[0m\u001b[1;33m(\u001b[0m\u001b[0mdata\u001b[0m\u001b[1;33m,\u001b[0m \u001b[0mbw\u001b[0m\u001b[1;33m,\u001b[0m \u001b[0mgridsize\u001b[0m\u001b[1;33m,\u001b[0m \u001b[0mcut\u001b[0m\u001b[1;33m,\u001b[0m \u001b[0mclip\u001b[0m\u001b[1;33m)\u001b[0m\u001b[1;33m\u001b[0m\u001b[0m\n\u001b[0m\u001b[0;32m    295\u001b[0m \u001b[1;33m\u001b[0m\u001b[0m\n\u001b[0;32m    296\u001b[0m     \u001b[1;31m# Make sure the density is nonnegative\u001b[0m\u001b[1;33m\u001b[0m\u001b[1;33m\u001b[0m\u001b[0m\n",
      "\u001b[1;32mc:\\anaconda3\\anaconda3_2\\envs\\tensorflow\\lib\\site-packages\\seaborn\\distributions.py\u001b[0m in \u001b[0;36m_scipy_univariate_kde\u001b[1;34m(data, bw, gridsize, cut, clip)\u001b[0m\n\u001b[0;32m    364\u001b[0m     \u001b[1;34m\"\"\"Compute a univariate kernel density estimate using scipy.\"\"\"\u001b[0m\u001b[1;33m\u001b[0m\u001b[0m\n\u001b[0;32m    365\u001b[0m     \u001b[1;32mtry\u001b[0m\u001b[1;33m:\u001b[0m\u001b[1;33m\u001b[0m\u001b[0m\n\u001b[1;32m--> 366\u001b[1;33m         \u001b[0mkde\u001b[0m \u001b[1;33m=\u001b[0m \u001b[0mstats\u001b[0m\u001b[1;33m.\u001b[0m\u001b[0mgaussian_kde\u001b[0m\u001b[1;33m(\u001b[0m\u001b[0mdata\u001b[0m\u001b[1;33m,\u001b[0m \u001b[0mbw_method\u001b[0m\u001b[1;33m=\u001b[0m\u001b[0mbw\u001b[0m\u001b[1;33m)\u001b[0m\u001b[1;33m\u001b[0m\u001b[0m\n\u001b[0m\u001b[0;32m    367\u001b[0m     \u001b[1;32mexcept\u001b[0m \u001b[0mTypeError\u001b[0m\u001b[1;33m:\u001b[0m\u001b[1;33m\u001b[0m\u001b[0m\n\u001b[0;32m    368\u001b[0m         \u001b[0mkde\u001b[0m \u001b[1;33m=\u001b[0m \u001b[0mstats\u001b[0m\u001b[1;33m.\u001b[0m\u001b[0mgaussian_kde\u001b[0m\u001b[1;33m(\u001b[0m\u001b[0mdata\u001b[0m\u001b[1;33m)\u001b[0m\u001b[1;33m\u001b[0m\u001b[0m\n",
      "\u001b[1;32mc:\\anaconda3\\anaconda3_2\\envs\\tensorflow\\lib\\site-packages\\scipy\\stats\\kde.py\u001b[0m in \u001b[0;36m__init__\u001b[1;34m(self, dataset, bw_method, weights)\u001b[0m\n\u001b[0;32m    206\u001b[0m             \u001b[0mself\u001b[0m\u001b[1;33m.\u001b[0m\u001b[0m_neff\u001b[0m \u001b[1;33m=\u001b[0m \u001b[1;36m1\u001b[0m\u001b[1;33m/\u001b[0m\u001b[0msum\u001b[0m\u001b[1;33m(\u001b[0m\u001b[0mself\u001b[0m\u001b[1;33m.\u001b[0m\u001b[0m_weights\u001b[0m\u001b[1;33m**\u001b[0m\u001b[1;36m2\u001b[0m\u001b[1;33m)\u001b[0m\u001b[1;33m\u001b[0m\u001b[0m\n\u001b[0;32m    207\u001b[0m \u001b[1;33m\u001b[0m\u001b[0m\n\u001b[1;32m--> 208\u001b[1;33m         \u001b[0mself\u001b[0m\u001b[1;33m.\u001b[0m\u001b[0mset_bandwidth\u001b[0m\u001b[1;33m(\u001b[0m\u001b[0mbw_method\u001b[0m\u001b[1;33m=\u001b[0m\u001b[0mbw_method\u001b[0m\u001b[1;33m)\u001b[0m\u001b[1;33m\u001b[0m\u001b[0m\n\u001b[0m\u001b[0;32m    209\u001b[0m \u001b[1;33m\u001b[0m\u001b[0m\n\u001b[0;32m    210\u001b[0m     \u001b[1;32mdef\u001b[0m \u001b[0mevaluate\u001b[0m\u001b[1;33m(\u001b[0m\u001b[0mself\u001b[0m\u001b[1;33m,\u001b[0m \u001b[0mpoints\u001b[0m\u001b[1;33m)\u001b[0m\u001b[1;33m:\u001b[0m\u001b[1;33m\u001b[0m\u001b[0m\n",
      "\u001b[1;32mc:\\anaconda3\\anaconda3_2\\envs\\tensorflow\\lib\\site-packages\\scipy\\stats\\kde.py\u001b[0m in \u001b[0;36mset_bandwidth\u001b[1;34m(self, bw_method)\u001b[0m\n\u001b[0;32m    538\u001b[0m             \u001b[1;32mraise\u001b[0m \u001b[0mValueError\u001b[0m\u001b[1;33m(\u001b[0m\u001b[0mmsg\u001b[0m\u001b[1;33m)\u001b[0m\u001b[1;33m\u001b[0m\u001b[0m\n\u001b[0;32m    539\u001b[0m \u001b[1;33m\u001b[0m\u001b[0m\n\u001b[1;32m--> 540\u001b[1;33m         \u001b[0mself\u001b[0m\u001b[1;33m.\u001b[0m\u001b[0m_compute_covariance\u001b[0m\u001b[1;33m(\u001b[0m\u001b[1;33m)\u001b[0m\u001b[1;33m\u001b[0m\u001b[0m\n\u001b[0m\u001b[0;32m    541\u001b[0m \u001b[1;33m\u001b[0m\u001b[0m\n\u001b[0;32m    542\u001b[0m     \u001b[1;32mdef\u001b[0m \u001b[0m_compute_covariance\u001b[0m\u001b[1;33m(\u001b[0m\u001b[0mself\u001b[0m\u001b[1;33m)\u001b[0m\u001b[1;33m:\u001b[0m\u001b[1;33m\u001b[0m\u001b[0m\n",
      "\u001b[1;32mc:\\anaconda3\\anaconda3_2\\envs\\tensorflow\\lib\\site-packages\\scipy\\stats\\kde.py\u001b[0m in \u001b[0;36m_compute_covariance\u001b[1;34m(self)\u001b[0m\n\u001b[0;32m    550\u001b[0m                                                \u001b[0mbias\u001b[0m\u001b[1;33m=\u001b[0m\u001b[1;32mFalse\u001b[0m\u001b[1;33m,\u001b[0m\u001b[1;33m\u001b[0m\u001b[0m\n\u001b[0;32m    551\u001b[0m                                                aweights=self.weights))\n\u001b[1;32m--> 552\u001b[1;33m             \u001b[0mself\u001b[0m\u001b[1;33m.\u001b[0m\u001b[0m_data_inv_cov\u001b[0m \u001b[1;33m=\u001b[0m \u001b[0mlinalg\u001b[0m\u001b[1;33m.\u001b[0m\u001b[0minv\u001b[0m\u001b[1;33m(\u001b[0m\u001b[0mself\u001b[0m\u001b[1;33m.\u001b[0m\u001b[0m_data_covariance\u001b[0m\u001b[1;33m)\u001b[0m\u001b[1;33m\u001b[0m\u001b[0m\n\u001b[0m\u001b[0;32m    553\u001b[0m \u001b[1;33m\u001b[0m\u001b[0m\n\u001b[0;32m    554\u001b[0m         \u001b[0mself\u001b[0m\u001b[1;33m.\u001b[0m\u001b[0mcovariance\u001b[0m \u001b[1;33m=\u001b[0m \u001b[0mself\u001b[0m\u001b[1;33m.\u001b[0m\u001b[0m_data_covariance\u001b[0m \u001b[1;33m*\u001b[0m \u001b[0mself\u001b[0m\u001b[1;33m.\u001b[0m\u001b[0mfactor\u001b[0m\u001b[1;33m**\u001b[0m\u001b[1;36m2\u001b[0m\u001b[1;33m\u001b[0m\u001b[0m\n",
      "\u001b[1;32mc:\\anaconda3\\anaconda3_2\\envs\\tensorflow\\lib\\site-packages\\scipy\\linalg\\basic.py\u001b[0m in \u001b[0;36minv\u001b[1;34m(a, overwrite_a, check_finite)\u001b[0m\n\u001b[0;32m    972\u001b[0m         \u001b[0minv_a\u001b[0m\u001b[1;33m,\u001b[0m \u001b[0minfo\u001b[0m \u001b[1;33m=\u001b[0m \u001b[0mgetri\u001b[0m\u001b[1;33m(\u001b[0m\u001b[0mlu\u001b[0m\u001b[1;33m,\u001b[0m \u001b[0mpiv\u001b[0m\u001b[1;33m,\u001b[0m \u001b[0mlwork\u001b[0m\u001b[1;33m=\u001b[0m\u001b[0mlwork\u001b[0m\u001b[1;33m,\u001b[0m \u001b[0moverwrite_lu\u001b[0m\u001b[1;33m=\u001b[0m\u001b[1;36m1\u001b[0m\u001b[1;33m)\u001b[0m\u001b[1;33m\u001b[0m\u001b[0m\n\u001b[0;32m    973\u001b[0m     \u001b[1;32mif\u001b[0m \u001b[0minfo\u001b[0m \u001b[1;33m>\u001b[0m \u001b[1;36m0\u001b[0m\u001b[1;33m:\u001b[0m\u001b[1;33m\u001b[0m\u001b[0m\n\u001b[1;32m--> 974\u001b[1;33m         \u001b[1;32mraise\u001b[0m \u001b[0mLinAlgError\u001b[0m\u001b[1;33m(\u001b[0m\u001b[1;34m\"singular matrix\"\u001b[0m\u001b[1;33m)\u001b[0m\u001b[1;33m\u001b[0m\u001b[0m\n\u001b[0m\u001b[0;32m    975\u001b[0m     \u001b[1;32mif\u001b[0m \u001b[0minfo\u001b[0m \u001b[1;33m<\u001b[0m \u001b[1;36m0\u001b[0m\u001b[1;33m:\u001b[0m\u001b[1;33m\u001b[0m\u001b[0m\n\u001b[0;32m    976\u001b[0m         raise ValueError('illegal value in %d-th argument of internal '\n",
      "\u001b[1;31mLinAlgError\u001b[0m: singular matrix"
     ]
    },
    {
     "data": {
      "image/png": "[encoded data removed]",
      "text/plain": [
       "<Figure size 900x900 with 30 Axes>"
      ]
     },
     "metadata": {
      "needs_background": "light"
     },
     "output_type": "display_data"
    }
   ],
   "source": [
    "sns.pairplot(data, hue='Class')"
   ]
  },
  {
   "cell_type": "markdown",
   "metadata": {},
   "source": [
    "### Data Preparation"
   ]
  },
  {
   "cell_type": "markdown",
   "metadata": {},
   "source": [
    "When using Neural Network and Deep Learning based systems, it is usually a good idea to __Standardize your data__, this step isn't actually necessary for our particular data set, but let's run through it for practice!"
   ]
  },
  {
   "cell_type": "markdown",
   "metadata": {},
   "source": [
    "#### Standard Scaling:"
   ]
  },
  {
   "cell_type": "code",
   "execution_count": 35,
   "metadata": {},
   "outputs": [],
   "source": [
    "from sklearn.preprocessing import StandardScaler"
   ]
  },
  {
   "cell_type": "code",
   "execution_count": 36,
   "metadata": {},
   "outputs": [],
   "source": [
    "# Create StandarScaler:\n",
    "scaler = StandardScaler()"
   ]
  },
  {
   "cell_type": "code",
   "execution_count": 37,
   "metadata": {},
   "outputs": [
    {
     "data": {
      "text/plain": [
       "StandardScaler(copy=True, with_mean=True, with_std=True)"
      ]
     },
     "execution_count": 37,
     "metadata": {},
     "output_type": "execute_result"
    }
   ],
   "source": [
    "# Fit scaler to features.\n",
    "scaler.fit(data.drop('Class', axis=1))"
   ]
  },
  {
   "cell_type": "code",
   "execution_count": 38,
   "metadata": {},
   "outputs": [],
   "source": [
    "# Transform the features to a scaled version.\n",
    "scaler_features = scaler.fit_transform(data.drop('Class', axis=1))"
   ]
  },
  {
   "cell_type": "code",
   "execution_count": 39,
   "metadata": {},
   "outputs": [
    {
     "data": {
      "text/plain": [
       "numpy.ndarray"
      ]
     },
     "execution_count": 39,
     "metadata": {},
     "output_type": "execute_result"
    }
   ],
   "source": [
    "type(scaler_features)"
   ]
  },
  {
   "cell_type": "markdown",
   "metadata": {},
   "source": [
    "- fit() just calculates the parameters (e.g. μ and σ in case of StandardScaler) and saves them as an internal objects state. Afterwards, you can call its transform() method to apply the transformation to a particular set of examples."
   ]
  },
  {
   "cell_type": "code",
   "execution_count": 41,
   "metadata": {},
   "outputs": [
    {
     "data": {
      "text/html": [
       "<div>\n",
       "<style scoped>\n",
       "    .dataframe tbody tr th:only-of-type {\n",
       "        vertical-align: middle;\n",
       "    }\n",
       "\n",
       "    .dataframe tbody tr th {\n",
       "        vertical-align: top;\n",
       "    }\n",
       "\n",
       "    .dataframe thead th {\n",
       "        text-align: right;\n",
       "    }\n",
       "</style>\n",
       "<table border=\"1\" class=\"dataframe\">\n",
       "  <thead>\n",
       "    <tr style=\"text-align: right;\">\n",
       "      <th></th>\n",
       "      <th>Image.Var</th>\n",
       "      <th>Image.Skew</th>\n",
       "      <th>Image.Curt</th>\n",
       "      <th>Entropy</th>\n",
       "    </tr>\n",
       "  </thead>\n",
       "  <tbody>\n",
       "    <tr>\n",
       "      <th>0</th>\n",
       "      <td>1.121806</td>\n",
       "      <td>1.149455</td>\n",
       "      <td>-0.975970</td>\n",
       "      <td>0.354561</td>\n",
       "    </tr>\n",
       "    <tr>\n",
       "      <th>1</th>\n",
       "      <td>1.447066</td>\n",
       "      <td>1.064453</td>\n",
       "      <td>-0.895036</td>\n",
       "      <td>-0.128767</td>\n",
       "    </tr>\n",
       "    <tr>\n",
       "      <th>2</th>\n",
       "      <td>1.207810</td>\n",
       "      <td>-0.777352</td>\n",
       "      <td>0.122218</td>\n",
       "      <td>0.618073</td>\n",
       "    </tr>\n",
       "    <tr>\n",
       "      <th>3</th>\n",
       "      <td>1.063742</td>\n",
       "      <td>1.295478</td>\n",
       "      <td>-1.255397</td>\n",
       "      <td>-1.144029</td>\n",
       "    </tr>\n",
       "    <tr>\n",
       "      <th>4</th>\n",
       "      <td>-0.036772</td>\n",
       "      <td>-1.087038</td>\n",
       "      <td>0.736730</td>\n",
       "      <td>0.096587</td>\n",
       "    </tr>\n",
       "  </tbody>\n",
       "</table>\n",
       "</div>"
      ],
      "text/plain": [
       "   Image.Var  Image.Skew  Image.Curt   Entropy\n",
       "0   1.121806    1.149455   -0.975970  0.354561\n",
       "1   1.447066    1.064453   -0.895036 -0.128767\n",
       "2   1.207810   -0.777352    0.122218  0.618073\n",
       "3   1.063742    1.295478   -1.255397 -1.144029\n",
       "4  -0.036772   -1.087038    0.736730  0.096587"
      ]
     },
     "execution_count": 41,
     "metadata": {},
     "output_type": "execute_result"
    }
   ],
   "source": [
    "# Convert the scaled features to a dataframe, and check the head to make sure the scaling worked.\n",
    "df_feat = pd.DataFrame(scaler_features, columns=data.columns[:-1])\n",
    "df_feat.head()"
   ]
  },
  {
   "cell_type": "markdown",
   "metadata": {},
   "source": [
    "#### Train test split"
   ]
  },
  {
   "cell_type": "code",
   "execution_count": 42,
   "metadata": {},
   "outputs": [],
   "source": [
    "X = df_feat"
   ]
  },
  {
   "cell_type": "code",
   "execution_count": 43,
   "metadata": {},
   "outputs": [],
   "source": [
    "y = data['Class']"
   ]
  },
  {
   "cell_type": "code",
   "execution_count": 44,
   "metadata": {},
   "outputs": [],
   "source": [
    "from sklearn.model_selection import train_test_split"
   ]
  },
  {
   "cell_type": "code",
   "execution_count": 53,
   "metadata": {},
   "outputs": [],
   "source": [
    "X_train, X_test, y_train, y_test = train_test_split(X, y, test_size=0.3)"
   ]
  },
  {
   "cell_type": "code",
   "execution_count": 57,
   "metadata": {},
   "outputs": [
    {
     "data": {
      "image/png": "[encoded data removed]",
      "text/plain": [
       "<IPython.core.display.Image object>"
      ]
     },
     "execution_count": 57,
     "metadata": {},
     "output_type": "execute_result"
    }
   ],
   "source": [
    "from IPython.display import Image\n",
    "Image(filename='../../Image/split.png')"
   ]
  },
  {
   "cell_type": "markdown",
   "metadata": {},
   "source": [
    "### Tensorflow"
   ]
  },
  {
   "cell_type": "code",
   "execution_count": 46,
   "metadata": {},
   "outputs": [],
   "source": [
    "import tensorflow as tf"
   ]
  },
  {
   "cell_type": "markdown",
   "metadata": {},
   "source": [
    "- Create list of feature column:"
   ]
  },
  {
   "cell_type": "code",
   "execution_count": 47,
   "metadata": {},
   "outputs": [
    {
     "data": {
      "text/plain": [
       "Index(['Image.Var', 'Image.Skew', 'Image.Curt', 'Entropy'], dtype='object')"
      ]
     },
     "execution_count": 47,
     "metadata": {},
     "output_type": "execute_result"
    }
   ],
   "source": [
    "df_feat.columns"
   ]
  },
  {
   "cell_type": "code",
   "execution_count": 48,
   "metadata": {},
   "outputs": [],
   "source": [
    "image_var = tf.feature_column.numeric_column('Image.Var')\n",
    "image_skew = tf.feature_column.numeric_column('Image.Skew')\n",
    "image_curt = tf.feature_column.numeric_column('Image.Curt')\n",
    "entropy = tf.feature_column.numeric_column('Entropy')"
   ]
  },
  {
   "cell_type": "code",
   "execution_count": 49,
   "metadata": {},
   "outputs": [
    {
     "data": {
      "text/plain": [
       "tensorflow.python.feature_column.feature_column_v2.NumericColumn"
      ]
     },
     "execution_count": 49,
     "metadata": {},
     "output_type": "execute_result"
    }
   ],
   "source": [
    "type(image_var)"
   ]
  },
  {
   "cell_type": "code",
   "execution_count": 50,
   "metadata": {},
   "outputs": [],
   "source": [
    "feat_cols = [image_var, image_skew, image_curt, entropy]"
   ]
  },
  {
   "cell_type": "markdown",
   "metadata": {},
   "source": [
    "- Classifier selection:"
   ]
  },
  {
   "cell_type": "code",
   "execution_count": 51,
   "metadata": {},
   "outputs": [
    {
     "name": "stdout",
     "output_type": "stream",
     "text": [
      "INFO:tensorflow:Using default config.\n",
      "WARNING:tensorflow:Using temporary folder as model directory: C:\\Users\\ZIWEIF~1\\AppData\\Local\\Temp\\tmpe18dk9_u\n",
      "INFO:tensorflow:Using config: {'_session_config': allow_soft_placement: true\n",
      "graph_options {\n",
      "  rewrite_options {\n",
      "    meta_optimizer_iterations: ONE\n",
      "  }\n",
      "}\n",
      ", '_cluster_spec': <tensorflow.python.training.server_lib.ClusterSpec object at 0x000001FD302506A0>, '_master': '', '_eval_distribute': None, '_train_distribute': None, '_device_fn': None, '_num_worker_replicas': 1, '_service': None, '_keep_checkpoint_max': 5, '_evaluation_master': '', '_num_ps_replicas': 0, '_keep_checkpoint_every_n_hours': 10000, '_log_step_count_steps': 100, '_protocol': None, '_model_dir': 'C:\\\\Users\\\\ZIWEIF~1\\\\AppData\\\\Local\\\\Temp\\\\tmpe18dk9_u', '_task_id': 0, '_save_checkpoints_steps': None, '_task_type': 'worker', '_global_id_in_cluster': 0, '_save_summary_steps': 100, '_tf_random_seed': None, '_save_checkpoints_secs': 600, '_experimental_distribute': None, '_is_chief': True}\n"
     ]
    }
   ],
   "source": [
    "classifier = tf.estimator.DNNClassifier(hidden_units=[10, 20, 10], n_classes=2, feature_columns=feat_cols)"
   ]
  },
  {
   "cell_type": "markdown",
   "metadata": {},
   "source": [
    "- Create input function:"
   ]
  },
  {
   "cell_type": "code",
   "execution_count": 54,
   "metadata": {},
   "outputs": [],
   "source": [
    "input_func = tf.estimator.inputs.pandas_input_fn(x=X_train, y=y_train, batch_size=20, shuffle=True)"
   ]
  },
  {
   "cell_type": "markdown",
   "metadata": {},
   "source": [
    "- Train the classifier:"
   ]
  },
  {
   "cell_type": "code",
   "execution_count": 59,
   "metadata": {},
   "outputs": [
    {
     "name": "stdout",
     "output_type": "stream",
     "text": [
      "WARNING:tensorflow:From c:\\anaconda3\\anaconda3_2\\envs\\tensorflow\\lib\\site-packages\\tensorflow\\python\\framework\\op_def_library.py:263: colocate_with (from tensorflow.python.framework.ops) is deprecated and will be removed in a future version.\n",
      "Instructions for updating:\n",
      "Colocations handled automatically by placer.\n",
      "WARNING:tensorflow:From c:\\anaconda3\\anaconda3_2\\envs\\tensorflow\\lib\\site-packages\\tensorflow_estimator\\python\\estimator\\inputs\\queues\\feeding_queue_runner.py:62: QueueRunner.__init__ (from tensorflow.python.training.queue_runner_impl) is deprecated and will be removed in a future version.\n",
      "Instructions for updating:\n",
      "To construct input pipelines, use the `tf.data` module.\n",
      "WARNING:tensorflow:From c:\\anaconda3\\anaconda3_2\\envs\\tensorflow\\lib\\site-packages\\tensorflow_estimator\\python\\estimator\\inputs\\queues\\feeding_functions.py:500: add_queue_runner (from tensorflow.python.training.queue_runner_impl) is deprecated and will be removed in a future version.\n",
      "Instructions for updating:\n",
      "To construct input pipelines, use the `tf.data` module.\n",
      "INFO:tensorflow:Calling model_fn.\n",
      "WARNING:tensorflow:From c:\\anaconda3\\anaconda3_2\\envs\\tensorflow\\lib\\site-packages\\tensorflow\\python\\feature_column\\feature_column_v2.py:2703: to_float (from tensorflow.python.ops.math_ops) is deprecated and will be removed in a future version.\n",
      "Instructions for updating:\n",
      "Use tf.cast instead.\n",
      "INFO:tensorflow:Done calling model_fn.\n",
      "INFO:tensorflow:Create CheckpointSaverHook.\n",
      "INFO:tensorflow:Graph was finalized.\n",
      "INFO:tensorflow:Running local_init_op.\n",
      "INFO:tensorflow:Done running local_init_op.\n",
      "WARNING:tensorflow:From c:\\anaconda3\\anaconda3_2\\envs\\tensorflow\\lib\\site-packages\\tensorflow\\python\\training\\monitored_session.py:809: start_queue_runners (from tensorflow.python.training.queue_runner_impl) is deprecated and will be removed in a future version.\n",
      "Instructions for updating:\n",
      "To construct input pipelines, use the `tf.data` module.\n",
      "INFO:tensorflow:Saving checkpoints for 0 into C:\\Users\\ZIWEIF~1\\AppData\\Local\\Temp\\tmpe18dk9_u\\model.ckpt.\n",
      "INFO:tensorflow:loss = 12.625236, step = 1\n",
      "INFO:tensorflow:Saving checkpoints for 48 into C:\\Users\\ZIWEIF~1\\AppData\\Local\\Temp\\tmpe18dk9_u\\model.ckpt.\n",
      "INFO:tensorflow:Loss for final step: 0.18725617.\n"
     ]
    },
    {
     "data": {
      "text/plain": [
       "<tensorflow_estimator.python.estimator.canned.dnn.DNNClassifier at 0x1fd3023df98>"
      ]
     },
     "execution_count": 59,
     "metadata": {},
     "output_type": "execute_result"
    }
   ],
   "source": [
    "classifier.train(input_fn=input_func, steps=500)"
   ]
  },
  {
   "cell_type": "markdown",
   "metadata": {},
   "source": [
    "### Model evaluation:"
   ]
  },
  {
   "cell_type": "code",
   "execution_count": 60,
   "metadata": {},
   "outputs": [],
   "source": [
    "pred_fn = tf.estimator.inputs.pandas_input_fn(x=X_test, y=y_test, batch_size=len(X_test), shuffle=False)"
   ]
  },
  {
   "cell_type": "code",
   "execution_count": 61,
   "metadata": {},
   "outputs": [
    {
     "name": "stdout",
     "output_type": "stream",
     "text": [
      "INFO:tensorflow:Calling model_fn.\n",
      "INFO:tensorflow:Done calling model_fn.\n",
      "INFO:tensorflow:Graph was finalized.\n",
      "WARNING:tensorflow:From c:\\anaconda3\\anaconda3_2\\envs\\tensorflow\\lib\\site-packages\\tensorflow\\python\\training\\saver.py:1266: checkpoint_exists (from tensorflow.python.training.checkpoint_management) is deprecated and will be removed in a future version.\n",
      "Instructions for updating:\n",
      "Use standard file APIs to check for files with this prefix.\n",
      "INFO:tensorflow:Restoring parameters from C:\\Users\\ZIWEIF~1\\AppData\\Local\\Temp\\tmpe18dk9_u\\model.ckpt-48\n",
      "INFO:tensorflow:Running local_init_op.\n",
      "INFO:tensorflow:Done running local_init_op.\n"
     ]
    }
   ],
   "source": [
    "note_predictions = list(classifier.predict(input_fn = pred_fn))"
   ]
  },
  {
   "cell_type": "code",
   "execution_count": 64,
   "metadata": {},
   "outputs": [
    {
     "data": {
      "text/plain": [
       "generator"
      ]
     },
     "execution_count": 64,
     "metadata": {},
     "output_type": "execute_result"
    }
   ],
   "source": [
    "type(classifier.predict(input_fn = pred_fn))"
   ]
  },
  {
   "cell_type": "code",
   "execution_count": 62,
   "metadata": {},
   "outputs": [
    {
     "data": {
      "text/plain": [
       "{'class_ids': array([1], dtype=int64),\n",
       " 'classes': array([b'1'], dtype=object),\n",
       " 'logistic': array([0.9936129], dtype=float32),\n",
       " 'logits': array([5.047075], dtype=float32),\n",
       " 'probabilities': array([0.00638705, 0.99361295], dtype=float32)}"
      ]
     },
     "execution_count": 62,
     "metadata": {},
     "output_type": "execute_result"
    }
   ],
   "source": [
    "note_predictions[0]"
   ]
  },
  {
   "cell_type": "code",
   "execution_count": 67,
   "metadata": {},
   "outputs": [],
   "source": [
    "final_preds=[]\n",
    "for pred in note_predictions:\n",
    "    final_preds.append(pred['class_ids'][0])"
   ]
  },
  {
   "cell_type": "code",
   "execution_count": 72,
   "metadata": {},
   "outputs": [
    {
     "data": {
      "text/plain": [
       "[1, 1, 1, 1, 1]"
      ]
     },
     "execution_count": 72,
     "metadata": {},
     "output_type": "execute_result"
    }
   ],
   "source": [
    "final_preds[:5]"
   ]
  },
  {
   "cell_type": "markdown",
   "metadata": {},
   "source": [
    "### Evaluation:"
   ]
  },
  {
   "cell_type": "code",
   "execution_count": 73,
   "metadata": {},
   "outputs": [],
   "source": [
    "from sklearn.metrics import classification_report, confusion_matrix"
   ]
  },
  {
   "cell_type": "code",
   "execution_count": 75,
   "metadata": {},
   "outputs": [
    {
     "name": "stdout",
     "output_type": "stream",
     "text": [
      "[[233   8]\n",
      " [  3 168]]\n"
     ]
    }
   ],
   "source": [
    "print(confusion_matrix(y_test, final_preds))"
   ]
  },
  {
   "cell_type": "code",
   "execution_count": 76,
   "metadata": {},
   "outputs": [
    {
     "name": "stdout",
     "output_type": "stream",
     "text": [
      "              precision    recall  f1-score   support\n",
      "\n",
      "           0       0.99      0.97      0.98       241\n",
      "           1       0.95      0.98      0.97       171\n",
      "\n",
      "   micro avg       0.97      0.97      0.97       412\n",
      "   macro avg       0.97      0.97      0.97       412\n",
      "weighted avg       0.97      0.97      0.97       412\n",
      "\n"
     ]
    }
   ],
   "source": [
    "print(classification_report(y_test, final_preds))"
   ]
  },
  {
   "cell_type": "markdown",
   "metadata": {},
   "source": [
    "### Optional Comparison:"
   ]
  },
  {
   "cell_type": "markdown",
   "metadata": {},
   "source": [
    "You should have noticed extremely accurate results from the DNN model. Let's compare this to a Random Forest Classifier for a reality check!"
   ]
  },
  {
   "cell_type": "code",
   "execution_count": 77,
   "metadata": {},
   "outputs": [],
   "source": [
    "from sklearn.ensemble import RandomForestClassifier"
   ]
  },
  {
   "cell_type": "code",
   "execution_count": 78,
   "metadata": {},
   "outputs": [],
   "source": [
    "rfc = RandomForestClassifier(n_estimators=200) \n",
    "#n_estimators: The number of trees in the forest."
   ]
  },
  {
   "cell_type": "code",
   "execution_count": 79,
   "metadata": {},
   "outputs": [
    {
     "data": {
      "text/plain": [
       "RandomForestClassifier(bootstrap=True, class_weight=None, criterion='gini',\n",
       "            max_depth=None, max_features='auto', max_leaf_nodes=None,\n",
       "            min_impurity_decrease=0.0, min_impurity_split=None,\n",
       "            min_samples_leaf=1, min_samples_split=2,\n",
       "            min_weight_fraction_leaf=0.0, n_estimators=200, n_jobs=None,\n",
       "            oob_score=False, random_state=None, verbose=0,\n",
       "            warm_start=False)"
      ]
     },
     "execution_count": 79,
     "metadata": {},
     "output_type": "execute_result"
    }
   ],
   "source": [
    "rfc.fit(X_train, y_train)"
   ]
  },
  {
   "cell_type": "code",
   "execution_count": 80,
   "metadata": {},
   "outputs": [],
   "source": [
    "rfc_preds = rfc.predict(X_test)"
   ]
  },
  {
   "cell_type": "code",
   "execution_count": 82,
   "metadata": {},
   "outputs": [
    {
     "data": {
      "text/plain": [
       "numpy.ndarray"
      ]
     },
     "execution_count": 82,
     "metadata": {},
     "output_type": "execute_result"
    }
   ],
   "source": [
    "type(rfc_preds)"
   ]
  },
  {
   "cell_type": "code",
   "execution_count": 81,
   "metadata": {},
   "outputs": [
    {
     "name": "stdout",
     "output_type": "stream",
     "text": [
      "              precision    recall  f1-score   support\n",
      "\n",
      "           0       1.00      0.98      0.99       241\n",
      "           1       0.97      1.00      0.99       171\n",
      "\n",
      "   micro avg       0.99      0.99      0.99       412\n",
      "   macro avg       0.99      0.99      0.99       412\n",
      "weighted avg       0.99      0.99      0.99       412\n",
      "\n"
     ]
    }
   ],
   "source": [
    "print(classification_report(y_test, rfc_preds))"
   ]
  },
  {
   "cell_type": "code",
   "execution_count": 83,
   "metadata": {},
   "outputs": [
    {
     "name": "stdout",
     "output_type": "stream",
     "text": [
      "[[236   5]\n",
      " [  0 171]]\n"
     ]
    }
   ],
   "source": [
    "print(confusion_matrix(y_test, rfc_preds))"
   ]
  },
  {
   "cell_type": "markdown",
   "metadata": {},
   "source": [
    "It should have also done very well, possibly perfect! "
   ]
  },
  {
   "cell_type": "markdown",
   "metadata": {},
   "source": [
    "## Another Round:\n",
    "### For parameter testing:"
   ]
  },
  {
   "cell_type": "markdown",
   "metadata": {},
   "source": [
    "- This section is to check how the parameters affect the accuracy:"
   ]
  },
  {
   "cell_type": "code",
   "execution_count": 85,
   "metadata": {
    "scrolled": true
   },
   "outputs": [
    {
     "data": {
      "image/png": "[encoded data removed]",
      "text/plain": [
       "<IPython.core.display.Image object>"
      ]
     },
     "execution_count": 85,
     "metadata": {},
     "output_type": "execute_result"
    }
   ],
   "source": [
    "from IPython.display import Image\n",
    "Image(filename='../../Image/test1.png')"
   ]
  },
  {
   "cell_type": "markdown",
   "metadata": {},
   "source": [
    "#### Part 1: a.2 increase split"
   ]
  },
  {
   "cell_type": "code",
   "execution_count": 88,
   "metadata": {},
   "outputs": [
    {
     "data": {
      "text/html": [
       "<div>\n",
       "<style scoped>\n",
       "    .dataframe tbody tr th:only-of-type {\n",
       "        vertical-align: middle;\n",
       "    }\n",
       "\n",
       "    .dataframe tbody tr th {\n",
       "        vertical-align: top;\n",
       "    }\n",
       "\n",
       "    .dataframe thead th {\n",
       "        text-align: right;\n",
       "    }\n",
       "</style>\n",
       "<table border=\"1\" class=\"dataframe\">\n",
       "  <thead>\n",
       "    <tr style=\"text-align: right;\">\n",
       "      <th></th>\n",
       "      <th>Image.Var</th>\n",
       "      <th>Image.Skew</th>\n",
       "      <th>Image.Curt</th>\n",
       "      <th>Entropy</th>\n",
       "    </tr>\n",
       "  </thead>\n",
       "  <tbody>\n",
       "    <tr>\n",
       "      <th>0</th>\n",
       "      <td>1.121806</td>\n",
       "      <td>1.149455</td>\n",
       "      <td>-0.975970</td>\n",
       "      <td>0.354561</td>\n",
       "    </tr>\n",
       "    <tr>\n",
       "      <th>1</th>\n",
       "      <td>1.447066</td>\n",
       "      <td>1.064453</td>\n",
       "      <td>-0.895036</td>\n",
       "      <td>-0.128767</td>\n",
       "    </tr>\n",
       "    <tr>\n",
       "      <th>2</th>\n",
       "      <td>1.207810</td>\n",
       "      <td>-0.777352</td>\n",
       "      <td>0.122218</td>\n",
       "      <td>0.618073</td>\n",
       "    </tr>\n",
       "  </tbody>\n",
       "</table>\n",
       "</div>"
      ],
      "text/plain": [
       "   Image.Var  Image.Skew  Image.Curt   Entropy\n",
       "0   1.121806    1.149455   -0.975970  0.354561\n",
       "1   1.447066    1.064453   -0.895036 -0.128767\n",
       "2   1.207810   -0.777352    0.122218  0.618073"
      ]
     },
     "execution_count": 88,
     "metadata": {},
     "output_type": "execute_result"
    }
   ],
   "source": [
    "X.head(3)"
   ]
  },
  {
   "cell_type": "code",
   "execution_count": 90,
   "metadata": {},
   "outputs": [
    {
     "data": {
      "text/plain": [
       "0    0\n",
       "1    0\n",
       "2    0\n",
       "Name: Class, dtype: int64"
      ]
     },
     "execution_count": 90,
     "metadata": {},
     "output_type": "execute_result"
    }
   ],
   "source": [
    "y = data['Class']\n",
    "y.head(3)"
   ]
  },
  {
   "cell_type": "code",
   "execution_count": 91,
   "metadata": {},
   "outputs": [],
   "source": [
    "X_train, X_test, y_train, y_test = train_test_split(X, y, test_size=0.2)"
   ]
  },
  {
   "cell_type": "code",
   "execution_count": 92,
   "metadata": {},
   "outputs": [
    {
     "data": {
      "text/plain": [
       "Index(['Image.Var', 'Image.Skew', 'Image.Curt', 'Entropy'], dtype='object')"
      ]
     },
     "execution_count": 92,
     "metadata": {},
     "output_type": "execute_result"
    }
   ],
   "source": [
    "# Tensorflow:\n",
    "df_feat.columns"
   ]
  },
  {
   "cell_type": "code",
   "execution_count": 93,
   "metadata": {},
   "outputs": [
    {
     "name": "stdout",
     "output_type": "stream",
     "text": [
      "INFO:tensorflow:Using default config.\n",
      "WARNING:tensorflow:Using temporary folder as model directory: C:\\Users\\ZIWEIF~1\\AppData\\Local\\Temp\\tmpu55ld4o_\n",
      "INFO:tensorflow:Using config: {'_session_config': allow_soft_placement: true\n",
      "graph_options {\n",
      "  rewrite_options {\n",
      "    meta_optimizer_iterations: ONE\n",
      "  }\n",
      "}\n",
      ", '_cluster_spec': <tensorflow.python.training.server_lib.ClusterSpec object at 0x000001FD311B2F28>, '_master': '', '_eval_distribute': None, '_train_distribute': None, '_device_fn': None, '_num_worker_replicas': 1, '_service': None, '_keep_checkpoint_max': 5, '_evaluation_master': '', '_num_ps_replicas': 0, '_keep_checkpoint_every_n_hours': 10000, '_log_step_count_steps': 100, '_protocol': None, '_model_dir': 'C:\\\\Users\\\\ZIWEIF~1\\\\AppData\\\\Local\\\\Temp\\\\tmpu55ld4o_', '_task_id': 0, '_save_checkpoints_steps': None, '_task_type': 'worker', '_global_id_in_cluster': 0, '_save_summary_steps': 100, '_tf_random_seed': None, '_save_checkpoints_secs': 600, '_experimental_distribute': None, '_is_chief': True}\n"
     ]
    }
   ],
   "source": [
    "classifier = tf.estimator.DNNClassifier(hidden_units=[10, 20, 10], n_classes=2, feature_columns=feat_cols)"
   ]
  },
  {
   "cell_type": "code",
   "execution_count": 94,
   "metadata": {},
   "outputs": [],
   "source": [
    "input_func = tf.estimator.inputs.pandas_input_fn(x=X_train, y=y_train, batch_size=20, shuffle=True)"
   ]
  },
  {
   "cell_type": "code",
   "execution_count": 95,
   "metadata": {},
   "outputs": [
    {
     "name": "stdout",
     "output_type": "stream",
     "text": [
      "INFO:tensorflow:Calling model_fn.\n",
      "INFO:tensorflow:Done calling model_fn.\n",
      "INFO:tensorflow:Create CheckpointSaverHook.\n",
      "INFO:tensorflow:Graph was finalized.\n",
      "INFO:tensorflow:Running local_init_op.\n",
      "INFO:tensorflow:Done running local_init_op.\n",
      "INFO:tensorflow:Saving checkpoints for 0 into C:\\Users\\ZIWEIF~1\\AppData\\Local\\Temp\\tmpu55ld4o_\\model.ckpt.\n",
      "INFO:tensorflow:loss = 13.300961, step = 1\n",
      "INFO:tensorflow:Saving checkpoints for 55 into C:\\Users\\ZIWEIF~1\\AppData\\Local\\Temp\\tmpu55ld4o_\\model.ckpt.\n",
      "INFO:tensorflow:Loss for final step: 0.5417811.\n"
     ]
    },
    {
     "data": {
      "text/plain": [
       "<tensorflow_estimator.python.estimator.canned.dnn.DNNClassifier at 0x1fd311b29e8>"
      ]
     },
     "execution_count": 95,
     "metadata": {},
     "output_type": "execute_result"
    }
   ],
   "source": [
    "classifier.train(input_fn=input_func, steps=500)"
   ]
  },
  {
   "cell_type": "code",
   "execution_count": 96,
   "metadata": {},
   "outputs": [],
   "source": [
    "pred_fn = tf.estimator.inputs.pandas_input_fn(x=X_test, y=y_test, batch_size=len(X_test), shuffle=False)"
   ]
  },
  {
   "cell_type": "code",
   "execution_count": 97,
   "metadata": {},
   "outputs": [
    {
     "name": "stdout",
     "output_type": "stream",
     "text": [
      "INFO:tensorflow:Calling model_fn.\n",
      "INFO:tensorflow:Done calling model_fn.\n",
      "INFO:tensorflow:Graph was finalized.\n",
      "INFO:tensorflow:Restoring parameters from C:\\Users\\ZIWEIF~1\\AppData\\Local\\Temp\\tmpu55ld4o_\\model.ckpt-55\n",
      "INFO:tensorflow:Running local_init_op.\n",
      "INFO:tensorflow:Done running local_init_op.\n"
     ]
    }
   ],
   "source": [
    "note_predictions = list(classifier.predict(input_fn = pred_fn))"
   ]
  },
  {
   "cell_type": "code",
   "execution_count": 98,
   "metadata": {},
   "outputs": [],
   "source": [
    "final_preds=[]\n",
    "for pred in note_predictions:\n",
    "    final_preds.append(pred['class_ids'][0])"
   ]
  },
  {
   "cell_type": "code",
   "execution_count": 99,
   "metadata": {},
   "outputs": [
    {
     "data": {
      "text/plain": [
       "[0, 0, 1, 0, 0]"
      ]
     },
     "execution_count": 99,
     "metadata": {},
     "output_type": "execute_result"
    }
   ],
   "source": [
    "final_preds[:5]"
   ]
  },
  {
   "cell_type": "code",
   "execution_count": 100,
   "metadata": {},
   "outputs": [
    {
     "name": "stdout",
     "output_type": "stream",
     "text": [
      "[[146   4]\n",
      " [  0 125]]\n"
     ]
    }
   ],
   "source": [
    "print(confusion_matrix(y_test, final_preds))"
   ]
  },
  {
   "cell_type": "code",
   "execution_count": 101,
   "metadata": {},
   "outputs": [
    {
     "name": "stdout",
     "output_type": "stream",
     "text": [
      "              precision    recall  f1-score   support\n",
      "\n",
      "           0       1.00      0.97      0.99       150\n",
      "           1       0.97      1.00      0.98       125\n",
      "\n",
      "   micro avg       0.99      0.99      0.99       275\n",
      "   macro avg       0.98      0.99      0.99       275\n",
      "weighted avg       0.99      0.99      0.99       275\n",
      "\n"
     ]
    }
   ],
   "source": [
    "print(classification_report(y_test, final_preds))"
   ]
  },
  {
   "cell_type": "markdown",
   "metadata": {},
   "source": [
    "#### Part 2: a.3 decrease split"
   ]
  },
  {
   "cell_type": "code",
   "execution_count": 334,
   "metadata": {},
   "outputs": [],
   "source": [
    "X_train, X_test, y_train, y_test = train_test_split(X, y, test_size=0.7)"
   ]
  },
  {
   "cell_type": "code",
   "execution_count": 335,
   "metadata": {},
   "outputs": [
    {
     "name": "stdout",
     "output_type": "stream",
     "text": [
      "INFO:tensorflow:Using default config.\n",
      "WARNING:tensorflow:Using temporary folder as model directory: C:\\Users\\ZIWEIF~1\\AppData\\Local\\Temp\\tmpp1ppjbyt\n",
      "INFO:tensorflow:Using config: {'_session_config': allow_soft_placement: true\n",
      "graph_options {\n",
      "  rewrite_options {\n",
      "    meta_optimizer_iterations: ONE\n",
      "  }\n",
      "}\n",
      ", '_cluster_spec': <tensorflow.python.training.server_lib.ClusterSpec object at 0x000001FD2F6B86D8>, '_master': '', '_eval_distribute': None, '_train_distribute': None, '_device_fn': None, '_num_worker_replicas': 1, '_service': None, '_keep_checkpoint_max': 5, '_evaluation_master': '', '_num_ps_replicas': 0, '_keep_checkpoint_every_n_hours': 10000, '_log_step_count_steps': 100, '_protocol': None, '_model_dir': 'C:\\\\Users\\\\ZIWEIF~1\\\\AppData\\\\Local\\\\Temp\\\\tmpp1ppjbyt', '_task_id': 0, '_save_checkpoints_steps': None, '_task_type': 'worker', '_global_id_in_cluster': 0, '_save_summary_steps': 100, '_tf_random_seed': None, '_save_checkpoints_secs': 600, '_experimental_distribute': None, '_is_chief': True}\n"
     ]
    }
   ],
   "source": [
    "classifier = tf.estimator.DNNClassifier(hidden_units=[10, 20, 10], n_classes=2, feature_columns=feat_cols)"
   ]
  },
  {
   "cell_type": "code",
   "execution_count": 336,
   "metadata": {},
   "outputs": [],
   "source": [
    "input_func = tf.estimator.inputs.pandas_input_fn(x=X_train, y=y_train, batch_size=20, shuffle=True)"
   ]
  },
  {
   "cell_type": "code",
   "execution_count": 337,
   "metadata": {},
   "outputs": [
    {
     "name": "stdout",
     "output_type": "stream",
     "text": [
      "INFO:tensorflow:Calling model_fn.\n",
      "INFO:tensorflow:Done calling model_fn.\n",
      "INFO:tensorflow:Create CheckpointSaverHook.\n",
      "INFO:tensorflow:Graph was finalized.\n",
      "INFO:tensorflow:Running local_init_op.\n",
      "INFO:tensorflow:Done running local_init_op.\n",
      "INFO:tensorflow:Saving checkpoints for 0 into C:\\Users\\ZIWEIF~1\\AppData\\Local\\Temp\\tmpp1ppjbyt\\model.ckpt.\n",
      "INFO:tensorflow:loss = 13.610802, step = 1\n",
      "INFO:tensorflow:Saving checkpoints for 21 into C:\\Users\\ZIWEIF~1\\AppData\\Local\\Temp\\tmpp1ppjbyt\\model.ckpt.\n",
      "INFO:tensorflow:Loss for final step: 0.90174055.\n"
     ]
    },
    {
     "data": {
      "text/plain": [
       "<tensorflow_estimator.python.estimator.canned.dnn.DNNClassifier at 0x1fd227b23c8>"
      ]
     },
     "execution_count": 337,
     "metadata": {},
     "output_type": "execute_result"
    }
   ],
   "source": [
    "classifier.train(input_fn=input_func, steps=500)"
   ]
  },
  {
   "cell_type": "code",
   "execution_count": 338,
   "metadata": {},
   "outputs": [],
   "source": [
    "pred_fn = tf.estimator.inputs.pandas_input_fn(x=X_test, y=y_test, batch_size=len(X_test), shuffle=False)"
   ]
  },
  {
   "cell_type": "code",
   "execution_count": 339,
   "metadata": {},
   "outputs": [
    {
     "name": "stdout",
     "output_type": "stream",
     "text": [
      "INFO:tensorflow:Calling model_fn.\n",
      "INFO:tensorflow:Done calling model_fn.\n",
      "INFO:tensorflow:Graph was finalized.\n",
      "INFO:tensorflow:Restoring parameters from C:\\Users\\ZIWEIF~1\\AppData\\Local\\Temp\\tmpp1ppjbyt\\model.ckpt-21\n",
      "INFO:tensorflow:Running local_init_op.\n",
      "INFO:tensorflow:Done running local_init_op.\n"
     ]
    }
   ],
   "source": [
    "note_predictions = list(classifier.predict(input_fn = pred_fn))"
   ]
  },
  {
   "cell_type": "code",
   "execution_count": 340,
   "metadata": {},
   "outputs": [],
   "source": [
    "final_preds=[]\n",
    "for pred in note_predictions:\n",
    "    final_preds.append(pred['class_ids'][0])"
   ]
  },
  {
   "cell_type": "code",
   "execution_count": 341,
   "metadata": {},
   "outputs": [
    {
     "name": "stdout",
     "output_type": "stream",
     "text": [
      "[[495  33]\n",
      " [  5 428]]\n"
     ]
    }
   ],
   "source": [
    "print(confusion_matrix(y_test, final_preds))"
   ]
  },
  {
   "cell_type": "code",
   "execution_count": 342,
   "metadata": {},
   "outputs": [
    {
     "name": "stdout",
     "output_type": "stream",
     "text": [
      "              precision    recall  f1-score   support\n",
      "\n",
      "           0       0.99      0.94      0.96       528\n",
      "           1       0.93      0.99      0.96       433\n",
      "\n",
      "   micro avg       0.96      0.96      0.96       961\n",
      "   macro avg       0.96      0.96      0.96       961\n",
      "weighted avg       0.96      0.96      0.96       961\n",
      "\n"
     ]
    }
   ],
   "source": [
    "print(classification_report(y_test, final_preds))"
   ]
  },
  {
   "cell_type": "markdown",
   "metadata": {},
   "source": [
    "#### Part 3: Increase Hidden layer-1:"
   ]
  },
  {
   "cell_type": "code",
   "execution_count": 204,
   "metadata": {},
   "outputs": [],
   "source": [
    "data = pd.read_csv('bank_note_data.csv')"
   ]
  },
  {
   "cell_type": "code",
   "execution_count": 205,
   "metadata": {},
   "outputs": [
    {
     "data": {
      "text/plain": [
       "StandardScaler(copy=True, with_mean=True, with_std=True)"
      ]
     },
     "execution_count": 205,
     "metadata": {},
     "output_type": "execute_result"
    }
   ],
   "source": [
    "scaler.fit(data.drop('Class',axis=1))"
   ]
  },
  {
   "cell_type": "code",
   "execution_count": 206,
   "metadata": {},
   "outputs": [],
   "source": [
    "scaled_features = scaler.fit_transform(data.drop('Class',axis=1))"
   ]
  },
  {
   "cell_type": "code",
   "execution_count": 207,
   "metadata": {},
   "outputs": [
    {
     "data": {
      "text/html": [
       "<div>\n",
       "<style scoped>\n",
       "    .dataframe tbody tr th:only-of-type {\n",
       "        vertical-align: middle;\n",
       "    }\n",
       "\n",
       "    .dataframe tbody tr th {\n",
       "        vertical-align: top;\n",
       "    }\n",
       "\n",
       "    .dataframe thead th {\n",
       "        text-align: right;\n",
       "    }\n",
       "</style>\n",
       "<table border=\"1\" class=\"dataframe\">\n",
       "  <thead>\n",
       "    <tr style=\"text-align: right;\">\n",
       "      <th></th>\n",
       "      <th>Image.Var</th>\n",
       "      <th>Image.Skew</th>\n",
       "      <th>Image.Curt</th>\n",
       "      <th>Entropy</th>\n",
       "    </tr>\n",
       "  </thead>\n",
       "  <tbody>\n",
       "    <tr>\n",
       "      <th>0</th>\n",
       "      <td>1.121806</td>\n",
       "      <td>1.149455</td>\n",
       "      <td>-0.975970</td>\n",
       "      <td>0.354561</td>\n",
       "    </tr>\n",
       "    <tr>\n",
       "      <th>1</th>\n",
       "      <td>1.447066</td>\n",
       "      <td>1.064453</td>\n",
       "      <td>-0.895036</td>\n",
       "      <td>-0.128767</td>\n",
       "    </tr>\n",
       "    <tr>\n",
       "      <th>2</th>\n",
       "      <td>1.207810</td>\n",
       "      <td>-0.777352</td>\n",
       "      <td>0.122218</td>\n",
       "      <td>0.618073</td>\n",
       "    </tr>\n",
       "    <tr>\n",
       "      <th>3</th>\n",
       "      <td>1.063742</td>\n",
       "      <td>1.295478</td>\n",
       "      <td>-1.255397</td>\n",
       "      <td>-1.144029</td>\n",
       "    </tr>\n",
       "    <tr>\n",
       "      <th>4</th>\n",
       "      <td>-0.036772</td>\n",
       "      <td>-1.087038</td>\n",
       "      <td>0.736730</td>\n",
       "      <td>0.096587</td>\n",
       "    </tr>\n",
       "  </tbody>\n",
       "</table>\n",
       "</div>"
      ],
      "text/plain": [
       "   Image.Var  Image.Skew  Image.Curt   Entropy\n",
       "0   1.121806    1.149455   -0.975970  0.354561\n",
       "1   1.447066    1.064453   -0.895036 -0.128767\n",
       "2   1.207810   -0.777352    0.122218  0.618073\n",
       "3   1.063742    1.295478   -1.255397 -1.144029\n",
       "4  -0.036772   -1.087038    0.736730  0.096587"
      ]
     },
     "execution_count": 207,
     "metadata": {},
     "output_type": "execute_result"
    }
   ],
   "source": [
    "df_feat = pd.DataFrame(scaled_features,columns=data.columns[:-1])\n",
    "df_feat.head()"
   ]
  },
  {
   "cell_type": "code",
   "execution_count": 208,
   "metadata": {},
   "outputs": [],
   "source": [
    "X = df_feat\n",
    "y = data['Class']"
   ]
  },
  {
   "cell_type": "code",
   "execution_count": 209,
   "metadata": {
    "scrolled": true
   },
   "outputs": [
    {
     "data": {
      "text/html": [
       "<div>\n",
       "<style scoped>\n",
       "    .dataframe tbody tr th:only-of-type {\n",
       "        vertical-align: middle;\n",
       "    }\n",
       "\n",
       "    .dataframe tbody tr th {\n",
       "        vertical-align: top;\n",
       "    }\n",
       "\n",
       "    .dataframe thead th {\n",
       "        text-align: right;\n",
       "    }\n",
       "</style>\n",
       "<table border=\"1\" class=\"dataframe\">\n",
       "  <thead>\n",
       "    <tr style=\"text-align: right;\">\n",
       "      <th></th>\n",
       "      <th>Image.Var</th>\n",
       "      <th>Image.Skew</th>\n",
       "      <th>Image.Curt</th>\n",
       "      <th>Entropy</th>\n",
       "    </tr>\n",
       "  </thead>\n",
       "  <tbody>\n",
       "    <tr>\n",
       "      <th>0</th>\n",
       "      <td>1.121806</td>\n",
       "      <td>1.149455</td>\n",
       "      <td>-0.975970</td>\n",
       "      <td>0.354561</td>\n",
       "    </tr>\n",
       "    <tr>\n",
       "      <th>1</th>\n",
       "      <td>1.447066</td>\n",
       "      <td>1.064453</td>\n",
       "      <td>-0.895036</td>\n",
       "      <td>-0.128767</td>\n",
       "    </tr>\n",
       "    <tr>\n",
       "      <th>2</th>\n",
       "      <td>1.207810</td>\n",
       "      <td>-0.777352</td>\n",
       "      <td>0.122218</td>\n",
       "      <td>0.618073</td>\n",
       "    </tr>\n",
       "  </tbody>\n",
       "</table>\n",
       "</div>"
      ],
      "text/plain": [
       "   Image.Var  Image.Skew  Image.Curt   Entropy\n",
       "0   1.121806    1.149455   -0.975970  0.354561\n",
       "1   1.447066    1.064453   -0.895036 -0.128767\n",
       "2   1.207810   -0.777352    0.122218  0.618073"
      ]
     },
     "execution_count": 209,
     "metadata": {},
     "output_type": "execute_result"
    }
   ],
   "source": [
    "X.head(3)"
   ]
  },
  {
   "cell_type": "code",
   "execution_count": 193,
   "metadata": {},
   "outputs": [
    {
     "data": {
      "text/plain": [
       "1372"
      ]
     },
     "execution_count": 193,
     "metadata": {},
     "output_type": "execute_result"
    }
   ],
   "source": [
    "len(X)"
   ]
  },
  {
   "cell_type": "code",
   "execution_count": 192,
   "metadata": {},
   "outputs": [
    {
     "data": {
      "text/plain": [
       "0    0\n",
       "1    0\n",
       "2    0\n",
       "Name: Class, dtype: int64"
      ]
     },
     "execution_count": 192,
     "metadata": {},
     "output_type": "execute_result"
    }
   ],
   "source": [
    "y[:3]"
   ]
  },
  {
   "cell_type": "code",
   "execution_count": 138,
   "metadata": {},
   "outputs": [],
   "source": [
    "X_train, X_test, y_train, y_test = train_test_split(X, y, test_size=0.3)"
   ]
  },
  {
   "cell_type": "code",
   "execution_count": 194,
   "metadata": {},
   "outputs": [
    {
     "data": {
      "text/plain": [
       "960"
      ]
     },
     "execution_count": 194,
     "metadata": {},
     "output_type": "execute_result"
    }
   ],
   "source": [
    "len(X_train)"
   ]
  },
  {
   "cell_type": "code",
   "execution_count": 195,
   "metadata": {},
   "outputs": [
    {
     "data": {
      "text/plain": [
       "412"
      ]
     },
     "execution_count": 195,
     "metadata": {},
     "output_type": "execute_result"
    }
   ],
   "source": [
    "len(X_test)"
   ]
  },
  {
   "cell_type": "code",
   "execution_count": 210,
   "metadata": {},
   "outputs": [],
   "source": [
    "image_var = tf.feature_column.numeric_column(\"Image.Var\")\n",
    "image_skew = tf.feature_column.numeric_column('Image.Skew')\n",
    "image_curt = tf.feature_column.numeric_column('Image.Curt')\n",
    "entropy =tf.feature_column.numeric_column('Entropy')"
   ]
  },
  {
   "cell_type": "code",
   "execution_count": 235,
   "metadata": {},
   "outputs": [
    {
     "name": "stdout",
     "output_type": "stream",
     "text": [
      "INFO:tensorflow:Using default config.\n",
      "WARNING:tensorflow:Using temporary folder as model directory: C:\\Users\\ZIWEIF~1\\AppData\\Local\\Temp\\tmpmrbmva3p\n",
      "INFO:tensorflow:Using config: {'_session_config': allow_soft_placement: true\n",
      "graph_options {\n",
      "  rewrite_options {\n",
      "    meta_optimizer_iterations: ONE\n",
      "  }\n",
      "}\n",
      ", '_cluster_spec': <tensorflow.python.training.server_lib.ClusterSpec object at 0x000001FD35220128>, '_master': '', '_eval_distribute': None, '_train_distribute': None, '_device_fn': None, '_num_worker_replicas': 1, '_service': None, '_keep_checkpoint_max': 5, '_evaluation_master': '', '_num_ps_replicas': 0, '_keep_checkpoint_every_n_hours': 10000, '_log_step_count_steps': 100, '_protocol': None, '_model_dir': 'C:\\\\Users\\\\ZIWEIF~1\\\\AppData\\\\Local\\\\Temp\\\\tmpmrbmva3p', '_task_id': 0, '_save_checkpoints_steps': None, '_task_type': 'worker', '_global_id_in_cluster': 0, '_save_summary_steps': 100, '_tf_random_seed': None, '_save_checkpoints_secs': 600, '_experimental_distribute': None, '_is_chief': True}\n"
     ]
    }
   ],
   "source": [
    "classifier = tf.estimator.DNNClassifier(hidden_units=[10, 20, 10], n_classes=2, feature_columns=feat_cols)"
   ]
  },
  {
   "cell_type": "code",
   "execution_count": 236,
   "metadata": {},
   "outputs": [],
   "source": [
    "input_func = tf.estimator.inputs.pandas_input_fn(x=X_train, y=y_train, batch_size=20, shuffle=True)"
   ]
  },
  {
   "cell_type": "code",
   "execution_count": 237,
   "metadata": {
    "scrolled": true
   },
   "outputs": [
    {
     "name": "stdout",
     "output_type": "stream",
     "text": [
      "INFO:tensorflow:Calling model_fn.\n",
      "INFO:tensorflow:Done calling model_fn.\n",
      "INFO:tensorflow:Create CheckpointSaverHook.\n",
      "INFO:tensorflow:Graph was finalized.\n",
      "INFO:tensorflow:Running local_init_op.\n",
      "INFO:tensorflow:Done running local_init_op.\n",
      "INFO:tensorflow:Saving checkpoints for 0 into C:\\Users\\ZIWEIF~1\\AppData\\Local\\Temp\\tmpmrbmva3p\\model.ckpt.\n",
      "INFO:tensorflow:loss = 11.289837, step = 1\n",
      "INFO:tensorflow:Saving checkpoints for 48 into C:\\Users\\ZIWEIF~1\\AppData\\Local\\Temp\\tmpmrbmva3p\\model.ckpt.\n",
      "INFO:tensorflow:Loss for final step: 0.23177154.\n"
     ]
    },
    {
     "data": {
      "text/plain": [
       "<tensorflow_estimator.python.estimator.canned.dnn.DNNClassifier at 0x1fd30ca96d8>"
      ]
     },
     "execution_count": 237,
     "metadata": {},
     "output_type": "execute_result"
    }
   ],
   "source": [
    "classifier.train(input_fn=input_func, steps=500)"
   ]
  },
  {
   "cell_type": "code",
   "execution_count": 238,
   "metadata": {},
   "outputs": [],
   "source": [
    "pred_fn = tf.estimator.inputs.pandas_input_fn(x=X_test,batch_size=len(X_test),shuffle=False)"
   ]
  },
  {
   "cell_type": "code",
   "execution_count": 239,
   "metadata": {},
   "outputs": [
    {
     "name": "stdout",
     "output_type": "stream",
     "text": [
      "INFO:tensorflow:Calling model_fn.\n",
      "INFO:tensorflow:Done calling model_fn.\n",
      "INFO:tensorflow:Graph was finalized.\n",
      "INFO:tensorflow:Restoring parameters from C:\\Users\\ZIWEIF~1\\AppData\\Local\\Temp\\tmpmrbmva3p\\model.ckpt-48\n",
      "INFO:tensorflow:Running local_init_op.\n",
      "INFO:tensorflow:Done running local_init_op.\n"
     ]
    }
   ],
   "source": [
    "note_predictions = list(classifier.predict(input_fn=pred_fn))"
   ]
  },
  {
   "cell_type": "code",
   "execution_count": 240,
   "metadata": {},
   "outputs": [],
   "source": [
    "final_preds=[]\n",
    "for pred in note_predictions:\n",
    "    final_preds.append(pred['class_ids'][0])"
   ]
  },
  {
   "cell_type": "code",
   "execution_count": 241,
   "metadata": {},
   "outputs": [
    {
     "data": {
      "text/plain": [
       "[1, 1, 0, 1, 0]"
      ]
     },
     "execution_count": 241,
     "metadata": {},
     "output_type": "execute_result"
    }
   ],
   "source": [
    "final_preds[:5]"
   ]
  },
  {
   "cell_type": "code",
   "execution_count": 242,
   "metadata": {},
   "outputs": [
    {
     "name": "stdout",
     "output_type": "stream",
     "text": [
      "[[232   0]\n",
      " [  0 180]]\n"
     ]
    }
   ],
   "source": [
    "print(confusion_matrix(y_test, final_preds))"
   ]
  },
  {
   "cell_type": "code",
   "execution_count": 243,
   "metadata": {},
   "outputs": [
    {
     "name": "stdout",
     "output_type": "stream",
     "text": [
      "              precision    recall  f1-score   support\n",
      "\n",
      "           0       1.00      1.00      1.00       232\n",
      "           1       1.00      1.00      1.00       180\n",
      "\n",
      "   micro avg       1.00      1.00      1.00       412\n",
      "   macro avg       1.00      1.00      1.00       412\n",
      "weighted avg       1.00      1.00      1.00       412\n",
      "\n"
     ]
    }
   ],
   "source": [
    "print(classification_report(y_test,final_preds))"
   ]
  },
  {
   "cell_type": "markdown",
   "metadata": {},
   "source": [
    "#### Part 4: Increase Hidden layer-2:"
   ]
  },
  {
   "cell_type": "code",
   "execution_count": 244,
   "metadata": {},
   "outputs": [],
   "source": [
    "X_train, X_test, y_train, y_test = train_test_split(X, y, test_size=0.3)"
   ]
  },
  {
   "cell_type": "code",
   "execution_count": 245,
   "metadata": {},
   "outputs": [
    {
     "name": "stdout",
     "output_type": "stream",
     "text": [
      "INFO:tensorflow:Using default config.\n",
      "WARNING:tensorflow:Using temporary folder as model directory: C:\\Users\\ZIWEIF~1\\AppData\\Local\\Temp\\tmp2kulpxhf\n",
      "INFO:tensorflow:Using config: {'_session_config': allow_soft_placement: true\n",
      "graph_options {\n",
      "  rewrite_options {\n",
      "    meta_optimizer_iterations: ONE\n",
      "  }\n",
      "}\n",
      ", '_cluster_spec': <tensorflow.python.training.server_lib.ClusterSpec object at 0x000001FD34BD9470>, '_master': '', '_eval_distribute': None, '_train_distribute': None, '_device_fn': None, '_num_worker_replicas': 1, '_service': None, '_keep_checkpoint_max': 5, '_evaluation_master': '', '_num_ps_replicas': 0, '_keep_checkpoint_every_n_hours': 10000, '_log_step_count_steps': 100, '_protocol': None, '_model_dir': 'C:\\\\Users\\\\ZIWEIF~1\\\\AppData\\\\Local\\\\Temp\\\\tmp2kulpxhf', '_task_id': 0, '_save_checkpoints_steps': None, '_task_type': 'worker', '_global_id_in_cluster': 0, '_save_summary_steps': 100, '_tf_random_seed': None, '_save_checkpoints_secs': 600, '_experimental_distribute': None, '_is_chief': True}\n"
     ]
    }
   ],
   "source": [
    "classifier = tf.estimator.DNNClassifier(hidden_units=[10, 30, 10], n_classes=2, feature_columns=feat_cols)"
   ]
  },
  {
   "cell_type": "code",
   "execution_count": 246,
   "metadata": {},
   "outputs": [],
   "source": [
    "input_func = tf.estimator.inputs.pandas_input_fn(x=X_train, y=y_train, batch_size=20, shuffle=True)"
   ]
  },
  {
   "cell_type": "code",
   "execution_count": 247,
   "metadata": {},
   "outputs": [
    {
     "name": "stdout",
     "output_type": "stream",
     "text": [
      "INFO:tensorflow:Calling model_fn.\n",
      "INFO:tensorflow:Done calling model_fn.\n",
      "INFO:tensorflow:Create CheckpointSaverHook.\n",
      "INFO:tensorflow:Graph was finalized.\n",
      "INFO:tensorflow:Running local_init_op.\n",
      "INFO:tensorflow:Done running local_init_op.\n",
      "INFO:tensorflow:Saving checkpoints for 0 into C:\\Users\\ZIWEIF~1\\AppData\\Local\\Temp\\tmp2kulpxhf\\model.ckpt.\n",
      "INFO:tensorflow:loss = 14.423087, step = 1\n",
      "INFO:tensorflow:Saving checkpoints for 48 into C:\\Users\\ZIWEIF~1\\AppData\\Local\\Temp\\tmp2kulpxhf\\model.ckpt.\n",
      "INFO:tensorflow:Loss for final step: 1.2325474.\n"
     ]
    },
    {
     "data": {
      "text/plain": [
       "<tensorflow_estimator.python.estimator.canned.dnn.DNNClassifier at 0x1fd34bd9208>"
      ]
     },
     "execution_count": 247,
     "metadata": {},
     "output_type": "execute_result"
    }
   ],
   "source": [
    "classifier.train(input_fn=input_func, steps=500)"
   ]
  },
  {
   "cell_type": "code",
   "execution_count": 248,
   "metadata": {},
   "outputs": [],
   "source": [
    "pred_fn = tf.estimator.inputs.pandas_input_fn(x=X_test, y=y_test, batch_size=len(X_test), shuffle=False)"
   ]
  },
  {
   "cell_type": "code",
   "execution_count": 249,
   "metadata": {},
   "outputs": [
    {
     "name": "stdout",
     "output_type": "stream",
     "text": [
      "INFO:tensorflow:Calling model_fn.\n",
      "INFO:tensorflow:Done calling model_fn.\n",
      "INFO:tensorflow:Graph was finalized.\n",
      "INFO:tensorflow:Restoring parameters from C:\\Users\\ZIWEIF~1\\AppData\\Local\\Temp\\tmp2kulpxhf\\model.ckpt-48\n",
      "INFO:tensorflow:Running local_init_op.\n",
      "INFO:tensorflow:Done running local_init_op.\n"
     ]
    }
   ],
   "source": [
    "note_predictions = list(classifier.predict(input_fn=pred_fn))"
   ]
  },
  {
   "cell_type": "code",
   "execution_count": 250,
   "metadata": {},
   "outputs": [
    {
     "data": {
      "text/plain": [
       "[1, 0, 1, 1, 0]"
      ]
     },
     "execution_count": 250,
     "metadata": {},
     "output_type": "execute_result"
    }
   ],
   "source": [
    "final_preds=[]\n",
    "for pred in note_predictions:\n",
    "    final_preds.append(pred['class_ids'][0])\n",
    "final_preds[:5]"
   ]
  },
  {
   "cell_type": "code",
   "execution_count": 251,
   "metadata": {},
   "outputs": [
    {
     "name": "stdout",
     "output_type": "stream",
     "text": [
      "[[206   8]\n",
      " [  1 197]]\n"
     ]
    }
   ],
   "source": [
    "print(confusion_matrix(y_test, final_preds))"
   ]
  },
  {
   "cell_type": "code",
   "execution_count": 252,
   "metadata": {},
   "outputs": [
    {
     "name": "stdout",
     "output_type": "stream",
     "text": [
      "              precision    recall  f1-score   support\n",
      "\n",
      "           0       1.00      0.96      0.98       214\n",
      "           1       0.96      0.99      0.98       198\n",
      "\n",
      "   micro avg       0.98      0.98      0.98       412\n",
      "   macro avg       0.98      0.98      0.98       412\n",
      "weighted avg       0.98      0.98      0.98       412\n",
      "\n"
     ]
    }
   ],
   "source": [
    "print(classification_report(y_test, final_preds))"
   ]
  },
  {
   "cell_type": "markdown",
   "metadata": {},
   "source": [
    "#### Part 5: Decrease Hidden layer-1:"
   ]
  },
  {
   "cell_type": "code",
   "execution_count": 253,
   "metadata": {},
   "outputs": [
    {
     "name": "stdout",
     "output_type": "stream",
     "text": [
      "INFO:tensorflow:Using default config.\n",
      "WARNING:tensorflow:Using temporary folder as model directory: C:\\Users\\ZIWEIF~1\\AppData\\Local\\Temp\\tmpwdd5hrwq\n",
      "INFO:tensorflow:Using config: {'_session_config': allow_soft_placement: true\n",
      "graph_options {\n",
      "  rewrite_options {\n",
      "    meta_optimizer_iterations: ONE\n",
      "  }\n",
      "}\n",
      ", '_cluster_spec': <tensorflow.python.training.server_lib.ClusterSpec object at 0x000001FD351BFBA8>, '_master': '', '_eval_distribute': None, '_train_distribute': None, '_device_fn': None, '_num_worker_replicas': 1, '_service': None, '_keep_checkpoint_max': 5, '_evaluation_master': '', '_num_ps_replicas': 0, '_keep_checkpoint_every_n_hours': 10000, '_log_step_count_steps': 100, '_protocol': None, '_model_dir': 'C:\\\\Users\\\\ZIWEIF~1\\\\AppData\\\\Local\\\\Temp\\\\tmpwdd5hrwq', '_task_id': 0, '_save_checkpoints_steps': None, '_task_type': 'worker', '_global_id_in_cluster': 0, '_save_summary_steps': 100, '_tf_random_seed': None, '_save_checkpoints_secs': 600, '_experimental_distribute': None, '_is_chief': True}\n",
      "INFO:tensorflow:Could not find trained model in model_dir: C:\\Users\\ZIWEIF~1\\AppData\\Local\\Temp\\tmpwdd5hrwq, running initialization to predict.\n",
      "INFO:tensorflow:Calling model_fn.\n",
      "INFO:tensorflow:Done calling model_fn.\n",
      "INFO:tensorflow:Graph was finalized.\n",
      "INFO:tensorflow:Running local_init_op.\n",
      "INFO:tensorflow:Done running local_init_op.\n",
      "[[215  10]\n",
      " [187   0]]\n"
     ]
    }
   ],
   "source": [
    "X_train, X_test, y_train, y_test = train_test_split(X, y, test_size=0.3)\n",
    "\n",
    "classifier = tf.estimator.DNNClassifier(hidden_units=[5, 20, 10], n_classes=2, feature_columns=feat_cols)\n",
    "input_func = tf.estimator.inputs.pandas_input_fn(x=X_train, y=y_train, batch_size=20, shuffle=True)\n",
    "\n",
    "pred_fn = tf.estimator.inputs.pandas_input_fn(x=X_test, y=y_test, batch_size=len(X_test), shuffle=False)\n",
    "note_predictions = list(classifier.predict(input_fn=pred_fn))\n",
    "\n",
    "final_preds=[]\n",
    "for pred in note_predictions:\n",
    "    final_preds.append(pred['class_ids'][0])\n",
    "final_preds[:5]\n",
    "\n",
    "print(confusion_matrix(y_test, final_preds))"
   ]
  },
  {
   "cell_type": "code",
   "execution_count": 254,
   "metadata": {},
   "outputs": [
    {
     "name": "stdout",
     "output_type": "stream",
     "text": [
      "              precision    recall  f1-score   support\n",
      "\n",
      "           0       0.53      0.96      0.69       225\n",
      "           1       0.00      0.00      0.00       187\n",
      "\n",
      "   micro avg       0.52      0.52      0.52       412\n",
      "   macro avg       0.27      0.48      0.34       412\n",
      "weighted avg       0.29      0.52      0.37       412\n",
      "\n"
     ]
    }
   ],
   "source": [
    "print(classification_report(y_test, final_preds))"
   ]
  },
  {
   "cell_type": "markdown",
   "metadata": {},
   "source": [
    "#### Part 6: Decrease Hidden layer-2:"
   ]
  },
  {
   "cell_type": "code",
   "execution_count": 287,
   "metadata": {},
   "outputs": [],
   "source": [
    "X_train, X_test, y_train, y_test = train_test_split(X, y, test_size=0.3)"
   ]
  },
  {
   "cell_type": "code",
   "execution_count": 288,
   "metadata": {},
   "outputs": [
    {
     "name": "stdout",
     "output_type": "stream",
     "text": [
      "INFO:tensorflow:Using default config.\n",
      "WARNING:tensorflow:Using temporary folder as model directory: C:\\Users\\ZIWEIF~1\\AppData\\Local\\Temp\\tmp42u5eng7\n",
      "INFO:tensorflow:Using config: {'_session_config': allow_soft_placement: true\n",
      "graph_options {\n",
      "  rewrite_options {\n",
      "    meta_optimizer_iterations: ONE\n",
      "  }\n",
      "}\n",
      ", '_cluster_spec': <tensorflow.python.training.server_lib.ClusterSpec object at 0x000001FD222FF438>, '_master': '', '_eval_distribute': None, '_train_distribute': None, '_device_fn': None, '_num_worker_replicas': 1, '_service': None, '_keep_checkpoint_max': 5, '_evaluation_master': '', '_num_ps_replicas': 0, '_keep_checkpoint_every_n_hours': 10000, '_log_step_count_steps': 100, '_protocol': None, '_model_dir': 'C:\\\\Users\\\\ZIWEIF~1\\\\AppData\\\\Local\\\\Temp\\\\tmp42u5eng7', '_task_id': 0, '_save_checkpoints_steps': None, '_task_type': 'worker', '_global_id_in_cluster': 0, '_save_summary_steps': 100, '_tf_random_seed': None, '_save_checkpoints_secs': 600, '_experimental_distribute': None, '_is_chief': True}\n"
     ]
    }
   ],
   "source": [
    "classifier = tf.estimator.DNNClassifier(hidden_units=[10, 10, 10], n_classes=2, feature_columns=feat_cols)"
   ]
  },
  {
   "cell_type": "code",
   "execution_count": 289,
   "metadata": {},
   "outputs": [],
   "source": [
    "input_func = tf.estimator.inputs.pandas_input_fn(x=X_train, y=y_train, batch_size=20, shuffle=True)"
   ]
  },
  {
   "cell_type": "code",
   "execution_count": 290,
   "metadata": {},
   "outputs": [
    {
     "name": "stdout",
     "output_type": "stream",
     "text": [
      "INFO:tensorflow:Calling model_fn.\n",
      "INFO:tensorflow:Done calling model_fn.\n",
      "INFO:tensorflow:Create CheckpointSaverHook.\n",
      "INFO:tensorflow:Graph was finalized.\n",
      "INFO:tensorflow:Running local_init_op.\n",
      "INFO:tensorflow:Done running local_init_op.\n",
      "INFO:tensorflow:Saving checkpoints for 0 into C:\\Users\\ZIWEIF~1\\AppData\\Local\\Temp\\tmp42u5eng7\\model.ckpt.\n",
      "INFO:tensorflow:loss = 14.683608, step = 1\n",
      "INFO:tensorflow:Saving checkpoints for 48 into C:\\Users\\ZIWEIF~1\\AppData\\Local\\Temp\\tmp42u5eng7\\model.ckpt.\n",
      "INFO:tensorflow:Loss for final step: 1.9087799.\n"
     ]
    },
    {
     "data": {
      "text/plain": [
       "<tensorflow_estimator.python.estimator.canned.dnn.DNNClassifier at 0x1fd23dae780>"
      ]
     },
     "execution_count": 290,
     "metadata": {},
     "output_type": "execute_result"
    }
   ],
   "source": [
    "classifier.train(input_fn=input_func, steps=500)"
   ]
  },
  {
   "cell_type": "code",
   "execution_count": 291,
   "metadata": {},
   "outputs": [],
   "source": [
    "pred_fn = tf.estimator.inputs.pandas_input_fn(x=X_test, y=y_test, batch_size=len(X_test), shuffle=False)"
   ]
  },
  {
   "cell_type": "code",
   "execution_count": 292,
   "metadata": {},
   "outputs": [
    {
     "name": "stdout",
     "output_type": "stream",
     "text": [
      "INFO:tensorflow:Calling model_fn.\n",
      "INFO:tensorflow:Done calling model_fn.\n",
      "INFO:tensorflow:Graph was finalized.\n",
      "INFO:tensorflow:Restoring parameters from C:\\Users\\ZIWEIF~1\\AppData\\Local\\Temp\\tmp42u5eng7\\model.ckpt-48\n",
      "INFO:tensorflow:Running local_init_op.\n",
      "INFO:tensorflow:Done running local_init_op.\n"
     ]
    }
   ],
   "source": [
    "note_predictions = list(classifier.predict(input_fn=pred_fn))"
   ]
  },
  {
   "cell_type": "code",
   "execution_count": 293,
   "metadata": {},
   "outputs": [
    {
     "data": {
      "text/plain": [
       "[1, 1, 0, 1, 1]"
      ]
     },
     "execution_count": 293,
     "metadata": {},
     "output_type": "execute_result"
    }
   ],
   "source": [
    "final_preds=[]\n",
    "for pred in note_predictions:\n",
    "    final_preds.append(pred['class_ids'][0])\n",
    "final_preds[:5]"
   ]
  },
  {
   "cell_type": "code",
   "execution_count": 294,
   "metadata": {},
   "outputs": [
    {
     "name": "stdout",
     "output_type": "stream",
     "text": [
      "[[237   3]\n",
      " [  1 171]]\n"
     ]
    }
   ],
   "source": [
    "print(confusion_matrix(y_test, final_preds))"
   ]
  },
  {
   "cell_type": "code",
   "execution_count": 295,
   "metadata": {},
   "outputs": [
    {
     "name": "stdout",
     "output_type": "stream",
     "text": [
      "              precision    recall  f1-score   support\n",
      "\n",
      "           0       1.00      0.99      0.99       240\n",
      "           1       0.98      0.99      0.99       172\n",
      "\n",
      "   micro avg       0.99      0.99      0.99       412\n",
      "   macro avg       0.99      0.99      0.99       412\n",
      "weighted avg       0.99      0.99      0.99       412\n",
      "\n"
     ]
    }
   ],
   "source": [
    "print(classification_report(y_test, final_preds))"
   ]
  },
  {
   "cell_type": "markdown",
   "metadata": {},
   "source": [
    "#### Part 7: Increase classifier Batch size:"
   ]
  },
  {
   "cell_type": "code",
   "execution_count": 296,
   "metadata": {},
   "outputs": [],
   "source": [
    "X_train, X_test, y_train, y_test = train_test_split(X, y, test_size=0.3)"
   ]
  },
  {
   "cell_type": "code",
   "execution_count": 297,
   "metadata": {},
   "outputs": [
    {
     "name": "stdout",
     "output_type": "stream",
     "text": [
      "INFO:tensorflow:Using default config.\n",
      "WARNING:tensorflow:Using temporary folder as model directory: C:\\Users\\ZIWEIF~1\\AppData\\Local\\Temp\\tmpqi22xusv\n",
      "INFO:tensorflow:Using config: {'_session_config': allow_soft_placement: true\n",
      "graph_options {\n",
      "  rewrite_options {\n",
      "    meta_optimizer_iterations: ONE\n",
      "  }\n",
      "}\n",
      ", '_cluster_spec': <tensorflow.python.training.server_lib.ClusterSpec object at 0x000001FD336F6860>, '_master': '', '_eval_distribute': None, '_train_distribute': None, '_device_fn': None, '_num_worker_replicas': 1, '_service': None, '_keep_checkpoint_max': 5, '_evaluation_master': '', '_num_ps_replicas': 0, '_keep_checkpoint_every_n_hours': 10000, '_log_step_count_steps': 100, '_protocol': None, '_model_dir': 'C:\\\\Users\\\\ZIWEIF~1\\\\AppData\\\\Local\\\\Temp\\\\tmpqi22xusv', '_task_id': 0, '_save_checkpoints_steps': None, '_task_type': 'worker', '_global_id_in_cluster': 0, '_save_summary_steps': 100, '_tf_random_seed': None, '_save_checkpoints_secs': 600, '_experimental_distribute': None, '_is_chief': True}\n"
     ]
    }
   ],
   "source": [
    "classifier = tf.estimator.DNNClassifier(hidden_units=[10, 20, 10], n_classes=2, feature_columns=feat_cols)"
   ]
  },
  {
   "cell_type": "code",
   "execution_count": 298,
   "metadata": {},
   "outputs": [],
   "source": [
    "input_func = tf.estimator.inputs.pandas_input_fn(x=X_train, y=y_train, batch_size=40, shuffle=True)"
   ]
  },
  {
   "cell_type": "code",
   "execution_count": 299,
   "metadata": {},
   "outputs": [],
   "source": [
    "pred_fn = tf.estimator.inputs.pandas_input_fn(x=X_test, y=y_test, batch_size=len(X_test), shuffle=False)"
   ]
  },
  {
   "cell_type": "code",
   "execution_count": 300,
   "metadata": {},
   "outputs": [
    {
     "name": "stdout",
     "output_type": "stream",
     "text": [
      "INFO:tensorflow:Calling model_fn.\n",
      "INFO:tensorflow:Done calling model_fn.\n",
      "INFO:tensorflow:Create CheckpointSaverHook.\n",
      "INFO:tensorflow:Graph was finalized.\n",
      "INFO:tensorflow:Running local_init_op.\n",
      "INFO:tensorflow:Done running local_init_op.\n",
      "INFO:tensorflow:Saving checkpoints for 0 into C:\\Users\\ZIWEIF~1\\AppData\\Local\\Temp\\tmpqi22xusv\\model.ckpt.\n",
      "INFO:tensorflow:loss = 27.816034, step = 1\n",
      "INFO:tensorflow:Saving checkpoints for 24 into C:\\Users\\ZIWEIF~1\\AppData\\Local\\Temp\\tmpqi22xusv\\model.ckpt.\n",
      "INFO:tensorflow:Loss for final step: 1.3382107.\n"
     ]
    },
    {
     "data": {
      "text/plain": [
       "<tensorflow_estimator.python.estimator.canned.dnn.DNNClassifier at 0x1fd336f62e8>"
      ]
     },
     "execution_count": 300,
     "metadata": {},
     "output_type": "execute_result"
    }
   ],
   "source": [
    "classifier.train(input_fn=input_func, steps=500)"
   ]
  },
  {
   "cell_type": "code",
   "execution_count": 301,
   "metadata": {},
   "outputs": [
    {
     "name": "stdout",
     "output_type": "stream",
     "text": [
      "INFO:tensorflow:Calling model_fn.\n",
      "INFO:tensorflow:Done calling model_fn.\n",
      "INFO:tensorflow:Graph was finalized.\n",
      "INFO:tensorflow:Restoring parameters from C:\\Users\\ZIWEIF~1\\AppData\\Local\\Temp\\tmpqi22xusv\\model.ckpt-24\n",
      "INFO:tensorflow:Running local_init_op.\n",
      "INFO:tensorflow:Done running local_init_op.\n"
     ]
    }
   ],
   "source": [
    "note_predictions = list(classifier.predict(input_fn = pred_fn))"
   ]
  },
  {
   "cell_type": "code",
   "execution_count": 302,
   "metadata": {},
   "outputs": [],
   "source": [
    "final_preds=[]\n",
    "for pred in note_predictions:\n",
    "    final_preds.append(pred['class_ids'][0])"
   ]
  },
  {
   "cell_type": "code",
   "execution_count": 303,
   "metadata": {},
   "outputs": [
    {
     "name": "stdout",
     "output_type": "stream",
     "text": [
      "[[229   2]\n",
      " [  0 181]]\n"
     ]
    }
   ],
   "source": [
    "print(confusion_matrix(y_test, final_preds))"
   ]
  },
  {
   "cell_type": "code",
   "execution_count": 304,
   "metadata": {},
   "outputs": [
    {
     "name": "stdout",
     "output_type": "stream",
     "text": [
      "              precision    recall  f1-score   support\n",
      "\n",
      "           0       1.00      0.99      1.00       231\n",
      "           1       0.99      1.00      0.99       181\n",
      "\n",
      "   micro avg       1.00      1.00      1.00       412\n",
      "   macro avg       0.99      1.00      1.00       412\n",
      "weighted avg       1.00      1.00      1.00       412\n",
      "\n"
     ]
    }
   ],
   "source": [
    "print(classification_report(y_test, final_preds))"
   ]
  },
  {
   "cell_type": "markdown",
   "metadata": {},
   "source": [
    "#### Part 7: Decrease classifier Batch size:"
   ]
  },
  {
   "cell_type": "code",
   "execution_count": 305,
   "metadata": {},
   "outputs": [],
   "source": [
    "X_train, X_test, y_train, y_test = train_test_split(X, y, test_size=0.3)"
   ]
  },
  {
   "cell_type": "code",
   "execution_count": 306,
   "metadata": {},
   "outputs": [
    {
     "name": "stdout",
     "output_type": "stream",
     "text": [
      "INFO:tensorflow:Using default config.\n",
      "WARNING:tensorflow:Using temporary folder as model directory: C:\\Users\\ZIWEIF~1\\AppData\\Local\\Temp\\tmpoker0ark\n",
      "INFO:tensorflow:Using config: {'_session_config': allow_soft_placement: true\n",
      "graph_options {\n",
      "  rewrite_options {\n",
      "    meta_optimizer_iterations: ONE\n",
      "  }\n",
      "}\n",
      ", '_cluster_spec': <tensorflow.python.training.server_lib.ClusterSpec object at 0x000001FD336F6518>, '_master': '', '_eval_distribute': None, '_train_distribute': None, '_device_fn': None, '_num_worker_replicas': 1, '_service': None, '_keep_checkpoint_max': 5, '_evaluation_master': '', '_num_ps_replicas': 0, '_keep_checkpoint_every_n_hours': 10000, '_log_step_count_steps': 100, '_protocol': None, '_model_dir': 'C:\\\\Users\\\\ZIWEIF~1\\\\AppData\\\\Local\\\\Temp\\\\tmpoker0ark', '_task_id': 0, '_save_checkpoints_steps': None, '_task_type': 'worker', '_global_id_in_cluster': 0, '_save_summary_steps': 100, '_tf_random_seed': None, '_save_checkpoints_secs': 600, '_experimental_distribute': None, '_is_chief': True}\n"
     ]
    }
   ],
   "source": [
    "classifier = tf.estimator.DNNClassifier(hidden_units=[10, 20, 10], n_classes=2, feature_columns=feat_cols)"
   ]
  },
  {
   "cell_type": "code",
   "execution_count": 307,
   "metadata": {},
   "outputs": [],
   "source": [
    "input_func = tf.estimator.inputs.pandas_input_fn(x=X_train, y=y_train, batch_size=10, shuffle=True)"
   ]
  },
  {
   "cell_type": "code",
   "execution_count": 308,
   "metadata": {},
   "outputs": [
    {
     "name": "stdout",
     "output_type": "stream",
     "text": [
      "INFO:tensorflow:Calling model_fn.\n",
      "INFO:tensorflow:Done calling model_fn.\n",
      "INFO:tensorflow:Create CheckpointSaverHook.\n",
      "INFO:tensorflow:Graph was finalized.\n",
      "INFO:tensorflow:Running local_init_op.\n",
      "INFO:tensorflow:Done running local_init_op.\n",
      "INFO:tensorflow:Saving checkpoints for 0 into C:\\Users\\ZIWEIF~1\\AppData\\Local\\Temp\\tmpoker0ark\\model.ckpt.\n",
      "INFO:tensorflow:loss = 7.5002737, step = 1\n",
      "INFO:tensorflow:Saving checkpoints for 96 into C:\\Users\\ZIWEIF~1\\AppData\\Local\\Temp\\tmpoker0ark\\model.ckpt.\n",
      "INFO:tensorflow:Loss for final step: 0.11168529.\n"
     ]
    },
    {
     "data": {
      "text/plain": [
       "<tensorflow_estimator.python.estimator.canned.dnn.DNNClassifier at 0x1fd336f6320>"
      ]
     },
     "execution_count": 308,
     "metadata": {},
     "output_type": "execute_result"
    }
   ],
   "source": [
    "classifier.train(input_fn=input_func, steps=500)"
   ]
  },
  {
   "cell_type": "code",
   "execution_count": 309,
   "metadata": {},
   "outputs": [],
   "source": [
    "pred_fn = tf.estimator.inputs.pandas_input_fn(x=X_test, y=y_test, batch_size=len(X_test), shuffle=False)"
   ]
  },
  {
   "cell_type": "code",
   "execution_count": 310,
   "metadata": {},
   "outputs": [
    {
     "name": "stdout",
     "output_type": "stream",
     "text": [
      "INFO:tensorflow:Calling model_fn.\n",
      "INFO:tensorflow:Done calling model_fn.\n",
      "INFO:tensorflow:Graph was finalized.\n",
      "INFO:tensorflow:Restoring parameters from C:\\Users\\ZIWEIF~1\\AppData\\Local\\Temp\\tmpoker0ark\\model.ckpt-96\n",
      "INFO:tensorflow:Running local_init_op.\n",
      "INFO:tensorflow:Done running local_init_op.\n"
     ]
    }
   ],
   "source": [
    "note_predictions = list(classifier.predict(input_fn = pred_fn))"
   ]
  },
  {
   "cell_type": "code",
   "execution_count": 311,
   "metadata": {},
   "outputs": [
    {
     "data": {
      "text/plain": [
       "list"
      ]
     },
     "execution_count": 311,
     "metadata": {},
     "output_type": "execute_result"
    }
   ],
   "source": [
    "type(note_predictions)"
   ]
  },
  {
   "cell_type": "code",
   "execution_count": 312,
   "metadata": {},
   "outputs": [
    {
     "data": {
      "text/plain": [
       "[{'class_ids': array([1], dtype=int64),\n",
       "  'classes': array([b'1'], dtype=object),\n",
       "  'logistic': array([0.9825136], dtype=float32),\n",
       "  'logits': array([4.028694], dtype=float32),\n",
       "  'probabilities': array([0.01748634, 0.9825136 ], dtype=float32)},\n",
       " {'class_ids': array([0], dtype=int64),\n",
       "  'classes': array([b'0'], dtype=object),\n",
       "  'logistic': array([0.00141165], dtype=float32),\n",
       "  'logits': array([-6.5615683], dtype=float32),\n",
       "  'probabilities': array([0.99858826, 0.00141167], dtype=float32)},\n",
       " {'class_ids': array([0], dtype=int64),\n",
       "  'classes': array([b'0'], dtype=object),\n",
       "  'logistic': array([0.00012532], dtype=float32),\n",
       "  'logits': array([-8.985369], dtype=float32),\n",
       "  'probabilities': array([9.9987483e-01, 1.2521305e-04], dtype=float32)},\n",
       " {'class_ids': array([1], dtype=int64),\n",
       "  'classes': array([b'1'], dtype=object),\n",
       "  'logistic': array([0.99392736], dtype=float32),\n",
       "  'logits': array([5.097857], dtype=float32),\n",
       "  'probabilities': array([0.00607272, 0.99392724], dtype=float32)},\n",
       " {'class_ids': array([1], dtype=int64),\n",
       "  'classes': array([b'1'], dtype=object),\n",
       "  'logistic': array([0.9744891], dtype=float32),\n",
       "  'logits': array([3.6428063], dtype=float32),\n",
       "  'probabilities': array([0.02551093, 0.97448915], dtype=float32)},\n",
       " {'class_ids': array([0], dtype=int64),\n",
       "  'classes': array([b'0'], dtype=object),\n",
       "  'logistic': array([0.4816788], dtype=float32),\n",
       "  'logits': array([-0.07331762], dtype=float32),\n",
       "  'probabilities': array([0.5183212, 0.4816788], dtype=float32)},\n",
       " {'class_ids': array([1], dtype=int64),\n",
       "  'classes': array([b'1'], dtype=object),\n",
       "  'logistic': array([0.7783854], dtype=float32),\n",
       "  'logits': array([1.2562822], dtype=float32),\n",
       "  'probabilities': array([0.22161455, 0.77838546], dtype=float32)},\n",
       " {'class_ids': array([0], dtype=int64),\n",
       "  'classes': array([b'0'], dtype=object),\n",
       "  'logistic': array([0.00053746], dtype=float32),\n",
       "  'logits': array([-7.5280485], dtype=float32),\n",
       "  'probabilities': array([9.9946254e-01, 5.3749763e-04], dtype=float32)},\n",
       " {'class_ids': array([1], dtype=int64),\n",
       "  'classes': array([b'1'], dtype=object),\n",
       "  'logistic': array([0.99113095], dtype=float32),\n",
       "  'logits': array([4.716281], dtype=float32),\n",
       "  'probabilities': array([0.00886903, 0.99113095], dtype=float32)},\n",
       " {'class_ids': array([0], dtype=int64),\n",
       "  'classes': array([b'0'], dtype=object),\n",
       "  'logistic': array([0.00017485], dtype=float32),\n",
       "  'logits': array([-8.651771], dtype=float32),\n",
       "  'probabilities': array([9.998253e-01, 1.747865e-04], dtype=float32)},\n",
       " {'class_ids': array([0], dtype=int64),\n",
       "  'classes': array([b'0'], dtype=object),\n",
       "  'logistic': array([0.00157845], dtype=float32),\n",
       "  'logits': array([-6.449735], dtype=float32),\n",
       "  'probabilities': array([0.99842155, 0.00157845], dtype=float32)},\n",
       " {'class_ids': array([0], dtype=int64),\n",
       "  'classes': array([b'0'], dtype=object),\n",
       "  'logistic': array([0.00012794], dtype=float32),\n",
       "  'logits': array([-8.963736], dtype=float32),\n",
       "  'probabilities': array([9.9987209e-01, 1.2795096e-04], dtype=float32)},\n",
       " {'class_ids': array([0], dtype=int64),\n",
       "  'classes': array([b'0'], dtype=object),\n",
       "  'logistic': array([0.00188401], dtype=float32),\n",
       "  'logits': array([-6.272465], dtype=float32),\n",
       "  'probabilities': array([0.998116  , 0.00188401], dtype=float32)},\n",
       " {'class_ids': array([1], dtype=int64),\n",
       "  'classes': array([b'1'], dtype=object),\n",
       "  'logistic': array([0.9950416], dtype=float32),\n",
       "  'logits': array([5.301695], dtype=float32),\n",
       "  'probabilities': array([0.00495843, 0.99504155], dtype=float32)},\n",
       " {'class_ids': array([0], dtype=int64),\n",
       "  'classes': array([b'0'], dtype=object),\n",
       "  'logistic': array([0.00579751], dtype=float32),\n",
       "  'logits': array([-5.144522], dtype=float32),\n",
       "  'probabilities': array([0.99420255, 0.00579745], dtype=float32)},\n",
       " {'class_ids': array([0], dtype=int64),\n",
       "  'classes': array([b'0'], dtype=object),\n",
       "  'logistic': array([0.17990488], dtype=float32),\n",
       "  'logits': array([-1.5169922], dtype=float32),\n",
       "  'probabilities': array([0.8200951 , 0.17990486], dtype=float32)},\n",
       " {'class_ids': array([0], dtype=int64),\n",
       "  'classes': array([b'0'], dtype=object),\n",
       "  'logistic': array([0.0030258], dtype=float32),\n",
       "  'logits': array([-5.7975583], dtype=float32),\n",
       "  'probabilities': array([0.99697423, 0.00302577], dtype=float32)},\n",
       " {'class_ids': array([1], dtype=int64),\n",
       "  'classes': array([b'1'], dtype=object),\n",
       "  'logistic': array([0.99640566], dtype=float32),\n",
       "  'logits': array([5.62479], dtype=float32),\n",
       "  'probabilities': array([0.00359435, 0.9964057 ], dtype=float32)},\n",
       " {'class_ids': array([1], dtype=int64),\n",
       "  'classes': array([b'1'], dtype=object),\n",
       "  'logistic': array([0.9909127], dtype=float32),\n",
       "  'logits': array([4.6917467], dtype=float32),\n",
       "  'probabilities': array([0.00908732, 0.9909127 ], dtype=float32)},\n",
       " {'class_ids': array([1], dtype=int64),\n",
       "  'classes': array([b'1'], dtype=object),\n",
       "  'logistic': array([0.9952419], dtype=float32),\n",
       "  'logits': array([5.3431287], dtype=float32),\n",
       "  'probabilities': array([0.00475814, 0.9952419 ], dtype=float32)},\n",
       " {'class_ids': array([1], dtype=int64),\n",
       "  'classes': array([b'1'], dtype=object),\n",
       "  'logistic': array([0.9976889], dtype=float32),\n",
       "  'logits': array([6.0677176], dtype=float32),\n",
       "  'probabilities': array([0.0023111, 0.9976889], dtype=float32)},\n",
       " {'class_ids': array([1], dtype=int64),\n",
       "  'classes': array([b'1'], dtype=object),\n",
       "  'logistic': array([0.73495877], dtype=float32),\n",
       "  'logits': array([1.019929], dtype=float32),\n",
       "  'probabilities': array([0.26504123, 0.73495877], dtype=float32)},\n",
       " {'class_ids': array([0], dtype=int64),\n",
       "  'classes': array([b'0'], dtype=object),\n",
       "  'logistic': array([0.00103259], dtype=float32),\n",
       "  'logits': array([-6.8746667], dtype=float32),\n",
       "  'probabilities': array([0.9989674 , 0.00103257], dtype=float32)},\n",
       " {'class_ids': array([1], dtype=int64),\n",
       "  'classes': array([b'1'], dtype=object),\n",
       "  'logistic': array([0.9123004], dtype=float32),\n",
       "  'logits': array([2.3420522], dtype=float32),\n",
       "  'probabilities': array([0.08769958, 0.91230047], dtype=float32)},\n",
       " {'class_ids': array([0], dtype=int64),\n",
       "  'classes': array([b'0'], dtype=object),\n",
       "  'logistic': array([0.0004285], dtype=float32),\n",
       "  'logits': array([-7.7549276], dtype=float32),\n",
       "  'probabilities': array([9.9957150e-01, 4.2844153e-04], dtype=float32)},\n",
       " {'class_ids': array([0], dtype=int64),\n",
       "  'classes': array([b'0'], dtype=object),\n",
       "  'logistic': array([0.39607126], dtype=float32),\n",
       "  'logits': array([-0.4218621], dtype=float32),\n",
       "  'probabilities': array([0.60392874, 0.39607126], dtype=float32)},\n",
       " {'class_ids': array([1], dtype=int64),\n",
       "  'classes': array([b'1'], dtype=object),\n",
       "  'logistic': array([0.9798738], dtype=float32),\n",
       "  'logits': array([3.8854005], dtype=float32),\n",
       "  'probabilities': array([0.02012621, 0.9798737 ], dtype=float32)},\n",
       " {'class_ids': array([0], dtype=int64),\n",
       "  'classes': array([b'0'], dtype=object),\n",
       "  'logistic': array([0.00126716], dtype=float32),\n",
       "  'logits': array([-6.6697454], dtype=float32),\n",
       "  'probabilities': array([0.99873286, 0.00126711], dtype=float32)},\n",
       " {'class_ids': array([1], dtype=int64),\n",
       "  'classes': array([b'1'], dtype=object),\n",
       "  'logistic': array([0.9921851], dtype=float32),\n",
       "  'logits': array([4.843882], dtype=float32),\n",
       "  'probabilities': array([0.00781486, 0.9921852 ], dtype=float32)},\n",
       " {'class_ids': array([0], dtype=int64),\n",
       "  'classes': array([b'0'], dtype=object),\n",
       "  'logistic': array([0.00053629], dtype=float32),\n",
       "  'logits': array([-7.5302124], dtype=float32),\n",
       "  'probabilities': array([9.9946362e-01, 5.3633645e-04], dtype=float32)},\n",
       " {'class_ids': array([0], dtype=int64),\n",
       "  'classes': array([b'0'], dtype=object),\n",
       "  'logistic': array([0.00063765], dtype=float32),\n",
       "  'logits': array([-7.3570595], dtype=float32),\n",
       "  'probabilities': array([9.9936229e-01, 6.3766504e-04], dtype=float32)},\n",
       " {'class_ids': array([1], dtype=int64),\n",
       "  'classes': array([b'1'], dtype=object),\n",
       "  'logistic': array([0.99615455], dtype=float32),\n",
       "  'logits': array([5.557027], dtype=float32),\n",
       "  'probabilities': array([0.00384539, 0.9961546 ], dtype=float32)},\n",
       " {'class_ids': array([0], dtype=int64),\n",
       "  'classes': array([b'0'], dtype=object),\n",
       "  'logistic': array([0.00023478], dtype=float32),\n",
       "  'logits': array([-8.356731], dtype=float32),\n",
       "  'probabilities': array([9.9976522e-01, 2.3475545e-04], dtype=float32)},\n",
       " {'class_ids': array([1], dtype=int64),\n",
       "  'classes': array([b'1'], dtype=object),\n",
       "  'logistic': array([0.9908792], dtype=float32),\n",
       "  'logits': array([4.6880336], dtype=float32),\n",
       "  'probabilities': array([0.00912081, 0.99087924], dtype=float32)},\n",
       " {'class_ids': array([0], dtype=int64),\n",
       "  'classes': array([b'0'], dtype=object),\n",
       "  'logistic': array([0.00017169], dtype=float32),\n",
       "  'logits': array([-8.669698], dtype=float32),\n",
       "  'probabilities': array([9.9982834e-01, 1.7168152e-04], dtype=float32)},\n",
       " {'class_ids': array([0], dtype=int64),\n",
       "  'classes': array([b'0'], dtype=object),\n",
       "  'logistic': array([0.0004788], dtype=float32),\n",
       "  'logits': array([-7.64369], dtype=float32),\n",
       "  'probabilities': array([9.9952114e-01, 4.7882801e-04], dtype=float32)},\n",
       " {'class_ids': array([0], dtype=int64),\n",
       "  'classes': array([b'0'], dtype=object),\n",
       "  'logistic': array([0.00215411], dtype=float32),\n",
       "  'logits': array([-6.1382275], dtype=float32),\n",
       "  'probabilities': array([0.9978459, 0.0021541], dtype=float32)},\n",
       " {'class_ids': array([0], dtype=int64),\n",
       "  'classes': array([b'0'], dtype=object),\n",
       "  'logistic': array([0.00133517], dtype=float32),\n",
       "  'logits': array([-6.6173506], dtype=float32),\n",
       "  'probabilities': array([0.99866486, 0.00133518], dtype=float32)},\n",
       " {'class_ids': array([1], dtype=int64),\n",
       "  'classes': array([b'1'], dtype=object),\n",
       "  'logistic': array([0.9965268], dtype=float32),\n",
       "  'logits': array([5.659196], dtype=float32),\n",
       "  'probabilities': array([0.00347321, 0.9965268 ], dtype=float32)},\n",
       " {'class_ids': array([0], dtype=int64),\n",
       "  'classes': array([b'0'], dtype=object),\n",
       "  'logistic': array([0.00074852], dtype=float32),\n",
       "  'logits': array([-7.1965923], dtype=float32),\n",
       "  'probabilities': array([9.9925143e-01, 7.4857345e-04], dtype=float32)},\n",
       " {'class_ids': array([0], dtype=int64),\n",
       "  'classes': array([b'0'], dtype=object),\n",
       "  'logistic': array([0.00046581], dtype=float32),\n",
       "  'logits': array([-7.671236], dtype=float32),\n",
       "  'probabilities': array([9.9953425e-01, 4.6582436e-04], dtype=float32)},\n",
       " {'class_ids': array([0], dtype=int64),\n",
       "  'classes': array([b'0'], dtype=object),\n",
       "  'logistic': array([0.00286183], dtype=float32),\n",
       "  'logits': array([-5.853426], dtype=float32),\n",
       "  'probabilities': array([0.99713814, 0.00286184], dtype=float32)},\n",
       " {'class_ids': array([0], dtype=int64),\n",
       "  'classes': array([b'0'], dtype=object),\n",
       "  'logistic': array([0.00051415], dtype=float32),\n",
       "  'logits': array([-7.57232], dtype=float32),\n",
       "  'probabilities': array([9.9948573e-01, 5.1423284e-04], dtype=float32)},\n",
       " {'class_ids': array([0], dtype=int64),\n",
       "  'classes': array([b'0'], dtype=object),\n",
       "  'logistic': array([0.00058255], dtype=float32),\n",
       "  'logits': array([-7.4475565], dtype=float32),\n",
       "  'probabilities': array([9.9941754e-01, 5.8252463e-04], dtype=float32)},\n",
       " {'class_ids': array([0], dtype=int64),\n",
       "  'classes': array([b'0'], dtype=object),\n",
       "  'logistic': array([0.00193617], dtype=float32),\n",
       "  'logits': array([-6.245089], dtype=float32),\n",
       "  'probabilities': array([0.99806374, 0.0019362 ], dtype=float32)},\n",
       " {'class_ids': array([0], dtype=int64),\n",
       "  'classes': array([b'0'], dtype=object),\n",
       "  'logistic': array([0.00029919], dtype=float32),\n",
       "  'logits': array([-8.114509], dtype=float32),\n",
       "  'probabilities': array([9.9970090e-01, 2.9907754e-04], dtype=float32)},\n",
       " {'class_ids': array([1], dtype=int64),\n",
       "  'classes': array([b'1'], dtype=object),\n",
       "  'logistic': array([0.9911956], dtype=float32),\n",
       "  'logits': array([4.7236614], dtype=float32),\n",
       "  'probabilities': array([0.00880439, 0.99119556], dtype=float32)},\n",
       " {'class_ids': array([0], dtype=int64),\n",
       "  'classes': array([b'0'], dtype=object),\n",
       "  'logistic': array([0.0003964], dtype=float32),\n",
       "  'logits': array([-7.832879], dtype=float32),\n",
       "  'probabilities': array([9.9960369e-01, 3.9632522e-04], dtype=float32)},\n",
       " {'class_ids': array([1], dtype=int64),\n",
       "  'classes': array([b'1'], dtype=object),\n",
       "  'logistic': array([0.9969195], dtype=float32),\n",
       "  'logits': array([5.779582], dtype=float32),\n",
       "  'probabilities': array([0.00308049, 0.9969195 ], dtype=float32)},\n",
       " {'class_ids': array([0], dtype=int64),\n",
       "  'classes': array([b'0'], dtype=object),\n",
       "  'logistic': array([0.00085059], dtype=float32),\n",
       "  'logits': array([-7.068717], dtype=float32),\n",
       "  'probabilities': array([9.9914944e-01, 8.5060054e-04], dtype=float32)},\n",
       " {'class_ids': array([0], dtype=int64),\n",
       "  'classes': array([b'0'], dtype=object),\n",
       "  'logistic': array([0.0006803], dtype=float32),\n",
       "  'logits': array([-7.2922535], dtype=float32),\n",
       "  'probabilities': array([9.993197e-01, 6.803290e-04], dtype=float32)},\n",
       " {'class_ids': array([0], dtype=int64),\n",
       "  'classes': array([b'0'], dtype=object),\n",
       "  'logistic': array([0.00137398], dtype=float32),\n",
       "  'logits': array([-6.5887065], dtype=float32),\n",
       "  'probabilities': array([0.9986261 , 0.00137393], dtype=float32)},\n",
       " {'class_ids': array([0], dtype=int64),\n",
       "  'classes': array([b'0'], dtype=object),\n",
       "  'logistic': array([0.00020352], dtype=float32),\n",
       "  'logits': array([-8.499703], dtype=float32),\n",
       "  'probabilities': array([9.9979657e-01, 2.0348733e-04], dtype=float32)},\n",
       " {'class_ids': array([0], dtype=int64),\n",
       "  'classes': array([b'0'], dtype=object),\n",
       "  'logistic': array([0.00221062], dtype=float32),\n",
       "  'logits': array([-6.1122665], dtype=float32),\n",
       "  'probabilities': array([0.9977894 , 0.00221063], dtype=float32)},\n",
       " {'class_ids': array([1], dtype=int64),\n",
       "  'classes': array([b'1'], dtype=object),\n",
       "  'logistic': array([0.6134848], dtype=float32),\n",
       "  'logits': array([0.46198443], dtype=float32),\n",
       "  'probabilities': array([0.38651517, 0.6134848 ], dtype=float32)},\n",
       " {'class_ids': array([1], dtype=int64),\n",
       "  'classes': array([b'1'], dtype=object),\n",
       "  'logistic': array([0.9885092], dtype=float32),\n",
       "  'logits': array([4.45465], dtype=float32),\n",
       "  'probabilities': array([0.01149082, 0.98850924], dtype=float32)},\n",
       " {'class_ids': array([0], dtype=int64),\n",
       "  'classes': array([b'0'], dtype=object),\n",
       "  'logistic': array([0.00280288], dtype=float32),\n",
       "  'logits': array([-5.874297], dtype=float32),\n",
       "  'probabilities': array([0.99719715, 0.00280289], dtype=float32)},\n",
       " {'class_ids': array([0], dtype=int64),\n",
       "  'classes': array([b'0'], dtype=object),\n",
       "  'logistic': array([0.0003626], dtype=float32),\n",
       "  'logits': array([-7.92187], dtype=float32),\n",
       "  'probabilities': array([9.9963737e-01, 3.6259176e-04], dtype=float32)},\n",
       " {'class_ids': array([0], dtype=int64),\n",
       "  'classes': array([b'0'], dtype=object),\n",
       "  'logistic': array([0.00017697], dtype=float32),\n",
       "  'logits': array([-8.639779], dtype=float32),\n",
       "  'probabilities': array([9.9982315e-01, 1.7689470e-04], dtype=float32)},\n",
       " {'class_ids': array([0], dtype=int64),\n",
       "  'classes': array([b'0'], dtype=object),\n",
       "  'logistic': array([0.00163957], dtype=float32),\n",
       "  'logits': array([-6.411652], dtype=float32),\n",
       "  'probabilities': array([0.99836034, 0.00163962], dtype=float32)},\n",
       " {'class_ids': array([0], dtype=int64),\n",
       "  'classes': array([b'0'], dtype=object),\n",
       "  'logistic': array([0.0018667], dtype=float32),\n",
       "  'logits': array([-6.2817106], dtype=float32),\n",
       "  'probabilities': array([0.99813336, 0.00186671], dtype=float32)},\n",
       " {'class_ids': array([0], dtype=int64),\n",
       "  'classes': array([b'0'], dtype=object),\n",
       "  'logistic': array([0.00031745], dtype=float32),\n",
       "  'logits': array([-8.055048], dtype=float32),\n",
       "  'probabilities': array([9.9968266e-01, 3.1739438e-04], dtype=float32)},\n",
       " {'class_ids': array([1], dtype=int64),\n",
       "  'classes': array([b'1'], dtype=object),\n",
       "  'logistic': array([0.9950702], dtype=float32),\n",
       "  'logits': array([5.307517], dtype=float32),\n",
       "  'probabilities': array([0.00492979, 0.9950702 ], dtype=float32)},\n",
       " {'class_ids': array([0], dtype=int64),\n",
       "  'classes': array([b'0'], dtype=object),\n",
       "  'logistic': array([0.00014269], dtype=float32),\n",
       "  'logits': array([-8.855508], dtype=float32),\n",
       "  'probabilities': array([9.9985743e-01, 1.4257386e-04], dtype=float32)},\n",
       " {'class_ids': array([0], dtype=int64),\n",
       "  'classes': array([b'0'], dtype=object),\n",
       "  'logistic': array([0.00027105], dtype=float32),\n",
       "  'logits': array([-8.213141], dtype=float32),\n",
       "  'probabilities': array([9.9972898e-01, 2.7099438e-04], dtype=float32)},\n",
       " {'class_ids': array([0], dtype=int64),\n",
       "  'classes': array([b'0'], dtype=object),\n",
       "  'logistic': array([0.19918108], dtype=float32),\n",
       "  'logits': array([-1.3914205], dtype=float32),\n",
       "  'probabilities': array([0.8008189 , 0.19918108], dtype=float32)},\n",
       " {'class_ids': array([0], dtype=int64),\n",
       "  'classes': array([b'0'], dtype=object),\n",
       "  'logistic': array([0.00081736], dtype=float32),\n",
       "  'logits': array([-7.108597], dtype=float32),\n",
       "  'probabilities': array([9.9918264e-01, 8.1737345e-04], dtype=float32)},\n",
       " {'class_ids': array([1], dtype=int64),\n",
       "  'classes': array([b'1'], dtype=object),\n",
       "  'logistic': array([0.99612904], dtype=float32),\n",
       "  'logits': array([5.550374], dtype=float32),\n",
       "  'probabilities': array([0.00387096, 0.99612904], dtype=float32)},\n",
       " {'class_ids': array([0], dtype=int64),\n",
       "  'classes': array([b'0'], dtype=object),\n",
       "  'logistic': array([0.00222608], dtype=float32),\n",
       "  'logits': array([-6.105296], dtype=float32),\n",
       "  'probabilities': array([0.99777395, 0.00222605], dtype=float32)},\n",
       " {'class_ids': array([0], dtype=int64),\n",
       "  'classes': array([b'0'], dtype=object),\n",
       "  'logistic': array([0.17989612], dtype=float32),\n",
       "  'logits': array([-1.5170513], dtype=float32),\n",
       "  'probabilities': array([0.8201039 , 0.17989613], dtype=float32)},\n",
       " {'class_ids': array([0], dtype=int64),\n",
       "  'classes': array([b'0'], dtype=object),\n",
       "  'logistic': array([0.00142092], dtype=float32),\n",
       "  'logits': array([-6.555049], dtype=float32),\n",
       "  'probabilities': array([0.99857914, 0.00142089], dtype=float32)},\n",
       " {'class_ids': array([0], dtype=int64),\n",
       "  'classes': array([b'0'], dtype=object),\n",
       "  'logistic': array([0.00041246], dtype=float32),\n",
       "  'logits': array([-7.792964], dtype=float32),\n",
       "  'probabilities': array([9.9958760e-01, 4.1245788e-04], dtype=float32)},\n",
       " {'class_ids': array([0], dtype=int64),\n",
       "  'classes': array([b'0'], dtype=object),\n",
       "  'logistic': array([0.00164619], dtype=float32),\n",
       "  'logits': array([-6.4076385], dtype=float32),\n",
       "  'probabilities': array([0.99835384, 0.0016462 ], dtype=float32)},\n",
       " {'class_ids': array([0], dtype=int64),\n",
       "  'classes': array([b'0'], dtype=object),\n",
       "  'logistic': array([0.39607126], dtype=float32),\n",
       "  'logits': array([-0.4218621], dtype=float32),\n",
       "  'probabilities': array([0.60392874, 0.39607126], dtype=float32)},\n",
       " {'class_ids': array([1], dtype=int64),\n",
       "  'classes': array([b'1'], dtype=object),\n",
       "  'logistic': array([0.9989872], dtype=float32),\n",
       "  'logits': array([6.8939962], dtype=float32),\n",
       "  'probabilities': array([0.00101283, 0.99898714], dtype=float32)},\n",
       " {'class_ids': array([0], dtype=int64),\n",
       "  'classes': array([b'0'], dtype=object),\n",
       "  'logistic': array([0.00054118], dtype=float32),\n",
       "  'logits': array([-7.5213037], dtype=float32),\n",
       "  'probabilities': array([9.9945885e-01, 5.4113322e-04], dtype=float32)},\n",
       " {'class_ids': array([0], dtype=int64),\n",
       "  'classes': array([b'0'], dtype=object),\n",
       "  'logistic': array([6.607175e-05], dtype=float32),\n",
       "  'logits': array([-9.624343], dtype=float32),\n",
       "  'probabilities': array([9.9993396e-01, 6.6095563e-05], dtype=float32)},\n",
       " {'class_ids': array([1], dtype=int64),\n",
       "  'classes': array([b'1'], dtype=object),\n",
       "  'logistic': array([0.9008862], dtype=float32),\n",
       "  'logits': array([2.2071102], dtype=float32),\n",
       "  'probabilities': array([0.09911381, 0.9008862 ], dtype=float32)},\n",
       " {'class_ids': array([1], dtype=int64),\n",
       "  'classes': array([b'1'], dtype=object),\n",
       "  'logistic': array([0.94781405], dtype=float32),\n",
       "  'logits': array([2.8993442], dtype=float32),\n",
       "  'probabilities': array([0.05218599, 0.947814  ], dtype=float32)},\n",
       " {'class_ids': array([0], dtype=int64),\n",
       "  'classes': array([b'0'], dtype=object),\n",
       "  'logistic': array([0.00301373], dtype=float32),\n",
       "  'logits': array([-5.8015575], dtype=float32),\n",
       "  'probabilities': array([0.9969863 , 0.00301373], dtype=float32)},\n",
       " {'class_ids': array([0], dtype=int64),\n",
       "  'classes': array([b'0'], dtype=object),\n",
       "  'logistic': array([0.0007641], dtype=float32),\n",
       "  'logits': array([-7.176013], dtype=float32),\n",
       "  'probabilities': array([9.9923587e-01, 7.6412637e-04], dtype=float32)},\n",
       " {'class_ids': array([0], dtype=int64),\n",
       "  'classes': array([b'0'], dtype=object),\n",
       "  'logistic': array([0.0001567], dtype=float32),\n",
       "  'logits': array([-8.761312], dtype=float32),\n",
       "  'probabilities': array([9.9984336e-01, 1.5665444e-04], dtype=float32)},\n",
       " {'class_ids': array([1], dtype=int64),\n",
       "  'classes': array([b'1'], dtype=object),\n",
       "  'logistic': array([0.98939663], dtype=float32),\n",
       "  'logits': array([4.5359273], dtype=float32),\n",
       "  'probabilities': array([0.01060333, 0.9893967 ], dtype=float32)},\n",
       " {'class_ids': array([1], dtype=int64),\n",
       "  'classes': array([b'1'], dtype=object),\n",
       "  'logistic': array([0.9937188], dtype=float32),\n",
       "  'logits': array([5.0638847], dtype=float32),\n",
       "  'probabilities': array([0.00628125, 0.99371874], dtype=float32)},\n",
       " {'class_ids': array([0], dtype=int64),\n",
       "  'classes': array([b'0'], dtype=object),\n",
       "  'logistic': array([0.00071797], dtype=float32),\n",
       "  'logits': array([-7.2383537], dtype=float32),\n",
       "  'probabilities': array([9.9928206e-01, 7.1797776e-04], dtype=float32)},\n",
       " {'class_ids': array([0], dtype=int64),\n",
       "  'classes': array([b'0'], dtype=object),\n",
       "  'logistic': array([0.00111702], dtype=float32),\n",
       "  'logits': array([-6.795949], dtype=float32),\n",
       "  'probabilities': array([0.99888295, 0.00111705], dtype=float32)},\n",
       " {'class_ids': array([1], dtype=int64),\n",
       "  'classes': array([b'1'], dtype=object),\n",
       "  'logistic': array([0.99404466], dtype=float32),\n",
       "  'logits': array([5.1174793], dtype=float32),\n",
       "  'probabilities': array([0.00595543, 0.9940446 ], dtype=float32)},\n",
       " {'class_ids': array([0], dtype=int64),\n",
       "  'classes': array([b'0'], dtype=object),\n",
       "  'logistic': array([0.00027108], dtype=float32),\n",
       "  'logits': array([-8.212913], dtype=float32),\n",
       "  'probabilities': array([9.997290e-01, 2.710564e-04], dtype=float32)},\n",
       " {'class_ids': array([1], dtype=int64),\n",
       "  'classes': array([b'1'], dtype=object),\n",
       "  'logistic': array([0.980471], dtype=float32),\n",
       "  'logits': array([3.9161327], dtype=float32),\n",
       "  'probabilities': array([0.019529, 0.980471], dtype=float32)},\n",
       " {'class_ids': array([0], dtype=int64),\n",
       "  'classes': array([b'0'], dtype=object),\n",
       "  'logistic': array([0.00099513], dtype=float32),\n",
       "  'logits': array([-6.911604], dtype=float32),\n",
       "  'probabilities': array([9.990049e-01, 9.951674e-04], dtype=float32)},\n",
       " {'class_ids': array([1], dtype=int64),\n",
       "  'classes': array([b'1'], dtype=object),\n",
       "  'logistic': array([0.997414], dtype=float32),\n",
       "  'logits': array([5.95505], dtype=float32),\n",
       "  'probabilities': array([0.00258601, 0.997414  ], dtype=float32)},\n",
       " {'class_ids': array([0], dtype=int64),\n",
       "  'classes': array([b'0'], dtype=object),\n",
       "  'logistic': array([0.00201058], dtype=float32),\n",
       "  'logits': array([-6.207317], dtype=float32),\n",
       "  'probabilities': array([0.9979894 , 0.00201059], dtype=float32)},\n",
       " {'class_ids': array([0], dtype=int64),\n",
       "  'classes': array([b'0'], dtype=object),\n",
       "  'logistic': array([0.00178835], dtype=float32),\n",
       "  'logits': array([-6.324684], dtype=float32),\n",
       "  'probabilities': array([0.99821174, 0.00178833], dtype=float32)},\n",
       " {'class_ids': array([1], dtype=int64),\n",
       "  'classes': array([b'1'], dtype=object),\n",
       "  'logistic': array([0.9971823], dtype=float32),\n",
       "  'logits': array([5.869028], dtype=float32),\n",
       "  'probabilities': array([0.00281766, 0.99718237], dtype=float32)},\n",
       " {'class_ids': array([1], dtype=int64),\n",
       "  'classes': array([b'1'], dtype=object),\n",
       "  'logistic': array([0.993657], dtype=float32),\n",
       "  'logits': array([5.054036], dtype=float32),\n",
       "  'probabilities': array([0.00634303, 0.99365693], dtype=float32)},\n",
       " {'class_ids': array([0], dtype=int64),\n",
       "  'classes': array([b'0'], dtype=object),\n",
       "  'logistic': array([0.00045824], dtype=float32),\n",
       "  'logits': array([-7.6876082], dtype=float32),\n",
       "  'probabilities': array([9.9954176e-01, 4.5826333e-04], dtype=float32)},\n",
       " {'class_ids': array([1], dtype=int64),\n",
       "  'classes': array([b'1'], dtype=object),\n",
       "  'logistic': array([0.9950434], dtype=float32),\n",
       "  'logits': array([5.3020825], dtype=float32),\n",
       "  'probabilities': array([0.00495652, 0.9950435 ], dtype=float32)},\n",
       " {'class_ids': array([0], dtype=int64),\n",
       "  'classes': array([b'0'], dtype=object),\n",
       "  'logistic': array([0.00121042], dtype=float32),\n",
       "  'logits': array([-6.7155485], dtype=float32),\n",
       "  'probabilities': array([0.9987896 , 0.00121045], dtype=float32)},\n",
       " {'class_ids': array([1], dtype=int64),\n",
       "  'classes': array([b'1'], dtype=object),\n",
       "  'logistic': array([0.9858069], dtype=float32),\n",
       "  'logits': array([4.2407064], dtype=float32),\n",
       "  'probabilities': array([0.01419307, 0.98580694], dtype=float32)},\n",
       " {'class_ids': array([0], dtype=int64),\n",
       "  'classes': array([b'0'], dtype=object),\n",
       "  'logistic': array([0.00242919], dtype=float32),\n",
       "  'logits': array([-6.017754], dtype=float32),\n",
       "  'probabilities': array([0.9975708 , 0.00242922], dtype=float32)},\n",
       " {'class_ids': array([0], dtype=int64),\n",
       "  'classes': array([b'0'], dtype=object),\n",
       "  'logistic': array([0.01347521], dtype=float32),\n",
       "  'logits': array([-4.293337], dtype=float32),\n",
       "  'probabilities': array([0.9865248 , 0.01347521], dtype=float32)},\n",
       " {'class_ids': array([0], dtype=int64),\n",
       "  'classes': array([b'0'], dtype=object),\n",
       "  'logistic': array([0.00038213], dtype=float32),\n",
       "  'logits': array([-7.8694086], dtype=float32),\n",
       "  'probabilities': array([9.9961782e-01, 3.8211426e-04], dtype=float32)},\n",
       " {'class_ids': array([0], dtype=int64),\n",
       "  'classes': array([b'0'], dtype=object),\n",
       "  'logistic': array([0.00014058], dtype=float32),\n",
       "  'logits': array([-8.869822], dtype=float32),\n",
       "  'probabilities': array([9.9985945e-01, 1.4054791e-04], dtype=float32)},\n",
       " {'class_ids': array([0], dtype=int64),\n",
       "  'classes': array([b'0'], dtype=object),\n",
       "  'logistic': array([0.00063774], dtype=float32),\n",
       "  'logits': array([-7.3568783], dtype=float32),\n",
       "  'probabilities': array([9.993622e-01, 6.377805e-04], dtype=float32)},\n",
       " {'class_ids': array([0], dtype=int64),\n",
       "  'classes': array([b'0'], dtype=object),\n",
       "  'logistic': array([0.0030674], dtype=float32),\n",
       "  'logits': array([-5.7838407], dtype=float32),\n",
       "  'probabilities': array([0.9969325 , 0.00306744], dtype=float32)},\n",
       " {'class_ids': array([0], dtype=int64),\n",
       "  'classes': array([b'0'], dtype=object),\n",
       "  'logistic': array([0.00124815], dtype=float32),\n",
       "  'logits': array([-6.684804], dtype=float32),\n",
       "  'probabilities': array([0.99875176, 0.0012482 ], dtype=float32)},\n",
       " {'class_ids': array([1], dtype=int64),\n",
       "  'classes': array([b'1'], dtype=object),\n",
       "  'logistic': array([0.99451697], dtype=float32),\n",
       "  'logits': array([5.2006063], dtype=float32),\n",
       "  'probabilities': array([0.00548299, 0.994517  ], dtype=float32)},\n",
       " {'class_ids': array([0], dtype=int64),\n",
       "  'classes': array([b'0'], dtype=object),\n",
       "  'logistic': array([0.00233796], dtype=float32),\n",
       "  'logits': array([-6.056153], dtype=float32),\n",
       "  'probabilities': array([0.99766207, 0.00233792], dtype=float32)},\n",
       " {'class_ids': array([1], dtype=int64),\n",
       "  'classes': array([b'1'], dtype=object),\n",
       "  'logistic': array([0.9984398], dtype=float32),\n",
       "  'logits': array([6.461337], dtype=float32),\n",
       "  'probabilities': array([0.00156027, 0.9984397 ], dtype=float32)},\n",
       " {'class_ids': array([1], dtype=int64),\n",
       "  'classes': array([b'1'], dtype=object),\n",
       "  'logistic': array([0.9929203], dtype=float32),\n",
       "  'logits': array([4.943405], dtype=float32),\n",
       "  'probabilities': array([0.0070798, 0.9929202], dtype=float32)},\n",
       " {'class_ids': array([0], dtype=int64),\n",
       "  'classes': array([b'0'], dtype=object),\n",
       "  'logistic': array([0.00083551], dtype=float32),\n",
       "  'logits': array([-7.086642], dtype=float32),\n",
       "  'probabilities': array([9.9916446e-01, 8.3550211e-04], dtype=float32)},\n",
       " {'class_ids': array([1], dtype=int64),\n",
       "  'classes': array([b'1'], dtype=object),\n",
       "  'logistic': array([0.52813244], dtype=float32),\n",
       "  'logits': array([0.11264876], dtype=float32),\n",
       "  'probabilities': array([0.47186756, 0.52813244], dtype=float32)},\n",
       " {'class_ids': array([0], dtype=int64),\n",
       "  'classes': array([b'0'], dtype=object),\n",
       "  'logistic': array([0.00132433], dtype=float32),\n",
       "  'logits': array([-6.6255345], dtype=float32),\n",
       "  'probabilities': array([0.99867564, 0.00132432], dtype=float32)},\n",
       " {'class_ids': array([1], dtype=int64),\n",
       "  'classes': array([b'1'], dtype=object),\n",
       "  'logistic': array([0.9963247], dtype=float32),\n",
       "  'logits': array([5.602444], dtype=float32),\n",
       "  'probabilities': array([0.00367528, 0.9963247 ], dtype=float32)},\n",
       " {'class_ids': array([0], dtype=int64),\n",
       "  'classes': array([b'0'], dtype=object),\n",
       "  'logistic': array([0.00047481], dtype=float32),\n",
       "  'logits': array([-7.6521277], dtype=float32),\n",
       "  'probabilities': array([9.9952519e-01, 4.7480676e-04], dtype=float32)},\n",
       " {'class_ids': array([1], dtype=int64),\n",
       "  'classes': array([b'1'], dtype=object),\n",
       "  'logistic': array([0.9860458], dtype=float32),\n",
       "  'logits': array([4.2579226], dtype=float32),\n",
       "  'probabilities': array([0.01395419, 0.9860458 ], dtype=float32)},\n",
       " {'class_ids': array([0], dtype=int64),\n",
       "  'classes': array([b'0'], dtype=object),\n",
       "  'logistic': array([0.00693008], dtype=float32),\n",
       "  'logits': array([-4.964935], dtype=float32),\n",
       "  'probabilities': array([0.99306995, 0.00693004], dtype=float32)},\n",
       " {'class_ids': array([0], dtype=int64),\n",
       "  'classes': array([b'0'], dtype=object),\n",
       "  'logistic': array([0.00135389], dtype=float32),\n",
       "  'logits': array([-6.603429], dtype=float32),\n",
       "  'probabilities': array([0.9986461 , 0.00135388], dtype=float32)},\n",
       " {'class_ids': array([1], dtype=int64),\n",
       "  'classes': array([b'1'], dtype=object),\n",
       "  'logistic': array([0.9970444], dtype=float32),\n",
       "  'logits': array([5.821064], dtype=float32),\n",
       "  'probabilities': array([0.00295569, 0.99704427], dtype=float32)},\n",
       " {'class_ids': array([0], dtype=int64),\n",
       "  'classes': array([b'0'], dtype=object),\n",
       "  'logistic': array([0.00340489], dtype=float32),\n",
       "  'logits': array([-5.6791263], dtype=float32),\n",
       "  'probabilities': array([0.9965951 , 0.00340491], dtype=float32)},\n",
       " {'class_ids': array([0], dtype=int64),\n",
       "  'classes': array([b'0'], dtype=object),\n",
       "  'logistic': array([0.0032897], dtype=float32),\n",
       "  'logits': array([-5.7136726], dtype=float32),\n",
       "  'probabilities': array([0.9967103 , 0.00328967], dtype=float32)},\n",
       " {'class_ids': array([1], dtype=int64),\n",
       "  'classes': array([b'1'], dtype=object),\n",
       "  'logistic': array([0.9965743], dtype=float32),\n",
       "  'logits': array([5.6730156], dtype=float32),\n",
       "  'probabilities': array([0.00342571, 0.9965743 ], dtype=float32)},\n",
       " {'class_ids': array([0], dtype=int64),\n",
       "  'classes': array([b'0'], dtype=object),\n",
       "  'logistic': array([0.00764656], dtype=float32),\n",
       "  'logits': array([-4.86583], dtype=float32),\n",
       "  'probabilities': array([0.9923535 , 0.00764651], dtype=float32)},\n",
       " {'class_ids': array([1], dtype=int64),\n",
       "  'classes': array([b'1'], dtype=object),\n",
       "  'logistic': array([0.99235755], dtype=float32),\n",
       "  'logits': array([4.8663673], dtype=float32),\n",
       "  'probabilities': array([0.00764243, 0.99235755], dtype=float32)},\n",
       " {'class_ids': array([0], dtype=int64),\n",
       "  'classes': array([b'0'], dtype=object),\n",
       "  'logistic': array([0.00062016], dtype=float32),\n",
       "  'logits': array([-7.384946], dtype=float32),\n",
       "  'probabilities': array([9.993799e-01, 6.201395e-04], dtype=float32)},\n",
       " {'class_ids': array([0], dtype=int64),\n",
       "  'classes': array([b'0'], dtype=object),\n",
       "  'logistic': array([0.00021073], dtype=float32),\n",
       "  'logits': array([-8.464559], dtype=float32),\n",
       "  'probabilities': array([9.9978930e-01, 2.1076447e-04], dtype=float32)},\n",
       " {'class_ids': array([0], dtype=int64),\n",
       "  'classes': array([b'0'], dtype=object),\n",
       "  'logistic': array([0.00113845], dtype=float32),\n",
       "  'logits': array([-6.776988], dtype=float32),\n",
       "  'probabilities': array([0.99886155, 0.00113841], dtype=float32)},\n",
       " {'class_ids': array([0], dtype=int64),\n",
       "  'classes': array([b'0'], dtype=object),\n",
       "  'logistic': array([8.9883804e-05], dtype=float32),\n",
       "  'logits': array([-9.317144], dtype=float32),\n",
       "  'probabilities': array([9.999101e-01, 8.986210e-05], dtype=float32)},\n",
       " {'class_ids': array([1], dtype=int64),\n",
       "  'classes': array([b'1'], dtype=object),\n",
       "  'logistic': array([0.9934989], dtype=float32),\n",
       "  'logits': array([5.0292654], dtype=float32),\n",
       "  'probabilities': array([0.00650108, 0.9934989 ], dtype=float32)},\n",
       " {'class_ids': array([1], dtype=int64),\n",
       "  'classes': array([b'1'], dtype=object),\n",
       "  'logistic': array([0.9937507], dtype=float32),\n",
       "  'logits': array([5.0690193], dtype=float32),\n",
       "  'probabilities': array([0.00624929, 0.99375075], dtype=float32)},\n",
       " {'class_ids': array([1], dtype=int64),\n",
       "  'classes': array([b'1'], dtype=object),\n",
       "  'logistic': array([0.9969121], dtype=float32),\n",
       "  'logits': array([5.7771673], dtype=float32),\n",
       "  'probabilities': array([0.00308791, 0.996912  ], dtype=float32)},\n",
       " {'class_ids': array([0], dtype=int64),\n",
       "  'classes': array([b'0'], dtype=object),\n",
       "  'logistic': array([0.00270128], dtype=float32),\n",
       "  'logits': array([-5.911339], dtype=float32),\n",
       "  'probabilities': array([0.9972988 , 0.00270124], dtype=float32)},\n",
       " {'class_ids': array([1], dtype=int64),\n",
       "  'classes': array([b'1'], dtype=object),\n",
       "  'logistic': array([0.9936129], dtype=float32),\n",
       "  'logits': array([5.04706], dtype=float32),\n",
       "  'probabilities': array([0.00638715, 0.9936128 ], dtype=float32)},\n",
       " {'class_ids': array([0], dtype=int64),\n",
       "  'classes': array([b'0'], dtype=object),\n",
       "  'logistic': array([8.058548e-05], dtype=float32),\n",
       "  'logits': array([-9.425651], dtype=float32),\n",
       "  'probabilities': array([9.999194e-01, 8.062263e-05], dtype=float32)},\n",
       " {'class_ids': array([0], dtype=int64),\n",
       "  'classes': array([b'0'], dtype=object),\n",
       "  'logistic': array([0.00498766], dtype=float32),\n",
       "  'logits': array([-5.2957916], dtype=float32),\n",
       "  'probabilities': array([0.99501234, 0.00498764], dtype=float32)},\n",
       " {'class_ids': array([1], dtype=int64),\n",
       "  'classes': array([b'1'], dtype=object),\n",
       "  'logistic': array([0.9853531], dtype=float32),\n",
       "  'logits': array([4.2087708], dtype=float32),\n",
       "  'probabilities': array([0.01464691, 0.98535305], dtype=float32)},\n",
       " {'class_ids': array([1], dtype=int64),\n",
       "  'classes': array([b'1'], dtype=object),\n",
       "  'logistic': array([0.96363723], dtype=float32),\n",
       "  'logits': array([3.2771678], dtype=float32),\n",
       "  'probabilities': array([0.03636283, 0.9636372 ], dtype=float32)},\n",
       " {'class_ids': array([0], dtype=int64),\n",
       "  'classes': array([b'0'], dtype=object),\n",
       "  'logistic': array([0.00166392], dtype=float32),\n",
       "  'logits': array([-6.3969197], dtype=float32),\n",
       "  'probabilities': array([0.99833614, 0.00166391], dtype=float32)},\n",
       " {'class_ids': array([1], dtype=int64),\n",
       "  'classes': array([b'1'], dtype=object),\n",
       "  'logistic': array([0.9921925], dtype=float32),\n",
       "  'logits': array([4.8448267], dtype=float32),\n",
       "  'probabilities': array([0.00780754, 0.99219245], dtype=float32)},\n",
       " {'class_ids': array([0], dtype=int64),\n",
       "  'classes': array([b'0'], dtype=object),\n",
       "  'logistic': array([0.00430489], dtype=float32),\n",
       "  'logits': array([-5.4436903], dtype=float32),\n",
       "  'probabilities': array([0.9956951 , 0.00430489], dtype=float32)},\n",
       " {'class_ids': array([1], dtype=int64),\n",
       "  'classes': array([b'1'], dtype=object),\n",
       "  'logistic': array([0.9977168], dtype=float32),\n",
       "  'logits': array([6.079871], dtype=float32),\n",
       "  'probabilities': array([0.00228325, 0.9977168 ], dtype=float32)},\n",
       " {'class_ids': array([1], dtype=int64),\n",
       "  'classes': array([b'1'], dtype=object),\n",
       "  'logistic': array([0.99641037], dtype=float32),\n",
       "  'logits': array([5.626111], dtype=float32),\n",
       "  'probabilities': array([0.00358963, 0.9964104 ], dtype=float32)},\n",
       " {'class_ids': array([1], dtype=int64),\n",
       "  'classes': array([b'1'], dtype=object),\n",
       "  'logistic': array([0.9968332], dtype=float32),\n",
       "  'logits': array([5.751876], dtype=float32),\n",
       "  'probabilities': array([0.00316676, 0.99683326], dtype=float32)},\n",
       " {'class_ids': array([0], dtype=int64),\n",
       "  'classes': array([b'0'], dtype=object),\n",
       "  'logistic': array([0.0137614], dtype=float32),\n",
       "  'logits': array([-4.2720337], dtype=float32),\n",
       "  'probabilities': array([0.98623866, 0.01376136], dtype=float32)},\n",
       " {'class_ids': array([0], dtype=int64),\n",
       "  'classes': array([b'0'], dtype=object),\n",
       "  'logistic': array([0.00077176], dtype=float32),\n",
       "  'logits': array([-7.166064], dtype=float32),\n",
       "  'probabilities': array([9.9922824e-01, 7.7176088e-04], dtype=float32)},\n",
       " {'class_ids': array([1], dtype=int64),\n",
       "  'classes': array([b'1'], dtype=object),\n",
       "  'logistic': array([0.9888002], dtype=float32),\n",
       "  'logits': array([4.480601], dtype=float32),\n",
       "  'probabilities': array([0.01119975, 0.9888003 ], dtype=float32)},\n",
       " {'class_ids': array([1], dtype=int64),\n",
       "  'classes': array([b'1'], dtype=object),\n",
       "  'logistic': array([0.99206114], dtype=float32),\n",
       "  'logits': array([4.828017], dtype=float32),\n",
       "  'probabilities': array([0.00793884, 0.99206114], dtype=float32)},\n",
       " {'class_ids': array([0], dtype=int64),\n",
       "  'classes': array([b'0'], dtype=object),\n",
       "  'logistic': array([0.00315133], dtype=float32),\n",
       "  'logits': array([-5.756761], dtype=float32),\n",
       "  'probabilities': array([0.99684864, 0.00315137], dtype=float32)},\n",
       " {'class_ids': array([1], dtype=int64),\n",
       "  'classes': array([b'1'], dtype=object),\n",
       "  'logistic': array([0.9915607], dtype=float32),\n",
       "  'logits': array([4.7663803], dtype=float32),\n",
       "  'probabilities': array([0.0084393 , 0.99156064], dtype=float32)},\n",
       " {'class_ids': array([0], dtype=int64),\n",
       "  'classes': array([b'0'], dtype=object),\n",
       "  'logistic': array([0.00139752], dtype=float32),\n",
       "  'logits': array([-6.5716634], dtype=float32),\n",
       "  'probabilities': array([0.99860245, 0.00139751], dtype=float32)},\n",
       " {'class_ids': array([0], dtype=int64),\n",
       "  'classes': array([b'0'], dtype=object),\n",
       "  'logistic': array([0.0011183], dtype=float32),\n",
       "  'logits': array([-6.7947907], dtype=float32),\n",
       "  'probabilities': array([0.99888164, 0.00111834], dtype=float32)},\n",
       " {'class_ids': array([1], dtype=int64),\n",
       "  'classes': array([b'1'], dtype=object),\n",
       "  'logistic': array([0.9654688], dtype=float32),\n",
       "  'logits': array([3.33075], dtype=float32),\n",
       "  'probabilities': array([0.03453122, 0.9654688 ], dtype=float32)},\n",
       " {'class_ids': array([0], dtype=int64),\n",
       "  'classes': array([b'0'], dtype=object),\n",
       "  'logistic': array([0.3934535], dtype=float32),\n",
       "  'logits': array([-0.43281856], dtype=float32),\n",
       "  'probabilities': array([0.6065465, 0.3934535], dtype=float32)},\n",
       " {'class_ids': array([1], dtype=int64),\n",
       "  'classes': array([b'1'], dtype=object),\n",
       "  'logistic': array([0.9793049], dtype=float32),\n",
       "  'logits': array([3.856949], dtype=float32),\n",
       "  'probabilities': array([0.02069504, 0.97930497], dtype=float32)},\n",
       " {'class_ids': array([1], dtype=int64),\n",
       "  'classes': array([b'1'], dtype=object),\n",
       "  'logistic': array([0.9832171], dtype=float32),\n",
       "  'logits': array([4.0704703], dtype=float32),\n",
       "  'probabilities': array([0.01678289, 0.9832171 ], dtype=float32)},\n",
       " {'class_ids': array([0], dtype=int64),\n",
       "  'classes': array([b'0'], dtype=object),\n",
       "  'logistic': array([0.00043562], dtype=float32),\n",
       "  'logits': array([-7.738221], dtype=float32),\n",
       "  'probabilities': array([9.9956435e-01, 4.3565631e-04], dtype=float32)},\n",
       " {'class_ids': array([0], dtype=int64),\n",
       "  'classes': array([b'0'], dtype=object),\n",
       "  'logistic': array([0.00100625], dtype=float32),\n",
       "  'logits': array([-6.900527], dtype=float32),\n",
       "  'probabilities': array([0.9989938 , 0.00100624], dtype=float32)},\n",
       " {'class_ids': array([0], dtype=int64),\n",
       "  'classes': array([b'0'], dtype=object),\n",
       "  'logistic': array([0.00098756], dtype=float32),\n",
       "  'logits': array([-6.9192343], dtype=float32),\n",
       "  'probabilities': array([9.9901235e-01, 9.8761031e-04], dtype=float32)},\n",
       " {'class_ids': array([0], dtype=int64),\n",
       "  'classes': array([b'0'], dtype=object),\n",
       "  'logistic': array([0.00120467], dtype=float32),\n",
       "  'logits': array([-6.720355], dtype=float32),\n",
       "  'probabilities': array([0.9987953 , 0.00120466], dtype=float32)},\n",
       " {'class_ids': array([1], dtype=int64),\n",
       "  'classes': array([b'1'], dtype=object),\n",
       "  'logistic': array([0.98109365], dtype=float32),\n",
       "  'logits': array([3.9491718], dtype=float32),\n",
       "  'probabilities': array([0.01890632, 0.9810937 ], dtype=float32)},\n",
       " {'class_ids': array([0], dtype=int64),\n",
       "  'classes': array([b'0'], dtype=object),\n",
       "  'logistic': array([0.00017279], dtype=float32),\n",
       "  'logits': array([-8.663346], dtype=float32),\n",
       "  'probabilities': array([9.9982721e-01, 1.7277522e-04], dtype=float32)},\n",
       " {'class_ids': array([1], dtype=int64),\n",
       "  'classes': array([b'1'], dtype=object),\n",
       "  'logistic': array([0.9671625], dtype=float32),\n",
       "  'logits': array([3.3827944], dtype=float32),\n",
       "  'probabilities': array([0.03283753, 0.96716243], dtype=float32)},\n",
       " {'class_ids': array([1], dtype=int64),\n",
       "  'classes': array([b'1'], dtype=object),\n",
       "  'logistic': array([0.9854169], dtype=float32),\n",
       "  'logits': array([4.2132053], dtype=float32),\n",
       "  'probabilities': array([0.01458304, 0.98541695], dtype=float32)},\n",
       " {'class_ids': array([1], dtype=int64),\n",
       "  'classes': array([b'1'], dtype=object),\n",
       "  'logistic': array([0.9447652], dtype=float32),\n",
       "  'logits': array([2.839344], dtype=float32),\n",
       "  'probabilities': array([0.05523476, 0.9447652 ], dtype=float32)},\n",
       " {'class_ids': array([1], dtype=int64),\n",
       "  'classes': array([b'1'], dtype=object),\n",
       "  'logistic': array([0.98774993], dtype=float32),\n",
       "  'logits': array([4.389896], dtype=float32),\n",
       "  'probabilities': array([0.01225009, 0.9877499 ], dtype=float32)},\n",
       " {'class_ids': array([1], dtype=int64),\n",
       "  'classes': array([b'1'], dtype=object),\n",
       "  'logistic': array([0.9979782], dtype=float32),\n",
       "  'logits': array([6.201748], dtype=float32),\n",
       "  'probabilities': array([0.00202179, 0.99797827], dtype=float32)},\n",
       " {'class_ids': array([1], dtype=int64),\n",
       "  'classes': array([b'1'], dtype=object),\n",
       "  'logistic': array([0.99781144], dtype=float32),\n",
       "  'logits': array([6.122327], dtype=float32),\n",
       "  'probabilities': array([0.00218855, 0.9978115 ], dtype=float32)},\n",
       " {'class_ids': array([1], dtype=int64),\n",
       "  'classes': array([b'1'], dtype=object),\n",
       "  'logistic': array([0.99264264], dtype=float32),\n",
       "  'logits': array([4.904668], dtype=float32),\n",
       "  'probabilities': array([0.00735737, 0.9926426 ], dtype=float32)},\n",
       " {'class_ids': array([0], dtype=int64),\n",
       "  'classes': array([b'0'], dtype=object),\n",
       "  'logistic': array([0.00031939], dtype=float32),\n",
       "  'logits': array([-8.048988], dtype=float32),\n",
       "  'probabilities': array([9.9968064e-01, 3.1932289e-04], dtype=float32)},\n",
       " {'class_ids': array([1], dtype=int64),\n",
       "  'classes': array([b'1'], dtype=object),\n",
       "  'logistic': array([0.98593915], dtype=float32),\n",
       "  'logits': array([4.2501984], dtype=float32),\n",
       "  'probabilities': array([0.01406088, 0.98593915], dtype=float32)},\n",
       " {'class_ids': array([0], dtype=int64),\n",
       "  'classes': array([b'0'], dtype=object),\n",
       "  'logistic': array([0.0012117], dtype=float32),\n",
       "  'logits': array([-6.7145004], dtype=float32),\n",
       "  'probabilities': array([0.9987883 , 0.00121172], dtype=float32)},\n",
       " {'class_ids': array([1], dtype=int64),\n",
       "  'classes': array([b'1'], dtype=object),\n",
       "  'logistic': array([0.99310446], dtype=float32),\n",
       "  'logits': array([4.969944], dtype=float32),\n",
       "  'probabilities': array([0.00689566, 0.9931043 ], dtype=float32)},\n",
       " {'class_ids': array([0], dtype=int64),\n",
       "  'classes': array([b'0'], dtype=object),\n",
       "  'logistic': array([0.00183284], dtype=float32),\n",
       "  'logits': array([-6.300046], dtype=float32),\n",
       "  'probabilities': array([0.99816716, 0.00183285], dtype=float32)},\n",
       " {'class_ids': array([0], dtype=int64),\n",
       "  'classes': array([b'0'], dtype=object),\n",
       "  'logistic': array([0.00053173], dtype=float32),\n",
       "  'logits': array([-7.5388727], dtype=float32),\n",
       "  'probabilities': array([9.9946827e-01, 5.3171412e-04], dtype=float32)},\n",
       " {'class_ids': array([0], dtype=int64),\n",
       "  'classes': array([b'0'], dtype=object),\n",
       "  'logistic': array([0.00084212], dtype=float32),\n",
       "  'logits': array([-7.078721], dtype=float32),\n",
       "  'probabilities': array([9.9915791e-01, 8.4214064e-04], dtype=float32)},\n",
       " {'class_ids': array([1], dtype=int64),\n",
       "  'classes': array([b'1'], dtype=object),\n",
       "  'logistic': array([0.99643415], dtype=float32),\n",
       "  'logits': array([5.6327786], dtype=float32),\n",
       "  'probabilities': array([0.00356586, 0.9964341 ], dtype=float32)},\n",
       " {'class_ids': array([0], dtype=int64),\n",
       "  'classes': array([b'0'], dtype=object),\n",
       "  'logistic': array([0.0046804], dtype=float32),\n",
       "  'logits': array([-5.359682], dtype=float32),\n",
       "  'probabilities': array([0.99531955, 0.00468039], dtype=float32)},\n",
       " {'class_ids': array([1], dtype=int64),\n",
       "  'classes': array([b'1'], dtype=object),\n",
       "  'logistic': array([0.99627435], dtype=float32),\n",
       "  'logits': array([5.588787], dtype=float32),\n",
       "  'probabilities': array([0.00372563, 0.99627435], dtype=float32)},\n",
       " {'class_ids': array([0], dtype=int64),\n",
       "  'classes': array([b'0'], dtype=object),\n",
       "  'logistic': array([0.00246751], dtype=float32),\n",
       "  'logits': array([-6.002085], dtype=float32),\n",
       "  'probabilities': array([0.9975325 , 0.00246749], dtype=float32)},\n",
       " {'class_ids': array([0], dtype=int64),\n",
       "  'classes': array([b'0'], dtype=object),\n",
       "  'logistic': array([0.00061342], dtype=float32),\n",
       "  'logits': array([-7.3957787], dtype=float32),\n",
       "  'probabilities': array([9.9938655e-01, 6.1346201e-04], dtype=float32)},\n",
       " {'class_ids': array([0], dtype=int64),\n",
       "  'classes': array([b'0'], dtype=object),\n",
       "  'logistic': array([0.00057152], dtype=float32),\n",
       "  'logits': array([-7.4666142], dtype=float32),\n",
       "  'probabilities': array([9.9942845e-01, 5.7153439e-04], dtype=float32)},\n",
       " {'class_ids': array([0], dtype=int64),\n",
       "  'classes': array([b'0'], dtype=object),\n",
       "  'logistic': array([0.00148702], dtype=float32),\n",
       "  'logits': array([-6.5095253], dtype=float32),\n",
       "  'probabilities': array([0.99851304, 0.00148697], dtype=float32)},\n",
       " {'class_ids': array([0], dtype=int64),\n",
       "  'classes': array([b'0'], dtype=object),\n",
       "  'logistic': array([0.00010276], dtype=float32),\n",
       "  'logits': array([-9.183549], dtype=float32),\n",
       "  'probabilities': array([9.9989724e-01, 1.0270480e-04], dtype=float32)},\n",
       " {'class_ids': array([0], dtype=int64),\n",
       "  'classes': array([b'0'], dtype=object),\n",
       "  'logistic': array([0.00085905], dtype=float32),\n",
       "  'logits': array([-7.0588446], dtype=float32),\n",
       "  'probabilities': array([9.991410e-01, 8.590324e-04], dtype=float32)},\n",
       " {'class_ids': array([0], dtype=int64),\n",
       "  'classes': array([b'0'], dtype=object),\n",
       "  'logistic': array([0.00080061], dtype=float32),\n",
       "  'logits': array([-7.1292887], dtype=float32),\n",
       "  'probabilities': array([9.9919933e-01, 8.0064760e-04], dtype=float32)},\n",
       " {'class_ids': array([0], dtype=int64),\n",
       "  'classes': array([b'0'], dtype=object),\n",
       "  'logistic': array([0.00041112], dtype=float32),\n",
       "  'logits': array([-7.7960463], dtype=float32),\n",
       "  'probabilities': array([9.9958879e-01, 4.1118902e-04], dtype=float32)},\n",
       " {'class_ids': array([0], dtype=int64),\n",
       "  'classes': array([b'0'], dtype=object),\n",
       "  'logistic': array([0.00028226], dtype=float32),\n",
       "  'logits': array([-8.172535], dtype=float32),\n",
       "  'probabilities': array([9.997178e-01, 2.822218e-04], dtype=float32)},\n",
       " {'class_ids': array([1], dtype=int64),\n",
       "  'classes': array([b'1'], dtype=object),\n",
       "  'logistic': array([0.9923724], dtype=float32),\n",
       "  'logits': array([4.868328], dtype=float32),\n",
       "  'probabilities': array([0.00762758, 0.9923724 ], dtype=float32)},\n",
       " {'class_ids': array([1], dtype=int64),\n",
       "  'classes': array([b'1'], dtype=object),\n",
       "  'logistic': array([0.9955971], dtype=float32),\n",
       "  'logits': array([5.421083], dtype=float32),\n",
       "  'probabilities': array([0.00440288, 0.9955972 ], dtype=float32)},\n",
       " {'class_ids': array([1], dtype=int64),\n",
       "  'classes': array([b'1'], dtype=object),\n",
       "  'logistic': array([0.9533741], dtype=float32),\n",
       "  'logits': array([3.01785], dtype=float32),\n",
       "  'probabilities': array([0.04662596, 0.9533741 ], dtype=float32)},\n",
       " {'class_ids': array([1], dtype=int64),\n",
       "  'classes': array([b'1'], dtype=object),\n",
       "  'logistic': array([0.9987299], dtype=float32),\n",
       "  'logits': array([6.667392], dtype=float32),\n",
       "  'probabilities': array([0.0012701, 0.9987299], dtype=float32)},\n",
       " {'class_ids': array([1], dtype=int64),\n",
       "  'classes': array([b'1'], dtype=object),\n",
       "  'logistic': array([0.9975053], dtype=float32),\n",
       "  'logits': array([5.991102], dtype=float32),\n",
       "  'probabilities': array([0.00249467, 0.99750537], dtype=float32)},\n",
       " {'class_ids': array([0], dtype=int64),\n",
       "  'classes': array([b'0'], dtype=object),\n",
       "  'logistic': array([4.0709972e-05], dtype=float32),\n",
       "  'logits': array([-10.109095], dtype=float32),\n",
       "  'probabilities': array([9.9995935e-01, 4.0705989e-05], dtype=float32)},\n",
       " {'class_ids': array([1], dtype=int64),\n",
       "  'classes': array([b'1'], dtype=object),\n",
       "  'logistic': array([0.94971526], dtype=float32),\n",
       "  'logits': array([2.9384599], dtype=float32),\n",
       "  'probabilities': array([0.05028478, 0.94971526], dtype=float32)},\n",
       " {'class_ids': array([0], dtype=int64),\n",
       "  'classes': array([b'0'], dtype=object),\n",
       "  'logistic': array([0.00012669], dtype=float32),\n",
       "  'logits': array([-8.973005], dtype=float32),\n",
       "  'probabilities': array([9.9987316e-01, 1.2677051e-04], dtype=float32)},\n",
       " {'class_ids': array([0], dtype=int64),\n",
       "  'classes': array([b'0'], dtype=object),\n",
       "  'logistic': array([0.00040781], dtype=float32),\n",
       "  'logits': array([-7.804361], dtype=float32),\n",
       "  'probabilities': array([9.9959224e-01, 4.0778570e-04], dtype=float32)},\n",
       " {'class_ids': array([1], dtype=int64),\n",
       "  'classes': array([b'1'], dtype=object),\n",
       "  'logistic': array([0.9983152], dtype=float32),\n",
       "  'logits': array([6.3844376], dtype=float32),\n",
       "  'probabilities': array([0.00168477, 0.9983152 ], dtype=float32)},\n",
       " {'class_ids': array([0], dtype=int64),\n",
       "  'classes': array([b'0'], dtype=object),\n",
       "  'logistic': array([0.00175905], dtype=float32),\n",
       "  'logits': array([-6.3412104], dtype=float32),\n",
       "  'probabilities': array([0.99824095, 0.00175907], dtype=float32)},\n",
       " {'class_ids': array([0], dtype=int64),\n",
       "  'classes': array([b'0'], dtype=object),\n",
       "  'logistic': array([0.00153428], dtype=float32),\n",
       "  'logits': array([-6.4781275], dtype=float32),\n",
       "  'probabilities': array([0.99846566, 0.00153433], dtype=float32)},\n",
       " {'class_ids': array([0], dtype=int64),\n",
       "  'classes': array([b'0'], dtype=object),\n",
       "  'logistic': array([0.00087041], dtype=float32),\n",
       "  'logits': array([-7.0456285], dtype=float32),\n",
       "  'probabilities': array([9.9912959e-01, 8.7045075e-04], dtype=float32)},\n",
       " {'class_ids': array([1], dtype=int64),\n",
       "  'classes': array([b'1'], dtype=object),\n",
       "  'logistic': array([0.9874815], dtype=float32),\n",
       "  'logits': array([4.36795], dtype=float32),\n",
       "  'probabilities': array([0.0125185 , 0.98748153], dtype=float32)},\n",
       " {'class_ids': array([1], dtype=int64),\n",
       "  'classes': array([b'1'], dtype=object),\n",
       "  'logistic': array([0.9948542], dtype=float32),\n",
       "  'logits': array([5.2644157], dtype=float32),\n",
       "  'probabilities': array([0.0051458, 0.9948543], dtype=float32)},\n",
       " {'class_ids': array([0], dtype=int64),\n",
       "  'classes': array([b'0'], dtype=object),\n",
       "  'logistic': array([0.00021392], dtype=float32),\n",
       "  'logits': array([-8.449713], dtype=float32),\n",
       "  'probabilities': array([9.997861e-01, 2.139161e-04], dtype=float32)},\n",
       " {'class_ids': array([0], dtype=int64),\n",
       "  'classes': array([b'0'], dtype=object),\n",
       "  'logistic': array([0.00056288], dtype=float32),\n",
       "  'logits': array([-7.481819], dtype=float32),\n",
       "  'probabilities': array([9.9943703e-01, 5.6291482e-04], dtype=float32)},\n",
       " {'class_ids': array([1], dtype=int64),\n",
       "  'classes': array([b'1'], dtype=object),\n",
       "  'logistic': array([0.9899243], dtype=float32),\n",
       "  'logits': array([4.5875044], dtype=float32),\n",
       "  'probabilities': array([0.01007568, 0.9899244 ], dtype=float32)},\n",
       " {'class_ids': array([0], dtype=int64),\n",
       "  'classes': array([b'0'], dtype=object),\n",
       "  'logistic': array([0.00024581], dtype=float32),\n",
       "  'logits': array([-8.310826], dtype=float32),\n",
       "  'probabilities': array([9.9975425e-01, 2.4578039e-04], dtype=float32)},\n",
       " {'class_ids': array([0], dtype=int64),\n",
       "  'classes': array([b'0'], dtype=object),\n",
       "  'logistic': array([0.0005396], dtype=float32),\n",
       "  'logits': array([-7.523975], dtype=float32),\n",
       "  'probabilities': array([9.994603e-01, 5.396905e-04], dtype=float32)},\n",
       " {'class_ids': array([1], dtype=int64),\n",
       "  'classes': array([b'1'], dtype=object),\n",
       "  'logistic': array([0.99750984], dtype=float32),\n",
       "  'logits': array([5.9929247], dtype=float32),\n",
       "  'probabilities': array([0.00249014, 0.99750984], dtype=float32)},\n",
       " {'class_ids': array([1], dtype=int64),\n",
       "  'classes': array([b'1'], dtype=object),\n",
       "  'logistic': array([0.9812511], dtype=float32),\n",
       "  'logits': array([3.9576967], dtype=float32),\n",
       "  'probabilities': array([0.01874884, 0.9812511 ], dtype=float32)},\n",
       " {'class_ids': array([1], dtype=int64),\n",
       "  'classes': array([b'1'], dtype=object),\n",
       "  'logistic': array([0.9951104], dtype=float32),\n",
       "  'logits': array([5.315746], dtype=float32),\n",
       "  'probabilities': array([0.00488959, 0.99511045], dtype=float32)},\n",
       " {'class_ids': array([1], dtype=int64),\n",
       "  'classes': array([b'1'], dtype=object),\n",
       "  'logistic': array([0.9920124], dtype=float32),\n",
       "  'logits': array([4.821847], dtype=float32),\n",
       "  'probabilities': array([0.00798759, 0.99201244], dtype=float32)},\n",
       " {'class_ids': array([1], dtype=int64),\n",
       "  'classes': array([b'1'], dtype=object),\n",
       "  'logistic': array([0.9816593], dtype=float32),\n",
       "  'logits': array([3.9801204], dtype=float32),\n",
       "  'probabilities': array([0.01834072, 0.98165923], dtype=float32)},\n",
       " {'class_ids': array([0], dtype=int64),\n",
       "  'classes': array([b'0'], dtype=object),\n",
       "  'logistic': array([0.00015551], dtype=float32),\n",
       "  'logits': array([-8.768738], dtype=float32),\n",
       "  'probabilities': array([9.9984443e-01, 1.5549555e-04], dtype=float32)},\n",
       " {'class_ids': array([0], dtype=int64),\n",
       "  'classes': array([b'0'], dtype=object),\n",
       "  'logistic': array([0.23503944], dtype=float32),\n",
       "  'logits': array([-1.1800709], dtype=float32),\n",
       "  'probabilities': array([0.7649606 , 0.23503947], dtype=float32)},\n",
       " {'class_ids': array([0], dtype=int64),\n",
       "  'classes': array([b'0'], dtype=object),\n",
       "  'logistic': array([0.00300461], dtype=float32),\n",
       "  'logits': array([-5.804608], dtype=float32),\n",
       "  'probabilities': array([0.99699545, 0.00300458], dtype=float32)},\n",
       " {'class_ids': array([0], dtype=int64),\n",
       "  'classes': array([b'0'], dtype=object),\n",
       "  'logistic': array([0.00233907], dtype=float32),\n",
       "  'logits': array([-6.0556498], dtype=float32),\n",
       "  'probabilities': array([0.9976609 , 0.00233909], dtype=float32)},\n",
       " {'class_ids': array([1], dtype=int64),\n",
       "  'classes': array([b'1'], dtype=object),\n",
       "  'logistic': array([0.99479103], dtype=float32),\n",
       "  'logits': array([5.2521634], dtype=float32),\n",
       "  'probabilities': array([0.0052089 , 0.99479115], dtype=float32)},\n",
       " {'class_ids': array([0], dtype=int64),\n",
       "  'classes': array([b'0'], dtype=object),\n",
       "  'logistic': array([0.00029784], dtype=float32),\n",
       "  'logits': array([-8.118659], dtype=float32),\n",
       "  'probabilities': array([9.9970216e-01, 2.9783917e-04], dtype=float32)},\n",
       " {'class_ids': array([1], dtype=int64),\n",
       "  'classes': array([b'1'], dtype=object),\n",
       "  'logistic': array([0.8774283], dtype=float32),\n",
       "  'logits': array([1.968299], dtype=float32),\n",
       "  'probabilities': array([0.12257171, 0.87742835], dtype=float32)},\n",
       " {'class_ids': array([0], dtype=int64),\n",
       "  'classes': array([b'0'], dtype=object),\n",
       "  'logistic': array([0.00033131], dtype=float32),\n",
       "  'logits': array([-8.012115], dtype=float32),\n",
       "  'probabilities': array([9.9966872e-01, 3.3131338e-04], dtype=float32)},\n",
       " {'class_ids': array([1], dtype=int64),\n",
       "  'classes': array([b'1'], dtype=object),\n",
       "  'logistic': array([0.99417925], dtype=float32),\n",
       "  'logits': array([5.140504], dtype=float32),\n",
       "  'probabilities': array([0.00582066, 0.99417937], dtype=float32)},\n",
       " {'class_ids': array([0], dtype=int64),\n",
       "  'classes': array([b'0'], dtype=object),\n",
       "  'logistic': array([0.01986066], dtype=float32),\n",
       "  'logits': array([-3.8989556], dtype=float32),\n",
       "  'probabilities': array([0.9801394 , 0.01986063], dtype=float32)},\n",
       " {'class_ids': array([1], dtype=int64),\n",
       "  'classes': array([b'1'], dtype=object),\n",
       "  'logistic': array([0.98979545], dtype=float32),\n",
       "  'logits': array([4.5746665], dtype=float32),\n",
       "  'probabilities': array([0.01020453, 0.9897955 ], dtype=float32)},\n",
       " {'class_ids': array([1], dtype=int64),\n",
       "  'classes': array([b'1'], dtype=object),\n",
       "  'logistic': array([0.94002616], dtype=float32),\n",
       "  'logits': array([2.7519994], dtype=float32),\n",
       "  'probabilities': array([0.05997382, 0.9400261 ], dtype=float32)},\n",
       " {'class_ids': array([0], dtype=int64),\n",
       "  'classes': array([b'0'], dtype=object),\n",
       "  'logistic': array([0.00219312], dtype=float32),\n",
       "  'logits': array([-6.1202536], dtype=float32),\n",
       "  'probabilities': array([0.99780697, 0.00219308], dtype=float32)},\n",
       " {'class_ids': array([0], dtype=int64),\n",
       "  'classes': array([b'0'], dtype=object),\n",
       "  'logistic': array([0.0043498], dtype=float32),\n",
       "  'logits': array([-5.433261], dtype=float32),\n",
       "  'probabilities': array([0.99565023, 0.00434982], dtype=float32)},\n",
       " {'class_ids': array([0], dtype=int64),\n",
       "  'classes': array([b'0'], dtype=object),\n",
       "  'logistic': array([0.0002073], dtype=float32),\n",
       "  'logits': array([-8.481512], dtype=float32),\n",
       "  'probabilities': array([9.9979275e-01, 2.0722211e-04], dtype=float32)},\n",
       " {'class_ids': array([0], dtype=int64),\n",
       "  'classes': array([b'0'], dtype=object),\n",
       "  'logistic': array([0.00139019], dtype=float32),\n",
       "  'logits': array([-6.5768967], dtype=float32),\n",
       "  'probabilities': array([0.9986098 , 0.00139023], dtype=float32)},\n",
       " {'class_ids': array([0], dtype=int64),\n",
       "  'classes': array([b'0'], dtype=object),\n",
       "  'logistic': array([0.02327952], dtype=float32),\n",
       "  'logits': array([-3.736626], dtype=float32),\n",
       "  'probabilities': array([0.9767205 , 0.02327953], dtype=float32)},\n",
       " {'class_ids': array([1], dtype=int64),\n",
       "  'classes': array([b'1'], dtype=object),\n",
       "  'logistic': array([0.99731857], dtype=float32),\n",
       "  'logits': array([5.9187403], dtype=float32),\n",
       "  'probabilities': array([0.00268138, 0.9973187 ], dtype=float32)},\n",
       " {'class_ids': array([0], dtype=int64),\n",
       "  'classes': array([b'0'], dtype=object),\n",
       "  'logistic': array([0.00056019], dtype=float32),\n",
       "  'logits': array([-7.486594], dtype=float32),\n",
       "  'probabilities': array([9.994398e-01, 5.602348e-04], dtype=float32)},\n",
       " {'class_ids': array([0], dtype=int64),\n",
       "  'classes': array([b'0'], dtype=object),\n",
       "  'logistic': array([0.00376734], dtype=float32),\n",
       "  'logits': array([-5.577585], dtype=float32),\n",
       "  'probabilities': array([0.99623257, 0.00376744], dtype=float32)},\n",
       " {'class_ids': array([1], dtype=int64),\n",
       "  'classes': array([b'1'], dtype=object),\n",
       "  'logistic': array([0.97523963], dtype=float32),\n",
       "  'logits': array([3.6734402], dtype=float32),\n",
       "  'probabilities': array([0.02476034, 0.9752397 ], dtype=float32)},\n",
       " {'class_ids': array([1], dtype=int64),\n",
       "  'classes': array([b'1'], dtype=object),\n",
       "  'logistic': array([0.98172873], dtype=float32),\n",
       "  'logits': array([3.9839852], dtype=float32),\n",
       "  'probabilities': array([0.01827127, 0.98172873], dtype=float32)},\n",
       " {'class_ids': array([0], dtype=int64),\n",
       "  'classes': array([b'0'], dtype=object),\n",
       "  'logistic': array([0.00198379], dtype=float32),\n",
       "  'logits': array([-6.220741], dtype=float32),\n",
       "  'probabilities': array([0.9980161 , 0.00198383], dtype=float32)},\n",
       " {'class_ids': array([0], dtype=int64),\n",
       "  'classes': array([b'0'], dtype=object),\n",
       "  'logistic': array([0.005808], dtype=float32),\n",
       "  'logits': array([-5.1426954], dtype=float32),\n",
       "  'probabilities': array([0.99419194, 0.00580799], dtype=float32)},\n",
       " {'class_ids': array([1], dtype=int64),\n",
       "  'classes': array([b'1'], dtype=object),\n",
       "  'logistic': array([0.9986654], dtype=float32),\n",
       "  'logits': array([6.61779], dtype=float32),\n",
       "  'probabilities': array([0.0013346 , 0.99866545], dtype=float32)},\n",
       " {'class_ids': array([0], dtype=int64),\n",
       "  'classes': array([b'0'], dtype=object),\n",
       "  'logistic': array([0.00584891], dtype=float32),\n",
       "  'logits': array([-5.135633], dtype=float32),\n",
       "  'probabilities': array([0.99415106, 0.00584891], dtype=float32)},\n",
       " {'class_ids': array([0], dtype=int64),\n",
       "  'classes': array([b'0'], dtype=object),\n",
       "  'logistic': array([0.00218523], dtype=float32),\n",
       "  'logits': array([-6.123861], dtype=float32),\n",
       "  'probabilities': array([0.9978148, 0.0021852], dtype=float32)},\n",
       " {'class_ids': array([1], dtype=int64),\n",
       "  'classes': array([b'1'], dtype=object),\n",
       "  'logistic': array([0.99289584], dtype=float32),\n",
       "  'logits': array([4.9399447], dtype=float32),\n",
       "  'probabilities': array([0.00710416, 0.9928959 ], dtype=float32)},\n",
       " {'class_ids': array([0], dtype=int64),\n",
       "  'classes': array([b'0'], dtype=object),\n",
       "  'logistic': array([0.00010872], dtype=float32),\n",
       "  'logits': array([-9.127681], dtype=float32),\n",
       "  'probabilities': array([9.998914e-01, 1.086054e-04], dtype=float32)},\n",
       " {'class_ids': array([1], dtype=int64),\n",
       "  'classes': array([b'1'], dtype=object),\n",
       "  'logistic': array([0.98785543], dtype=float32),\n",
       "  'logits': array([4.3986545], dtype=float32),\n",
       "  'probabilities': array([0.01214457, 0.9878555 ], dtype=float32)},\n",
       " {'class_ids': array([0], dtype=int64),\n",
       "  'classes': array([b'0'], dtype=object),\n",
       "  'logistic': array([0.00071025], dtype=float32),\n",
       "  'logits': array([-7.2491875], dtype=float32),\n",
       "  'probabilities': array([9.9928975e-01, 7.1024679e-04], dtype=float32)},\n",
       " {'class_ids': array([0], dtype=int64),\n",
       "  'classes': array([b'0'], dtype=object),\n",
       "  'logistic': array([0.00132495], dtype=float32),\n",
       "  'logits': array([-6.625066], dtype=float32),\n",
       "  'probabilities': array([0.99867505, 0.00132494], dtype=float32)},\n",
       " {'class_ids': array([0], dtype=int64),\n",
       "  'classes': array([b'0'], dtype=object),\n",
       "  'logistic': array([0.00046578], dtype=float32),\n",
       "  'logits': array([-7.6713853], dtype=float32),\n",
       "  'probabilities': array([9.9953425e-01, 4.6575486e-04], dtype=float32)},\n",
       " {'class_ids': array([1], dtype=int64),\n",
       "  'classes': array([b'1'], dtype=object),\n",
       "  'logistic': array([0.9856366], dtype=float32),\n",
       "  'logits': array([4.2286024], dtype=float32),\n",
       "  'probabilities': array([0.01436343, 0.9856366 ], dtype=float32)},\n",
       " {'class_ids': array([0], dtype=int64),\n",
       "  'classes': array([b'0'], dtype=object),\n",
       "  'logistic': array([0.00056738], dtype=float32),\n",
       "  'logits': array([-7.4739065], dtype=float32),\n",
       "  'probabilities': array([9.9943262e-01, 5.6738406e-04], dtype=float32)},\n",
       " {'class_ids': array([1], dtype=int64),\n",
       "  'classes': array([b'1'], dtype=object),\n",
       "  'logistic': array([0.99762166], dtype=float32),\n",
       "  'logits': array([6.0389514], dtype=float32),\n",
       "  'probabilities': array([0.00237839, 0.9976216 ], dtype=float32)},\n",
       " {'class_ids': array([1], dtype=int64),\n",
       "  'classes': array([b'1'], dtype=object),\n",
       "  'logistic': array([0.99924564], dtype=float32),\n",
       "  'logits': array([7.188848], dtype=float32),\n",
       "  'probabilities': array([7.5438881e-04, 9.9924564e-01], dtype=float32)},\n",
       " {'class_ids': array([0], dtype=int64),\n",
       "  'classes': array([b'0'], dtype=object),\n",
       "  'logistic': array([0.00060013], dtype=float32),\n",
       "  'logits': array([-7.4176903], dtype=float32),\n",
       "  'probabilities': array([9.993998e-01, 6.001741e-04], dtype=float32)},\n",
       " {'class_ids': array([1], dtype=int64),\n",
       "  'classes': array([b'1'], dtype=object),\n",
       "  'logistic': array([0.99804634], dtype=float32),\n",
       "  'logits': array([6.2361097], dtype=float32),\n",
       "  'probabilities': array([0.00195363, 0.9980464 ], dtype=float32)},\n",
       " {'class_ids': array([0], dtype=int64),\n",
       "  'classes': array([b'0'], dtype=object),\n",
       "  'logistic': array([0.00341442], dtype=float32),\n",
       "  'logits': array([-5.6763277], dtype=float32),\n",
       "  'probabilities': array([0.9965856 , 0.00341442], dtype=float32)},\n",
       " {'class_ids': array([0], dtype=int64),\n",
       "  'classes': array([b'0'], dtype=object),\n",
       "  'logistic': array([0.00145134], dtype=float32),\n",
       "  'logits': array([-6.533799], dtype=float32),\n",
       "  'probabilities': array([0.99854857, 0.00145136], dtype=float32)},\n",
       " {'class_ids': array([0], dtype=int64),\n",
       "  'classes': array([b'0'], dtype=object),\n",
       "  'logistic': array([0.00175795], dtype=float32),\n",
       "  'logits': array([-6.3418317], dtype=float32),\n",
       "  'probabilities': array([0.998242  , 0.00175798], dtype=float32)},\n",
       " {'class_ids': array([0], dtype=int64),\n",
       "  'classes': array([b'0'], dtype=object),\n",
       "  'logistic': array([0.00034103], dtype=float32),\n",
       "  'logits': array([-7.983278], dtype=float32),\n",
       "  'probabilities': array([9.9965894e-01, 3.4100315e-04], dtype=float32)},\n",
       " {'class_ids': array([0], dtype=int64),\n",
       "  'classes': array([b'0'], dtype=object),\n",
       "  'logistic': array([0.00013152], dtype=float32),\n",
       "  'logits': array([-8.936324], dtype=float32),\n",
       "  'probabilities': array([9.9986851e-01, 1.3150633e-04], dtype=float32)},\n",
       " {'class_ids': array([1], dtype=int64),\n",
       "  'classes': array([b'1'], dtype=object),\n",
       "  'logistic': array([0.99707353], dtype=float32),\n",
       "  'logits': array([5.831034], dtype=float32),\n",
       "  'probabilities': array([0.00292645, 0.99707353], dtype=float32)},\n",
       " {'class_ids': array([1], dtype=int64),\n",
       "  'classes': array([b'1'], dtype=object),\n",
       "  'logistic': array([0.99627495], dtype=float32),\n",
       "  'logits': array([5.5889225], dtype=float32),\n",
       "  'probabilities': array([0.00372513, 0.99627495], dtype=float32)},\n",
       " {'class_ids': array([1], dtype=int64),\n",
       "  'classes': array([b'1'], dtype=object),\n",
       "  'logistic': array([0.9982896], dtype=float32),\n",
       "  'logits': array([6.3692713], dtype=float32),\n",
       "  'probabilities': array([0.00171048, 0.9982895 ], dtype=float32)},\n",
       " {'class_ids': array([0], dtype=int64),\n",
       "  'classes': array([b'0'], dtype=object),\n",
       "  'logistic': array([0.00211486], dtype=float32),\n",
       "  'logits': array([-6.1566343], dtype=float32),\n",
       "  'probabilities': array([0.99788505, 0.00211489], dtype=float32)},\n",
       " {'class_ids': array([0], dtype=int64),\n",
       "  'classes': array([b'0'], dtype=object),\n",
       "  'logistic': array([0.00040469], dtype=float32),\n",
       "  'logits': array([-7.812008], dtype=float32),\n",
       "  'probabilities': array([9.9959534e-01, 4.0468053e-04], dtype=float32)},\n",
       " {'class_ids': array([1], dtype=int64),\n",
       "  'classes': array([b'1'], dtype=object),\n",
       "  'logistic': array([0.9954907], dtype=float32),\n",
       "  'logits': array([5.3970866], dtype=float32),\n",
       "  'probabilities': array([0.00450933, 0.99549073], dtype=float32)},\n",
       " {'class_ids': array([0], dtype=int64),\n",
       "  'classes': array([b'0'], dtype=object),\n",
       "  'logistic': array([0.00141194], dtype=float32),\n",
       "  'logits': array([-6.5613046], dtype=float32),\n",
       "  'probabilities': array([0.9985879 , 0.00141204], dtype=float32)},\n",
       " {'class_ids': array([0], dtype=int64),\n",
       "  'classes': array([b'0'], dtype=object),\n",
       "  'logistic': array([0.01715589], dtype=float32),\n",
       "  'logits': array([-4.0481124], dtype=float32),\n",
       "  'probabilities': array([0.9828441 , 0.01715583], dtype=float32)},\n",
       " {'class_ids': array([1], dtype=int64),\n",
       "  'classes': array([b'1'], dtype=object),\n",
       "  'logistic': array([0.99217665], dtype=float32),\n",
       "  'logits': array([4.8427835], dtype=float32),\n",
       "  'probabilities': array([0.00782339, 0.9921766 ], dtype=float32)},\n",
       " {'class_ids': array([0], dtype=int64),\n",
       "  'classes': array([b'0'], dtype=object),\n",
       "  'logistic': array([0.0016757], dtype=float32),\n",
       "  'logits': array([-6.38984], dtype=float32),\n",
       "  'probabilities': array([0.99832433, 0.00167571], dtype=float32)},\n",
       " {'class_ids': array([0], dtype=int64),\n",
       "  'classes': array([b'0'], dtype=object),\n",
       "  'logistic': array([0.0010843], dtype=float32),\n",
       "  'logits': array([-6.8257065], dtype=float32),\n",
       "  'probabilities': array([0.9989157 , 0.00108433], dtype=float32)},\n",
       " {'class_ids': array([0], dtype=int64),\n",
       "  'classes': array([b'0'], dtype=object),\n",
       "  'logistic': array([0.00087541], dtype=float32),\n",
       "  'logits': array([-7.039893], dtype=float32),\n",
       "  'probabilities': array([9.991246e-01, 8.754531e-04], dtype=float32)},\n",
       " {'class_ids': array([1], dtype=int64),\n",
       "  'classes': array([b'1'], dtype=object),\n",
       "  'logistic': array([0.9948391], dtype=float32),\n",
       "  'logits': array([5.2614555], dtype=float32),\n",
       "  'probabilities': array([0.00516097, 0.994839  ], dtype=float32)},\n",
       " {'class_ids': array([0], dtype=int64),\n",
       "  'classes': array([b'0'], dtype=object),\n",
       "  'logistic': array([0.00825942], dtype=float32),\n",
       "  'logits': array([-4.7881117], dtype=float32),\n",
       "  'probabilities': array([0.9917406 , 0.00825938], dtype=float32)},\n",
       " {'class_ids': array([1], dtype=int64),\n",
       "  'classes': array([b'1'], dtype=object),\n",
       "  'logistic': array([0.99051714], dtype=float32),\n",
       "  'logits': array([4.6487474], dtype=float32),\n",
       "  'probabilities': array([0.0094828, 0.9905172], dtype=float32)},\n",
       " {'class_ids': array([0], dtype=int64),\n",
       "  'classes': array([b'0'], dtype=object),\n",
       "  'logistic': array([0.00300506], dtype=float32),\n",
       "  'logits': array([-5.8044424], dtype=float32),\n",
       "  'probabilities': array([0.996995  , 0.00300508], dtype=float32)},\n",
       " {'class_ids': array([0], dtype=int64),\n",
       "  'classes': array([b'0'], dtype=object),\n",
       "  'logistic': array([0.00356179], dtype=float32),\n",
       "  'logits': array([-5.633923], dtype=float32),\n",
       "  'probabilities': array([0.99643826, 0.00356179], dtype=float32)},\n",
       " {'class_ids': array([0], dtype=int64),\n",
       "  'classes': array([b'0'], dtype=object),\n",
       "  'logistic': array([0.00023058], dtype=float32),\n",
       "  'logits': array([-8.374639], dtype=float32),\n",
       "  'probabilities': array([9.9976939e-01, 2.3059003e-04], dtype=float32)},\n",
       " {'class_ids': array([1], dtype=int64),\n",
       "  'classes': array([b'1'], dtype=object),\n",
       "  'logistic': array([0.9985899], dtype=float32),\n",
       "  'logits': array([6.5626163], dtype=float32),\n",
       "  'probabilities': array([0.00141019, 0.9985898 ], dtype=float32)},\n",
       " {'class_ids': array([1], dtype=int64),\n",
       "  'classes': array([b'1'], dtype=object),\n",
       "  'logistic': array([0.98187673], dtype=float32),\n",
       "  'logits': array([3.9922664], dtype=float32),\n",
       "  'probabilities': array([0.01812332, 0.9818766 ], dtype=float32)},\n",
       " {'class_ids': array([0], dtype=int64),\n",
       "  'classes': array([b'0'], dtype=object),\n",
       "  'logistic': array([0.00024587], dtype=float32),\n",
       "  'logits': array([-8.310718], dtype=float32),\n",
       "  'probabilities': array([9.9975425e-01, 2.4580714e-04], dtype=float32)},\n",
       " {'class_ids': array([1], dtype=int64),\n",
       "  'classes': array([b'1'], dtype=object),\n",
       "  'logistic': array([0.99708796], dtype=float32),\n",
       "  'logits': array([5.8359733], dtype=float32),\n",
       "  'probabilities': array([0.00291207, 0.9970879 ], dtype=float32)},\n",
       " {'class_ids': array([1], dtype=int64),\n",
       "  'classes': array([b'1'], dtype=object),\n",
       "  'logistic': array([0.9972476], dtype=float32),\n",
       "  'logits': array([5.892518], dtype=float32),\n",
       "  'probabilities': array([0.00275242, 0.9972475 ], dtype=float32)},\n",
       " {'class_ids': array([0], dtype=int64),\n",
       "  'classes': array([b'0'], dtype=object),\n",
       "  'logistic': array([0.00067112], dtype=float32),\n",
       "  'logits': array([-7.3058977], dtype=float32),\n",
       "  'probabilities': array([9.9932885e-01, 6.7111565e-04], dtype=float32)},\n",
       " {'class_ids': array([0], dtype=int64),\n",
       "  'classes': array([b'0'], dtype=object),\n",
       "  'logistic': array([0.00100824], dtype=float32),\n",
       "  'logits': array([-6.898538], dtype=float32),\n",
       "  'probabilities': array([0.9989918 , 0.00100824], dtype=float32)},\n",
       " {'class_ids': array([1], dtype=int64),\n",
       "  'classes': array([b'1'], dtype=object),\n",
       "  'logistic': array([0.59739494], dtype=float32),\n",
       "  'logits': array([0.39462247], dtype=float32),\n",
       "  'probabilities': array([0.402605  , 0.59739494], dtype=float32)},\n",
       " {'class_ids': array([0], dtype=int64),\n",
       "  'classes': array([b'0'], dtype=object),\n",
       "  'logistic': array([0.00123635], dtype=float32),\n",
       "  'logits': array([-6.6943808], dtype=float32),\n",
       "  'probabilities': array([0.9987637 , 0.00123632], dtype=float32)},\n",
       " {'class_ids': array([0], dtype=int64),\n",
       "  'classes': array([b'0'], dtype=object),\n",
       "  'logistic': array([0.00038895], dtype=float32),\n",
       "  'logits': array([-7.851755], dtype=float32),\n",
       "  'probabilities': array([9.996111e-01, 3.889172e-04], dtype=float32)},\n",
       " {'class_ids': array([0], dtype=int64),\n",
       "  'classes': array([b'0'], dtype=object),\n",
       "  'logistic': array([0.00099555], dtype=float32),\n",
       "  'logits': array([-6.9111505], dtype=float32),\n",
       "  'probabilities': array([9.990044e-01, 9.956184e-04], dtype=float32)},\n",
       " {'class_ids': array([1], dtype=int64),\n",
       "  'classes': array([b'1'], dtype=object),\n",
       "  'logistic': array([0.9984288], dtype=float32),\n",
       "  'logits': array([6.45437], dtype=float32),\n",
       "  'probabilities': array([0.00157116, 0.99842876], dtype=float32)},\n",
       " {'class_ids': array([1], dtype=int64),\n",
       "  'classes': array([b'1'], dtype=object),\n",
       "  'logistic': array([0.9867744], dtype=float32),\n",
       "  'logits': array([4.312289], dtype=float32),\n",
       "  'probabilities': array([0.01322557, 0.98677444], dtype=float32)},\n",
       " {'class_ids': array([0], dtype=int64),\n",
       "  'classes': array([b'0'], dtype=object),\n",
       "  'logistic': array([0.00102299], dtype=float32),\n",
       "  'logits': array([-6.8839593], dtype=float32),\n",
       "  'probabilities': array([0.99897695, 0.00102303], dtype=float32)},\n",
       " {'class_ids': array([1], dtype=int64),\n",
       "  'classes': array([b'1'], dtype=object),\n",
       "  'logistic': array([0.9893282], dtype=float32),\n",
       "  'logits': array([4.529416], dtype=float32),\n",
       "  'probabilities': array([0.01067185, 0.9893281 ], dtype=float32)},\n",
       " {'class_ids': array([1], dtype=int64),\n",
       "  'classes': array([b'1'], dtype=object),\n",
       "  'logistic': array([0.96067506], dtype=float32),\n",
       "  'logits': array([3.1957774], dtype=float32),\n",
       "  'probabilities': array([0.03932494, 0.96067506], dtype=float32)},\n",
       " {'class_ids': array([1], dtype=int64),\n",
       "  'classes': array([b'1'], dtype=object),\n",
       "  'logistic': array([0.9817111], dtype=float32),\n",
       "  'logits': array([3.9829996], dtype=float32),\n",
       "  'probabilities': array([0.01828896, 0.98171103], dtype=float32)},\n",
       " {'class_ids': array([0], dtype=int64),\n",
       "  'classes': array([b'0'], dtype=object),\n",
       "  'logistic': array([0.00123903], dtype=float32),\n",
       "  'logits': array([-6.692191], dtype=float32),\n",
       "  'probabilities': array([0.99876094, 0.00123902], dtype=float32)},\n",
       " {'class_ids': array([0], dtype=int64),\n",
       "  'classes': array([b'0'], dtype=object),\n",
       "  'logistic': array([0.00192186], dtype=float32),\n",
       "  'logits': array([-6.252527], dtype=float32),\n",
       "  'probabilities': array([0.9980781 , 0.00192188], dtype=float32)},\n",
       " {'class_ids': array([1], dtype=int64),\n",
       "  'classes': array([b'1'], dtype=object),\n",
       "  'logistic': array([0.9974121], dtype=float32),\n",
       "  'logits': array([5.9542933], dtype=float32),\n",
       "  'probabilities': array([0.00258796, 0.997412  ], dtype=float32)},\n",
       " {'class_ids': array([1], dtype=int64),\n",
       "  'classes': array([b'1'], dtype=object),\n",
       "  'logistic': array([0.9957757], dtype=float32),\n",
       "  'logits': array([5.4626684], dtype=float32),\n",
       "  'probabilities': array([0.0042243 , 0.99577576], dtype=float32)},\n",
       " {'class_ids': array([1], dtype=int64),\n",
       "  'classes': array([b'1'], dtype=object),\n",
       "  'logistic': array([0.9932622], dtype=float32),\n",
       "  'logits': array([4.9932547], dtype=float32),\n",
       "  'probabilities': array([0.00673784, 0.9932621 ], dtype=float32)},\n",
       " {'class_ids': array([1], dtype=int64),\n",
       "  'classes': array([b'1'], dtype=object),\n",
       "  'logistic': array([0.99521756], dtype=float32),\n",
       "  'logits': array([5.338005], dtype=float32),\n",
       "  'probabilities': array([0.00478247, 0.99521756], dtype=float32)},\n",
       " {'class_ids': array([1], dtype=int64),\n",
       "  'classes': array([b'1'], dtype=object),\n",
       "  'logistic': array([0.99211], dtype=float32),\n",
       "  'logits': array([4.834237], dtype=float32),\n",
       "  'probabilities': array([0.00789001, 0.99210995], dtype=float32)},\n",
       " {'class_ids': array([1], dtype=int64),\n",
       "  'classes': array([b'1'], dtype=object),\n",
       "  'logistic': array([0.9929887], dtype=float32),\n",
       "  'logits': array([4.9531946], dtype=float32),\n",
       "  'probabilities': array([0.00701131, 0.99298877], dtype=float32)},\n",
       " {'class_ids': array([0], dtype=int64),\n",
       "  'classes': array([b'0'], dtype=object),\n",
       "  'logistic': array([0.2754764], dtype=float32),\n",
       "  'logits': array([-0.9670124], dtype=float32),\n",
       "  'probabilities': array([0.7245236, 0.2754764], dtype=float32)},\n",
       " {'class_ids': array([1], dtype=int64),\n",
       "  'classes': array([b'1'], dtype=object),\n",
       "  'logistic': array([0.99703693], dtype=float32),\n",
       "  'logits': array([5.8185797], dtype=float32),\n",
       "  'probabilities': array([0.00296302, 0.99703705], dtype=float32)},\n",
       " {'class_ids': array([1], dtype=int64),\n",
       "  'classes': array([b'1'], dtype=object),\n",
       "  'logistic': array([0.99513113], dtype=float32),\n",
       "  'logits': array([5.3199925], dtype=float32),\n",
       "  'probabilities': array([0.00486897, 0.995131  ], dtype=float32)},\n",
       " {'class_ids': array([0], dtype=int64),\n",
       "  'classes': array([b'0'], dtype=object),\n",
       "  'logistic': array([0.00081098], dtype=float32),\n",
       "  'logits': array([-7.11646], dtype=float32),\n",
       "  'probabilities': array([9.9918908e-01, 8.1097684e-04], dtype=float32)},\n",
       " {'class_ids': array([1], dtype=int64),\n",
       "  'classes': array([b'1'], dtype=object),\n",
       "  'logistic': array([0.98837984], dtype=float32),\n",
       "  'logits': array([4.443321], dtype=float32),\n",
       "  'probabilities': array([0.01162021, 0.98837984], dtype=float32)},\n",
       " {'class_ids': array([0], dtype=int64),\n",
       "  'classes': array([b'0'], dtype=object),\n",
       "  'logistic': array([0.00057921], dtype=float32),\n",
       "  'logits': array([-7.453357], dtype=float32),\n",
       "  'probabilities': array([9.994209e-01, 5.791573e-04], dtype=float32)},\n",
       " {'class_ids': array([0], dtype=int64),\n",
       "  'classes': array([b'0'], dtype=object),\n",
       "  'logistic': array([0.00069243], dtype=float32),\n",
       "  'logits': array([-7.2746572], dtype=float32),\n",
       "  'probabilities': array([9.9930763e-01, 6.9239782e-04], dtype=float32)},\n",
       " {'class_ids': array([0], dtype=int64),\n",
       "  'classes': array([b'0'], dtype=object),\n",
       "  'logistic': array([9.146333e-05], dtype=float32),\n",
       "  'logits': array([-9.299146], dtype=float32),\n",
       "  'probabilities': array([9.9990845e-01, 9.1493996e-05], dtype=float32)},\n",
       " {'class_ids': array([1], dtype=int64),\n",
       "  'classes': array([b'1'], dtype=object),\n",
       "  'logistic': array([0.98068553], dtype=float32),\n",
       "  'logits': array([3.927396], dtype=float32),\n",
       "  'probabilities': array([0.01931449, 0.9806855 ], dtype=float32)},\n",
       " {'class_ids': array([0], dtype=int64),\n",
       "  'classes': array([b'0'], dtype=object),\n",
       "  'logistic': array([0.00130233], dtype=float32),\n",
       "  'logits': array([-6.6422863], dtype=float32),\n",
       "  'probabilities': array([0.99869764, 0.00130234], dtype=float32)},\n",
       " {'class_ids': array([0], dtype=int64),\n",
       "  'classes': array([b'0'], dtype=object),\n",
       "  'logistic': array([0.39341888], dtype=float32),\n",
       "  'logits': array([-0.4329637], dtype=float32),\n",
       "  'probabilities': array([0.60658115, 0.39341885], dtype=float32)},\n",
       " {'class_ids': array([0], dtype=int64),\n",
       "  'classes': array([b'0'], dtype=object),\n",
       "  'logistic': array([0.00060034], dtype=float32),\n",
       "  'logits': array([-7.417364], dtype=float32),\n",
       "  'probabilities': array([9.9939966e-01, 6.0036988e-04], dtype=float32)},\n",
       " {'class_ids': array([0], dtype=int64),\n",
       "  'classes': array([b'0'], dtype=object),\n",
       "  'logistic': array([0.00045526], dtype=float32),\n",
       "  'logits': array([-7.6942067], dtype=float32),\n",
       "  'probabilities': array([9.995447e-01, 4.552508e-04], dtype=float32)},\n",
       " {'class_ids': array([1], dtype=int64),\n",
       "  'classes': array([b'1'], dtype=object),\n",
       "  'logistic': array([0.9855908], dtype=float32),\n",
       "  'logits': array([4.2253795], dtype=float32),\n",
       "  'probabilities': array([0.01440913, 0.9855908 ], dtype=float32)},\n",
       " {'class_ids': array([0], dtype=int64),\n",
       "  'classes': array([b'0'], dtype=object),\n",
       "  'logistic': array([0.00079793], dtype=float32),\n",
       "  'logits': array([-7.1327615], dtype=float32),\n",
       "  'probabilities': array([9.992022e-01, 7.978742e-04], dtype=float32)},\n",
       " {'class_ids': array([1], dtype=int64),\n",
       "  'classes': array([b'1'], dtype=object),\n",
       "  'logistic': array([0.9945802], dtype=float32),\n",
       "  'logits': array([5.2122717], dtype=float32),\n",
       "  'probabilities': array([0.00541975, 0.9945802 ], dtype=float32)},\n",
       " {'class_ids': array([0], dtype=int64),\n",
       "  'classes': array([b'0'], dtype=object),\n",
       "  'logistic': array([8.249283e-05], dtype=float32),\n",
       "  'logits': array([-9.403245], dtype=float32),\n",
       "  'probabilities': array([9.999175e-01, 8.244926e-05], dtype=float32)},\n",
       " {'class_ids': array([1], dtype=int64),\n",
       "  'classes': array([b'1'], dtype=object),\n",
       "  'logistic': array([0.98858523], dtype=float32),\n",
       "  'logits': array([4.4613643], dtype=float32),\n",
       "  'probabilities': array([0.0114148, 0.9885852], dtype=float32)},\n",
       " {'class_ids': array([0], dtype=int64),\n",
       "  'classes': array([b'0'], dtype=object),\n",
       "  'logistic': array([9.250641e-05], dtype=float32),\n",
       "  'logits': array([-9.288936], dtype=float32),\n",
       "  'probabilities': array([9.9990761e-01, 9.2432856e-05], dtype=float32)},\n",
       " {'class_ids': array([0], dtype=int64),\n",
       "  'classes': array([b'0'], dtype=object),\n",
       "  'logistic': array([0.45065293], dtype=float32),\n",
       "  'logits': array([-0.198033], dtype=float32),\n",
       "  'probabilities': array([0.5493471 , 0.45065293], dtype=float32)},\n",
       " {'class_ids': array([0], dtype=int64),\n",
       "  'classes': array([b'0'], dtype=object),\n",
       "  'logistic': array([0.00014818], dtype=float32),\n",
       "  'logits': array([-8.817084], dtype=float32),\n",
       "  'probabilities': array([9.9985182e-01, 1.4815782e-04], dtype=float32)},\n",
       " {'class_ids': array([1], dtype=int64),\n",
       "  'classes': array([b'1'], dtype=object),\n",
       "  'logistic': array([0.98305565], dtype=float32),\n",
       "  'logits': array([4.060729], dtype=float32),\n",
       "  'probabilities': array([0.01694439, 0.9830556 ], dtype=float32)},\n",
       " {'class_ids': array([0], dtype=int64),\n",
       "  'classes': array([b'0'], dtype=object),\n",
       "  'logistic': array([0.00184217], dtype=float32),\n",
       "  'logits': array([-6.2949915], dtype=float32),\n",
       "  'probabilities': array([0.9981579 , 0.00184213], dtype=float32)},\n",
       " {'class_ids': array([1], dtype=int64),\n",
       "  'classes': array([b'1'], dtype=object),\n",
       "  'logistic': array([0.994644], dtype=float32),\n",
       "  'logits': array([5.2241616], dtype=float32),\n",
       "  'probabilities': array([0.00535603, 0.9946439 ], dtype=float32)},\n",
       " {'class_ids': array([0], dtype=int64),\n",
       "  'classes': array([b'0'], dtype=object),\n",
       "  'logistic': array([0.00031015], dtype=float32),\n",
       "  'logits': array([-8.078179], dtype=float32),\n",
       "  'probabilities': array([9.9968994e-01, 3.1013915e-04], dtype=float32)},\n",
       " {'class_ids': array([0], dtype=int64),\n",
       "  'classes': array([b'0'], dtype=object),\n",
       "  'logistic': array([0.48165354], dtype=float32),\n",
       "  'logits': array([-0.07341877], dtype=float32),\n",
       "  'probabilities': array([0.5183464, 0.4816535], dtype=float32)},\n",
       " {'class_ids': array([0], dtype=int64),\n",
       "  'classes': array([b'0'], dtype=object),\n",
       "  'logistic': array([0.00090185], dtype=float32),\n",
       "  'logits': array([-7.0101414], dtype=float32),\n",
       "  'probabilities': array([9.9909818e-01, 9.0186694e-04], dtype=float32)},\n",
       " {'class_ids': array([0], dtype=int64),\n",
       "  'classes': array([b'0'], dtype=object),\n",
       "  'logistic': array([0.00224182], dtype=float32),\n",
       "  'logits': array([-6.0982065], dtype=float32),\n",
       "  'probabilities': array([0.9977582 , 0.00224186], dtype=float32)},\n",
       " {'class_ids': array([0], dtype=int64),\n",
       "  'classes': array([b'0'], dtype=object),\n",
       "  'logistic': array([0.00256655], dtype=float32),\n",
       "  'logits': array([-5.9626393], dtype=float32),\n",
       "  'probabilities': array([0.9974335 , 0.00256651], dtype=float32)},\n",
       " {'class_ids': array([0], dtype=int64),\n",
       "  'classes': array([b'0'], dtype=object),\n",
       "  'logistic': array([0.00017148], dtype=float32),\n",
       "  'logits': array([-8.670735], dtype=float32),\n",
       "  'probabilities': array([9.9982846e-01, 1.7150349e-04], dtype=float32)},\n",
       " {'class_ids': array([0], dtype=int64),\n",
       "  'classes': array([b'0'], dtype=object),\n",
       "  'logistic': array([8.8989735e-05], dtype=float32),\n",
       "  'logits': array([-9.327469], dtype=float32),\n",
       "  'probabilities': array([9.9991107e-01, 8.8939174e-05], dtype=float32)},\n",
       " {'class_ids': array([1], dtype=int64),\n",
       "  'classes': array([b'1'], dtype=object),\n",
       "  'logistic': array([0.9967795], dtype=float32),\n",
       "  'logits': array([5.7349997], dtype=float32),\n",
       "  'probabilities': array([0.00322048, 0.9967795 ], dtype=float32)},\n",
       " {'class_ids': array([0], dtype=int64),\n",
       "  'classes': array([b'0'], dtype=object),\n",
       "  'logistic': array([0.00134161], dtype=float32),\n",
       "  'logits': array([-6.612558], dtype=float32),\n",
       "  'probabilities': array([0.9986584 , 0.00134159], dtype=float32)},\n",
       " {'class_ids': array([0], dtype=int64),\n",
       "  'classes': array([b'0'], dtype=object),\n",
       "  'logistic': array([0.00061244], dtype=float32),\n",
       "  'logits': array([-7.3974257], dtype=float32),\n",
       "  'probabilities': array([9.993875e-01, 6.124530e-04], dtype=float32)},\n",
       " {'class_ids': array([1], dtype=int64),\n",
       "  'classes': array([b'1'], dtype=object),\n",
       "  'logistic': array([0.99350095], dtype=float32),\n",
       "  'logits': array([5.0295877], dtype=float32),\n",
       "  'probabilities': array([0.00649899, 0.993501  ], dtype=float32)},\n",
       " {'class_ids': array([0], dtype=int64),\n",
       "  'classes': array([b'0'], dtype=object),\n",
       "  'logistic': array([0.00119302], dtype=float32),\n",
       "  'logits': array([-6.730028], dtype=float32),\n",
       "  'probabilities': array([0.99880695, 0.00119307], dtype=float32)},\n",
       " {'class_ids': array([0], dtype=int64),\n",
       "  'classes': array([b'0'], dtype=object),\n",
       "  'logistic': array([0.00015709], dtype=float32),\n",
       "  'logits': array([-8.758877], dtype=float32),\n",
       "  'probabilities': array([9.9984288e-01, 1.5703624e-04], dtype=float32)},\n",
       " {'class_ids': array([0], dtype=int64),\n",
       "  'classes': array([b'0'], dtype=object),\n",
       "  'logistic': array([0.00226218], dtype=float32),\n",
       "  'logits': array([-6.08916], dtype=float32),\n",
       "  'probabilities': array([0.99773777, 0.00226218], dtype=float32)},\n",
       " {'class_ids': array([0], dtype=int64),\n",
       "  'classes': array([b'0'], dtype=object),\n",
       "  'logistic': array([9.7334385e-05], dtype=float32),\n",
       "  'logits': array([-9.23763], dtype=float32),\n",
       "  'probabilities': array([9.999027e-01, 9.729848e-05], dtype=float32)},\n",
       " {'class_ids': array([0], dtype=int64),\n",
       "  'classes': array([b'0'], dtype=object),\n",
       "  'logistic': array([4.3302774e-05], dtype=float32),\n",
       "  'logits': array([-10.0489], dtype=float32),\n",
       "  'probabilities': array([9.9995673e-01, 4.3231426e-05], dtype=float32)},\n",
       " {'class_ids': array([0], dtype=int64),\n",
       "  'classes': array([b'0'], dtype=object),\n",
       "  'logistic': array([0.00022328], dtype=float32),\n",
       "  'logits': array([-8.407098], dtype=float32),\n",
       "  'probabilities': array([9.9977678e-01, 2.2322706e-04], dtype=float32)},\n",
       " {'class_ids': array([0], dtype=int64),\n",
       "  'classes': array([b'0'], dtype=object),\n",
       "  'logistic': array([7.715821e-05], dtype=float32),\n",
       "  'logits': array([-9.4699745], dtype=float32),\n",
       "  'probabilities': array([9.999229e-01, 7.712742e-05], dtype=float32)},\n",
       " {'class_ids': array([0], dtype=int64),\n",
       "  'classes': array([b'0'], dtype=object),\n",
       "  'logistic': array([0.001187], dtype=float32),\n",
       "  'logits': array([-6.7351313], dtype=float32),\n",
       "  'probabilities': array([0.99881303, 0.00118701], dtype=float32)},\n",
       " {'class_ids': array([1], dtype=int64),\n",
       "  'classes': array([b'1'], dtype=object),\n",
       "  'logistic': array([0.99709237], dtype=float32),\n",
       "  'logits': array([5.8374796], dtype=float32),\n",
       "  'probabilities': array([0.0029077 , 0.99709225], dtype=float32)},\n",
       " {'class_ids': array([1], dtype=int64),\n",
       "  'classes': array([b'1'], dtype=object),\n",
       "  'logistic': array([0.997115], dtype=float32),\n",
       "  'logits': array([5.8453217], dtype=float32),\n",
       "  'probabilities': array([0.00288506, 0.9971149 ], dtype=float32)},\n",
       " {'class_ids': array([1], dtype=int64),\n",
       "  'classes': array([b'1'], dtype=object),\n",
       "  'logistic': array([0.98372173], dtype=float32),\n",
       "  'logits': array([4.101513], dtype=float32),\n",
       "  'probabilities': array([0.01627825, 0.9837217 ], dtype=float32)},\n",
       " {'class_ids': array([1], dtype=int64),\n",
       "  'classes': array([b'1'], dtype=object),\n",
       "  'logistic': array([0.87327313], dtype=float32),\n",
       "  'logits': array([1.9302138], dtype=float32),\n",
       "  'probabilities': array([0.12672691, 0.8732731 ], dtype=float32)},\n",
       " {'class_ids': array([1], dtype=int64),\n",
       "  'classes': array([b'1'], dtype=object),\n",
       "  'logistic': array([0.9981929], dtype=float32),\n",
       "  'logits': array([6.3142257], dtype=float32),\n",
       "  'probabilities': array([0.0018071 , 0.99819297], dtype=float32)},\n",
       " {'class_ids': array([1], dtype=int64),\n",
       "  'classes': array([b'1'], dtype=object),\n",
       "  'logistic': array([0.99111325], dtype=float32),\n",
       "  'logits': array([4.7142725], dtype=float32),\n",
       "  'probabilities': array([0.0088867 , 0.99111325], dtype=float32)},\n",
       " {'class_ids': array([0], dtype=int64),\n",
       "  'classes': array([b'0'], dtype=object),\n",
       "  'logistic': array([0.00438538], dtype=float32),\n",
       "  'logits': array([-5.4250765], dtype=float32),\n",
       "  'probabilities': array([0.9956145 , 0.00438541], dtype=float32)},\n",
       " {'class_ids': array([1], dtype=int64),\n",
       "  'classes': array([b'1'], dtype=object),\n",
       "  'logistic': array([0.97684443], dtype=float32),\n",
       "  'logits': array([3.7420952], dtype=float32),\n",
       "  'probabilities': array([0.0231555, 0.9768445], dtype=float32)},\n",
       " {'class_ids': array([0], dtype=int64),\n",
       "  'classes': array([b'0'], dtype=object),\n",
       "  'logistic': array([0.39607126], dtype=float32),\n",
       "  'logits': array([-0.4218621], dtype=float32),\n",
       "  'probabilities': array([0.60392874, 0.39607126], dtype=float32)},\n",
       " {'class_ids': array([0], dtype=int64),\n",
       "  'classes': array([b'0'], dtype=object),\n",
       "  'logistic': array([0.00241038], dtype=float32),\n",
       "  'logits': array([-6.0255837], dtype=float32),\n",
       "  'probabilities': array([0.9975897 , 0.00241032], dtype=float32)},\n",
       " {'class_ids': array([1], dtype=int64),\n",
       "  'classes': array([b'1'], dtype=object),\n",
       "  'logistic': array([0.99527514], dtype=float32),\n",
       "  'logits': array([5.3501744], dtype=float32),\n",
       "  'probabilities': array([0.00472489, 0.99527514], dtype=float32)},\n",
       " {'class_ids': array([0], dtype=int64),\n",
       "  'classes': array([b'0'], dtype=object),\n",
       "  'logistic': array([0.00314856], dtype=float32),\n",
       "  'logits': array([-5.757669], dtype=float32),\n",
       "  'probabilities': array([0.9968515 , 0.00314852], dtype=float32)},\n",
       " {'class_ids': array([1], dtype=int64),\n",
       "  'classes': array([b'1'], dtype=object),\n",
       "  'logistic': array([0.9979242], dtype=float32),\n",
       "  'logits': array([6.1753325], dtype=float32),\n",
       "  'probabilities': array([0.0020758, 0.9979242], dtype=float32)},\n",
       " {'class_ids': array([1], dtype=int64),\n",
       "  'classes': array([b'1'], dtype=object),\n",
       "  'logistic': array([0.9982133], dtype=float32),\n",
       "  'logits': array([6.3255835], dtype=float32),\n",
       "  'probabilities': array([0.00178672, 0.9982133 ], dtype=float32)},\n",
       " {'class_ids': array([0], dtype=int64),\n",
       "  'classes': array([b'0'], dtype=object),\n",
       "  'logistic': array([0.00098306], dtype=float32),\n",
       "  'logits': array([-6.923853], dtype=float32),\n",
       "  'probabilities': array([9.990169e-01, 9.830638e-04], dtype=float32)},\n",
       " {'class_ids': array([1], dtype=int64),\n",
       "  'classes': array([b'1'], dtype=object),\n",
       "  'logistic': array([0.99825096], dtype=float32),\n",
       "  'logits': array([6.346879], dtype=float32),\n",
       "  'probabilities': array([0.00174914, 0.9982508 ], dtype=float32)},\n",
       " {'class_ids': array([1], dtype=int64),\n",
       "  'classes': array([b'1'], dtype=object),\n",
       "  'logistic': array([0.9981579], dtype=float32),\n",
       "  'logits': array([6.295032], dtype=float32),\n",
       "  'probabilities': array([0.00184205, 0.9981579 ], dtype=float32)},\n",
       " {'class_ids': array([0], dtype=int64),\n",
       "  'classes': array([b'0'], dtype=object),\n",
       "  'logistic': array([0.00072333], dtype=float32),\n",
       "  'logits': array([-7.230883], dtype=float32),\n",
       "  'probabilities': array([9.992767e-01, 7.233577e-04], dtype=float32)},\n",
       " {'class_ids': array([0], dtype=int64),\n",
       "  'classes': array([b'0'], dtype=object),\n",
       "  'logistic': array([0.00056794], dtype=float32),\n",
       "  'logits': array([-7.472957], dtype=float32),\n",
       "  'probabilities': array([9.9943203e-01, 5.6792266e-04], dtype=float32)},\n",
       " {'class_ids': array([1], dtype=int64),\n",
       "  'classes': array([b'1'], dtype=object),\n",
       "  'logistic': array([0.99360764], dtype=float32),\n",
       "  'logits': array([5.046234], dtype=float32),\n",
       "  'probabilities': array([0.00639239, 0.99360764], dtype=float32)},\n",
       " {'class_ids': array([1], dtype=int64),\n",
       "  'classes': array([b'1'], dtype=object),\n",
       "  'logistic': array([0.9929168], dtype=float32),\n",
       "  'logits': array([4.942919], dtype=float32),\n",
       "  'probabilities': array([0.00708322, 0.9929168 ], dtype=float32)},\n",
       " {'class_ids': array([0], dtype=int64),\n",
       "  'classes': array([b'0'], dtype=object),\n",
       "  'logistic': array([0.00228935], dtype=float32),\n",
       "  'logits': array([-6.077184], dtype=float32),\n",
       "  'probabilities': array([0.9977106 , 0.00228938], dtype=float32)},\n",
       " {'class_ids': array([0], dtype=int64),\n",
       "  'classes': array([b'0'], dtype=object),\n",
       "  'logistic': array([0.00216916], dtype=float32),\n",
       "  'logits': array([-6.1312523], dtype=float32),\n",
       "  'probabilities': array([0.9978308 , 0.00216914], dtype=float32)},\n",
       " {'class_ids': array([1], dtype=int64),\n",
       "  'classes': array([b'1'], dtype=object),\n",
       "  'logistic': array([0.996276], dtype=float32),\n",
       "  'logits': array([5.589213], dtype=float32),\n",
       "  'probabilities': array([0.00372405, 0.996276  ], dtype=float32)},\n",
       " {'class_ids': array([1], dtype=int64),\n",
       "  'classes': array([b'1'], dtype=object),\n",
       "  'logistic': array([0.9970801], dtype=float32),\n",
       "  'logits': array([5.8333006], dtype=float32),\n",
       "  'probabilities': array([0.00291985, 0.99708015], dtype=float32)},\n",
       " {'class_ids': array([0], dtype=int64),\n",
       "  'classes': array([b'0'], dtype=object),\n",
       "  'logistic': array([0.00173643], dtype=float32),\n",
       "  'logits': array([-6.354178], dtype=float32),\n",
       "  'probabilities': array([0.99826354, 0.00173644], dtype=float32)},\n",
       " {'class_ids': array([0], dtype=int64),\n",
       "  'classes': array([b'0'], dtype=object),\n",
       "  'logistic': array([0.00027043], dtype=float32),\n",
       "  'logits': array([-8.215185], dtype=float32),\n",
       "  'probabilities': array([9.9972957e-01, 2.7044126e-04], dtype=float32)},\n",
       " {'class_ids': array([0], dtype=int64),\n",
       "  'classes': array([b'0'], dtype=object),\n",
       "  'logistic': array([0.00012031], dtype=float32),\n",
       "  'logits': array([-9.025502], dtype=float32),\n",
       "  'probabilities': array([9.998797e-01, 1.202879e-04], dtype=float32)},\n",
       " {'class_ids': array([1], dtype=int64),\n",
       "  'classes': array([b'1'], dtype=object),\n",
       "  'logistic': array([0.9912247], dtype=float32),\n",
       "  'logits': array([4.727003], dtype=float32),\n",
       "  'probabilities': array([0.00877528, 0.9912247 ], dtype=float32)},\n",
       " {'class_ids': array([0], dtype=int64),\n",
       "  'classes': array([b'0'], dtype=object),\n",
       "  'logistic': array([0.00070795], dtype=float32),\n",
       "  'logits': array([-7.2522945], dtype=float32),\n",
       "  'probabilities': array([9.992919e-01, 7.080450e-04], dtype=float32)},\n",
       " {'class_ids': array([0], dtype=int64),\n",
       "  'classes': array([b'0'], dtype=object),\n",
       "  'logistic': array([0.00079826], dtype=float32),\n",
       "  'logits': array([-7.132277], dtype=float32),\n",
       "  'probabilities': array([9.992017e-01, 7.982605e-04], dtype=float32)},\n",
       " {'class_ids': array([0], dtype=int64),\n",
       "  'classes': array([b'0'], dtype=object),\n",
       "  'logistic': array([0.07174101], dtype=float32),\n",
       "  'logits': array([-2.5602481], dtype=float32),\n",
       "  'probabilities': array([0.928259  , 0.07174101], dtype=float32)},\n",
       " {'class_ids': array([0], dtype=int64),\n",
       "  'classes': array([b'0'], dtype=object),\n",
       "  'logistic': array([0.00142735], dtype=float32),\n",
       "  'logits': array([-6.5505133], dtype=float32),\n",
       "  'probabilities': array([0.9985726 , 0.00142734], dtype=float32)},\n",
       " {'class_ids': array([0], dtype=int64),\n",
       "  'classes': array([b'0'], dtype=object),\n",
       "  'logistic': array([0.00423494], dtype=float32),\n",
       "  'logits': array([-5.460144], dtype=float32),\n",
       "  'probabilities': array([0.9957651 , 0.00423493], dtype=float32)},\n",
       " {'class_ids': array([0], dtype=int64),\n",
       "  'classes': array([b'0'], dtype=object),\n",
       "  'logistic': array([0.03680584], dtype=float32),\n",
       "  'logits': array([-3.2645977], dtype=float32),\n",
       "  'probabilities': array([0.96319413, 0.03680587], dtype=float32)},\n",
       " {'class_ids': array([0], dtype=int64),\n",
       "  'classes': array([b'0'], dtype=object),\n",
       "  'logistic': array([8.112192e-05], dtype=float32),\n",
       "  'logits': array([-9.419932], dtype=float32),\n",
       "  'probabilities': array([9.9991894e-01, 8.1084938e-05], dtype=float32)},\n",
       " {'class_ids': array([0], dtype=int64),\n",
       "  'classes': array([b'0'], dtype=object),\n",
       "  'logistic': array([0.09654421], dtype=float32),\n",
       "  'logits': array([-2.2362263], dtype=float32),\n",
       "  'probabilities': array([0.9034558 , 0.09654419], dtype=float32)},\n",
       " {'class_ids': array([1], dtype=int64),\n",
       "  'classes': array([b'1'], dtype=object),\n",
       "  'logistic': array([0.99806964], dtype=float32),\n",
       "  'logits': array([6.248119], dtype=float32),\n",
       "  'probabilities': array([0.00193036, 0.9980697 ], dtype=float32)},\n",
       " {'class_ids': array([1], dtype=int64),\n",
       "  'classes': array([b'1'], dtype=object),\n",
       "  'logistic': array([0.99440885], dtype=float32),\n",
       "  'logits': array([5.1809626], dtype=float32),\n",
       "  'probabilities': array([0.00559115, 0.9944088 ], dtype=float32)},\n",
       " {'class_ids': array([1], dtype=int64),\n",
       "  'classes': array([b'1'], dtype=object),\n",
       "  'logistic': array([0.9452817], dtype=float32),\n",
       "  'logits': array([2.8492835], dtype=float32),\n",
       "  'probabilities': array([0.05471837, 0.9452816 ], dtype=float32)},\n",
       " {'class_ids': array([1], dtype=int64),\n",
       "  'classes': array([b'1'], dtype=object),\n",
       "  'logistic': array([0.9976712], dtype=float32),\n",
       "  'logits': array([6.060051], dtype=float32),\n",
       "  'probabilities': array([0.00232885, 0.9976712 ], dtype=float32)},\n",
       " {'class_ids': array([1], dtype=int64),\n",
       "  'classes': array([b'1'], dtype=object),\n",
       "  'logistic': array([0.9957911], dtype=float32),\n",
       "  'logits': array([5.4663115], dtype=float32),\n",
       "  'probabilities': array([0.004209  , 0.99579096], dtype=float32)},\n",
       " {'class_ids': array([1], dtype=int64),\n",
       "  'classes': array([b'1'], dtype=object),\n",
       "  'logistic': array([0.98138213], dtype=float32),\n",
       "  'logits': array([3.964844], dtype=float32),\n",
       "  'probabilities': array([0.0186178 , 0.98138225], dtype=float32)},\n",
       " {'class_ids': array([0], dtype=int64),\n",
       "  'classes': array([b'0'], dtype=object),\n",
       "  'logistic': array([0.00017858], dtype=float32),\n",
       "  'logits': array([-8.630545], dtype=float32),\n",
       "  'probabilities': array([9.9982148e-01, 1.7853548e-04], dtype=float32)},\n",
       " {'class_ids': array([0], dtype=int64),\n",
       "  'classes': array([b'0'], dtype=object),\n",
       "  'logistic': array([0.00017208], dtype=float32),\n",
       "  'logits': array([-8.667666], dtype=float32),\n",
       "  'probabilities': array([9.9982798e-01, 1.7203056e-04], dtype=float32)},\n",
       " {'class_ids': array([1], dtype=int64),\n",
       "  'classes': array([b'1'], dtype=object),\n",
       "  'logistic': array([0.98367226], dtype=float32),\n",
       "  'logits': array([4.0984282], dtype=float32),\n",
       "  'probabilities': array([0.01632773, 0.9836723 ], dtype=float32)},\n",
       " {'class_ids': array([0], dtype=int64),\n",
       "  'classes': array([b'0'], dtype=object),\n",
       "  'logistic': array([0.00023633], dtype=float32),\n",
       "  'logits': array([-8.349926], dtype=float32),\n",
       "  'probabilities': array([9.9976367e-01, 2.3635813e-04], dtype=float32)},\n",
       " {'class_ids': array([1], dtype=int64),\n",
       "  'classes': array([b'1'], dtype=object),\n",
       "  'logistic': array([0.99235106], dtype=float32),\n",
       "  'logits': array([4.865504], dtype=float32),\n",
       "  'probabilities': array([0.00764899, 0.992351  ], dtype=float32)},\n",
       " {'class_ids': array([0], dtype=int64),\n",
       "  'classes': array([b'0'], dtype=object),\n",
       "  'logistic': array([0.00432587], dtype=float32),\n",
       "  'logits': array([-5.438813], dtype=float32),\n",
       "  'probabilities': array([0.9956742 , 0.00432584], dtype=float32)},\n",
       " {'class_ids': array([0], dtype=int64),\n",
       "  'classes': array([b'0'], dtype=object),\n",
       "  'logistic': array([0.0009473], dtype=float32),\n",
       "  'logits': array([-6.9609323], dtype=float32),\n",
       "  'probabilities': array([9.990527e-01, 9.473139e-04], dtype=float32)},\n",
       " {'class_ids': array([0], dtype=int64),\n",
       "  'classes': array([b'0'], dtype=object),\n",
       "  'logistic': array([0.00076208], dtype=float32),\n",
       "  'logits': array([-7.1785975], dtype=float32),\n",
       "  'probabilities': array([9.992379e-01, 7.621556e-04], dtype=float32)},\n",
       " {'class_ids': array([0], dtype=int64),\n",
       "  'classes': array([b'0'], dtype=object),\n",
       "  'logistic': array([0.0001286], dtype=float32),\n",
       "  'logits': array([-8.959184], dtype=float32),\n",
       "  'probabilities': array([9.9987149e-01, 1.2853464e-04], dtype=float32)},\n",
       " {'class_ids': array([0], dtype=int64),\n",
       "  'classes': array([b'0'], dtype=object),\n",
       "  'logistic': array([0.00549489], dtype=float32),\n",
       "  'logits': array([-5.1984224], dtype=float32),\n",
       "  'probabilities': array([0.9945051 , 0.00549491], dtype=float32)},\n",
       " {'class_ids': array([1], dtype=int64),\n",
       "  'classes': array([b'1'], dtype=object),\n",
       "  'logistic': array([0.99126124], dtype=float32),\n",
       "  'logits': array([4.7312174], dtype=float32),\n",
       "  'probabilities': array([0.00873869, 0.99126124], dtype=float32)},\n",
       " {'class_ids': array([1], dtype=int64),\n",
       "  'classes': array([b'1'], dtype=object),\n",
       "  'logistic': array([0.9888974], dtype=float32),\n",
       "  'logits': array([4.4894056], dtype=float32),\n",
       "  'probabilities': array([0.01110266, 0.98889726], dtype=float32)},\n",
       " {'class_ids': array([0], dtype=int64),\n",
       "  'classes': array([b'0'], dtype=object),\n",
       "  'logistic': array([0.00183699], dtype=float32),\n",
       "  'logits': array([-6.297781], dtype=float32),\n",
       "  'probabilities': array([0.99816304, 0.001837  ], dtype=float32)},\n",
       " {'class_ids': array([1], dtype=int64),\n",
       "  'classes': array([b'1'], dtype=object),\n",
       "  'logistic': array([0.99756265], dtype=float32),\n",
       "  'logits': array([6.014378], dtype=float32),\n",
       "  'probabilities': array([0.00243741, 0.99756265], dtype=float32)},\n",
       " {'class_ids': array([0], dtype=int64),\n",
       "  'classes': array([b'0'], dtype=object),\n",
       "  'logistic': array([0.00184426], dtype=float32),\n",
       "  'logits': array([-6.2938147], dtype=float32),\n",
       "  'probabilities': array([0.99815565, 0.00184429], dtype=float32)},\n",
       " {'class_ids': array([1], dtype=int64),\n",
       "  'classes': array([b'1'], dtype=object),\n",
       "  'logistic': array([0.99517083], dtype=float32),\n",
       "  'logits': array([5.3282413], dtype=float32),\n",
       "  'probabilities': array([0.00482916, 0.9951708 ], dtype=float32)},\n",
       " {'class_ids': array([1], dtype=int64),\n",
       "  'classes': array([b'1'], dtype=object),\n",
       "  'logistic': array([0.9986018], dtype=float32),\n",
       "  'logits': array([6.571114], dtype=float32),\n",
       "  'probabilities': array([0.00139828, 0.99860173], dtype=float32)},\n",
       " {'class_ids': array([1], dtype=int64),\n",
       "  'classes': array([b'1'], dtype=object),\n",
       "  'logistic': array([0.9934769], dtype=float32),\n",
       "  'logits': array([5.0258713], dtype=float32),\n",
       "  'probabilities': array([0.00652303, 0.99347705], dtype=float32)},\n",
       " {'class_ids': array([1], dtype=int64),\n",
       "  'classes': array([b'1'], dtype=object),\n",
       "  'logistic': array([0.99796504], dtype=float32),\n",
       "  'logits': array([6.195257], dtype=float32),\n",
       "  'probabilities': array([0.00203493, 0.9979651 ], dtype=float32)},\n",
       " {'class_ids': array([0], dtype=int64),\n",
       "  'classes': array([b'0'], dtype=object),\n",
       "  'logistic': array([0.00166672], dtype=float32),\n",
       "  'logits': array([-6.395201], dtype=float32),\n",
       "  'probabilities': array([0.9983333 , 0.00166677], dtype=float32)},\n",
       " {'class_ids': array([1], dtype=int64),\n",
       "  'classes': array([b'1'], dtype=object),\n",
       "  'logistic': array([0.94941056], dtype=float32),\n",
       "  'logits': array([2.9320984], dtype=float32),\n",
       "  'probabilities': array([0.05058944, 0.94941056], dtype=float32)},\n",
       " {'class_ids': array([1], dtype=int64),\n",
       "  'classes': array([b'1'], dtype=object),\n",
       "  'logistic': array([0.9873061], dtype=float32),\n",
       "  'logits': array([4.3538594], dtype=float32),\n",
       "  'probabilities': array([0.01269389, 0.9873061 ], dtype=float32)},\n",
       " {'class_ids': array([1], dtype=int64),\n",
       "  'classes': array([b'1'], dtype=object),\n",
       "  'logistic': array([0.99658895], dtype=float32),\n",
       "  'logits': array([5.6773357], dtype=float32),\n",
       "  'probabilities': array([0.00341099, 0.99658906], dtype=float32)},\n",
       " {'class_ids': array([0], dtype=int64),\n",
       "  'classes': array([b'0'], dtype=object),\n",
       "  'logistic': array([0.00089011], dtype=float32),\n",
       "  'logits': array([-7.0232754], dtype=float32),\n",
       "  'probabilities': array([9.991099e-01, 8.901097e-04], dtype=float32)},\n",
       " {'class_ids': array([1], dtype=int64),\n",
       "  'classes': array([b'1'], dtype=object),\n",
       "  'logistic': array([0.9962213], dtype=float32),\n",
       "  'logits': array([5.5745883], dtype=float32),\n",
       "  'probabilities': array([0.0037787, 0.9962213], dtype=float32)},\n",
       " {'class_ids': array([0], dtype=int64),\n",
       "  'classes': array([b'0'], dtype=object),\n",
       "  'logistic': array([0.00052832], dtype=float32),\n",
       "  'logits': array([-7.5452805], dtype=float32),\n",
       "  'probabilities': array([9.994717e-01, 5.283198e-04], dtype=float32)},\n",
       " {'class_ids': array([0], dtype=int64),\n",
       "  'classes': array([b'0'], dtype=object),\n",
       "  'logistic': array([0.00136023], dtype=float32),\n",
       "  'logits': array([-6.5987406], dtype=float32),\n",
       "  'probabilities': array([0.99863976, 0.00136023], dtype=float32)}]"
      ]
     },
     "execution_count": 312,
     "metadata": {},
     "output_type": "execute_result"
    }
   ],
   "source": [
    "note_predictions"
   ]
  },
  {
   "cell_type": "code",
   "execution_count": 313,
   "metadata": {},
   "outputs": [],
   "source": [
    "final_preds=[]\n",
    "for pred in note_predictions:\n",
    "    final_preds.append(pred['class_ids'][0])"
   ]
  },
  {
   "cell_type": "code",
   "execution_count": 314,
   "metadata": {},
   "outputs": [
    {
     "name": "stdout",
     "output_type": "stream",
     "text": [
      "[[236   2]\n",
      " [  4 170]]\n"
     ]
    }
   ],
   "source": [
    "print(confusion_matrix(y_test, final_preds))"
   ]
  },
  {
   "cell_type": "code",
   "execution_count": 315,
   "metadata": {},
   "outputs": [
    {
     "name": "stdout",
     "output_type": "stream",
     "text": [
      "              precision    recall  f1-score   support\n",
      "\n",
      "           0       0.98      0.99      0.99       238\n",
      "           1       0.99      0.98      0.98       174\n",
      "\n",
      "   micro avg       0.99      0.99      0.99       412\n",
      "   macro avg       0.99      0.98      0.99       412\n",
      "weighted avg       0.99      0.99      0.99       412\n",
      "\n"
     ]
    }
   ],
   "source": [
    "print(classification_report(y_test, final_preds))"
   ]
  },
  {
   "cell_type": "markdown",
   "metadata": {},
   "source": [
    "#### Part 8: Increase Classifier Traing steps:"
   ]
  },
  {
   "cell_type": "code",
   "execution_count": 316,
   "metadata": {},
   "outputs": [],
   "source": [
    "X_train, X_test, y_train, y_test = train_test_split(X, y, test_size=0.3)"
   ]
  },
  {
   "cell_type": "code",
   "execution_count": 317,
   "metadata": {},
   "outputs": [
    {
     "name": "stdout",
     "output_type": "stream",
     "text": [
      "INFO:tensorflow:Using default config.\n",
      "WARNING:tensorflow:Using temporary folder as model directory: C:\\Users\\ZIWEIF~1\\AppData\\Local\\Temp\\tmpq5l3kcjf\n",
      "INFO:tensorflow:Using config: {'_session_config': allow_soft_placement: true\n",
      "graph_options {\n",
      "  rewrite_options {\n",
      "    meta_optimizer_iterations: ONE\n",
      "  }\n",
      "}\n",
      ", '_cluster_spec': <tensorflow.python.training.server_lib.ClusterSpec object at 0x000001FD311B2208>, '_master': '', '_eval_distribute': None, '_train_distribute': None, '_device_fn': None, '_num_worker_replicas': 1, '_service': None, '_keep_checkpoint_max': 5, '_evaluation_master': '', '_num_ps_replicas': 0, '_keep_checkpoint_every_n_hours': 10000, '_log_step_count_steps': 100, '_protocol': None, '_model_dir': 'C:\\\\Users\\\\ZIWEIF~1\\\\AppData\\\\Local\\\\Temp\\\\tmpq5l3kcjf', '_task_id': 0, '_save_checkpoints_steps': None, '_task_type': 'worker', '_global_id_in_cluster': 0, '_save_summary_steps': 100, '_tf_random_seed': None, '_save_checkpoints_secs': 600, '_experimental_distribute': None, '_is_chief': True}\n"
     ]
    }
   ],
   "source": [
    "classifier = tf.estimator.DNNClassifier(hidden_units=[10, 20, 10], n_classes=2, feature_columns=feat_cols)"
   ]
  },
  {
   "cell_type": "code",
   "execution_count": 318,
   "metadata": {},
   "outputs": [],
   "source": [
    "input_func = tf.estimator.inputs.pandas_input_fn(x=X_train, y=y_train, batch_size=20, shuffle=True)"
   ]
  },
  {
   "cell_type": "code",
   "execution_count": 319,
   "metadata": {},
   "outputs": [
    {
     "name": "stdout",
     "output_type": "stream",
     "text": [
      "INFO:tensorflow:Calling model_fn.\n",
      "INFO:tensorflow:Done calling model_fn.\n",
      "INFO:tensorflow:Create CheckpointSaverHook.\n",
      "INFO:tensorflow:Graph was finalized.\n",
      "INFO:tensorflow:Running local_init_op.\n",
      "INFO:tensorflow:Done running local_init_op.\n",
      "INFO:tensorflow:Saving checkpoints for 0 into C:\\Users\\ZIWEIF~1\\AppData\\Local\\Temp\\tmpq5l3kcjf\\model.ckpt.\n",
      "INFO:tensorflow:loss = 14.074214, step = 1\n",
      "INFO:tensorflow:Saving checkpoints for 48 into C:\\Users\\ZIWEIF~1\\AppData\\Local\\Temp\\tmpq5l3kcjf\\model.ckpt.\n",
      "INFO:tensorflow:Loss for final step: 0.31634572.\n"
     ]
    },
    {
     "data": {
      "text/plain": [
       "<tensorflow_estimator.python.estimator.canned.dnn.DNNClassifier at 0x1fd311b2748>"
      ]
     },
     "execution_count": 319,
     "metadata": {},
     "output_type": "execute_result"
    }
   ],
   "source": [
    "classifier.train(input_fn=input_func, steps=800)"
   ]
  },
  {
   "cell_type": "code",
   "execution_count": 320,
   "metadata": {},
   "outputs": [],
   "source": [
    "pred_fn = tf.estimator.inputs.pandas_input_fn(x=X_test, y=y_test, batch_size=len(X_test), shuffle=False)"
   ]
  },
  {
   "cell_type": "code",
   "execution_count": 321,
   "metadata": {},
   "outputs": [
    {
     "name": "stdout",
     "output_type": "stream",
     "text": [
      "INFO:tensorflow:Calling model_fn.\n",
      "INFO:tensorflow:Done calling model_fn.\n",
      "INFO:tensorflow:Graph was finalized.\n",
      "INFO:tensorflow:Restoring parameters from C:\\Users\\ZIWEIF~1\\AppData\\Local\\Temp\\tmpq5l3kcjf\\model.ckpt-48\n",
      "INFO:tensorflow:Running local_init_op.\n",
      "INFO:tensorflow:Done running local_init_op.\n"
     ]
    }
   ],
   "source": [
    "note_predictions = list(classifier.predict(input_fn = pred_fn))"
   ]
  },
  {
   "cell_type": "code",
   "execution_count": 322,
   "metadata": {},
   "outputs": [],
   "source": [
    "final_preds=[]\n",
    "for pred in note_predictions:\n",
    "    final_preds.append(pred['class_ids'][0])"
   ]
  },
  {
   "cell_type": "code",
   "execution_count": 323,
   "metadata": {},
   "outputs": [
    {
     "name": "stdout",
     "output_type": "stream",
     "text": [
      "[[220   6]\n",
      " [  0 186]]\n"
     ]
    }
   ],
   "source": [
    "print(confusion_matrix(y_test, final_preds))"
   ]
  },
  {
   "cell_type": "code",
   "execution_count": 324,
   "metadata": {},
   "outputs": [
    {
     "name": "stdout",
     "output_type": "stream",
     "text": [
      "              precision    recall  f1-score   support\n",
      "\n",
      "           0       1.00      0.97      0.99       226\n",
      "           1       0.97      1.00      0.98       186\n",
      "\n",
      "   micro avg       0.99      0.99      0.99       412\n",
      "   macro avg       0.98      0.99      0.99       412\n",
      "weighted avg       0.99      0.99      0.99       412\n",
      "\n"
     ]
    }
   ],
   "source": [
    "print(classification_report(y_test, final_preds))"
   ]
  },
  {
   "cell_type": "markdown",
   "metadata": {},
   "source": [
    "#### Part 9: Decrease Classifier Traing steps:"
   ]
  },
  {
   "cell_type": "code",
   "execution_count": 325,
   "metadata": {},
   "outputs": [],
   "source": [
    "X_train, X_test, y_train, y_test = train_test_split(X, y, test_size=0.3)"
   ]
  },
  {
   "cell_type": "code",
   "execution_count": 326,
   "metadata": {},
   "outputs": [
    {
     "name": "stdout",
     "output_type": "stream",
     "text": [
      "INFO:tensorflow:Using default config.\n",
      "WARNING:tensorflow:Using temporary folder as model directory: C:\\Users\\ZIWEIF~1\\AppData\\Local\\Temp\\tmp5tmg_vwd\n",
      "INFO:tensorflow:Using config: {'_session_config': allow_soft_placement: true\n",
      "graph_options {\n",
      "  rewrite_options {\n",
      "    meta_optimizer_iterations: ONE\n",
      "  }\n",
      "}\n",
      ", '_cluster_spec': <tensorflow.python.training.server_lib.ClusterSpec object at 0x000001FD227B26A0>, '_master': '', '_eval_distribute': None, '_train_distribute': None, '_device_fn': None, '_num_worker_replicas': 1, '_service': None, '_keep_checkpoint_max': 5, '_evaluation_master': '', '_num_ps_replicas': 0, '_keep_checkpoint_every_n_hours': 10000, '_log_step_count_steps': 100, '_protocol': None, '_model_dir': 'C:\\\\Users\\\\ZIWEIF~1\\\\AppData\\\\Local\\\\Temp\\\\tmp5tmg_vwd', '_task_id': 0, '_save_checkpoints_steps': None, '_task_type': 'worker', '_global_id_in_cluster': 0, '_save_summary_steps': 100, '_tf_random_seed': None, '_save_checkpoints_secs': 600, '_experimental_distribute': None, '_is_chief': True}\n"
     ]
    }
   ],
   "source": [
    "classifier = tf.estimator.DNNClassifier(hidden_units=[10, 20, 10], n_classes=2, feature_columns=feat_cols)"
   ]
  },
  {
   "cell_type": "code",
   "execution_count": 327,
   "metadata": {},
   "outputs": [],
   "source": [
    "input_func = tf.estimator.inputs.pandas_input_fn(x=X_train, y=y_train, batch_size=20, shuffle=True)"
   ]
  },
  {
   "cell_type": "code",
   "execution_count": 329,
   "metadata": {},
   "outputs": [
    {
     "name": "stdout",
     "output_type": "stream",
     "text": [
      "INFO:tensorflow:Calling model_fn.\n",
      "INFO:tensorflow:Done calling model_fn.\n",
      "INFO:tensorflow:Create CheckpointSaverHook.\n",
      "INFO:tensorflow:Graph was finalized.\n",
      "INFO:tensorflow:Restoring parameters from C:\\Users\\ZIWEIF~1\\AppData\\Local\\Temp\\tmp5tmg_vwd\\model.ckpt-48\n",
      "WARNING:tensorflow:From c:\\anaconda3\\anaconda3_2\\envs\\tensorflow\\lib\\site-packages\\tensorflow\\python\\training\\saver.py:1070: get_checkpoint_mtimes (from tensorflow.python.training.checkpoint_management) is deprecated and will be removed in a future version.\n",
      "Instructions for updating:\n",
      "Use standard file utilities to get mtimes.\n",
      "INFO:tensorflow:Running local_init_op.\n",
      "INFO:tensorflow:Done running local_init_op.\n",
      "INFO:tensorflow:Saving checkpoints for 48 into C:\\Users\\ZIWEIF~1\\AppData\\Local\\Temp\\tmp5tmg_vwd\\model.ckpt.\n",
      "INFO:tensorflow:loss = 0.5261534, step = 49\n",
      "INFO:tensorflow:Saving checkpoints for 96 into C:\\Users\\ZIWEIF~1\\AppData\\Local\\Temp\\tmp5tmg_vwd\\model.ckpt.\n",
      "INFO:tensorflow:Loss for final step: 0.39033186.\n"
     ]
    },
    {
     "data": {
      "text/plain": [
       "<tensorflow_estimator.python.estimator.canned.dnn.DNNClassifier at 0x1fd227b2630>"
      ]
     },
     "execution_count": 329,
     "metadata": {},
     "output_type": "execute_result"
    }
   ],
   "source": [
    "classifier.train(input_fn=input_func, steps=100)"
   ]
  },
  {
   "cell_type": "code",
   "execution_count": 330,
   "metadata": {},
   "outputs": [],
   "source": [
    "pred_fn = tf.estimator.inputs.pandas_input_fn(x=X_test, y=y_test, batch_size=len(X_test), shuffle=False)"
   ]
  },
  {
   "cell_type": "code",
   "execution_count": 331,
   "metadata": {},
   "outputs": [],
   "source": [
    "final_preds=[]\n",
    "for pred in note_predictions:\n",
    "    final_preds.append(pred['class_ids'][0])"
   ]
  },
  {
   "cell_type": "code",
   "execution_count": 332,
   "metadata": {},
   "outputs": [
    {
     "name": "stdout",
     "output_type": "stream",
     "text": [
      "[[121  98]\n",
      " [ 99  94]]\n"
     ]
    }
   ],
   "source": [
    "print(confusion_matrix(y_test, final_preds))"
   ]
  },
  {
   "cell_type": "code",
   "execution_count": 333,
   "metadata": {},
   "outputs": [
    {
     "name": "stdout",
     "output_type": "stream",
     "text": [
      "              precision    recall  f1-score   support\n",
      "\n",
      "           0       0.55      0.55      0.55       219\n",
      "           1       0.49      0.49      0.49       193\n",
      "\n",
      "   micro avg       0.52      0.52      0.52       412\n",
      "   macro avg       0.52      0.52      0.52       412\n",
      "weighted avg       0.52      0.52      0.52       412\n",
      "\n"
     ]
    }
   ],
   "source": [
    "print(classification_report(y_test, final_preds))"
   ]
  },
  {
   "cell_type": "markdown",
   "metadata": {},
   "source": [
    "## Parameters Testing and Comparison:"
   ]
  },
  {
   "cell_type": "code",
   "execution_count": 343,
   "metadata": {},
   "outputs": [
    {
     "data": {
      "image/png": "[encoded data removed]",
      "text/plain": [
       "<IPython.core.display.Image object>"
      ]
     },
     "execution_count": 343,
     "metadata": {},
     "output_type": "execute_result"
    }
   ],
   "source": [
    "Image(filename='../../Image/parameter.png')"
   ]
  },
  {
   "cell_type": "markdown",
   "metadata": {},
   "source": [
    "- Batch size: refers to the number of training examples utilized in one iteration."
   ]
  },
  {
   "cell_type": "markdown",
   "metadata": {},
   "source": [
    "### Conclusion:\n",
    "### Improve the accuracy:\n",
    "- __Hidden_layer__ > Batch_size > Train Steps > Train Test split  \n",
    "  \n",
    "### Decrease the accuracy:\n",
    "- __Hidden_layer__ > Train Steps >Train Test split > Batch size "
   ]
  },
  {
   "cell_type": "code",
   "execution_count": null,
   "metadata": {},
   "outputs": [],
   "source": []
  }
 ],
 "metadata": {
  "kernelspec": {
   "display_name": "Python 3",
   "language": "python",
   "name": "python3"
  },
  "language_info": {
   "codemirror_mode": {
    "name": "ipython",
    "version": 3
   },
   "file_extension": ".py",
   "mimetype": "text/x-python",
   "name": "python",
   "nbconvert_exporter": "python",
   "pygments_lexer": "ipython3",
   "version": "3.5.6"
  }
 },
 "nbformat": 4,
 "nbformat_minor": 2
}
