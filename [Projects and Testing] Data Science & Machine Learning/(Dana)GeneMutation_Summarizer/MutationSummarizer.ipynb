{
 "cells": [
  {
   "cell_type": "code",
   "execution_count": 32,
   "metadata": {},
   "outputs": [],
   "source": [
    "import json\n",
    "import requests \n",
    "import csv"
   ]
  },
  {
   "cell_type": "markdown",
   "metadata": {},
   "source": [
    "### Initial Parameters configuration:"
   ]
  },
  {
   "cell_type": "code",
   "execution_count": 33,
   "metadata": {},
   "outputs": [],
   "source": [
    "csvPath = 'gene_results.csv'\n",
    "#--------------------------\n",
    "#Mutation URL:\n",
    "URL_base = \"https://www.cbioportal.org/api/molecular-profiles/\"\n",
    "branch_mutations = \"gbm_tcga_mutations/mutations/\"\n",
    "para_mutations = \"fetch?projection=SUMMARY&pageSize=10000000&pageNumber=0&direction=ASC\"\n",
    "#------------------------\n",
    "#Copy Num URL:\n",
    "branch_copynum = \"gbm_tcga_gistic/discrete-copy-number/\"\n",
    "para_copynum = \"fetch?discreteCopyNumberEventType=ALL&projection=SUMMARY\"\n",
    "#------------------------\n",
    "sampleListId = 'gbm_tcga_cnaseq'"
   ]
  },
  {
   "cell_type": "code",
   "execution_count": 34,
   "metadata": {},
   "outputs": [],
   "source": [
    "# Initialize variables:\n",
    "list_geneId = []\n",
    "list_geneName = ['TP53','MDM2','MDM4']  #list_geneName = ['TP53','MDM2','MDM4']"
   ]
  },
  {
   "cell_type": "markdown",
   "metadata": {},
   "source": [
    "### EntrezGeneIds LookUp:"
   ]
  },
  {
   "cell_type": "code",
   "execution_count": 35,
   "metadata": {},
   "outputs": [],
   "source": [
    "# csvPath = 'gene_results.csv'\n",
    "def convertCsvToDict(csvPath):\n",
    "    reader = csv.reader(open(csvPath, 'r'))\n",
    "    dic = {}\n",
    "    for row in reader:\n",
    "        geneId, geneName = row\n",
    "        dic[geneName] = geneId\n",
    "    return dic"
   ]
  },
  {
   "cell_type": "code",
   "execution_count": 36,
   "metadata": {
    "scrolled": false
   },
   "outputs": [],
   "source": [
    "csv_to_dic = convertCsvToDict(csvPath) #{'TP53': '7157'"
   ]
  },
  {
   "cell_type": "code",
   "execution_count": 37,
   "metadata": {},
   "outputs": [],
   "source": [
    "def lookup(csv_to_dic, key):\n",
    "    if not key: return 'Please type geneName.'\n",
    "    if not key in csv_to_dic or not csv_to_dic[key] : return 'No such a geneId.'\n",
    "    \n",
    "    val = csv_to_dic[key]\n",
    "    \n",
    "    return val"
   ]
  },
  {
   "cell_type": "code",
   "execution_count": 38,
   "metadata": {},
   "outputs": [],
   "source": [
    "def getGeneId(csv_to_dic, list_geneName):\n",
    "    dict_geneId_geneName = {}\n",
    "    for geneName in list_geneName:\n",
    "        geneId = lookup(csv_to_dic, geneName)\n",
    "        dict_geneId_geneName[geneName] = geneId\n",
    "    print(dict_geneId_geneName)\n",
    "    return dict_geneId_geneName\n",
    "\n",
    "    list_geneId = [int(val) for val in dict_geneId_geneName.values()]\n",
    "    "
   ]
  },
  {
   "cell_type": "code",
   "execution_count": 39,
   "metadata": {
    "scrolled": false
   },
   "outputs": [
    {
     "name": "stdout",
     "output_type": "stream",
     "text": [
      "{'TP53': '7157', 'MDM2': '4193', 'MDM4': '4194'}\n"
     ]
    },
    {
     "data": {
      "text/plain": [
       "[7157, 4193, 4194]"
      ]
     },
     "execution_count": 39,
     "metadata": {},
     "output_type": "execute_result"
    }
   ],
   "source": [
    "dict_geneId_geneName = getGeneId(csv_to_dic, list_geneName)\n",
    "list_geneId = [int(val) for val in dict_geneId_geneName.values()]\n",
    "list_geneId"
   ]
  },
  {
   "cell_type": "markdown",
   "metadata": {},
   "source": [
    "### REST processing:"
   ]
  },
  {
   "cell_type": "markdown",
   "metadata": {},
   "source": [
    "#### Make a post request:"
   ]
  },
  {
   "cell_type": "code",
   "execution_count": 40,
   "metadata": {},
   "outputs": [],
   "source": [
    "def POSTRequester(URL, json_body):\n",
    "    r = requests.post(URL, json=json_body)\n",
    "    return r.json()"
   ]
  },
  {
   "cell_type": "code",
   "execution_count": 41,
   "metadata": {},
   "outputs": [],
   "source": [
    "URL_mutation = URL_base + branch_mutations + para_mutations\n",
    "#size_mutations = len(POSTRequester(URL_mutation, json_)) #geneId=7157, sampleListId=gbm_tcga_cnaseq"
   ]
  },
  {
   "cell_type": "markdown",
   "metadata": {},
   "source": [
    "#### Make a GET request:"
   ]
  },
  {
   "cell_type": "code",
   "execution_count": 42,
   "metadata": {},
   "outputs": [],
   "source": [
    "def GETRequester(URL):\n",
    "    r = requests.get(URL)\n",
    "    return r.json()"
   ]
  },
  {
   "cell_type": "code",
   "execution_count": 43,
   "metadata": {},
   "outputs": [
    {
     "data": {
      "text/plain": [
       "606"
      ]
     },
     "execution_count": 43,
     "metadata": {},
     "output_type": "execute_result"
    }
   ],
   "source": [
    "# Get patients numbers(cases)\n",
    "URL_patients = \"https://www.cbioportal.org/api/studies/gbm_tcga/patients/\"\n",
    "size_patients = len(GETRequester(URL_patients)) \n",
    "size_patients"
   ]
  },
  {
   "cell_type": "markdown",
   "metadata": {},
   "source": [
    "#### Group Mutation Count:"
   ]
  },
  {
   "cell_type": "code",
   "execution_count": 44,
   "metadata": {},
   "outputs": [],
   "source": [
    "def GetGroupMutationCount(list_geneId):\n",
    "    dict_mutations = {}\n",
    "\n",
    "    json_={\"entrezGeneIds\": \n",
    "        list_geneId\n",
    "      ,\n",
    "      \"sampleListId\": sampleListId\n",
    "    }\n",
    "\n",
    "    size_mutations = POSTRequester(URL_mutation, json_)\n",
    "    \n",
    "    for geneId in list_geneId:\n",
    "        count = 0\n",
    "        print(geneId)\n",
    "        \n",
    "        for item in size_mutations:\n",
    "            if item['entrezGeneId']== geneId:\n",
    "                count += 1\n",
    "                dict_mutations[geneId] = count\n",
    "    \n",
    "    return dict_mutations"
   ]
  },
  {
   "cell_type": "code",
   "execution_count": 45,
   "metadata": {
    "scrolled": false
   },
   "outputs": [
    {
     "name": "stdout",
     "output_type": "stream",
     "text": [
      "7157\n",
      "4193\n",
      "4194\n"
     ]
    },
    {
     "data": {
      "text/plain": [
       "{7157: 95, 4193: 2, 4194: 1}"
      ]
     },
     "execution_count": 45,
     "metadata": {},
     "output_type": "execute_result"
    }
   ],
   "source": [
    "dict_mutations = GetGroupMutationCount(list_geneId)\n",
    "dict_mutations"
   ]
  },
  {
   "cell_type": "markdown",
   "metadata": {},
   "source": [
    "#### Group mutation rates:"
   ]
  },
  {
   "cell_type": "code",
   "execution_count": 46,
   "metadata": {},
   "outputs": [
    {
     "name": "stdout",
     "output_type": "stream",
     "text": [
      "{7157: 15.7, 4193: 0.3, 4194: 0.2}\n"
     ]
    }
   ],
   "source": [
    "group_mutation_rates = {}\n",
    "for geneid, mutation in dict_mutations.items():\n",
    "    group_mutation_rates[geneid] = round(mutation/size_patients,3) * 100\n",
    "print(group_mutation_rates)"
   ]
  },
  {
   "cell_type": "markdown",
   "metadata": {},
   "source": [
    "#### Get  Copynum:"
   ]
  },
  {
   "cell_type": "code",
   "execution_count": 47,
   "metadata": {},
   "outputs": [],
   "source": [
    "def getCopyNum(URL_copynum, list_geneId):\n",
    "    \n",
    "    dict_countCopyNum = {}\n",
    "    \n",
    "    json_={\"entrezGeneIds\": \n",
    "        list_geneId #geneId=7157\n",
    "      ,\n",
    "      \"sampleListId\": sampleListId\n",
    "    }\n",
    "    \n",
    "    json_res = POSTRequester(URL_copynum, json_)\n",
    "    \n",
    "    for geneId in list_geneId:\n",
    "        count = 0\n",
    "        for item in json_res:\n",
    "            if item['entrezGeneId']==geneId and item['alteration'] != 0 and item['alteration'] != 'NA':\n",
    "                count += 1\n",
    "        dict_countCopyNum[geneId] = count\n",
    "        \n",
    "    return dict_countCopyNum"
   ]
  },
  {
   "cell_type": "code",
   "execution_count": 48,
   "metadata": {},
   "outputs": [
    {
     "name": "stdout",
     "output_type": "stream",
     "text": [
      "{7157: 61, 4193: 65, 4194: 83}\n"
     ]
    }
   ],
   "source": [
    "URL_copynum = URL_base + branch_copynum + para_copynum\n",
    "#list_geneId = [7157, 3569, 7040]\n",
    "\n",
    "dict_countCopyNum = getCopyNum(URL_copynum, list_geneId)\n",
    "print(dict_countCopyNum)"
   ]
  },
  {
   "cell_type": "markdown",
   "metadata": {},
   "source": [
    "#### Group copy number altered rate:"
   ]
  },
  {
   "cell_type": "code",
   "execution_count": 49,
   "metadata": {},
   "outputs": [],
   "source": [
    "def getGroupCopyNumAlteredRate(dict_countCopyNum, size_patients):\n",
    "    group_CopyNumAlteredRates = {}\n",
    "    \n",
    "    for geneId, copyNum in dict_countCopyNum.items():\n",
    "        group_CopyNumAlteredRates[geneId] = round(copyNum/size_patients, 3) * 100\n",
    "        \n",
    "    return group_CopyNumAlteredRates"
   ]
  },
  {
   "cell_type": "code",
   "execution_count": 50,
   "metadata": {},
   "outputs": [
    {
     "data": {
      "text/plain": [
       "{7157: 10.100000000000001, 4193: 10.7, 4194: 13.700000000000001}"
      ]
     },
     "execution_count": 50,
     "metadata": {},
     "output_type": "execute_result"
    }
   ],
   "source": [
    "group_CopyNumAlteredRates = getGroupCopyNumAlteredRate(dict_countCopyNum, size_patients)\n",
    "group_CopyNumAlteredRates"
   ]
  },
  {
   "cell_type": "markdown",
   "metadata": {},
   "source": [
    "#### Combine Single mutation & copy number altered:"
   ]
  },
  {
   "cell_type": "code",
   "execution_count": 51,
   "metadata": {},
   "outputs": [],
   "source": [
    "def combMutationAndCopyNum(group_mutation_rates, group_CopyNumAlteredRates):\n",
    "    new_dict = {}\n",
    "    for id_mut, rate_mut in group_mutation_rates.items():\n",
    "        for id_co, rate_co in group_CopyNumAlteredRates.items():\n",
    "            if id_mut == id_co:\n",
    "                id_ = id_mut\n",
    "                new_dict[id_] = round(rate_mut + rate_co, 3)\n",
    "    return new_dict"
   ]
  },
  {
   "cell_type": "code",
   "execution_count": 52,
   "metadata": {},
   "outputs": [
    {
     "data": {
      "text/plain": [
       "{7157: 25.8, 4193: 11.0, 4194: 13.9}"
      ]
     },
     "execution_count": 52,
     "metadata": {},
     "output_type": "execute_result"
    }
   ],
   "source": [
    "combMutationAndCopyNum(group_mutation_rates, group_CopyNumAlteredRates)"
   ]
  },
  {
   "cell_type": "markdown",
   "metadata": {},
   "source": [
    "### Output:"
   ]
  },
  {
   "cell_type": "code",
   "execution_count": 53,
   "metadata": {},
   "outputs": [],
   "source": [
    "def checkGeneNames(dict_geneId_geneName, geneId):\n",
    "    for name, gid in dict_geneId_geneName.items():\n",
    "            if int(gid)== int(geneId):\n",
    "                return name"
   ]
  },
  {
   "cell_type": "code",
   "execution_count": 54,
   "metadata": {},
   "outputs": [
    {
     "data": {
      "text/plain": [
       "{7157: 15.7, 4193: 0.3, 4194: 0.2}"
      ]
     },
     "execution_count": 54,
     "metadata": {},
     "output_type": "execute_result"
    }
   ],
   "source": [
    "group_mutation_rates"
   ]
  },
  {
   "cell_type": "code",
   "execution_count": 55,
   "metadata": {},
   "outputs": [
    {
     "data": {
      "text/plain": [
       "{7157: 10.100000000000001, 4193: 10.7, 4194: 13.700000000000001}"
      ]
     },
     "execution_count": 55,
     "metadata": {},
     "output_type": "execute_result"
    }
   ],
   "source": [
    "group_CopyNumAlteredRates"
   ]
  },
  {
   "cell_type": "code",
   "execution_count": 56,
   "metadata": {},
   "outputs": [],
   "source": [
    "def output(group_mutation_rates, group_CopyNumAlteredRates):\n",
    "    if len(group_mutation_rates)!= len(group_CopyNumAlteredRates):\n",
    "        return \"Error in length.\"\n",
    "    \n",
    "    length = len(group_CopyNumAlteredRates)\n",
    "    if length==0:\n",
    "        return \"No Gene.\"\n",
    "    \n",
    "    elif length == 1:\n",
    "        geneName = checkGeneNames(dict_geneId_geneName, list(group_mutation_rates.keys())[0])\n",
    "        print(geneName, 'is mutated in ', list(group_mutation_rates.values())[0], '% of all cases.')\n",
    "        \n",
    "        print(geneName, ' is copy number altered in ', list(group_CopyNumAlteredRates.values())[0], '% of all cases.')\n",
    "        \n",
    "        comb_rate = combMutationAndCopyNum(group_mutation_rates, group_CopyNumAlteredRates)\n",
    "        print('Cases with at least one mutation or copy number alteration in ', geneName, ': ', list(comb_rate.values())[0], '% of all cases.')\n",
    "    \n",
    "    elif length >= 1:\n",
    "        comb_rate = combMutationAndCopyNum(group_mutation_rates, group_CopyNumAlteredRates)\n",
    "        total_rate = 0\n",
    "        for geneId, rate in comb_rate.items():\n",
    "            geneName = checkGeneNames(dict_geneId_geneName, geneId)\n",
    "            print(geneName, 'is mutated or copy number altered in ', rate ,'% of cases.')\n",
    "            total_rate += rate\n",
    "        print('Cases with at least one mutation or copy number alteration in one of the genes:', round(total_rate), '%')"
   ]
  },
  {
   "cell_type": "code",
   "execution_count": 57,
   "metadata": {
    "scrolled": true
   },
   "outputs": [
    {
     "name": "stdout",
     "output_type": "stream",
     "text": [
      "TP53 is mutated or copy number altered in  25.8 % of cases.\n",
      "MDM2 is mutated or copy number altered in  11.0 % of cases.\n",
      "MDM4 is mutated or copy number altered in  13.9 % of cases.\n",
      "Cases with at least one mutation or copy number alteration in one of the genes: 51 %\n"
     ]
    }
   ],
   "source": [
    "output(group_mutation_rates, group_CopyNumAlteredRates)"
   ]
  },
  {
   "cell_type": "code",
   "execution_count": null,
   "metadata": {},
   "outputs": [],
   "source": []
  }
 ],
 "metadata": {
  "kernelspec": {
   "display_name": "Python 3",
   "language": "python",
   "name": "python3"
  },
  "language_info": {
   "codemirror_mode": {
    "name": "ipython",
    "version": 3
   },
   "file_extension": ".py",
   "mimetype": "text/x-python",
   "name": "python",
   "nbconvert_exporter": "python",
   "pygments_lexer": "ipython3",
   "version": "3.7.0b3"
  }
 },
 "nbformat": 4,
 "nbformat_minor": 2
}
