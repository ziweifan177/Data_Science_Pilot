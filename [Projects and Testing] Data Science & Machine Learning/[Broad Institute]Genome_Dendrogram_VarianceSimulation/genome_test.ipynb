{
 "cells": [
  {
   "cell_type": "code",
   "execution_count": 10,
   "metadata": {},
   "outputs": [],
   "source": [
    "# python3 genome_simulation.py --ini='bacteria.ini' --data='Escherichia_coli_DH10B.fasta'\n",
    "from configparser import ConfigParser\n",
    "import optparse\n",
    "import random, os, sys\n",
    "import pandas as pd\n",
    "import numpy as np\n",
    "import logging\n",
    "from datetime import datetime\n",
    "import numpy as np\n",
    "import calendar\n",
    "import time\n",
    "from Bio import SeqIO \n",
    "from decimal import *\n",
    "import numpy as np\n",
    "import matplotlib.pyplot as plt"
   ]
  },
  {
   "cell_type": "code",
   "execution_count": 423,
   "metadata": {},
   "outputs": [],
   "source": [
    "def hamming(str1, str2):\n",
    "    return sum(str1 != str2 for str1, str2 in zip(str1, str2))"
   ]
  },
  {
   "cell_type": "code",
   "execution_count": 442,
   "metadata": {},
   "outputs": [],
   "source": [
    "ori_seq = 'TGCTTTTCATTCTGACTGCAACGCGCAATATTTCTATCTC'\n",
    "lambda_vary_type =0\n",
    "conf_lamba=0.5"
   ]
  },
  {
   "cell_type": "code",
   "execution_count": 443,
   "metadata": {},
   "outputs": [],
   "source": [
    "def mutate_base(ori_base, conf_lamba, bases_pool_list): #['C','A','G']\n",
    "    mutated_base = np.random.choice(bases_pool_list, 1, [1-conf_lamba, conf_lamba/2, conf_lamba/2]) #Pick 1 from target list based on flip.\n",
    "\n",
    "    return mutated_base"
   ]
  },
  {
   "cell_type": "code",
   "execution_count": 444,
   "metadata": {},
   "outputs": [],
   "source": [
    "def mutation_simulate(ori_seq, conf_lamba, lambda_vary_type):\n",
    "    mutated_seq = []\n",
    "\n",
    "    if lambda_vary_type == 0: #constant lambda\n",
    "        for ori_base in ori_seq:         \n",
    "            #print(time, 'ori_base: ', ori_base)\n",
    "            \n",
    "            if ori_base == 'A' or ori_base == 'T':\n",
    "                mutated_seq.append(ori_base)\n",
    "            \n",
    "            if ori_base == 'C': #C-> G or A\n",
    "                mutated_seq.append(mutate_base(ori_base, conf_lamba, ['C','A','G']))      \n",
    "                \n",
    "            # For G base: transit to C or T by flip probability (if flip < lamda picked randomly from configuration lambda list.)       \n",
    "            elif ori_base == 'G': #G-> C or T\n",
    "                mutated_seq.append(mutate_base(ori_base, conf_lamba, ['G','C','T']))\n",
    "                \n",
    "    hamming_distance = hamming(ori_seq, mutated_seq) \n",
    "    \n",
    "    return mutated_seq, hamming_distance"
   ]
  },
  {
   "cell_type": "code",
   "execution_count": 446,
   "metadata": {
    "scrolled": false
   },
   "outputs": [
    {
     "name": "stdout",
     "output_type": "stream",
     "text": [
      "['T', array(['G'], dtype='<U1'), array(['A'], dtype='<U1'), 'T', 'T', 'T', 'T', array(['A'], dtype='<U1'), 'A', 'T', 'T', array(['G'], dtype='<U1'), 'T', array(['C'], dtype='<U1'), 'A', array(['A'], dtype='<U1'), 'T', array(['G'], dtype='<U1'), array(['G'], dtype='<U1'), 'A', 'A', array(['G'], dtype='<U1'), array(['G'], dtype='<U1'), array(['C'], dtype='<U1'), array(['C'], dtype='<U1'), array(['G'], dtype='<U1'), 'A', 'A', 'T', 'A', 'T', 'T', 'T', array(['C'], dtype='<U1'), 'T', 'A', 'T', array(['C'], dtype='<U1'), 'T', array(['C'], dtype='<U1')]\n",
      "TGCTTTTCATTCTGACTGCAACGCGCAATATTTCTATCTC\n",
      "TCGTTTTAATTCTTACTGCAACTCGAAATATTTCTATCTG\n",
      "[9]\n"
     ]
    }
   ],
   "source": [
    "mutated_seq, hamming_distance = mutation_simulate(ori_seq, conf_lamba, lambda_vary_type)\n",
    "print(list(mutated_seq))\n",
    "\n",
    "print(ori_seq)\n",
    "mutated_seq = ''.join([''.join(base) for base in mutated_seq_file_list])\n",
    "print(mutated_seq)\n",
    "print(hamming_distance)"
   ]
  },
  {
   "cell_type": "code",
   "execution_count": 126,
   "metadata": {},
   "outputs": [],
   "source": [
    "def parse_file(filename, formatname, length): \n",
    "    '''\n",
    "        filename: file path\n",
    "        formatname: 'fasta', 'abi', 'genbank or gb' etc...\n",
    "        length: top number for snipping\n",
    "    '''\n",
    "    with open(filename, \"rU\") as handle:\n",
    "        for record in SeqIO.parse(handle, formatname) :\n",
    "            if len(record.seq)>length:\n",
    "                base_top = record.seq[:length]\n",
    "        return record, base_top"
   ]
  },
  {
   "cell_type": "code",
   "execution_count": 127,
   "metadata": {},
   "outputs": [],
   "source": [
    "def mutate_prob(target_bases_list, prob1): \n",
    "    picked_base = np.random.choice(target_bases_list, 1, prob1) #Pick 1 from target list based on prob1.\n",
    "    return picked_base"
   ]
  },
  {
   "cell_type": "code",
   "execution_count": 128,
   "metadata": {},
   "outputs": [],
   "source": [
    "def mutation_simulate(ori_seq):\n",
    "    hamming_distance=0\n",
    "    mutated_seq=[]\n",
    "\n",
    "    for ori_base in ori_seq:\n",
    "        flip = np.random.uniform(0, 1)\n",
    "        #print('flip on ', ori_base, flip)\n",
    "        \n",
    "        lambda_list = list(conf_lamba)\n",
    "        picked_lamba = np.random.choice(lambda_list, 1)\n",
    "    \n",
    "        # For C base: transit to A or G by flip probability (if flip < lamda picked randomly from configuration lambda list.)\n",
    "        if (ori_base == 'C') and (flip <= picked_lamba): #C-> G or A\n",
    "            mutated_base = mutate_prob(['A','G'], flip)  #Pick 1 from target list based on flip.\n",
    "            hamming_distance+=1\n",
    "            if mutated_base:\n",
    "                #print ('(Mutated', ori_base, ' to: ', mutated_base, ' flip: ', flip, 'lambda: ', picked_lamba, ')')\n",
    "                mutated_seq.append(mutated_base)   \n",
    "            else:\n",
    "                mutated_seq.append(ori_base)\n",
    "                \n",
    "        # For G base: transit to C or T by flip probability (if flip < lamda picked randomly from configuration lambda list.)       \n",
    "        elif (ori_base == 'G') and (flip <= picked_lamba): #G-> C or T\n",
    "            mutated_base = mutate_prob(['C','T'], flip)  #Pick 1 from target list based on flip.\n",
    "            hamming_distance+=1\n",
    "            if mutated_base:\n",
    "                #print ('(Mutated', ori_base, ' to: ', mutated_base, ' flip: ', flip, 'lambda: ', picked_lamba, ')')\n",
    "                mutated_seq.append(mutated_base)   \n",
    "            else:\n",
    "                mutated_seq.append(ori_base)            \n",
    "        else:\n",
    "            mutated_seq.append(ori_base)\n",
    "\n",
    "    return mutated_seq, hamming_distance"
   ]
  },
  {
   "cell_type": "code",
   "execution_count": 130,
   "metadata": {},
   "outputs": [],
   "source": [
    "#[lamba]\n",
    "# conf_lamba_min/max: It is on a per generation basis ... update mutation rate to different values within the rage. \n",
    "# conf_lamba_min/max:Start by one generation the min rate then the next the max rate then the min rate etc\n",
    "# conf_lamba_min=0.1 \n",
    "# conf_lamba_max=0.5\n",
    "\n",
    "# conf_lamba: can have multiple lambas\n",
    "conf_lamba=0.2,0.1,0.3\n",
    "conf_generation=7\n",
    "\n",
    "#[mutation]\n",
    "# run_times: How many mutated seqs will be generated.\n",
    "conf_run_times=4 \n",
    "conf_numrows=1\n",
    "\n",
    "#[fasta]\n",
    "# conf_filepath: The path of fasta file.\n",
    "#conf_filepath = 'C:\\Projects\\Broad\\code\\FASTA\\Escherichia_coli_DH10B.fasta'\n",
    "conf_filepath = '../Escherichia_coli_DH10B.fasta'\n",
    "# conf_top_num: How many bases could be kept from fasta file.\n",
    "conf_top_num = 40 \n",
    "# conf_generated_file_format: specify the format will be generated with: '.nex','.txt' etc.\n",
    "conf_generated_file_format = '.txt'"
   ]
  },
  {
   "cell_type": "code",
   "execution_count": 131,
   "metadata": {},
   "outputs": [
    {
     "name": "stdout",
     "output_type": "stream",
     "text": [
      "AGCTTTTCATTCTGACTGCAACGGGCAATATGTCTCTGTG\n"
     ]
    },
    {
     "name": "stderr",
     "output_type": "stream",
     "text": [
      "c:\\python37\\lib\\site-packages\\ipykernel_launcher.py:7: DeprecationWarning: 'U' mode is deprecated\n",
      "  import sys\n"
     ]
    }
   ],
   "source": [
    "# Get the trimmed seq string from specified file.\n",
    "record, base_top = parse_file(conf_filepath, \"fasta\", int(conf_top_num))\n",
    "ori_seq = str(base_top)\n",
    "print(ori_seq)"
   ]
  },
  {
   "cell_type": "code",
   "execution_count": 132,
   "metadata": {},
   "outputs": [
    {
     "name": "stdout",
     "output_type": "stream",
     "text": [
      "1565634613\n"
     ]
    }
   ],
   "source": [
    "# Generate file name with timestamp.\n",
    "timestamp = calendar.timegm(time.gmtime())\n",
    "print(timestamp)\n",
    "mut_seq_nexfilepath = \"file_generated\\\\\"+\"SimSeqFile_\"+ str(timestamp) + conf_generated_file_format"
   ]
  },
  {
   "cell_type": "code",
   "execution_count": 133,
   "metadata": {},
   "outputs": [],
   "source": [
    "def compare_seq(seq1, seq2):\n",
    "    diff_seq = ''\n",
    "    diff_index=''\n",
    "    diff=''\n",
    "    \n",
    "    if len(seq1)==len(seq2):\n",
    "        for i in range(0, len(seq1)):\n",
    "            if seq1[i]!= seq2[i]:\n",
    "                #diff_str+=str(i)+':'+seq1[i]+'->'+seq2[i]\n",
    "                diff_seq+=seq2[i]\n",
    "                diff_index+=str(i)+','\n",
    "        diff = diff_seq+' '+diff_index\n",
    "        \n",
    "    else:\n",
    "        return\n",
    "\n",
    "    return diff.rstrip(',')"
   ]
  },
  {
   "cell_type": "code",
   "execution_count": 241,
   "metadata": {},
   "outputs": [],
   "source": [
    "# Sike:\n",
    "def dna_seq_compare(ori_seq, mutated_seq):\n",
    "    len1 = len(ori_seq)\n",
    "    len2 = len(mutated_seq)\n",
    "    mismatches = []\n",
    "    diff_pos = []\n",
    "    \n",
    "    for pos in range (0, min(len1, len2)):\n",
    "        if ori_seq[pos]!= mutated_seq[pos]:\n",
    "            mismatches.append(\"|\")\n",
    "            diff_pos.append(pos)\n",
    "        else:\n",
    "            mismatches.append(\" \")\n",
    "    mismatches = \"\".join(mismatches)\n",
    "    return diff_pos, mismatches+'\\n'+ mutated_seq"
   ]
  },
  {
   "cell_type": "code",
   "execution_count": 243,
   "metadata": {},
   "outputs": [
    {
     "data": {
      "text/html": [
       "<div>\n",
       "<style scoped>\n",
       "    .dataframe tbody tr th:only-of-type {\n",
       "        vertical-align: middle;\n",
       "    }\n",
       "\n",
       "    .dataframe tbody tr th {\n",
       "        vertical-align: top;\n",
       "    }\n",
       "\n",
       "    .dataframe thead th {\n",
       "        text-align: right;\n",
       "    }\n",
       "</style>\n",
       "<table border=\"1\" class=\"dataframe\">\n",
       "  <thead>\n",
       "    <tr style=\"text-align: right;\">\n",
       "      <th></th>\n",
       "      <th>0</th>\n",
       "      <th>1</th>\n",
       "      <th>2</th>\n",
       "      <th>3</th>\n",
       "      <th>4</th>\n",
       "      <th>5</th>\n",
       "      <th>6</th>\n",
       "      <th>7</th>\n",
       "      <th>8</th>\n",
       "      <th>9</th>\n",
       "      <th>...</th>\n",
       "      <th>30</th>\n",
       "      <th>31</th>\n",
       "      <th>32</th>\n",
       "      <th>33</th>\n",
       "      <th>34</th>\n",
       "      <th>35</th>\n",
       "      <th>36</th>\n",
       "      <th>37</th>\n",
       "      <th>38</th>\n",
       "      <th>39</th>\n",
       "    </tr>\n",
       "  </thead>\n",
       "  <tbody>\n",
       "  </tbody>\n",
       "</table>\n",
       "<p>0 rows × 40 columns</p>\n",
       "</div>"
      ],
      "text/plain": [
       "Empty DataFrame\n",
       "Columns: [0, 1, 2, 3, 4, 5, 6, 7, 8, 9, 10, 11, 12, 13, 14, 15, 16, 17, 18, 19, 20, 21, 22, 23, 24, 25, 26, 27, 28, 29, 30, 31, 32, 33, 34, 35, 36, 37, 38, 39]\n",
       "Index: []\n",
       "\n",
       "[0 rows x 40 columns]"
      ]
     },
     "execution_count": 243,
     "metadata": {},
     "output_type": "execute_result"
    }
   ],
   "source": [
    "#Updated: create a dataframe to store all difference for further hamming sum caculation:\n",
    "list_all_hamming = []\n",
    "for i in range(0, len(ori_seq)):\n",
    "    list_all_hamming.append(str(i))\n",
    "    \n",
    "list_all_hamming\n",
    "    \n",
    "df_all_hamming = pd.DataFrame(columns=list_all_hamming)\n",
    "df_all_hamming"
   ]
  },
  {
   "cell_type": "code",
   "execution_count": 247,
   "metadata": {
    "scrolled": false
   },
   "outputs": [
    {
     "name": "stdout",
     "output_type": "stream",
     "text": [
      "Hamming distance:  2\n",
      "AGCTTTTCATTCTGACTGCAACGGGCAATATGTCTCTGTG\n",
      "  |                                  |  \n",
      "AGATTTTCATTCTGACTGCAACGGGCAATATGTCTCTCTG\n",
      "_______________________________________\n",
      "\n",
      "Hamming distance:  5\n",
      "AGCTTTTCATTCTGACTGCAACGGGCAATATGTCTCTGTG\n",
      " |                |  |||                \n",
      "ATCTTTTCATTCTGACTGGAAGTCGCAATATGTCTCTGTG\n",
      "_______________________________________\n",
      "\n",
      "Hamming distance:  5\n",
      "AGCTTTTCATTCTGACTGCAACGGGCAATATGTCTCTGTG\n",
      "           | | | |                 |    \n",
      "AGCTTTTCATTATCAATCCAACGGGCAATATGTCTATGTG\n",
      "_______________________________________\n",
      "\n",
      "Hamming distance:  2\n",
      "AGCTTTTCATTCTGACTGCAACGGGCAATATGTCTCTGTG\n",
      "                               |     |  \n",
      "AGCTTTTCATTCTGACTGCAACGGGCAATATCTCTCTTTG\n",
      "_______________________________________\n",
      "\n",
      "1 time(s) mutation:[2, 37]\n",
      "2 time(s) mutation:[1, 18, 21, 22, 23]\n",
      "3 time(s) mutation:[11, 13, 15, 17, 35]\n",
      "4 time(s) mutation:[31, 37]\n",
      "\n"
     ]
    }
   ],
   "source": [
    "# Generate the mutated seq, hamming distance, and mark the difference between mutated seqs and original sequence.\n",
    "# Generate the dataframe with mutated seq and hamming distance.\n",
    "\n",
    "multi_mutated_seq=''\n",
    "diff_str = ''\n",
    "multi_mutated_seq ='>Ori\\n' + ori_seq+'\\n'\n",
    "df_mutseq_hamming = pd.DataFrame(columns=[\"id\", \"seq\", \"hamming_distance\"]).append({\"id\":0,\"seq\":ori_seq, \"hamming_distance\":0},ignore_index=True)\n",
    "\n",
    "\n",
    "for run_time in range(conf_run_times):\n",
    "    #print('\\nMutating...', run_time+1, 'times: ')\n",
    "    mutated_seq_file_list, hamming_distance = mutation_simulate(ori_seq) #Tuple return: mutation_simulate(): mutated_seq, count. Get mutated_seq.\n",
    "      \n",
    "    #seq_num = 'GBAC_' + str(conf_generation)+'_'+ str(conf_lamba)\n",
    "    mutated_seq = ''.join([''.join(base) for base in mutated_seq_file_list])\n",
    "    multi_mutated_seq += '>Gen'+str(conf_generation)+'_'+str(run_time)+'\\n'+mutated_seq+'\\n'\n",
    "    df_mutseq_hamming = df_mutseq_hamming.append({\"id\":run_time+1, \"seq\":mutated_seq, \"hamming_distance\": hamming_distance},ignore_index=True)\n",
    "    print('Hamming distance: ', hamming_distance)\n",
    "    \n",
    "    \n",
    "    diff_str += str(run_time+1)+' time(s) mutation:'+ str(dna_seq_compare(ori_seq, mutated_seq)[0])+'\\n'\n",
    "    \n",
    "    #Sike: diff marker:\n",
    "    print(ori_seq)\n",
    "    str_diff_result = dna_seq_compare(ori_seq, mutated_seq)[1]+'\\n'+'_______________________________________'\n",
    "    \n",
    "    \n",
    "    print(str_diff_result)\n",
    "    print()\n",
    "\n",
    "#print(multi_mutated_seq)\n",
    "print(diff_str)\n"
   ]
  },
  {
   "cell_type": "code",
   "execution_count": 231,
   "metadata": {},
   "outputs": [
    {
     "name": "stdout",
     "output_type": "stream",
     "text": [
      "[1, 35, 37, 39]\n",
      "<class 'list'>\n"
     ]
    }
   ],
   "source": [
    "res = get_diff_column('AGCTTTTCATTCTGACTGCAACGGGCAATATGTCTCTGTG', 'ACCTTTTCATTCTGACTGCAACGGGCAATATGTCTATCTC')\n",
    "print(res)\n",
    "print(type(res))"
   ]
  },
  {
   "cell_type": "code",
   "execution_count": 187,
   "metadata": {},
   "outputs": [
    {
     "data": {
      "text/html": [
       "<div>\n",
       "<style scoped>\n",
       "    .dataframe tbody tr th:only-of-type {\n",
       "        vertical-align: middle;\n",
       "    }\n",
       "\n",
       "    .dataframe tbody tr th {\n",
       "        vertical-align: top;\n",
       "    }\n",
       "\n",
       "    .dataframe thead th {\n",
       "        text-align: right;\n",
       "    }\n",
       "</style>\n",
       "<table border=\"1\" class=\"dataframe\">\n",
       "  <thead>\n",
       "    <tr style=\"text-align: right;\">\n",
       "      <th></th>\n",
       "      <th>id</th>\n",
       "      <th>seq</th>\n",
       "      <th>hamming_distance</th>\n",
       "    </tr>\n",
       "  </thead>\n",
       "  <tbody>\n",
       "    <tr>\n",
       "      <th>0</th>\n",
       "      <td>0</td>\n",
       "      <td>AGCTTTTCATTCTGACTGCAACGGGCAATATGTCTCTGTG</td>\n",
       "      <td>0</td>\n",
       "    </tr>\n",
       "    <tr>\n",
       "      <th>1</th>\n",
       "      <td>1</td>\n",
       "      <td>AGCTTTTCATTCTTACTGCAACGGGCAATATGTCTCTGTG</td>\n",
       "      <td>1</td>\n",
       "    </tr>\n",
       "    <tr>\n",
       "      <th>2</th>\n",
       "      <td>2</td>\n",
       "      <td>AGCTTTTCATTCTTACTGCAACGGGCAATATGTCTCTGTG</td>\n",
       "      <td>1</td>\n",
       "    </tr>\n",
       "    <tr>\n",
       "      <th>3</th>\n",
       "      <td>3</td>\n",
       "      <td>AGCTTTTCATTCTGACTGGAACTGGCAATATGTCTCTGTG</td>\n",
       "      <td>2</td>\n",
       "    </tr>\n",
       "    <tr>\n",
       "      <th>4</th>\n",
       "      <td>4</td>\n",
       "      <td>AGCTTTTCATTGTGACTGCAACCGGCAATATGTATCTGTG</td>\n",
       "      <td>3</td>\n",
       "    </tr>\n",
       "  </tbody>\n",
       "</table>\n",
       "</div>"
      ],
      "text/plain": [
       "  id                                       seq hamming_distance\n",
       "0  0  AGCTTTTCATTCTGACTGCAACGGGCAATATGTCTCTGTG                0\n",
       "1  1  AGCTTTTCATTCTTACTGCAACGGGCAATATGTCTCTGTG                1\n",
       "2  2  AGCTTTTCATTCTTACTGCAACGGGCAATATGTCTCTGTG                1\n",
       "3  3  AGCTTTTCATTCTGACTGGAACTGGCAATATGTCTCTGTG                2\n",
       "4  4  AGCTTTTCATTGTGACTGCAACCGGCAATATGTATCTGTG                3"
      ]
     },
     "execution_count": 187,
     "metadata": {},
     "output_type": "execute_result"
    }
   ],
   "source": [
    "df_mutseq_hamming"
   ]
  },
  {
   "cell_type": "markdown",
   "metadata": {},
   "source": [
    "### Test： "
   ]
  },
  {
   "cell_type": "code",
   "execution_count": 20,
   "metadata": {},
   "outputs": [],
   "source": [
    "conf_filepath = '../Escherichia_coli_DH10B.fasta'"
   ]
  },
  {
   "cell_type": "code",
   "execution_count": 28,
   "metadata": {
    "scrolled": true
   },
   "outputs": [
    {
     "name": "stdout",
     "output_type": "stream",
     "text": [
      "ID: NC_010473.1\n",
      "Name: NC_010473.1\n",
      "Description: NC_010473.1 Escherichia coli str. K12 substr. DH10B, complete genome\n",
      "Number of features: 0\n",
      "Seq('AGCTTTTCATTCTGACTGCAACGGGCAATATGTCTCTGTGTGGATTAAAAAAAG...TTC', SingleLetterAlphabet())\n"
     ]
    },
    {
     "name": "stderr",
     "output_type": "stream",
     "text": [
      "c:\\python37\\lib\\site-packages\\ipykernel_launcher.py:1: DeprecationWarning: 'U' mode is deprecated\n",
      "  \"\"\"Entry point for launching an IPython kernel.\n"
     ]
    }
   ],
   "source": [
    "handle = open(conf_filepath, \"rU\")\n",
    "for fasta_record in SeqIO.parse(handle, \"fasta\") :\n",
    "    print (fasta_record)\n",
    "handle.close()"
   ]
  },
  {
   "cell_type": "code",
   "execution_count": 33,
   "metadata": {},
   "outputs": [],
   "source": [
    "from Bio.Cluster import kcluster"
   ]
  },
  {
   "cell_type": "code",
   "execution_count": 34,
   "metadata": {},
   "outputs": [],
   "source": [
    "sequences = [\n",
    " 'ADHAMKCAIROSURBANDJVUGLOBALIZATIONANDURBANFANTASIESPLA',\n",
    "'AGGESTAMKTHEARABSTATEANDNEOLIBERALGLOBALIZATIONTHEARAB',\n",
    "'AGGESTAMKTHEARABSTATEANDNEOLIBERALGLOBALIZATIONTHEARAB',\n",
    "'AGGESTAMKTHEARABSTATEANDNEOLIBERALGLOBALIZATIONTHEARAB']"
   ]
  },
  {
   "cell_type": "code",
   "execution_count": 35,
   "metadata": {},
   "outputs": [
    {
     "name": "stderr",
     "output_type": "stream",
     "text": [
      "c:\\python37\\lib\\site-packages\\ipykernel_launcher.py:1: DeprecationWarning: The binary mode of fromstring is deprecated, as it behaves surprisingly on unicode inputs. Use frombuffer instead\n",
      "  \"\"\"Entry point for launching an IPython kernel.\n"
     ]
    }
   ],
   "source": [
    "matrix = np.asarray([np.fromstring(s, dtype=np.uint8) for s in sequences])"
   ]
  },
  {
   "cell_type": "code",
   "execution_count": 36,
   "metadata": {},
   "outputs": [],
   "source": [
    "clusterid, error, nfound = kcluster(matrix)"
   ]
  },
  {
   "cell_type": "code",
   "execution_count": 37,
   "metadata": {},
   "outputs": [
    {
     "name": "stdout",
     "output_type": "stream",
     "text": [
      "[0 1 1 1]\n"
     ]
    }
   ],
   "source": [
    "print(clusterid)"
   ]
  },
  {
   "cell_type": "code",
   "execution_count": 56,
   "metadata": {},
   "outputs": [],
   "source": [
    "import numpy as np\n",
    "X = np.array([[5,3],\n",
    "    [10,15],\n",
    "    [15,12],\n",
    "    [24,10],\n",
    "    [30,30],\n",
    "    [85,70],\n",
    "    [71,80],\n",
    "    [60,78],\n",
    "    [70,55],\n",
    "    [80,91],])\n"
   ]
  },
  {
   "cell_type": "code",
   "execution_count": 57,
   "metadata": {
    "scrolled": true
   },
   "outputs": [
    {
     "data": {
      "image/png": "[encoded data removed]",
      "text/plain": [
       "<Figure size 720x504 with 1 Axes>"
      ]
     },
     "metadata": {
      "needs_background": "light"
     },
     "output_type": "display_data"
    }
   ],
   "source": [
    "import matplotlib.pyplot as plt\n",
    "\n",
    "labels = range(1, 11)\n",
    "plt.figure(figsize=(10, 7))\n",
    "plt.subplots_adjust(bottom=0.1)\n",
    "plt.scatter(X[:,0],X[:,1], label='True Position')\n",
    "\n",
    "for label, x, y in zip(labels, X[:, 0], X[:, 1]):\n",
    "    plt.annotate(\n",
    "        label,\n",
    "        xy=(x, y), xytext=(-3, 3),\n",
    "        textcoords='offset points', ha='right', va='bottom')\n",
    "plt.show()\n"
   ]
  },
  {
   "cell_type": "code",
   "execution_count": 46,
   "metadata": {
    "scrolled": false
   },
   "outputs": [
    {
     "name": "stdout",
     "output_type": "stream",
     "text": [
      "<class 'numpy.ndarray'>\n",
      "[[ 1.          2.          5.83095189  2.        ]\n",
      " [ 3.         10.          9.21954446  3.        ]\n",
      " [ 6.          7.         11.18033989  2.        ]\n",
      " [ 0.         11.         13.          4.        ]\n",
      " [ 9.         12.         14.2126704   3.        ]\n",
      " [ 5.         14.         17.20465053  4.        ]\n",
      " [ 4.         13.         20.88061302  5.        ]\n",
      " [ 8.         15.         21.21320344  5.        ]\n",
      " [16.         17.         47.16990566 10.        ]]\n"
     ]
    },
    {
     "data": {
      "image/png": "[encoded data removed]",
      "text/plain": [
       "<Figure size 720x504 with 1 Axes>"
      ]
     },
     "metadata": {
      "needs_background": "light"
     },
     "output_type": "display_data"
    }
   ],
   "source": [
    "from scipy.cluster.hierarchy import dendrogram, linkage\n",
    "from matplotlib import pyplot as plt\n",
    "\n",
    "linked = linkage(X, 'single')\n",
    "print(type(linked))\n",
    "print(linked)\n",
    "labelList = range(1, 11)\n",
    "\n",
    "plt.figure(figsize=(10, 7))\n",
    "dendrogram(linked,\n",
    "            orientation='top',\n",
    "            labels=labelList,\n",
    "            distance_sort='descending',\n",
    "            show_leaf_counts=True)\n",
    "plt.show()\n",
    "\n",
    "'''\n",
    "X = np.array([[5,3],\n",
    "    [10,15],\n",
    "    [15,12],\n",
    "    [24,10],\n",
    "    [30,30],\n",
    "    [85,70],\n",
    "    [71,80],\n",
    "    [60,78],\n",
    "    [70,55],\n",
    "    [80,91],])\n",
    "'''"
   ]
  },
  {
   "cell_type": "markdown",
   "metadata": {},
   "source": [
    "### Test 2"
   ]
  },
  {
   "cell_type": "code",
   "execution_count": 89,
   "metadata": {
    "scrolled": false
   },
   "outputs": [
    {
     "name": "stdout",
     "output_type": "stream",
     "text": [
      "[[  4  -9]\n",
      " [ -7   2]\n",
      " [-10  -1]\n",
      " [ -8   2]\n",
      " [  8   5]\n",
      " [ -8   2]\n",
      " [  8  -6]\n",
      " [ -7  -3]\n",
      " [  4   6]\n",
      " [  8   7]\n",
      " [  2  -7]\n",
      " [ -3  -4]\n",
      " [  0  -2]\n",
      " [ -7  -3]\n",
      " [  9   8]\n",
      " [  3   6]\n",
      " [  3   5]\n",
      " [ -5   7]\n",
      " [ -5   8]\n",
      " [ -7   2]]\n",
      "<class 'numpy.ndarray'>\n"
     ]
    }
   ],
   "source": [
    "randomMatrix = np.random.randint(-10,10,size=(20,2))\n",
    "print(randomMatrix)\n",
    "print(type(randomMatrix))"
   ]
  },
  {
   "cell_type": "code",
   "execution_count": 91,
   "metadata": {},
   "outputs": [
    {
     "data": {
      "text/plain": [
       "array([1. , 1. , 1. , 1. , 1. , 1. , 1. , 0.5, 1. , 1. , 1. , 1. , 1. ,\n",
       "       1. , 1. , 1. , 1. , 1. , 1. , 1. , 0.5, 1. , 0.5, 1. , 0.5, 1. ,\n",
       "       1. , 1. , 1. , 1. , 0.5, 1. , 1. , 1. , 1. , 1. , 0. , 1. , 1. ,\n",
       "       1. , 1. , 1. , 1. , 1. , 1. , 1. , 1. , 1. , 1. , 1. , 1. , 1. ,\n",
       "       1. , 1. , 1. , 0. , 1. , 1. , 1. , 1. , 1. , 1. , 1. , 1. , 1. ,\n",
       "       1. , 1. , 1. , 1. , 0.5, 1. , 0.5, 1. , 1. , 0.5, 1. , 1. , 1. ,\n",
       "       1. , 1. , 1. , 0.5, 1. , 1. , 1. , 1. , 1. , 1. , 1. , 1. , 1. ,\n",
       "       1. , 1. , 1. , 1. , 1. , 1. , 1. , 0.5, 1. , 1. , 0.5, 1. , 1. ,\n",
       "       1. , 1. , 1. , 1. , 1. , 1. , 1. , 1. , 1. , 1. , 1. , 1. , 1. ,\n",
       "       0. , 1. , 1. , 1. , 1. , 1. , 0.5, 1. , 1. , 1. , 1. , 1. , 1. ,\n",
       "       0.5, 1. , 1. , 1. , 1. , 1. , 1. , 1. , 1. , 1. , 1. , 1. , 0.5,\n",
       "       1. , 1. , 1. , 1. , 1. , 1. , 1. , 1. , 1. , 1. , 1. , 1. , 1. ,\n",
       "       1. , 1. , 1. , 1. , 1. , 1. , 1. , 1. , 1. , 1. , 1. , 1. , 1. ,\n",
       "       1. , 1. , 1. , 1. , 1. , 0.5, 1. , 1. , 1. , 0.5, 1. , 0.5, 1. ,\n",
       "       1. , 1. , 1. , 1. , 1. , 0.5, 1. , 1. ])"
      ]
     },
     "execution_count": 91,
     "metadata": {},
     "output_type": "execute_result"
    }
   ],
   "source": [
    "import scipy.spatial.distance as dis\n",
    "\n",
    "distances = dis.pdist(randomMatrix, \"hamming\")\n",
    "distances"
   ]
  },
  {
   "cell_type": "code",
   "execution_count": 84,
   "metadata": {
    "scrolled": true
   },
   "outputs": [
    {
     "ename": "AttributeError",
     "evalue": "'list' object has no attribute 'values'",
     "output_type": "error",
     "traceback": [
      "\u001b[1;31m---------------------------------------------------------------------------\u001b[0m",
      "\u001b[1;31mAttributeError\u001b[0m                            Traceback (most recent call last)",
      "\u001b[1;32m<ipython-input-84-4cb9e1b6c947>\u001b[0m in \u001b[0;36m<module>\u001b[1;34m\u001b[0m\n\u001b[0;32m      1\u001b[0m \u001b[0mrandomMatrix\u001b[0m \u001b[1;33m=\u001b[0m \u001b[1;33m[\u001b[0m\u001b[1;36m0\u001b[0m\u001b[1;33m,\u001b[0m \u001b[1;36m5\u001b[0m\u001b[1;33m,\u001b[0m \u001b[1;36m1\u001b[0m\u001b[1;33m,\u001b[0m \u001b[1;36m6\u001b[0m\u001b[1;33m,\u001b[0m \u001b[1;36m3\u001b[0m\u001b[1;33m]\u001b[0m\u001b[1;33m\u001b[0m\u001b[0m\n\u001b[1;32m----> 2\u001b[1;33m \u001b[0mb\u001b[0m\u001b[1;33m=\u001b[0m\u001b[0mrandomMatrix\u001b[0m\u001b[1;33m.\u001b[0m\u001b[0mvalues\u001b[0m\u001b[1;33m\u001b[0m\u001b[0m\n\u001b[0m\u001b[0;32m      3\u001b[0m \u001b[0mb\u001b[0m\u001b[1;33m\u001b[0m\u001b[0m\n",
      "\u001b[1;31mAttributeError\u001b[0m: 'list' object has no attribute 'values'"
     ]
    }
   ],
   "source": [
    "randomMatrix = [0, 5, 1, 6, 3]\n",
    "b=randomMatrix.iloc[:,1:].values\n",
    "b"
   ]
  },
  {
   "cell_type": "code",
   "execution_count": 92,
   "metadata": {
    "scrolled": true
   },
   "outputs": [
    {
     "data": {
      "image/png": "[encoded data removed]",
      "text/plain": [
       "<Figure size 1080x864 with 1 Axes>"
      ]
     },
     "metadata": {
      "needs_background": "light"
     },
     "output_type": "display_data"
    }
   ],
   "source": [
    "linked = linkage(distances, 'ward')\n",
    "\n",
    "labelList = [\"foo\" for i in range(0, 20)]\n",
    "\n",
    "plt.figure(figsize=(15, 12))\n",
    "dendrogram(\n",
    "            linked,\n",
    "            orientation='right',\n",
    "            labels=labelList,\n",
    "            distance_sort='descending',\n",
    "            show_leaf_counts=False\n",
    "          )\n",
    "plt.show()"
   ]
  },
  {
   "cell_type": "code",
   "execution_count": 94,
   "metadata": {},
   "outputs": [],
   "source": [
    "M = ['AGCTTTTCATTCTGACTGCAACGGGCAATATGTCTCTGTG',\n",
    " 'AGGTTTTCATTCTCACTTAAACCCGCAATATGTCTGTCTT',\n",
    " 'AGCTTTTCATTCTGAGTGCAAAGGGCAATATGTCTCTCTG',\n",
    " 'AGATTTTCATTCTTACTCGAAAGGGAAATATTTCTCTGTC',\n",
    " 'AGCTTTTGATTCTGACTTCAACCGGCAATATCTCTCTGTG']"
   ]
  },
  {
   "cell_type": "code",
   "execution_count": 95,
   "metadata": {},
   "outputs": [
    {
     "ename": "ValueError",
     "evalue": "could not convert string to float: 'AGCTTTTCATTCTGACTGCAACGGGCAATATGTCTCTGTG'",
     "output_type": "error",
     "traceback": [
      "\u001b[1;31m---------------------------------------------------------------------------\u001b[0m",
      "\u001b[1;31mValueError\u001b[0m                                Traceback (most recent call last)",
      "\u001b[1;32m<ipython-input-95-c3f3a79fca03>\u001b[0m in \u001b[0;36m<module>\u001b[1;34m\u001b[0m\n\u001b[0;32m      4\u001b[0m \u001b[0mmetric\u001b[0m \u001b[1;33m=\u001b[0m \u001b[1;34m'hamming'\u001b[0m\u001b[1;33m\u001b[0m\u001b[0m\n\u001b[0;32m      5\u001b[0m \u001b[1;31m#M = np.loadtxt(\"z_bug_matrix.txt\")\u001b[0m\u001b[1;33m\u001b[0m\u001b[1;33m\u001b[0m\u001b[0m\n\u001b[1;32m----> 6\u001b[1;33m \u001b[0mZ\u001b[0m \u001b[1;33m=\u001b[0m \u001b[0mlinkage\u001b[0m\u001b[1;33m(\u001b[0m\u001b[0mM\u001b[0m\u001b[1;33m,\u001b[0m \u001b[0mmethod\u001b[0m\u001b[1;33m=\u001b[0m\u001b[1;34m'average'\u001b[0m\u001b[1;33m,\u001b[0m \u001b[0mmetric\u001b[0m\u001b[1;33m=\u001b[0m\u001b[1;34m'hamming'\u001b[0m\u001b[1;33m)\u001b[0m\u001b[1;33m\u001b[0m\u001b[0m\n\u001b[0m\u001b[0;32m      7\u001b[0m \u001b[1;33m\u001b[0m\u001b[0m\n\u001b[0;32m      8\u001b[0m \u001b[0mprint\u001b[0m\u001b[1;33m(\u001b[0m\u001b[0mis_valid_linkage\u001b[0m\u001b[1;33m(\u001b[0m\u001b[0mZ\u001b[0m\u001b[1;33m)\u001b[0m\u001b[1;33m)\u001b[0m\u001b[1;33m\u001b[0m\u001b[0m\n",
      "\u001b[1;32mc:\\python37\\lib\\site-packages\\scipy\\cluster\\hierarchy.py\u001b[0m in \u001b[0;36mlinkage\u001b[1;34m(y, method, metric, optimal_ordering)\u001b[0m\n\u001b[0;32m   1088\u001b[0m         \u001b[1;32mraise\u001b[0m \u001b[0mValueError\u001b[0m\u001b[1;33m(\u001b[0m\u001b[1;34m\"Invalid method: {0}\"\u001b[0m\u001b[1;33m.\u001b[0m\u001b[0mformat\u001b[0m\u001b[1;33m(\u001b[0m\u001b[0mmethod\u001b[0m\u001b[1;33m)\u001b[0m\u001b[1;33m)\u001b[0m\u001b[1;33m\u001b[0m\u001b[0m\n\u001b[0;32m   1089\u001b[0m \u001b[1;33m\u001b[0m\u001b[0m\n\u001b[1;32m-> 1090\u001b[1;33m     \u001b[0my\u001b[0m \u001b[1;33m=\u001b[0m \u001b[0m_convert_to_double\u001b[0m\u001b[1;33m(\u001b[0m\u001b[0mnp\u001b[0m\u001b[1;33m.\u001b[0m\u001b[0masarray\u001b[0m\u001b[1;33m(\u001b[0m\u001b[0my\u001b[0m\u001b[1;33m,\u001b[0m \u001b[0morder\u001b[0m\u001b[1;33m=\u001b[0m\u001b[1;34m'c'\u001b[0m\u001b[1;33m)\u001b[0m\u001b[1;33m)\u001b[0m\u001b[1;33m\u001b[0m\u001b[0m\n\u001b[0m\u001b[0;32m   1091\u001b[0m \u001b[1;33m\u001b[0m\u001b[0m\n\u001b[0;32m   1092\u001b[0m     \u001b[1;32mif\u001b[0m \u001b[0my\u001b[0m\u001b[1;33m.\u001b[0m\u001b[0mndim\u001b[0m \u001b[1;33m==\u001b[0m \u001b[1;36m1\u001b[0m\u001b[1;33m:\u001b[0m\u001b[1;33m\u001b[0m\u001b[0m\n",
      "\u001b[1;32mc:\\python37\\lib\\site-packages\\scipy\\cluster\\hierarchy.py\u001b[0m in \u001b[0;36m_convert_to_double\u001b[1;34m(X)\u001b[0m\n\u001b[0;32m   1610\u001b[0m \u001b[1;32mdef\u001b[0m \u001b[0m_convert_to_double\u001b[0m\u001b[1;33m(\u001b[0m\u001b[0mX\u001b[0m\u001b[1;33m)\u001b[0m\u001b[1;33m:\u001b[0m\u001b[1;33m\u001b[0m\u001b[0m\n\u001b[0;32m   1611\u001b[0m     \u001b[1;32mif\u001b[0m \u001b[0mX\u001b[0m\u001b[1;33m.\u001b[0m\u001b[0mdtype\u001b[0m \u001b[1;33m!=\u001b[0m \u001b[0mnp\u001b[0m\u001b[1;33m.\u001b[0m\u001b[0mdouble\u001b[0m\u001b[1;33m:\u001b[0m\u001b[1;33m\u001b[0m\u001b[0m\n\u001b[1;32m-> 1612\u001b[1;33m         \u001b[0mX\u001b[0m \u001b[1;33m=\u001b[0m \u001b[0mX\u001b[0m\u001b[1;33m.\u001b[0m\u001b[0mastype\u001b[0m\u001b[1;33m(\u001b[0m\u001b[0mnp\u001b[0m\u001b[1;33m.\u001b[0m\u001b[0mdouble\u001b[0m\u001b[1;33m)\u001b[0m\u001b[1;33m\u001b[0m\u001b[0m\n\u001b[0m\u001b[0;32m   1613\u001b[0m     \u001b[1;32mif\u001b[0m \u001b[1;32mnot\u001b[0m \u001b[0mX\u001b[0m\u001b[1;33m.\u001b[0m\u001b[0mflags\u001b[0m\u001b[1;33m.\u001b[0m\u001b[0mcontiguous\u001b[0m\u001b[1;33m:\u001b[0m\u001b[1;33m\u001b[0m\u001b[0m\n\u001b[0;32m   1614\u001b[0m         \u001b[0mX\u001b[0m \u001b[1;33m=\u001b[0m \u001b[0mX\u001b[0m\u001b[1;33m.\u001b[0m\u001b[0mcopy\u001b[0m\u001b[1;33m(\u001b[0m\u001b[1;33m)\u001b[0m\u001b[1;33m\u001b[0m\u001b[0m\n",
      "\u001b[1;31mValueError\u001b[0m: could not convert string to float: 'AGCTTTTCATTCTGACTGCAACGGGCAATATGTCTCTGTG'"
     ]
    }
   ],
   "source": [
    "import numpy as np\n",
    "from scipy.cluster.hierarchy import linkage, is_valid_linkage\n",
    "\n",
    "metric = 'hamming'\n",
    "#M = np.loadtxt(\"z_bug_matrix.txt\")\n",
    "Z = linkage(M, method='average', metric='hamming')\n",
    "\n",
    "print(is_valid_linkage(Z))"
   ]
  },
  {
   "cell_type": "markdown",
   "metadata": {},
   "source": [
    "#### Test 1: Hamming"
   ]
  },
  {
   "cell_type": "code",
   "execution_count": 112,
   "metadata": {
    "scrolled": true
   },
   "outputs": [
    {
     "data": {
      "text/plain": [
       "array([[ 7.92083031,  0.91717222],\n",
       "       [ 7.73010982, -2.66328868],\n",
       "       [10.50490885,  0.96098829],\n",
       "       [10.94107044,  0.72465371],\n",
       "       [ 7.14339348, -1.06199981],\n",
       "       [ 8.76869882, -0.2509354 ],\n",
       "       [11.38874491,  2.47956627],\n",
       "       [12.75510792,  0.60249407],\n",
       "       [11.17866174,  1.06841952],\n",
       "       [11.10597349, -1.2137329 ],\n",
       "       [-1.46245631, 20.53523022],\n",
       "       [ 3.85014434, 21.65148677],\n",
       "       [-2.79295681, 17.76166482],\n",
       "       [-0.73545525, 19.61472985],\n",
       "       [-1.99826412, 18.90973784],\n",
       "       [ 2.0278176 , 19.69729695],\n",
       "       [-0.6846933 , 18.11351133],\n",
       "       [ 1.51264376, 18.69556713],\n",
       "       [ 0.10914372, 22.16050605],\n",
       "       [ 0.69313036, 20.67205548]])"
      ]
     },
     "execution_count": 112,
     "metadata": {},
     "output_type": "execute_result"
    }
   ],
   "source": [
    "a = np.random.multivariate_normal([10, 0], [[3, 1], [1, 4]], size=[10,])\n",
    "b = np.random.multivariate_normal([0, 20], [[3, 1], [1, 4]], size=[10,])\n",
    "X = np.concatenate((a, b),)\n",
    "X"
   ]
  },
  {
   "cell_type": "code",
   "execution_count": 118,
   "metadata": {},
   "outputs": [
    {
     "data": {
      "image/png": "[encoded data removed]",
      "text/plain": [
       "<Figure size 432x288 with 1 Axes>"
      ]
     },
     "metadata": {
      "needs_background": "light"
     },
     "output_type": "display_data"
    }
   ],
   "source": [
    "plt.scatter(X[:,0], X[:,1])\n",
    "plt.show()"
   ]
  },
  {
   "cell_type": "code",
   "execution_count": 120,
   "metadata": {},
   "outputs": [],
   "source": [
    "from scipy.cluster.hierarchy import cophenet\n",
    "from scipy.spatial.distance import pdist\n",
    "\n",
    "Y=pdist(X,'hamming')"
   ]
  },
  {
   "cell_type": "code",
   "execution_count": 121,
   "metadata": {},
   "outputs": [
    {
     "data": {
      "text/plain": [
       "array([1., 1., 1., 1., 1., 1., 1., 1., 1., 1., 1., 1., 1., 1., 1., 1., 1.,\n",
       "       1., 1., 1., 1., 1., 1., 1., 1., 1., 1., 1., 1., 1., 1., 1., 1., 1.,\n",
       "       1., 1., 1., 1., 1., 1., 1., 1., 1., 1., 1., 1., 1., 1., 1., 1., 1.,\n",
       "       1., 1., 1., 1., 1., 1., 1., 1., 1., 1., 1., 1., 1., 1., 1., 1., 1.,\n",
       "       1., 1., 1., 1., 1., 1., 1., 1., 1., 1., 1., 1., 1., 1., 1., 1., 1.,\n",
       "       1., 1., 1., 1., 1., 1., 1., 1., 1., 1., 1., 1., 1., 1., 1., 1., 1.,\n",
       "       1., 1., 1., 1., 1., 1., 1., 1., 1., 1., 1., 1., 1., 1., 1., 1., 1.,\n",
       "       1., 1., 1., 1., 1., 1., 1., 1., 1., 1., 1., 1., 1., 1., 1., 1., 1.,\n",
       "       1., 1., 1., 1., 1., 1., 1., 1., 1., 1., 1., 1., 1., 1., 1., 1., 1.,\n",
       "       1., 1., 1., 1., 1., 1., 1., 1., 1., 1., 1., 1., 1., 1., 1., 1., 1.,\n",
       "       1., 1., 1., 1., 1., 1., 1., 1., 1., 1., 1., 1., 1., 1., 1., 1., 1.,\n",
       "       1., 1., 1.])"
      ]
     },
     "execution_count": 121,
     "metadata": {},
     "output_type": "execute_result"
    }
   ],
   "source": [
    "Y"
   ]
  },
  {
   "cell_type": "code",
   "execution_count": 122,
   "metadata": {},
   "outputs": [
    {
     "data": {
      "text/plain": [
       "array([[ 7.,  8.,  1.,  2.],\n",
       "       [ 9., 20.,  1.,  3.],\n",
       "       [ 4.,  5.,  1.,  2.],\n",
       "       [ 6., 22.,  1.,  3.],\n",
       "       [21., 23.,  1.,  6.],\n",
       "       [10., 24.,  1.,  7.],\n",
       "       [11., 25.,  1.,  8.],\n",
       "       [12., 26.,  1.,  9.],\n",
       "       [13., 27.,  1., 10.],\n",
       "       [14., 28.,  1., 11.],\n",
       "       [15., 29.,  1., 12.],\n",
       "       [16., 30.,  1., 13.],\n",
       "       [17., 31.,  1., 14.],\n",
       "       [18., 32.,  1., 15.],\n",
       "       [19., 33.,  1., 16.],\n",
       "       [ 0.,  1.,  1.,  2.],\n",
       "       [ 2., 35.,  1.,  3.],\n",
       "       [ 3., 36.,  1.,  4.],\n",
       "       [34., 37.,  1., 20.]])"
      ]
     },
     "execution_count": 122,
     "metadata": {},
     "output_type": "execute_result"
    }
   ],
   "source": [
    "Z = linkage(Y, 'ward')\n",
    "Z"
   ]
  },
  {
   "cell_type": "code",
   "execution_count": 123,
   "metadata": {},
   "outputs": [
    {
     "data": {
      "text/plain": [
       "0.05443561194513081"
      ]
     },
     "execution_count": 123,
     "metadata": {},
     "output_type": "execute_result"
    }
   ],
   "source": [
    "c, coph_dists = cophenet(Z, pdist(X))\n",
    "c"
   ]
  },
  {
   "cell_type": "code",
   "execution_count": 124,
   "metadata": {},
   "outputs": [
    {
     "data": {
      "image/png": "[encoded data removed]",
      "text/plain": [
       "<Figure size 1800x720 with 1 Axes>"
      ]
     },
     "metadata": {
      "needs_background": "light"
     },
     "output_type": "display_data"
    }
   ],
   "source": [
    "plt.figure(figsize=(25, 10))\n",
    "plt.title('Hierarchical Clustering Dendrogram')\n",
    "plt.xlabel('sample index')\n",
    "plt.ylabel('distance')\n",
    "dendrogram(\n",
    "    Z,\n",
    "    leaf_rotation=90.,  # rotates the x axis labels\n",
    "    leaf_font_size=8.,  # font size for the x axis labels\n",
    ")\n",
    "plt.show()"
   ]
  },
  {
   "cell_type": "markdown",
   "metadata": {},
   "source": [
    "#### Test 3: Hamming Text"
   ]
  },
  {
   "cell_type": "code",
   "execution_count": 139,
   "metadata": {
    "scrolled": true
   },
   "outputs": [
    {
     "data": {
      "text/html": [
       "<div>\n",
       "<style scoped>\n",
       "    .dataframe tbody tr th:only-of-type {\n",
       "        vertical-align: middle;\n",
       "    }\n",
       "\n",
       "    .dataframe tbody tr th {\n",
       "        vertical-align: top;\n",
       "    }\n",
       "\n",
       "    .dataframe thead th {\n",
       "        text-align: right;\n",
       "    }\n",
       "</style>\n",
       "<table border=\"1\" class=\"dataframe\">\n",
       "  <thead>\n",
       "    <tr style=\"text-align: right;\">\n",
       "      <th></th>\n",
       "      <th>id</th>\n",
       "      <th>seq</th>\n",
       "      <th>hamming_distance</th>\n",
       "    </tr>\n",
       "  </thead>\n",
       "  <tbody>\n",
       "    <tr>\n",
       "      <th>0</th>\n",
       "      <td>0</td>\n",
       "      <td>AGCTTTTCATTCTGACTGCAACGGGCAATATGTCTCTGTG</td>\n",
       "      <td>0</td>\n",
       "    </tr>\n",
       "    <tr>\n",
       "      <th>1</th>\n",
       "      <td>1</td>\n",
       "      <td>AGCTTTTCATTCTGACTGCAACGGGCAATATGTATCTGTG</td>\n",
       "      <td>1</td>\n",
       "    </tr>\n",
       "    <tr>\n",
       "      <th>2</th>\n",
       "      <td>2</td>\n",
       "      <td>AGCTTTTCATTCTGACTGCAACGGGCAATATGTCTCTGTT</td>\n",
       "      <td>1</td>\n",
       "    </tr>\n",
       "    <tr>\n",
       "      <th>3</th>\n",
       "      <td>3</td>\n",
       "      <td>AGCTTTTCATTCTGACTTGAACGGGCAATATGTCTGTCTC</td>\n",
       "      <td>5</td>\n",
       "    </tr>\n",
       "    <tr>\n",
       "      <th>4</th>\n",
       "      <td>4</td>\n",
       "      <td>AGCTTTTCATTCTTAATGCAAGGGTCAATATGTCTCTTTG</td>\n",
       "      <td>5</td>\n",
       "    </tr>\n",
       "  </tbody>\n",
       "</table>\n",
       "</div>"
      ],
      "text/plain": [
       "  id                                       seq hamming_distance\n",
       "0  0  AGCTTTTCATTCTGACTGCAACGGGCAATATGTCTCTGTG                0\n",
       "1  1  AGCTTTTCATTCTGACTGCAACGGGCAATATGTATCTGTG                1\n",
       "2  2  AGCTTTTCATTCTGACTGCAACGGGCAATATGTCTCTGTT                1\n",
       "3  3  AGCTTTTCATTCTGACTTGAACGGGCAATATGTCTGTCTC                5\n",
       "4  4  AGCTTTTCATTCTTAATGCAAGGGTCAATATGTCTCTTTG                5"
      ]
     },
     "execution_count": 139,
     "metadata": {},
     "output_type": "execute_result"
    }
   ],
   "source": [
    "df_mutseq_hamming"
   ]
  },
  {
   "cell_type": "code",
   "execution_count": 148,
   "metadata": {},
   "outputs": [
    {
     "data": {
      "text/plain": [
       "array([['AGCTTTTCATTCTGACTGCAACGGGCAATATGTCTCTGTG', 0],\n",
       "       ['AGCTTTTCATTCTGACTGCAACGGGCAATATGTATCTGTG', 1],\n",
       "       ['AGCTTTTCATTCTGACTGCAACGGGCAATATGTCTCTGTT', 1],\n",
       "       ['AGCTTTTCATTCTGACTTGAACGGGCAATATGTCTGTCTC', 5],\n",
       "       ['AGCTTTTCATTCTTAATGCAAGGGTCAATATGTCTCTTTG', 5]], dtype=object)"
      ]
     },
     "execution_count": 148,
     "metadata": {},
     "output_type": "execute_result"
    }
   ],
   "source": [
    "array_mutseq_hamming = df_mutseq_hamming.iloc[:,1:].values\n",
    "array_mutseq_hamming"
   ]
  },
  {
   "cell_type": "code",
   "execution_count": 149,
   "metadata": {},
   "outputs": [
    {
     "ename": "ValueError",
     "evalue": "could not convert string to float: 'AGCTTTTCATTCTGACTGCAACGGGCAATATGTCTCTGTG'",
     "output_type": "error",
     "traceback": [
      "\u001b[1;31m---------------------------------------------------------------------------\u001b[0m",
      "\u001b[1;31mValueError\u001b[0m                                Traceback (most recent call last)",
      "\u001b[1;32m<ipython-input-149-7e9d25ffd1a5>\u001b[0m in \u001b[0;36m<module>\u001b[1;34m\u001b[0m\n\u001b[0;32m      1\u001b[0m \u001b[0ma\u001b[0m \u001b[1;33m=\u001b[0m \u001b[1;33m[\u001b[0m\u001b[1;33m[\u001b[0m\u001b[1;34m'AGCTTTTCATTCTGACTGCAACGGGCAATATGTCTCTGTG'\u001b[0m\u001b[1;33m,\u001b[0m\u001b[1;36m0\u001b[0m\u001b[1;33m]\u001b[0m\u001b[1;33m,\u001b[0m\u001b[1;33m[\u001b[0m\u001b[1;34m'AGCTTTTCATTCTGACTGCAACGGGCAATATGTATCTGTG'\u001b[0m\u001b[1;33m,\u001b[0m \u001b[1;36m1\u001b[0m\u001b[1;33m]\u001b[0m\u001b[1;33m]\u001b[0m\u001b[1;33m\u001b[0m\u001b[0m\n\u001b[0;32m      2\u001b[0m \u001b[0mb\u001b[0m \u001b[1;33m=\u001b[0m \u001b[1;33m[\u001b[0m\u001b[1;33m[\u001b[0m\u001b[1;34m'AGCTTTTCATTCTGACTGCAACGGGCAATATGTCTCTGTT'\u001b[0m\u001b[1;33m,\u001b[0m\u001b[1;36m1\u001b[0m\u001b[1;33m]\u001b[0m\u001b[1;33m,\u001b[0m\u001b[1;33m[\u001b[0m\u001b[1;34m'AGCTTTTCATTCTGACTTGAACGGGCAATATGTCTGTCTC'\u001b[0m\u001b[1;33m,\u001b[0m \u001b[1;36m5\u001b[0m\u001b[1;33m]\u001b[0m\u001b[1;33m]\u001b[0m\u001b[1;33m\u001b[0m\u001b[0m\n\u001b[1;32m----> 3\u001b[1;33m \u001b[0mY\u001b[0m\u001b[1;33m=\u001b[0m\u001b[0mdis\u001b[0m\u001b[1;33m.\u001b[0m\u001b[0mcdist\u001b[0m\u001b[1;33m(\u001b[0m\u001b[0ma\u001b[0m\u001b[1;33m,\u001b[0m\u001b[0mb\u001b[0m\u001b[1;33m,\u001b[0m\u001b[1;34m'hamming'\u001b[0m\u001b[1;33m)\u001b[0m\u001b[1;33m\u001b[0m\u001b[0m\n\u001b[0m\u001b[0;32m      4\u001b[0m \u001b[0mY\u001b[0m\u001b[1;33m\u001b[0m\u001b[0m\n",
      "\u001b[1;32mc:\\python37\\lib\\site-packages\\scipy\\spatial\\distance.py\u001b[0m in \u001b[0;36mcdist\u001b[1;34m(XA, XB, metric, *args, **kwargs)\u001b[0m\n\u001b[0;32m   2755\u001b[0m         \u001b[1;32mif\u001b[0m \u001b[0mmetric_name\u001b[0m \u001b[1;32mis\u001b[0m \u001b[1;32mnot\u001b[0m \u001b[1;32mNone\u001b[0m\u001b[1;33m:\u001b[0m\u001b[1;33m\u001b[0m\u001b[0m\n\u001b[0;32m   2756\u001b[0m             XA, XB, typ, kwargs = _validate_cdist_input(XA, XB, mA, mB, n,\n\u001b[1;32m-> 2757\u001b[1;33m                                                         metric_name, **kwargs)\n\u001b[0m\u001b[0;32m   2758\u001b[0m             \u001b[1;31m# get cdist wrapper\u001b[0m\u001b[1;33m\u001b[0m\u001b[1;33m\u001b[0m\u001b[0m\n\u001b[0;32m   2759\u001b[0m             cdist_fn = getattr(_distance_wrap,\n",
      "\u001b[1;32mc:\\python37\\lib\\site-packages\\scipy\\spatial\\distance.py\u001b[0m in \u001b[0;36m_validate_cdist_input\u001b[1;34m(XA, XB, mA, mB, n, metric_name, **kwargs)\u001b[0m\n\u001b[0;32m    249\u001b[0m         \u001b[0mtyp\u001b[0m \u001b[1;33m=\u001b[0m \u001b[0mtypes\u001b[0m\u001b[1;33m[\u001b[0m\u001b[0mtypes\u001b[0m\u001b[1;33m.\u001b[0m\u001b[0mindex\u001b[0m\u001b[1;33m(\u001b[0m\u001b[0mXA\u001b[0m\u001b[1;33m.\u001b[0m\u001b[0mdtype\u001b[0m\u001b[1;33m)\u001b[0m\u001b[1;33m]\u001b[0m \u001b[1;32mif\u001b[0m \u001b[0mXA\u001b[0m\u001b[1;33m.\u001b[0m\u001b[0mdtype\u001b[0m \u001b[1;32min\u001b[0m \u001b[0mtypes\u001b[0m \u001b[1;32melse\u001b[0m \u001b[0mtypes\u001b[0m\u001b[1;33m[\u001b[0m\u001b[1;36m0\u001b[0m\u001b[1;33m]\u001b[0m\u001b[1;33m\u001b[0m\u001b[0m\n\u001b[0;32m    250\u001b[0m         \u001b[1;31m# validate data\u001b[0m\u001b[1;33m\u001b[0m\u001b[1;33m\u001b[0m\u001b[0m\n\u001b[1;32m--> 251\u001b[1;33m         \u001b[0mXA\u001b[0m \u001b[1;33m=\u001b[0m \u001b[0m_convert_to_type\u001b[0m\u001b[1;33m(\u001b[0m\u001b[0mXA\u001b[0m\u001b[1;33m,\u001b[0m \u001b[0mout_type\u001b[0m\u001b[1;33m=\u001b[0m\u001b[0mtyp\u001b[0m\u001b[1;33m)\u001b[0m\u001b[1;33m\u001b[0m\u001b[0m\n\u001b[0m\u001b[0;32m    252\u001b[0m         \u001b[0mXB\u001b[0m \u001b[1;33m=\u001b[0m \u001b[0m_convert_to_type\u001b[0m\u001b[1;33m(\u001b[0m\u001b[0mXB\u001b[0m\u001b[1;33m,\u001b[0m \u001b[0mout_type\u001b[0m\u001b[1;33m=\u001b[0m\u001b[0mtyp\u001b[0m\u001b[1;33m)\u001b[0m\u001b[1;33m\u001b[0m\u001b[0m\n\u001b[0;32m    253\u001b[0m \u001b[1;33m\u001b[0m\u001b[0m\n",
      "\u001b[1;32mc:\\python37\\lib\\site-packages\\scipy\\spatial\\distance.py\u001b[0m in \u001b[0;36m_convert_to_type\u001b[1;34m(X, out_type)\u001b[0m\n\u001b[0;32m    186\u001b[0m \u001b[1;33m\u001b[0m\u001b[0m\n\u001b[0;32m    187\u001b[0m \u001b[1;32mdef\u001b[0m \u001b[0m_convert_to_type\u001b[0m\u001b[1;33m(\u001b[0m\u001b[0mX\u001b[0m\u001b[1;33m,\u001b[0m \u001b[0mout_type\u001b[0m\u001b[1;33m)\u001b[0m\u001b[1;33m:\u001b[0m\u001b[1;33m\u001b[0m\u001b[0m\n\u001b[1;32m--> 188\u001b[1;33m     \u001b[1;32mreturn\u001b[0m \u001b[0mnp\u001b[0m\u001b[1;33m.\u001b[0m\u001b[0mascontiguousarray\u001b[0m\u001b[1;33m(\u001b[0m\u001b[0mX\u001b[0m\u001b[1;33m,\u001b[0m \u001b[0mdtype\u001b[0m\u001b[1;33m=\u001b[0m\u001b[0mout_type\u001b[0m\u001b[1;33m)\u001b[0m\u001b[1;33m\u001b[0m\u001b[0m\n\u001b[0m\u001b[0;32m    189\u001b[0m \u001b[1;33m\u001b[0m\u001b[0m\n\u001b[0;32m    190\u001b[0m \u001b[1;33m\u001b[0m\u001b[0m\n",
      "\u001b[1;32mc:\\python37\\lib\\site-packages\\numpy\\core\\numeric.py\u001b[0m in \u001b[0;36mascontiguousarray\u001b[1;34m(a, dtype)\u001b[0m\n\u001b[0;32m    630\u001b[0m \u001b[1;33m\u001b[0m\u001b[0m\n\u001b[0;32m    631\u001b[0m     \"\"\"\n\u001b[1;32m--> 632\u001b[1;33m     \u001b[1;32mreturn\u001b[0m \u001b[0marray\u001b[0m\u001b[1;33m(\u001b[0m\u001b[0ma\u001b[0m\u001b[1;33m,\u001b[0m \u001b[0mdtype\u001b[0m\u001b[1;33m,\u001b[0m \u001b[0mcopy\u001b[0m\u001b[1;33m=\u001b[0m\u001b[1;32mFalse\u001b[0m\u001b[1;33m,\u001b[0m \u001b[0morder\u001b[0m\u001b[1;33m=\u001b[0m\u001b[1;34m'C'\u001b[0m\u001b[1;33m,\u001b[0m \u001b[0mndmin\u001b[0m\u001b[1;33m=\u001b[0m\u001b[1;36m1\u001b[0m\u001b[1;33m)\u001b[0m\u001b[1;33m\u001b[0m\u001b[0m\n\u001b[0m\u001b[0;32m    633\u001b[0m \u001b[1;33m\u001b[0m\u001b[0m\n\u001b[0;32m    634\u001b[0m \u001b[1;33m\u001b[0m\u001b[0m\n",
      "\u001b[1;31mValueError\u001b[0m: could not convert string to float: 'AGCTTTTCATTCTGACTGCAACGGGCAATATGTCTCTGTG'"
     ]
    }
   ],
   "source": [
    "a = [['AGCTTTTCATTCTGACTGCAACGGGCAATATGTCTCTGTG',0],['AGCTTTTCATTCTGACTGCAACGGGCAATATGTATCTGTG', 1]]\n",
    "b = [['AGCTTTTCATTCTGACTGCAACGGGCAATATGTCTCTGTT',1],['AGCTTTTCATTCTGACTTGAACGGGCAATATGTCTGTCTC', 5]]\n",
    "Y=dis.cdist(a,b,'hamming')\n",
    "Y"
   ]
  },
  {
   "cell_type": "code",
   "execution_count": null,
   "metadata": {},
   "outputs": [],
   "source": []
  }
 ],
 "metadata": {
  "kernelspec": {
   "display_name": "Python 3",
   "language": "python",
   "name": "python3"
  },
  "language_info": {
   "codemirror_mode": {
    "name": "ipython",
    "version": 3
   },
   "file_extension": ".py",
   "mimetype": "text/x-python",
   "name": "python",
   "nbconvert_exporter": "python",
   "pygments_lexer": "ipython3",
   "version": "3.7.0b3"
  }
 },
 "nbformat": 4,
 "nbformat_minor": 2
}
