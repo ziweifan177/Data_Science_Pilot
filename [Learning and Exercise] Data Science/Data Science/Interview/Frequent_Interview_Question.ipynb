{
 "cells": [
  {
   "cell_type": "markdown",
   "metadata": {},
   "source": [
    "### 1. K largest elements from a big file or array."
   ]
  },
  {
   "cell_type": "markdown",
   "metadata": {},
   "source": [
    "__Plan 1: heap:__  \n",
    "Action:   \n",
    "•\tdo this by maintaining a min heap of max size k.  \n",
    "•\tEvery time a new number arrives - check if the heap is smaller then k, if it is - add it.  \n",
    "•\tIf it is not - check if the minimum is smaller then the new element, and if it is, pop it out and insert the new element instead."
   ]
  },
  {
   "cell_type": "code",
   "execution_count": 811,
   "metadata": {},
   "outputs": [],
   "source": [
    "import heapq"
   ]
  },
  {
   "cell_type": "code",
   "execution_count": 812,
   "metadata": {},
   "outputs": [],
   "source": [
    "li = [5, 7, 9, 1, 3] "
   ]
  },
  {
   "cell_type": "markdown",
   "metadata": {},
   "source": [
    "<font color='red'>heapify()</font> to convert list into heap "
   ]
  },
  {
   "cell_type": "code",
   "execution_count": 900,
   "metadata": {},
   "outputs": [
    {
     "data": {
      "text/plain": [
       "[3, 5, 4, 7, 9, 4]"
      ]
     },
     "execution_count": 900,
     "metadata": {},
     "output_type": "execute_result"
    }
   ],
   "source": [
    "heapq.heapify(li)\n",
    "li"
   ]
  },
  {
   "cell_type": "markdown",
   "metadata": {},
   "source": [
    "<font color='red'>heappush()</font> to push elements into heap "
   ]
  },
  {
   "cell_type": "code",
   "execution_count": 899,
   "metadata": {},
   "outputs": [
    {
     "data": {
      "text/plain": [
       "[3, 5, 4, 7, 9, 4]"
      ]
     },
     "execution_count": 899,
     "metadata": {},
     "output_type": "execute_result"
    }
   ],
   "source": [
    "heapq.heappush(li, 4)\n",
    "li"
   ]
  },
  {
   "cell_type": "markdown",
   "metadata": {},
   "source": [
    "<font color='red'>heappop()</font> to pop SMALLEST element"
   ]
  },
  {
   "cell_type": "code",
   "execution_count": 815,
   "metadata": {
    "scrolled": true
   },
   "outputs": [
    {
     "name": "stdout",
     "output_type": "stream",
     "text": [
      "This min element popped is:  1\n",
      "[3, 5, 4, 7, 9]\n"
     ]
    }
   ],
   "source": [
    "print('This min element popped is: ', heapq.heappop(li))\n",
    "print(li)"
   ]
  },
  {
   "cell_type": "markdown",
   "metadata": {},
   "source": [
    "<font color='red'>heappushpop(heap, ele)</font> :  \n",
    "- This function combines the functioning of both push and pop operations in one statement, increasing efficiency.   \n",
    "- Heap order is maintained after this operation."
   ]
  },
  {
   "cell_type": "code",
   "execution_count": 18,
   "metadata": {},
   "outputs": [
    {
     "data": {
      "text/plain": [
       "[3, 4, 9, 7, 5]"
      ]
     },
     "execution_count": 18,
     "metadata": {},
     "output_type": "execute_result"
    }
   ],
   "source": [
    "li = [5, 7, 9, 1, 3]\n",
    "heapq.heapify(li)\n",
    "heapq.heappushpop(li, 4)\n",
    "li"
   ]
  },
  {
   "cell_type": "markdown",
   "metadata": {},
   "source": [
    "<font color='red'>nlargest(k, iterable, key = fun):</font>   \n",
    "<font color='red'>nsmallest(k, iterable, key = fun):</font>   \n",
    "Return the k largest/smallest elements from the iterable specified and satisfying the key if mentioned."
   ]
  },
  {
   "cell_type": "code",
   "execution_count": 19,
   "metadata": {},
   "outputs": [
    {
     "data": {
      "text/plain": [
       "[9, 7, 5]"
      ]
     },
     "execution_count": 19,
     "metadata": {},
     "output_type": "execute_result"
    }
   ],
   "source": [
    "li = [5, 7, 9, 1, 3]\n",
    "heapq.heapify(li)\n",
    "heapq.nlargest(3, li)"
   ]
  },
  {
   "cell_type": "code",
   "execution_count": 20,
   "metadata": {},
   "outputs": [
    {
     "data": {
      "text/plain": [
       "[1, 3, 5]"
      ]
     },
     "execution_count": 20,
     "metadata": {},
     "output_type": "execute_result"
    }
   ],
   "source": [
    "heapq.nsmallest(3, li)"
   ]
  },
  {
   "cell_type": "markdown",
   "metadata": {},
   "source": [
    "__Plan 2:__  \n",
    "    100 billion numbers and you want the top 10 billion.  \n",
    "    (you can hold 1 billion numbers in memory at any time.)  \n",
    "    <img src = 'Image/k2.png' style=\"width:900px;\">"
   ]
  },
  {
   "cell_type": "markdown",
   "metadata": {},
   "source": [
    "### Pythagorean triplet-Find a triplet a, b, c such that a^2 = b^2 + c^2. \n",
    "Variations of this problem like find a triplet with sum equal to 0.   \n",
    "Find a pair with given sum.   \n",
    "All such questions are efficiently solved using hashing. "
   ]
  },
  {
   "cell_type": "code",
   "execution_count": 48,
   "metadata": {},
   "outputs": [],
   "source": [
    "# Function to check if the \n",
    "# Pythagorean triplet exists or not \n",
    "import math \n",
    "\n",
    "def checkTriplet(arr, n): \n",
    "    \n",
    "    maximum = 0\n",
    "    \n",
    "    for i in range(n): \n",
    "        maximum = max(maximum, arr[i]) # Find the maximum element\n",
    "    #print(maximum)\n",
    "\n",
    "    hash = [0]*(maximum+1) # Hashing array \n",
    "        \n",
    "    for i in range(n): # Increase the count of array elements in hash table \n",
    "        hash[arr[i]] += 1 # Hash function\n",
    "    print(hash)\n",
    "\n",
    "    for i in range(1, maximum+1): # Iterate for all possible a\n",
    "        if (hash[i] == 0): # If a is not there\n",
    "            continue\n",
    "\n",
    "        for j in range(1, maximum+1): # Iterate for all possible b \n",
    "            if ((i == j and hash[i] == 1) or hash[j] == 0): \n",
    "                # If a and b are same and there is only one a or if there is no b in original array \n",
    "                continue\n",
    "\n",
    "            val = int(math.sqrt(i * i + j * j)) # Find c \n",
    "\n",
    "            if ((val * val) != (i * i + j * j)): #If c^2 is not a perfect square \n",
    "                continue\n",
    "\n",
    "            if (val > maximum): # If c exceeds the maximum value\n",
    "                continue\n",
    "\n",
    "            if (hash[val]): # If there exists c in the original array, we have the triplet \n",
    "                return i, j, val\n",
    "    return False"
   ]
  },
  {
   "cell_type": "code",
   "execution_count": 49,
   "metadata": {},
   "outputs": [
    {
     "name": "stdout",
     "output_type": "stream",
     "text": [
      "[0, 0, 1, 1, 1, 1, 1]\n",
      "[0, 0, 1, 1, 1, 1, 1]\n",
      "3 4 5\n"
     ]
    }
   ],
   "source": [
    "# Driver Code \n",
    "arr = [3, 2, 4, 6, 5] \n",
    "n = len(arr) \n",
    "\n",
    "if (checkTriplet(arr, n)): \n",
    "    a,b,c = checkTriplet(arr, n)\n",
    "    print(a,b,c)\n",
    "else: \n",
    "    print(\"No\") "
   ]
  },
  {
   "cell_type": "markdown",
   "metadata": {},
   "source": [
    "### Binary tree traversal questions:\n",
    " like left view, right view, top view, bottom view, maximum of a level, minimum of a level, children sum property, diameter etc."
   ]
  },
  {
   "cell_type": "markdown",
   "metadata": {},
   "source": [
    "Hint: The idea is to do <font color = 'red'>level order traversal</font> of the Tree using a  <font color = 'red'>queue and print the first node at each level</font>."
   ]
  },
  {
   "cell_type": "code",
   "execution_count": 118,
   "metadata": {
    "code_folding": []
   },
   "outputs": [],
   "source": [
    "\"\"\" utility that allocates a newNode \n",
    "with the given key \"\"\"\n",
    "class newNode: \n",
    "\n",
    "    def __init__(self, key): # Construct to create a newNode \n",
    "        self.data = key \n",
    "        self.left = None\n",
    "        self.right = None\n",
    "        self.hd=0\n",
    "\n",
    "    # Utility function to print the left view of the binary tree \n",
    "    def leftViewUtil(root, q) : \n",
    "        if (root == None) : \n",
    "            return\n",
    "\n",
    "        q.append(root) # append root\n",
    "        q.append(None)\n",
    "\n",
    "        while (len(q)): \n",
    "            temp = q[0] \n",
    "\n",
    "            if (temp): \n",
    "                print(temp.data, end = \" \") # Prints first node of each level\n",
    "\n",
    "                while (q[0] != None) : # append children of all nodes at current level \n",
    "                    temp = q[0] \n",
    "\n",
    "                    if (temp.left) : # If left child is present: append into queue\n",
    "                        q.append(temp.left) \n",
    "\n",
    "                    if (temp.right) : # If right child is present: append into queue\n",
    "                        q.append(temp.right) \n",
    "\n",
    "                    q.pop(0)   # Pop the current node\n",
    "                q.append(None) # append delimiter for the next level \n",
    "            q.pop(0) # Pop the delimiter of the previous level\n",
    "\n",
    "    # Fucntion to print the leftView of Binary Tree \n",
    "    def leftView(root): \n",
    "        q = [] # Queue to store all the nodes of the tree \n",
    "        leftViewUtil(root, q) \n"
   ]
  },
  {
   "cell_type": "markdown",
   "metadata": {},
   "source": [
    "#### TopView_Method 1:"
   ]
  },
  {
   "cell_type": "code",
   "execution_count": 169,
   "metadata": {},
   "outputs": [],
   "source": [
    "\n",
    "def topView(li_res, root,side=0):\n",
    "    if root is None:\n",
    "        return 0\n",
    "\n",
    "    if side == 0 or side == -1:\n",
    "        topView(li_res, root.left, side=-1)\n",
    "        \n",
    "    li_res.append(root.data)\n",
    "    print(','.join(map(str, li_res)))\n",
    "    \n",
    "    if side == 0 or side == +1:\n",
    "        topView(li_res, root.right,side=+1)\n",
    "        \n",
    "    return "
   ]
  },
  {
   "cell_type": "markdown",
   "metadata": {},
   "source": [
    "#### TopView_Method 2:"
   ]
  },
  {
   "cell_type": "code",
   "execution_count": 173,
   "metadata": {},
   "outputs": [],
   "source": [
    "def topView_2(root):\n",
    "    #start with left most leaf\n",
    "    if root.left:\n",
    "        printleftside(root.left) #print left side top view, from bottom to top (left to right)\n",
    "    print (root.data) #print root\n",
    "    \n",
    "    if root.right:\n",
    "        printrightside(root.right) #print right side top view, from top to bottom (left to right)"
   ]
  },
  {
   "cell_type": "code",
   "execution_count": 174,
   "metadata": {},
   "outputs": [],
   "source": [
    "def printleftside(node):\n",
    "    if node:\n",
    "        printleftside(node.left)\n",
    "    else:\n",
    "        return\n",
    "    print (node.data)\n",
    "\n",
    "def printrightside(node):\n",
    "    if node:\n",
    "        print(node.data)\n",
    "        printrightside(node.right)\n",
    "    else:\n",
    "        return"
   ]
  },
  {
   "cell_type": "code",
   "execution_count": 172,
   "metadata": {},
   "outputs": [
    {
     "name": "stdout",
     "output_type": "stream",
     "text": [
      "10 12 4 6 18 \n",
      "top View:\n",
      "12\n",
      "12,10\n",
      "12,10,3\n",
      "\n",
      "top View 2:\n",
      "12\n",
      "10\n",
      "3\n"
     ]
    }
   ],
   "source": [
    "# Driver Code \n",
    "if __name__ == '__main__': \n",
    "\n",
    "    root = newNode(10) \n",
    "    root.left = newNode(12) \n",
    "    root.right = newNode(3) \n",
    "    root.left.right = newNode(4) \n",
    "    root.right.left = newNode(5) \n",
    "    root.right.left.right = newNode(6) \n",
    "    root.right.left.right.left = newNode(18) \n",
    "    root.right.left.right.right = newNode(7) \n",
    "   \n",
    "    leftView(root)\n",
    "    print('\\ntop View:')\n",
    "    li_res = []\n",
    "    topView(li_res, root)\n",
    "    \n",
    "    print('\\ntop View 2:')\n",
    "    topView_2(root)"
   ]
  },
  {
   "cell_type": "markdown",
   "metadata": {},
   "source": [
    "<img src = 'Image/7.png' style=\"width:600px;\">"
   ]
  },
  {
   "cell_type": "markdown",
   "metadata": {},
   "source": [
    "### Convert a Binary tree to DLL  "
   ]
  },
  {
   "cell_type": "markdown",
   "metadata": {},
   "source": [
    "<img src = 'Image/9.png' style=\"width:600px;\">"
   ]
  },
  {
   "cell_type": "code",
   "execution_count": 218,
   "metadata": {},
   "outputs": [],
   "source": [
    "class Node(object): \n",
    "      \n",
    "    \"\"\"Binary tree Node class has  \n",
    "    data, left and right child\"\"\"\n",
    "    def __init__(self, item): \n",
    "        self.data = item \n",
    "        self.left = None\n",
    "        self.right = None\n",
    "        \n",
    "def BTToDLLUtil(root): \n",
    "      \n",
    "    \"\"\"This is a utility function to  \n",
    "    convert the binary tree to doubly  \n",
    "    linked list. Most of the core task \n",
    "    is done by this function.\"\"\"\n",
    "    if root is None: \n",
    "        return root \n",
    "  \n",
    "    # Convert left subtree  \n",
    "    # and link to root \n",
    "    if root.left: \n",
    "          \n",
    "        left = BTToDLLUtil(root.left) # Convert the left subtree \n",
    "        print('root.left: left = BTToDLLUtil(root.left): ', left.data, '\\n')\n",
    "  \n",
    "        # Find inorder predecessor, After this loop, left will point to the inorder predecessor of root \n",
    "        while left.right:\n",
    "            print('left.right: left:', left.data)\n",
    "            left = left.right\n",
    "            print('left.right: after left = left.right:', left.data, '\\n')\n",
    "  \n",
    "        print('root: ', root.data)\n",
    "        print('left.right', left.right)\n",
    "        left.right = root # Make root as next of predecessor \n",
    "        print('left.right = root: ', root.data)\n",
    "        print('left.right = root: ', left.right.data)\n",
    "        \n",
    "        print('left: ', left.data)\n",
    "        print('root.left : ', root.left.data)\n",
    "        root.left = left  # Make predecessor as previous of root \n",
    "        print('root.left = left: ', left.data)\n",
    "        print('root.left = left: ', root.left.data)\n",
    "    # --------------------------------------\n",
    "    # Convert the right subtree and link to root \n",
    "    if root.right: \n",
    "          \n",
    "        right = BTToDLLUtil(root.right) # Convert the right subtree \n",
    "  \n",
    "        # Find inorder successor, After this loop, right will point to the inorder successor of root \n",
    "        while right.left: \n",
    "            right = right.left \n",
    "  \n",
    "        right.left = root # Make root as previous of successor \n",
    "          \n",
    "        root.right = right # Make successor as next of root\n",
    "  \n",
    "    return root"
   ]
  },
  {
   "cell_type": "code",
   "execution_count": 219,
   "metadata": {},
   "outputs": [],
   "source": [
    "def BTToDLL(root): \n",
    "    if root is None: \n",
    "        return root \n",
    "  \n",
    "    # Convert to doubly linked  \n",
    "    # list using BLLToDLLUtil \n",
    "    root = BTToDLLUtil(root) \n",
    "      \n",
    "    # We need pointer to left most  \n",
    "    # node which is head of the  \n",
    "    # constructed Doubly Linked list \n",
    "    while root.left: \n",
    "        root = root.left \n",
    "  \n",
    "    return root "
   ]
  },
  {
   "cell_type": "code",
   "execution_count": 220,
   "metadata": {
    "scrolled": true
   },
   "outputs": [
    {
     "name": "stdout",
     "output_type": "stream",
     "text": [
      "root.left: left = BTToDLLUtil(root.left):  4 \n",
      "\n",
      "root:  2\n",
      "left.right None\n",
      "left.right = root:  2\n",
      "left.right = root:  2\n",
      "left:  4\n",
      "root.left :  4\n",
      "root.left = left:  4\n",
      "root.left = left:  4\n",
      "root.left: left = BTToDLLUtil(root.left):  8 \n",
      "\n",
      "root:  5\n",
      "left.right None\n",
      "left.right = root:  5\n",
      "left.right = root:  5\n",
      "left:  8\n",
      "root.left :  8\n",
      "root.left = left:  8\n",
      "root.left = left:  8\n",
      "root.left: left = BTToDLLUtil(root.left):  2 \n",
      "\n",
      "left.right: left: 2\n",
      "left.right: after left = left.right: 8 \n",
      "\n",
      "left.right: left: 8\n",
      "left.right: after left = left.right: 5 \n",
      "\n",
      "root:  1\n",
      "left.right None\n",
      "left.right = root:  1\n",
      "left.right = root:  1\n",
      "left:  5\n",
      "root.left :  2\n",
      "root.left = left:  5\n",
      "root.left = left:  5\n",
      "root.left: left = BTToDLLUtil(root.left):  9 \n",
      "\n",
      "root:  6\n",
      "left.right None\n",
      "left.right = root:  6\n",
      "left.right = root:  6\n",
      "left:  9\n",
      "root.left :  9\n",
      "root.left = left:  9\n",
      "root.left = left:  9\n",
      "root.left: left = BTToDLLUtil(root.left):  13 \n",
      "\n",
      "root:  10\n",
      "left.right None\n",
      "left.right = root:  10\n",
      "left.right = root:  10\n",
      "left:  13\n",
      "root.left :  13\n",
      "root.left = left:  13\n",
      "root.left = left:  13\n",
      "root.left: left = BTToDLLUtil(root.left):  6 \n",
      "\n",
      "left.right: left: 6\n",
      "left.right: after left = left.right: 13 \n",
      "\n",
      "left.right: left: 13\n",
      "left.right: after left = left.right: 10 \n",
      "\n",
      "root:  3\n",
      "left.right None\n",
      "left.right = root:  3\n",
      "left.right = root:  3\n",
      "left:  10\n",
      "root.left :  6\n",
      "root.left = left:  10\n",
      "root.left = left:  10\n",
      "root.left: left = BTToDLLUtil(root.left):  11 \n",
      "\n",
      "root:  7\n",
      "left.right None\n",
      "left.right = root:  7\n",
      "left.right = root:  7\n",
      "left:  11\n",
      "root.left :  11\n",
      "root.left = left:  11\n",
      "root.left = left:  11\n",
      "root.left: left = BTToDLLUtil(root.left):  14 \n",
      "\n",
      "root:  12\n",
      "left.right None\n",
      "left.right = root:  12\n",
      "left.right = root:  12\n",
      "left:  14\n",
      "root.left :  14\n",
      "root.left = left:  14\n",
      "root.left = left:  14\n",
      "4 2 8 5 1 9 6 13 10 3 11 7 14 12 "
     ]
    }
   ],
   "source": [
    "def print_list(head): \n",
    "      \n",
    "    \"\"\"Function to print the given \n",
    "       doubly linked list\"\"\"\n",
    "    if head is None: \n",
    "        return\n",
    "    while head: \n",
    "        print(head.data, end = \" \") \n",
    "        head = head.right \n",
    "\n",
    "# Driver Code \n",
    "if __name__ == '__main__': \n",
    "    root = Node(1) \n",
    "    root.left = Node(2) \n",
    "    root.right = Node(3) \n",
    "    root.left.left = Node(4) \n",
    "    root.left.right = Node(5) \n",
    "    root.right.left = Node(6)\n",
    "    root.right.right = Node(7)\n",
    "    root.left.right.left= Node(8)\n",
    "    root.right.left.left = Node(9)\n",
    "    root.right.left.right = Node(10)\n",
    "    root.right.right.left = Node(11)\n",
    "    root.right.right.right = Node(12)\n",
    "    root.right.left.right.left = Node(13)\n",
    "    root.right.right.right.left = Node(14)\n",
    "  \n",
    "    head = BTToDLL(root) \n",
    "    print_list(head) "
   ]
  },
  {
   "cell_type": "markdown",
   "metadata": {},
   "source": [
    "__Method 2:__"
   ]
  },
  {
   "cell_type": "code",
   "execution_count": 230,
   "metadata": {},
   "outputs": [],
   "source": [
    "def inorder(root): \n",
    "      \n",
    "    if root is not None: \n",
    "        inorder(root.left) \n",
    "        print (\"\\t%d\" %(root.data))\n",
    "        inorder(root.right) "
   ]
  },
  {
   "cell_type": "code",
   "execution_count": 238,
   "metadata": {},
   "outputs": [],
   "source": [
    "def fixPrevPtr(root): \n",
    "    if root is not None: \n",
    "        print(\"fixPrevPtr root.data: \", root.data)\n",
    "        print(\"fixPrevPtr root.left: \", root.left.data)\n",
    "        fixPrevPtr(root.left) \n",
    "        \n",
    "        root.left = fixPrevPtr.pre \n",
    "        fixPrevPtr.pre = root  \n",
    "        fixPrevPtr(root.right) "
   ]
  },
  {
   "cell_type": "code",
   "execution_count": 296,
   "metadata": {},
   "outputs": [],
   "source": [
    "def fixNextPtr(root): \n",
    "  \n",
    "    prev = None\n",
    "    # Find the right most node in BT or last node in DLL \n",
    "    while(root and root.right != None):\n",
    "        print('root:', root.data)\n",
    "        print('root.right:', root.right.data)\n",
    "        root = root.right\n",
    "        print('root = root.right:', root.data)\n",
    "        \n",
    "    while(root and root.left != None):\n",
    "        print('New round-----------root.left:', root.left.data)\n",
    "        \n",
    "        print('----------Before prev = root:---------------------')\n",
    "        print(' root: ', root.data)\n",
    "        prev = root\n",
    "        print('----------After prev = root---------------------')\n",
    "        print('prev:', prev.data, 'root: ', root.data)\n",
    "        \n",
    "        print('----------Before root = root.left:------------------')\n",
    "        print('root: ', root.data, 'root.left: ', root.left.data)\n",
    "        root = root.left \n",
    "        print('----------After root = root.left:------------------')\n",
    "        print('root: ', root.data)\n",
    "        \n",
    "        print('----------Before root.right = prev:------------------')\n",
    "        print('prev: ', prev.data)\n",
    "        root.right = prev \n",
    "        print('----------After root.right = prev:------------------')\n",
    "        print('root.right: ', root.right.data, 'prev: ', prev.data)\n",
    "        \n",
    "  \n",
    "    # The leftmost node is head of linked list, return it \n",
    "    return root  "
   ]
  },
  {
   "cell_type": "code",
   "execution_count": 297,
   "metadata": {},
   "outputs": [],
   "source": [
    "def BTToDLL(root): \n",
    "      \n",
    "    # Set the previous pointer  \n",
    "    fixPrevPtr(root) \n",
    "  \n",
    "    # Set the next pointer and return head of DLL \n",
    "    return fixNextPtr(root) "
   ]
  },
  {
   "cell_type": "code",
   "execution_count": 298,
   "metadata": {},
   "outputs": [],
   "source": [
    "def printList(root): \n",
    "    while(root != None): \n",
    "        print (\"\\t%d\" %(root.data))\n",
    "        root = root.right "
   ]
  },
  {
   "cell_type": "code",
   "execution_count": 299,
   "metadata": {
    "scrolled": false
   },
   "outputs": [
    {
     "name": "stdout",
     "output_type": "stream",
     "text": [
      "\n",
      "\t\t Inorder Tree Traversal\n",
      "\n",
      "\t4\n",
      "\t2\n",
      "\t8\n",
      "\t5\n",
      "\t1\n",
      "\t9\n",
      "\t6\n",
      "\t13\n",
      "\t10\n",
      "\t3\n",
      "\t11\n",
      "\t7\n",
      "\t14\n",
      "\t12\n",
      "root: 1\n",
      "root.right: 3\n",
      "root = root.right: 3\n",
      "root: 3\n",
      "root.right: 7\n",
      "root = root.right: 7\n",
      "root: 7\n",
      "root.right: 12\n",
      "root = root.right: 12\n",
      "root.left: 14\n",
      "----------Before prev = root:---------------------\n",
      " root:  12\n",
      "----------After prev = root---------------------\n",
      "prev: 12 root:  12\n",
      "----------Before root = root.left:------------------\n",
      "root:  12 root.left:  14\n",
      "----------After root = root.left:------------------\n",
      "root:  14\n",
      "----------Before root.right = prev:------------------\n",
      "prev:  12\n",
      "----------After root.right = prev:------------------\n",
      "root.right:  12 prev:  12\n",
      "root.left: 7\n",
      "----------Before prev = root:---------------------\n",
      " root:  14\n",
      "----------After prev = root---------------------\n",
      "prev: 14 root:  14\n",
      "----------Before root = root.left:------------------\n",
      "root:  14 root.left:  7\n",
      "----------After root = root.left:------------------\n",
      "root:  7\n",
      "----------Before root.right = prev:------------------\n",
      "prev:  14\n",
      "----------After root.right = prev:------------------\n",
      "root.right:  14 prev:  14\n",
      "root.left: 11\n",
      "----------Before prev = root:---------------------\n",
      " root:  7\n",
      "----------After prev = root---------------------\n",
      "prev: 7 root:  7\n",
      "----------Before root = root.left:------------------\n",
      "root:  7 root.left:  11\n",
      "----------After root = root.left:------------------\n",
      "root:  11\n",
      "----------Before root.right = prev:------------------\n",
      "prev:  7\n",
      "----------After root.right = prev:------------------\n",
      "root.right:  7 prev:  7\n",
      "root.left: 3\n",
      "----------Before prev = root:---------------------\n",
      " root:  11\n",
      "----------After prev = root---------------------\n",
      "prev: 11 root:  11\n",
      "----------Before root = root.left:------------------\n",
      "root:  11 root.left:  3\n",
      "----------After root = root.left:------------------\n",
      "root:  3\n",
      "----------Before root.right = prev:------------------\n",
      "prev:  11\n",
      "----------After root.right = prev:------------------\n",
      "root.right:  11 prev:  11\n",
      "root.left: 10\n",
      "----------Before prev = root:---------------------\n",
      " root:  3\n",
      "----------After prev = root---------------------\n",
      "prev: 3 root:  3\n",
      "----------Before root = root.left:------------------\n",
      "root:  3 root.left:  10\n",
      "----------After root = root.left:------------------\n",
      "root:  10\n",
      "----------Before root.right = prev:------------------\n",
      "prev:  3\n",
      "----------After root.right = prev:------------------\n",
      "root.right:  3 prev:  3\n",
      "root.left: 13\n",
      "----------Before prev = root:---------------------\n",
      " root:  10\n",
      "----------After prev = root---------------------\n",
      "prev: 10 root:  10\n",
      "----------Before root = root.left:------------------\n",
      "root:  10 root.left:  13\n",
      "----------After root = root.left:------------------\n",
      "root:  13\n",
      "----------Before root.right = prev:------------------\n",
      "prev:  10\n",
      "----------After root.right = prev:------------------\n",
      "root.right:  10 prev:  10\n",
      "root.left: 6\n",
      "----------Before prev = root:---------------------\n",
      " root:  13\n",
      "----------After prev = root---------------------\n",
      "prev: 13 root:  13\n",
      "----------Before root = root.left:------------------\n",
      "root:  13 root.left:  6\n",
      "----------After root = root.left:------------------\n",
      "root:  6\n",
      "----------Before root.right = prev:------------------\n",
      "prev:  13\n",
      "----------After root.right = prev:------------------\n",
      "root.right:  13 prev:  13\n",
      "root.left: 9\n",
      "----------Before prev = root:---------------------\n",
      " root:  6\n",
      "----------After prev = root---------------------\n",
      "prev: 6 root:  6\n",
      "----------Before root = root.left:------------------\n",
      "root:  6 root.left:  9\n",
      "----------After root = root.left:------------------\n",
      "root:  9\n",
      "----------Before root.right = prev:------------------\n",
      "prev:  6\n",
      "----------After root.right = prev:------------------\n",
      "root.right:  6 prev:  6\n",
      "root.left: 1\n",
      "----------Before prev = root:---------------------\n",
      " root:  9\n",
      "----------After prev = root---------------------\n",
      "prev: 9 root:  9\n",
      "----------Before root = root.left:------------------\n",
      "root:  9 root.left:  1\n",
      "----------After root = root.left:------------------\n",
      "root:  1\n",
      "----------Before root.right = prev:------------------\n",
      "prev:  9\n",
      "----------After root.right = prev:------------------\n",
      "root.right:  9 prev:  9\n",
      "root.left: 5\n",
      "----------Before prev = root:---------------------\n",
      " root:  1\n",
      "----------After prev = root---------------------\n",
      "prev: 1 root:  1\n",
      "----------Before root = root.left:------------------\n",
      "root:  1 root.left:  5\n",
      "----------After root = root.left:------------------\n",
      "root:  5\n",
      "----------Before root.right = prev:------------------\n",
      "prev:  1\n",
      "----------After root.right = prev:------------------\n",
      "root.right:  1 prev:  1\n",
      "root.left: 8\n",
      "----------Before prev = root:---------------------\n",
      " root:  5\n",
      "----------After prev = root---------------------\n",
      "prev: 5 root:  5\n",
      "----------Before root = root.left:------------------\n",
      "root:  5 root.left:  8\n",
      "----------After root = root.left:------------------\n",
      "root:  8\n",
      "----------Before root.right = prev:------------------\n",
      "prev:  5\n",
      "----------After root.right = prev:------------------\n",
      "root.right:  5 prev:  5\n",
      "root.left: 2\n",
      "----------Before prev = root:---------------------\n",
      " root:  8\n",
      "----------After prev = root---------------------\n",
      "prev: 8 root:  8\n",
      "----------Before root = root.left:------------------\n",
      "root:  8 root.left:  2\n",
      "----------After root = root.left:------------------\n",
      "root:  2\n",
      "----------Before root.right = prev:------------------\n",
      "prev:  8\n",
      "----------After root.right = prev:------------------\n",
      "root.right:  8 prev:  8\n",
      "root.left: 4\n",
      "----------Before prev = root:---------------------\n",
      " root:  2\n",
      "----------After prev = root---------------------\n",
      "prev: 2 root:  2\n",
      "----------Before root = root.left:------------------\n",
      "root:  2 root.left:  4\n",
      "----------After root = root.left:------------------\n",
      "root:  4\n",
      "----------Before root.right = prev:------------------\n",
      "prev:  2\n",
      "----------After root.right = prev:------------------\n",
      "root.right:  2 prev:  2\n",
      "\n",
      "\n",
      "\t\tDLL Traversal\n",
      "\n",
      "\t4\n",
      "\t2\n",
      "\t8\n",
      "\t5\n",
      "\t1\n",
      "\t9\n",
      "\t6\n",
      "\t13\n",
      "\t10\n",
      "\t3\n",
      "\t11\n",
      "\t7\n",
      "\t14\n",
      "\t12\n"
     ]
    }
   ],
   "source": [
    "# Driver program to test above function \n",
    "root = Node(1) \n",
    "root.left = Node(2) \n",
    "root.right = Node(3) \n",
    "root.left.left = Node(4) \n",
    "root.left.right = Node(5) \n",
    "root.right.left = Node(6)\n",
    "root.right.right = Node(7)\n",
    "root.left.right.left= Node(8)\n",
    "root.right.left.left = Node(9)\n",
    "root.right.left.right = Node(10)\n",
    "root.right.right.left = Node(11)\n",
    "root.right.right.right = Node(12)\n",
    "root.right.left.right.left = Node(13)\n",
    "root.right.right.right.left = Node(14)\n",
    "  \n",
    "print (\"\\n\\t\\t Inorder Tree Traversal\\n\")\n",
    "inorder(root) \n",
    "  \n",
    "# Static variable pre for function fixPrevPtr \n",
    "fixPrevPtr.pre = None\n",
    "head = BTToDLL(root) \n",
    "  \n",
    "print (\"\\n\\n\\t\\tDLL Traversal\\n\")\n",
    "printList(head) "
   ]
  },
  {
   "cell_type": "markdown",
   "metadata": {},
   "source": [
    "### Subset:\n",
    "Given a set of distinct integers, nums, return all possible subsets (the power set).  \n",
    "Note: The solution set must not contain duplicate subsets.  \n",
    "Input: nums = [1,2,3]  \n",
    "Output:\n",
    "[\n",
    "  [3],\n",
    "  [1],\n",
    "  [2],\n",
    "  [1,2,3],\n",
    "  [1,3],\n",
    "  [2,3],\n",
    "  [1,2],\n",
    "  []\n",
    "]"
   ]
  },
  {
   "cell_type": "code",
   "execution_count": 484,
   "metadata": {},
   "outputs": [],
   "source": [
    "from itertools import combinations"
   ]
  },
  {
   "cell_type": "code",
   "execution_count": 477,
   "metadata": {},
   "outputs": [],
   "source": [
    "li_input = [1,2,3]"
   ]
  },
  {
   "cell_type": "code",
   "execution_count": 491,
   "metadata": {},
   "outputs": [],
   "source": [
    "def comb(li_input):\n",
    "    li_res = []\n",
    "    \n",
    "    for num in range(len(li_input)+1):\n",
    "        li_res.append(list(combinations(li_input, num)))\n",
    "    \n",
    "    return li_res"
   ]
  },
  {
   "cell_type": "code",
   "execution_count": 492,
   "metadata": {
    "scrolled": false
   },
   "outputs": [
    {
     "data": {
      "text/plain": [
       "[[()], [(1,), (2,), (3,)], [(1, 2), (1, 3), (2, 3)], [(1, 2, 3)]]"
      ]
     },
     "execution_count": 492,
     "metadata": {},
     "output_type": "execute_result"
    }
   ],
   "source": [
    "comb(li_input)"
   ]
  },
  {
   "cell_type": "markdown",
   "metadata": {},
   "source": [
    "### Recursion-Optimize Fibonacci:\n",
    "- How to solve the slower fibonacci when it grows to 100 +."
   ]
  },
  {
   "cell_type": "markdown",
   "metadata": {},
   "source": [
    "__Method 1__:\n",
    "<font color = 'red'>Cache the recent value</font>"
   ]
  },
  {
   "cell_type": "code",
   "execution_count": 496,
   "metadata": {},
   "outputs": [],
   "source": [
    "cache_last_value = {}\n",
    "\n",
    "def F(n):\n",
    "    if n in cache_last_value:\n",
    "        return cache_last_value[n]\n",
    "    \n",
    "    if n == 1:\n",
    "        return 1\n",
    "    elif n == 2:\n",
    "        return 2\n",
    "    else:\n",
    "        value = F(n-1)+F(n-2)\n",
    "        cache_last_value[n] = value\n",
    "        \n",
    "    return value"
   ]
  },
  {
   "cell_type": "code",
   "execution_count": 497,
   "metadata": {
    "scrolled": true
   },
   "outputs": [
    {
     "data": {
      "text/plain": [
       "573147844013817084101"
      ]
     },
     "execution_count": 497,
     "metadata": {},
     "output_type": "execute_result"
    }
   ],
   "source": [
    "F(100)"
   ]
  },
  {
   "cell_type": "markdown",
   "metadata": {},
   "source": [
    "__Method 2__: <font color='red'>builtIn: from functools import lru_cache</font>"
   ]
  },
  {
   "cell_type": "code",
   "execution_count": 499,
   "metadata": {},
   "outputs": [],
   "source": [
    "from functools import lru_cache"
   ]
  },
  {
   "cell_type": "code",
   "execution_count": 501,
   "metadata": {},
   "outputs": [],
   "source": [
    "@lru_cache(maxsize = 1000) #!!!!!!!!!!!!!!!!!!!!!!!!!!!!!!!\n",
    "\n",
    "def F(n):\n",
    "    if n==1:\n",
    "        return 1\n",
    "    elif n==2:\n",
    "        return 2\n",
    "    else:\n",
    "        return F(n-1)+F(n-2)"
   ]
  },
  {
   "cell_type": "code",
   "execution_count": 502,
   "metadata": {},
   "outputs": [
    {
     "data": {
      "text/plain": [
       "225591516161936330872512695036072072046011324913758190588638866418474627738686883405015987052796968498626"
      ]
     },
     "execution_count": 502,
     "metadata": {},
     "output_type": "execute_result"
    }
   ],
   "source": [
    "F(500)"
   ]
  },
  {
   "cell_type": "markdown",
   "metadata": {},
   "source": [
    "__Note:__  \n",
    "- Do not have to assign new {} for storing the temporary last value."
   ]
  },
  {
   "cell_type": "markdown",
   "metadata": {},
   "source": [
    "### Type checking:"
   ]
  },
  {
   "cell_type": "code",
   "execution_count": 505,
   "metadata": {},
   "outputs": [],
   "source": [
    "def typeCheck(n):\n",
    "    \n",
    "    if type(n)!=int:\n",
    "        raise TypeError('This is not an integer.')\n",
    "    if type(n)!=float:\n",
    "        raise TypeError('This is not a float.')\n",
    "    if type(n)!=str:\n",
    "        raise TypeError('This is not a string.')\n",
    "    else:\n",
    "        return 'done.'"
   ]
  },
  {
   "cell_type": "code",
   "execution_count": 506,
   "metadata": {},
   "outputs": [
    {
     "ename": "TypeError",
     "evalue": "This is not a float.",
     "output_type": "error",
     "traceback": [
      "\u001b[1;31m---------------------------------------------------------------------------\u001b[0m",
      "\u001b[1;31mTypeError\u001b[0m                                 Traceback (most recent call last)",
      "\u001b[1;32m<ipython-input-506-d4f3d3232baa>\u001b[0m in \u001b[0;36m<module>\u001b[1;34m\u001b[0m\n\u001b[1;32m----> 1\u001b[1;33m \u001b[0mtypeCheck\u001b[0m\u001b[1;33m(\u001b[0m\u001b[1;36m2\u001b[0m\u001b[1;33m)\u001b[0m\u001b[1;33m\u001b[0m\u001b[0m\n\u001b[0m",
      "\u001b[1;32m<ipython-input-505-c36a43379e3a>\u001b[0m in \u001b[0;36mtypeCheck\u001b[1;34m(n)\u001b[0m\n\u001b[0;32m      3\u001b[0m         \u001b[1;32mraise\u001b[0m \u001b[0mTypeError\u001b[0m\u001b[1;33m(\u001b[0m\u001b[1;34m'This is not an integer.'\u001b[0m\u001b[1;33m)\u001b[0m\u001b[1;33m\u001b[0m\u001b[0m\n\u001b[0;32m      4\u001b[0m     \u001b[1;32mif\u001b[0m \u001b[0mtype\u001b[0m\u001b[1;33m(\u001b[0m\u001b[0mn\u001b[0m\u001b[1;33m)\u001b[0m\u001b[1;33m!=\u001b[0m\u001b[0mfloat\u001b[0m\u001b[1;33m:\u001b[0m\u001b[1;33m\u001b[0m\u001b[0m\n\u001b[1;32m----> 5\u001b[1;33m         \u001b[1;32mraise\u001b[0m \u001b[0mTypeError\u001b[0m\u001b[1;33m(\u001b[0m\u001b[1;34m'This is not a float.'\u001b[0m\u001b[1;33m)\u001b[0m\u001b[1;33m\u001b[0m\u001b[0m\n\u001b[0m\u001b[0;32m      6\u001b[0m     \u001b[1;32mif\u001b[0m \u001b[0mtype\u001b[0m\u001b[1;33m(\u001b[0m\u001b[0mn\u001b[0m\u001b[1;33m)\u001b[0m\u001b[1;33m!=\u001b[0m\u001b[0mstr\u001b[0m\u001b[1;33m:\u001b[0m\u001b[1;33m\u001b[0m\u001b[0m\n\u001b[0;32m      7\u001b[0m         \u001b[1;32mraise\u001b[0m \u001b[0mTypeError\u001b[0m\u001b[1;33m(\u001b[0m\u001b[1;34m'This is not a string.'\u001b[0m\u001b[1;33m)\u001b[0m\u001b[1;33m\u001b[0m\u001b[0m\n",
      "\u001b[1;31mTypeError\u001b[0m: This is not a float."
     ]
    }
   ],
   "source": [
    "typeCheck(2)"
   ]
  },
  {
   "cell_type": "markdown",
   "metadata": {},
   "source": [
    "### Reverse Linked List:\n",
    "Input: 1->2->3->4->5->NULL  \n",
    "Output: 5->4->3->2->1->NULL"
   ]
  },
  {
   "cell_type": "code",
   "execution_count": 507,
   "metadata": {},
   "outputs": [],
   "source": [
    "class Solution(object):\n",
    "    def reverseList(self, head):\n",
    "        \"\"\"Takes an iterative approach\"\"\"\n",
    "        if not (head and head.next):\n",
    "            return head\n",
    "\n",
    "        prev_node = None\n",
    "        while head:\n",
    "            next_node = head.next\n",
    "            head.next = prev_node\n",
    "            prev_node = head\n",
    "            head = next_node\n",
    "            \n",
    "        return prev_node"
   ]
  },
  {
   "cell_type": "markdown",
   "metadata": {},
   "source": [
    "### Interview Question: Row with min 1s  \n",
    "Village/Defender VS Enemies:  \n",
    "110000  \n",
    "100000  \n",
    "111000  \n",
    "110000\n",
    "\n",
    "There is a village with two kinds of people- villagers (represented by 0) and defenders (represented by 1).  \n",
    "When enemy attacks the defenders stand in front as shown.  \n",
    "The enemy will attack in that row which is most vulnerable (i.e. has the least number of defenders.   \n",
    "Write a program to find the row where the enemy will attack.\n"
   ]
  },
  {
   "cell_type": "code",
   "execution_count": 509,
   "metadata": {
    "scrolled": true
   },
   "outputs": [
    {
     "name": "stdout",
     "output_type": "stream",
     "text": [
      "[[{'111000', '110000', '100000'}]]\n"
     ]
    }
   ],
   "source": [
    "li_input = {'110000', '100000', '111000', '110000'}\n"
   ]
  },
  {
   "cell_type": "code",
   "execution_count": 516,
   "metadata": {},
   "outputs": [],
   "source": [
    "from collections import Counter"
   ]
  },
  {
   "cell_type": "code",
   "execution_count": 572,
   "metadata": {},
   "outputs": [],
   "source": [
    "def find_min_one(li_input):\n",
    "    li_temp = list(map(list, li_input))\n",
    "    print(li_temp)\n",
    "    \n",
    "    li_countOne= []\n",
    "    \n",
    "    for ele in li_temp:\n",
    "        li_countOne.append(ele.count('1'))\n",
    "    \n",
    "    print(li_countOne)\n",
    "    return li_countOne.index(min(li_countOne))"
   ]
  },
  {
   "cell_type": "code",
   "execution_count": 573,
   "metadata": {},
   "outputs": [
    {
     "name": "stdout",
     "output_type": "stream",
     "text": [
      "[['1', '1', '1', '0', '0', '0'], ['1', '1', '0', '0', '0', '0'], ['1', '0', '0', '0', '0', '0']]\n",
      "[3, 2, 1]\n"
     ]
    },
    {
     "data": {
      "text/plain": [
       "2"
      ]
     },
     "execution_count": 573,
     "metadata": {},
     "output_type": "execute_result"
    }
   ],
   "source": [
    "find_min_one(li_input)"
   ]
  },
  {
   "cell_type": "markdown",
   "metadata": {},
   "source": [
    "__OR__:"
   ]
  },
  {
   "cell_type": "code",
   "execution_count": 615,
   "metadata": {},
   "outputs": [],
   "source": [
    "from collections import Counter\n",
    "from operator import itemgetter "
   ]
  },
  {
   "cell_type": "code",
   "execution_count": 616,
   "metadata": {},
   "outputs": [],
   "source": [
    "li_temp = list(map(list, li_input))\n",
    "dict_res = {}"
   ]
  },
  {
   "cell_type": "code",
   "execution_count": 705,
   "metadata": {
    "scrolled": true
   },
   "outputs": [
    {
     "name": "stdout",
     "output_type": "stream",
     "text": [
      "['1', '1', '1', '0', '0', '0']\n",
      "['1', '1', '0', '0', '0', '0']\n",
      "['1', '0', '0', '0', '0', '0']\n",
      "{0: 3, 1: 2, 2: 1}\n",
      "The row with least 1 is:  2\n"
     ]
    }
   ],
   "source": [
    "for ele in li_temp:\n",
    "    print(ele)\n",
    "    countOne = ele.count('1')\n",
    "    ind = li_temp.index(ele)\n",
    "    \n",
    "    dict_res[ind]=countOne\n",
    "    \n",
    "print(dict_res)\n",
    "\n",
    "print('The row with least 1 is: ', min(dict_res.items(), key=lambda x:x[1])[0])"
   ]
  },
  {
   "cell_type": "markdown",
   "metadata": {},
   "source": [
    "### Flip by the neighbor:"
   ]
  },
  {
   "cell_type": "code",
   "execution_count": 794,
   "metadata": {},
   "outputs": [],
   "source": [
    "li_in = [1,1,1,0,1,1,1,1]"
   ]
  },
  {
   "cell_type": "code",
   "execution_count": 795,
   "metadata": {},
   "outputs": [],
   "source": [
    "def flip(li_in):\n",
    "    li_res = []\n",
    "    \n",
    "    li_in.insert(0,0)\n",
    "    li_in.append(0) #!!!!!!!!!!!!!!!!!!!!!!! Insert 0 at the 0th position.\n",
    "    \n",
    "    print(li_in)\n",
    "    \n",
    "    for i in range(1, len(li_in)-1):\n",
    "        if li_in[i-1]==li_in[i+1]:\n",
    "            li_res.append(0)\n",
    "        else:\n",
    "            li_res.append(1)\n",
    "            \n",
    "    return li_res"
   ]
  },
  {
   "cell_type": "code",
   "execution_count": 797,
   "metadata": {},
   "outputs": [],
   "source": [
    "def count_N(N, li_in):\n",
    "    li_res = []\n",
    "    for count in range(1, N+1):\n",
    "        li_res = flip(li_in)\n",
    "        print(li_res)\n",
    "        li_in = li_res[1:-1]\n",
    "    \n",
    "    return li_res"
   ]
  },
  {
   "cell_type": "code",
   "execution_count": 798,
   "metadata": {
    "scrolled": true
   },
   "outputs": [
    {
     "name": "stdout",
     "output_type": "stream",
     "text": [
      "[0, 0, 1, 1, 1, 0, 1, 1, 1, 1, 0, 0]\n",
      "[1, 1, 0, 1, 0, 1, 0, 0, 1, 1]\n",
      "[0, 1, 0, 1, 0, 1, 0, 0, 1, 0]\n",
      "[0, 0, 0, 0, 0, 1, 1, 0]\n"
     ]
    },
    {
     "data": {
      "text/plain": [
       "[0, 0, 0, 0, 0, 1, 1, 0]"
      ]
     },
     "execution_count": 798,
     "metadata": {},
     "output_type": "execute_result"
    }
   ],
   "source": [
    "count_N(2, li_in)"
   ]
  },
  {
   "cell_type": "markdown",
   "metadata": {},
   "source": [
    "### Memory max matches with the given number"
   ]
  },
  {
   "cell_type": "markdown",
   "metadata": {},
   "source": [
    "input: sum = 5  \n",
    "a = [[1,4],[2,1],[3,2]] b = [[1,2]],  \n",
    "output: [3,1]  \n",
    "    \n",
    "explanation: 2 in [3,2](the 3rd one), and plus 2 in [[1,2]] (the 1st one)"
   ]
  },
  {
   "cell_type": "code",
   "execution_count": 2052,
   "metadata": {},
   "outputs": [],
   "source": [
    "A1 = [[1,3],[2,7],[3,5],[4,10]] \n",
    "A2 = [[1,2],[2,3],[3,4],[4,5]]"
   ]
  },
  {
   "cell_type": "code",
   "execution_count": 2074,
   "metadata": {},
   "outputs": [],
   "source": [
    "def countPairs(K, A1, A2):\n",
    "    A1.sort(key=lambda x:x[1])\n",
    "    A2.sort(key=lambda x:x[1])\n",
    "    print(A1, A2)\n",
    "    res = []\n",
    "  \n",
    "    for i in A1:\n",
    "        for j in A2:\n",
    "            \n",
    "            if i[1]+j[1]<K:\n",
    "                print (i,j)\n",
    "                "
   ]
  },
  {
   "cell_type": "code",
   "execution_count": 2075,
   "metadata": {},
   "outputs": [
    {
     "name": "stdout",
     "output_type": "stream",
     "text": [
      "[[1, 3], [3, 5], [2, 7], [4, 10]] [[1, 2], [2, 3], [3, 4], [4, 5]]\n",
      "[1, 3] [1, 2]\n",
      "[1, 3] [2, 3]\n",
      "[1, 3] [3, 4]\n",
      "[1, 3] [4, 5]\n",
      "[3, 5] [1, 2]\n",
      "[3, 5] [2, 3]\n",
      "[3, 5] [3, 4]\n",
      "[2, 7] [1, 2]\n"
     ]
    }
   ],
   "source": [
    "countPairs(10, A1, A2)"
   ]
  },
  {
   "cell_type": "markdown",
   "metadata": {},
   "source": [
    "### Word Frequency: Jimmy has an apple, it is on the table"
   ]
  },
  {
   "cell_type": "markdown",
   "metadata": {},
   "source": [
    "'Jimmy has an apple, it is on the table'  "
   ]
  },
  {
   "cell_type": "markdown",
   "metadata": {},
   "source": [
    "stop word: an, the, a, is"
   ]
  },
  {
   "cell_type": "code",
   "execution_count": 834,
   "metadata": {},
   "outputs": [],
   "source": [
    "str_in = 'Jimmy has an apple, it is on the table'\n",
    "str_in_stopword = 'an, the, a, is'"
   ]
  },
  {
   "cell_type": "code",
   "execution_count": 835,
   "metadata": {},
   "outputs": [],
   "source": [
    "punc = set(string.punctuation)"
   ]
  },
  {
   "cell_type": "code",
   "execution_count": 836,
   "metadata": {},
   "outputs": [
    {
     "data": {
      "text/plain": [
       "'Jimmy has an apple it is on the table'"
      ]
     },
     "execution_count": 836,
     "metadata": {},
     "output_type": "execute_result"
    }
   ],
   "source": [
    "str_in = ''.join([char for char in str_in if char not in punc])\n",
    "str_in"
   ]
  },
  {
   "cell_type": "code",
   "execution_count": 837,
   "metadata": {},
   "outputs": [
    {
     "data": {
      "text/plain": [
       "['Jimmy', 'has', 'an', 'apple', 'it', 'is', 'on', 'the', 'table']"
      ]
     },
     "execution_count": 837,
     "metadata": {},
     "output_type": "execute_result"
    }
   ],
   "source": [
    "li_in = str_in.split(' ')\n",
    "li_in"
   ]
  },
  {
   "cell_type": "code",
   "execution_count": 838,
   "metadata": {},
   "outputs": [
    {
     "data": {
      "text/plain": [
       "['an', 'the', 'a', 'is']"
      ]
     },
     "execution_count": 838,
     "metadata": {},
     "output_type": "execute_result"
    }
   ],
   "source": [
    "li_in_stop = str_in_stopword.split(', ')\n",
    "li_in_stop"
   ]
  },
  {
   "cell_type": "code",
   "execution_count": 839,
   "metadata": {
    "scrolled": true
   },
   "outputs": [
    {
     "data": {
      "text/plain": [
       "['Jimmy', 'has', 'apple', 'it', 'on', 'table']"
      ]
     },
     "execution_count": 839,
     "metadata": {},
     "output_type": "execute_result"
    }
   ],
   "source": [
    "li_in_filtered = [word for word in li_in if word not in li_in_stop]\n",
    "li_in_filtered"
   ]
  },
  {
   "cell_type": "code",
   "execution_count": 841,
   "metadata": {},
   "outputs": [],
   "source": [
    "from collections import Counter"
   ]
  },
  {
   "cell_type": "code",
   "execution_count": 845,
   "metadata": {},
   "outputs": [
    {
     "data": {
      "text/plain": [
       "{'Jimmy': 1, 'has': 1, 'apple': 1, 'it': 1, 'on': 1, 'table': 1}"
      ]
     },
     "execution_count": 845,
     "metadata": {},
     "output_type": "execute_result"
    }
   ],
   "source": [
    "li_count = Counter(li_in_filtered) #!!!!!!!!!!!!!!!!!!!!!Counter: count the occurance of every word.\n",
    "dict_count = dict(li_count)\n",
    "dict_count"
   ]
  },
  {
   "cell_type": "code",
   "execution_count": 853,
   "metadata": {},
   "outputs": [
    {
     "data": {
      "text/plain": [
       "[('Jimmy', 1), ('has', 1), ('apple', 1), ('it', 1), ('on', 1), ('table', 1)]"
      ]
     },
     "execution_count": 853,
     "metadata": {},
     "output_type": "execute_result"
    }
   ],
   "source": [
    "li_sorted = sorted(dict_count.items(), key = lambda item: item[1]) #!!!!!!!!!!!!!!!! Sort by some item\n",
    "li_sorted"
   ]
  },
  {
   "cell_type": "code",
   "execution_count": 854,
   "metadata": {},
   "outputs": [
    {
     "data": {
      "text/plain": [
       "'Jimmy'"
      ]
     },
     "execution_count": 854,
     "metadata": {},
     "output_type": "execute_result"
    }
   ],
   "source": [
    "max_item = li_sorted[0]\n",
    "max_item[0]"
   ]
  },
  {
   "cell_type": "markdown",
   "metadata": {},
   "source": [
    "__OR:__"
   ]
  },
  {
   "cell_type": "code",
   "execution_count": 856,
   "metadata": {},
   "outputs": [],
   "source": [
    "from collections import defaultdict"
   ]
  },
  {
   "cell_type": "code",
   "execution_count": 867,
   "metadata": {},
   "outputs": [],
   "source": [
    "str_in = 'Jimmy has an apple, it is on the table'\n",
    "str_in_stopword = 'an, the, a, is'"
   ]
  },
  {
   "cell_type": "code",
   "execution_count": 868,
   "metadata": {},
   "outputs": [
    {
     "data": {
      "text/plain": [
       "['an', 'the', 'a', 'is']"
      ]
     },
     "execution_count": 868,
     "metadata": {},
     "output_type": "execute_result"
    }
   ],
   "source": [
    "li_in_stopword = str_in_stopword.split(', ')\n",
    "li_in_stopword"
   ]
  },
  {
   "cell_type": "code",
   "execution_count": 869,
   "metadata": {},
   "outputs": [
    {
     "data": {
      "text/plain": [
       "'Jimmy has an apple it is on the table'"
      ]
     },
     "execution_count": 869,
     "metadata": {},
     "output_type": "execute_result"
    }
   ],
   "source": [
    "str_in_filterPunc = ''.join([char for char in str_in if char not in string.punctuation])\n",
    "str_in_filterPunc"
   ]
  },
  {
   "cell_type": "code",
   "execution_count": 870,
   "metadata": {},
   "outputs": [
    {
     "data": {
      "text/plain": [
       "['Jimmy', 'has', 'apple', 'it', 'on', 'table']"
      ]
     },
     "execution_count": 870,
     "metadata": {},
     "output_type": "execute_result"
    }
   ],
   "source": [
    "str_in_filterStop = [word for word in str_in_filterPunc.split(' ') if word not in li_in_stopword]\n",
    "str_in_filterStop"
   ]
  },
  {
   "cell_type": "code",
   "execution_count": 872,
   "metadata": {},
   "outputs": [
    {
     "data": {
      "text/plain": [
       "defaultdict(int,\n",
       "            {'Jimmy': 1, 'has': 1, 'apple': 1, 'it': 1, 'on': 1, 'table': 1})"
      ]
     },
     "execution_count": 872,
     "metadata": {},
     "output_type": "execute_result"
    }
   ],
   "source": [
    "#!!!!!!!!!!!! Use defaultdict\n",
    "dict_word_count = defaultdict(int)\n",
    "\n",
    "for word in str_in_filterStop:\n",
    "    dict_word_count[word]+=1\n",
    "\n",
    "dict_word_count"
   ]
  },
  {
   "cell_type": "code",
   "execution_count": 875,
   "metadata": {
    "scrolled": true
   },
   "outputs": [
    {
     "data": {
      "text/plain": [
       "'Jimmy'"
      ]
     },
     "execution_count": 875,
     "metadata": {},
     "output_type": "execute_result"
    }
   ],
   "source": [
    "sorted(dict_word_count.items(), key = lambda item: item[1])[0][0]"
   ]
  },
  {
   "cell_type": "markdown",
   "metadata": {},
   "source": [
    "__OR:__"
   ]
  },
  {
   "cell_type": "code",
   "execution_count": 902,
   "metadata": {},
   "outputs": [],
   "source": [
    "str_in = 'Jimmy has an apple, it is on the table. has an apple, has an apple. table table table'\n",
    "str_in_stopword = 'an, the, a, is'"
   ]
  },
  {
   "cell_type": "code",
   "execution_count": 903,
   "metadata": {},
   "outputs": [
    {
     "data": {
      "text/plain": [
       "['an', 'the', 'a', 'is']"
      ]
     },
     "execution_count": 903,
     "metadata": {},
     "output_type": "execute_result"
    }
   ],
   "source": [
    "li_in_stopword = str_in_stopword.split(', ')\n",
    "li_in_stopword"
   ]
  },
  {
   "cell_type": "code",
   "execution_count": 904,
   "metadata": {
    "scrolled": true
   },
   "outputs": [
    {
     "data": {
      "text/plain": [
       "['Jimmy',\n",
       " 'has',\n",
       " 'an',\n",
       " 'apple',\n",
       " 'it',\n",
       " 'is',\n",
       " 'on',\n",
       " 'the',\n",
       " 'table',\n",
       " 'has',\n",
       " 'an',\n",
       " 'apple',\n",
       " 'has',\n",
       " 'an',\n",
       " 'apple',\n",
       " 'table',\n",
       " 'table',\n",
       " 'table']"
      ]
     },
     "execution_count": 904,
     "metadata": {},
     "output_type": "execute_result"
    }
   ],
   "source": [
    "str_in_filterPunc = ''.join([char for char in str_in if char not in string.punctuation])\n",
    "li_in_filterPunc = str_in_filterPunc.split(' ')\n",
    "li_in_filterPunc"
   ]
  },
  {
   "cell_type": "code",
   "execution_count": 905,
   "metadata": {},
   "outputs": [
    {
     "data": {
      "text/plain": [
       "[1, 3, 3, 3, 1, 1, 1, 1, 4, 3, 3, 3, 3, 3, 3, 4, 4, 4]"
      ]
     },
     "execution_count": 905,
     "metadata": {},
     "output_type": "execute_result"
    }
   ],
   "source": [
    "li_count = []\n",
    "for word in li_in_filterPunc:\n",
    "    li_count.append(li_in_filterPunc.count(word))\n",
    "li_count"
   ]
  },
  {
   "cell_type": "code",
   "execution_count": 906,
   "metadata": {
    "scrolled": true
   },
   "outputs": [
    {
     "data": {
      "text/plain": [
       "[('Jimmy', 1),\n",
       " ('has', 3),\n",
       " ('an', 3),\n",
       " ('apple', 3),\n",
       " ('it', 1),\n",
       " ('is', 1),\n",
       " ('on', 1),\n",
       " ('the', 1),\n",
       " ('table', 4),\n",
       " ('has', 3),\n",
       " ('an', 3),\n",
       " ('apple', 3),\n",
       " ('has', 3),\n",
       " ('an', 3),\n",
       " ('apple', 3),\n",
       " ('table', 4),\n",
       " ('table', 4),\n",
       " ('table', 4)]"
      ]
     },
     "execution_count": 906,
     "metadata": {},
     "output_type": "execute_result"
    }
   ],
   "source": [
    "li_res = list(zip(li_in_filterPunc, li_count))\n",
    "li_res"
   ]
  },
  {
   "cell_type": "markdown",
   "metadata": {},
   "source": [
    "### Log File: Sort by substring  \n",
    "- 1st: substring is id;  \n",
    "- Sorted by the 2nd substring;  \n",
    "- digit substring goes after letter substring;  \n",
    "\n",
    "input:  \n",
    "[\"fhie 1df8 sfds\", \"fdsf 2def sees\", \"efe2 br9o fjsd\", “asd1 awer jik9\"]  \n",
    "\n",
    "output:  \n",
    "[“asd1 awer jik9\", \"efe2 br9o fjsd\", \"fhie 1df8 sfds\", \"fdsf 2def sees\"]"
   ]
  },
  {
   "cell_type": "code",
   "execution_count": 1026,
   "metadata": {},
   "outputs": [],
   "source": [
    "li_in = [\"fhie 1df8 sfds\", \"fdsf 2def sees\", \"efe2 br9o fjsd\", \"asd1 awer jik9\", 'bdka s323 2525', 'dk91 dkso dk01', 'kdks 8Kdf dkso']"
   ]
  },
  {
   "cell_type": "code",
   "execution_count": 1027,
   "metadata": {
    "scrolled": false
   },
   "outputs": [
    {
     "data": {
      "text/plain": [
       "['fhie 1df8 sfds',\n",
       " 'fdsf 2def sees',\n",
       " 'kdks 8Kdf dkso',\n",
       " 'asd1 awer jik9',\n",
       " 'efe2 br9o fjsd',\n",
       " 'dk91 dkso dk01',\n",
       " 'bdka s323 2525']"
      ]
     },
     "execution_count": 1027,
     "metadata": {},
     "output_type": "execute_result"
    }
   ],
   "source": [
    "li_sorted = list(sorted(li_in, key = lambda item: item.split(' ')[1][0]))\n",
    "li_sorted"
   ]
  },
  {
   "cell_type": "code",
   "execution_count": 1028,
   "metadata": {},
   "outputs": [
    {
     "data": {
      "text/plain": [
       "['fhie 1df8 sfds', 'fdsf 2def sees', 'kdks 8Kdf dkso']"
      ]
     },
     "execution_count": 1028,
     "metadata": {},
     "output_type": "execute_result"
    }
   ],
   "source": [
    "li_digit = list(filter(lambda item: item.split(' ')[1][0].isdigit(),li_sorted ))\n",
    "li_digit"
   ]
  },
  {
   "cell_type": "code",
   "execution_count": 1029,
   "metadata": {
    "scrolled": true
   },
   "outputs": [
    {
     "data": {
      "text/plain": [
       "['asd1 awer jik9', 'efe2 br9o fjsd', 'dk91 dkso dk01', 'bdka s323 2525']"
      ]
     },
     "execution_count": 1029,
     "metadata": {},
     "output_type": "execute_result"
    }
   ],
   "source": [
    "li_str = [word for word in li_sorted if word not in li_digit]\n",
    "li_str"
   ]
  },
  {
   "cell_type": "code",
   "execution_count": 1030,
   "metadata": {
    "scrolled": true
   },
   "outputs": [
    {
     "data": {
      "text/plain": [
       "['asd1 awer jik9',\n",
       " 'efe2 br9o fjsd',\n",
       " 'dk91 dkso dk01',\n",
       " 'bdka s323 2525',\n",
       " 'fhie 1df8 sfds',\n",
       " 'fdsf 2def sees',\n",
       " 'kdks 8Kdf dkso']"
      ]
     },
     "execution_count": 1030,
     "metadata": {},
     "output_type": "execute_result"
    }
   ],
   "source": [
    "li_str.extend(li_digit)\n",
    "li_str"
   ]
  },
  {
   "cell_type": "markdown",
   "metadata": {},
   "source": [
    "### Max matches with the sum:  \n",
    "__input:__  \n",
    "[[1,4],[2,1],[3,2]]  \n",
    "[[1,2]],  \n",
    "5  \n",
    "\n",
    "__output:__  \n",
    "index: [[3,1]]  \n",
    "explanation: index of [3,2] is 3; [1,2] is 1."
   ]
  },
  {
   "cell_type": "markdown",
   "metadata": {},
   "source": [
    "### Count number of substrings with exactly k distinct characters:  \n",
    "https://leetcode.com/problems/subsets/  \n",
    "Input: abc, k = 2  \n",
    "Output: 2  \n",
    "Possible substrings are {\"ab\", \"bc\"}  \n",
    "\n",
    "Input: aba, k = 2  \n",
    "Output: 3  \n",
    "Possible substrings are {\"ab\", \"ba\", \"aba\"}  \n",
    "\n",
    "Input: aa, k = 1  \n",
    "Output: 3  \n",
    "Possible substrings are {\"a\", \"a\", \"aa\"}"
   ]
  },
  {
   "cell_type": "code",
   "execution_count": 1037,
   "metadata": {},
   "outputs": [],
   "source": [
    "import itertools"
   ]
  },
  {
   "cell_type": "code",
   "execution_count": 1053,
   "metadata": {},
   "outputs": [],
   "source": [
    "def subsets(li_in):\n",
    "        \"\"\"\n",
    "        :type nums: List[int]\n",
    "        :rtype: List[List[int]]\n",
    "        \"\"\"\n",
    "        li_res = []\n",
    "        for i in range(len(li_in)+1):\n",
    "            li_res.append(list(itertools.combinations(li_in,i)))\n",
    "        return sum(li_res,[])"
   ]
  },
  {
   "cell_type": "code",
   "execution_count": 1054,
   "metadata": {
    "scrolled": true
   },
   "outputs": [
    {
     "data": {
      "text/plain": [
       "[(), (1,), (2,), (3,), (1, 2), (1, 3), (2, 3), (1, 2, 3)]"
      ]
     },
     "execution_count": 1054,
     "metadata": {},
     "output_type": "execute_result"
    }
   ],
   "source": [
    "subsets([1,2,3])"
   ]
  },
  {
   "cell_type": "markdown",
   "metadata": {},
   "source": [
    "__OR:__ iteration:"
   ]
  },
  {
   "cell_type": "code",
   "execution_count": 1095,
   "metadata": {},
   "outputs": [],
   "source": [
    "def subset2(li_in):\n",
    "    subset2 = [[]]\n",
    "    for num in li_in:\n",
    "        print(num)\n",
    "        print (list([num]+lst for lst in subset2))\n",
    "        \n",
    "        subset2 += [[num]+lst for lst in subset2]\n",
    "        \n",
    "    return subset2"
   ]
  },
  {
   "cell_type": "code",
   "execution_count": 1140,
   "metadata": {
    "scrolled": true
   },
   "outputs": [
    {
     "name": "stdout",
     "output_type": "stream",
     "text": [
      "1\n",
      "[[1]]\n",
      "2\n",
      "[[2], [2, 1]]\n",
      "3\n",
      "[[3], [3, 1], [3, 2], [3, 2, 1]]\n"
     ]
    },
    {
     "data": {
      "text/plain": [
       "[[], [1], [2], [2, 1], [3], [3, 1], [3, 2], [3, 2, 1]]"
      ]
     },
     "execution_count": 1140,
     "metadata": {},
     "output_type": "execute_result"
    }
   ],
   "source": [
    "subset2([1,2,3])"
   ]
  },
  {
   "cell_type": "code",
   "execution_count": 1966,
   "metadata": {},
   "outputs": [],
   "source": [
    "def flightDetails(arr, k):\n",
    "    k-=30\n",
    "    arr = sorted(arr)\n",
    "    left = 0\n",
    "    right = len(arr)-1\n",
    "    max_val = 0\n",
    "    \n",
    "    while left<right:\n",
    "        if arr[left] + arr[right]<=k:\n",
    "            if max_val < arr[left] + arr[right]:\n",
    "                \n",
    "                max_val = arr[left] + arr[right]\n",
    "                i = left\n",
    "                j = right\n",
    "            \n",
    "            left+=1\n",
    "        else:\n",
    "            right-=1\n",
    "            \n",
    "    return(arr[i],arr[j])"
   ]
  },
  {
   "cell_type": "code",
   "execution_count": 1967,
   "metadata": {},
   "outputs": [
    {
     "name": "stdout",
     "output_type": "stream",
     "text": [
      "(90, 125)\n"
     ]
    }
   ],
   "source": [
    "arr = [90, 85, 75, 60, 120, 150, 125]\n",
    "k = 250\n",
    "print(flightDetails(arr,k))"
   ]
  },
  {
   "cell_type": "code",
   "execution_count": 2078,
   "metadata": {},
   "outputs": [],
   "source": [
    "def flightDetails(arr, k):\n",
    "    # store the movies in a new list m\n",
    "    # each entry in m is a tuple of (movie_duration, original_index) \n",
    "    m = []\n",
    "    for i in range(len(arr)):\n",
    "        m.append((arr[i], i))\n",
    "\n",
    "    # sort by durations\n",
    "    m.sort(key=lambda x: x[0])\n",
    "    print(m)\n",
    "\n",
    "    k -= 30\n",
    "    left = 0\n",
    "    right = len(arr) - 1\n",
    "    pairs = None\n",
    "    global_minutes = 0\n",
    "\n",
    "    while left < right:\n",
    "        local_minutes = m[left][0] + m[right][0]\n",
    "        print (m[left][0], m[right][0])\n",
    "        \n",
    "        if local_minutes <= k:\n",
    "            if local_minutes == k :\n",
    "                return [m[left][1], m[right][1]]\n",
    "            \n",
    "            elif local_minutes > global_minutes:\n",
    "                global_minutes = local_minutes\n",
    "                pairs = [m[left][1], m[right][1]]\n",
    "            left += 1\n",
    "            \n",
    "        else:\n",
    "            right -= 1\n",
    "    return pairs"
   ]
  },
  {
   "cell_type": "code",
   "execution_count": 2079,
   "metadata": {},
   "outputs": [
    {
     "name": "stdout",
     "output_type": "stream",
     "text": [
      "[(60, 3), (75, 2), (85, 1), (90, 0), (120, 4), (125, 6), (150, 5)]\n",
      "60 150\n",
      "75 150\n",
      "75 125\n",
      "85 125\n",
      "90 125\n",
      "120 125\n",
      "[0, 6]\n"
     ]
    }
   ],
   "source": [
    "arr = [90, 85, 75, 60, 120, 150, 125]\n",
    "k = 250\n",
    "print(flightDetails(arr,k))"
   ]
  },
  {
   "cell_type": "code",
   "execution_count": 1962,
   "metadata": {},
   "outputs": [],
   "source": [
    "def calMovie(li_in, total_min):\n",
    "    \n",
    "    li_tuple = []\n",
    "   \n",
    "    for item in li_in:\n",
    "        li_tuple.append((item, i))\n",
    "        \n",
    "    li_tuple.sort(key=lambda val: val[0])\n",
    "  \n",
    "    total_min-=30\n",
    "    left, right = 0, len(li_in)-1\n",
    "    pair = None #!!!!!!!!!!!!!!!!!\n",
    "    temp_min = 0\n",
    "\n",
    "    while left<right:\n",
    "        current_min = li_tuple[left][0] + li_tuple[right][0]\n",
    "        \n",
    "        if current_min <= total_min:\n",
    "            if current_min == total_min:\n",
    "                pair = [li_tuple[left][0], li_tuple[right][0]]\n",
    "                return pair\n",
    "            \n",
    "            elif current_min > temp_min:\n",
    "                temp_min = current_min\n",
    "                pair = [li_tuple[left][0], li_tuple[right][0]]\n",
    "                \n",
    "            left+=1 # Whatever the left will increase.\n",
    "        else:\n",
    "            right-=1 #IF current_min > total_min: decrease from right.\n",
    "            \n",
    "    return pair"
   ]
  },
  {
   "cell_type": "code",
   "execution_count": 1963,
   "metadata": {
    "scrolled": true
   },
   "outputs": [
    {
     "name": "stdout",
     "output_type": "stream",
     "text": [
      "[90, 125]\n"
     ]
    }
   ],
   "source": [
    "arr = [90, 85, 75, 60, 120, 150, 125]\n",
    "total_min = 250\n",
    "print(calMovie(arr,total_min))"
   ]
  },
  {
   "cell_type": "markdown",
   "metadata": {},
   "source": [
    "### Treasure Island:\n",
    "Input:  \n",
    "[['O', 'O', 'O', 'O'],  \n",
    " ['D', 'O', 'D', 'O'],  \n",
    " ['O', 'O', 'O', 'O'],  \n",
    " ['X', 'D', 'D', 'O']]  \n",
    "\n",
    "Output: 5  \n",
    "Explanation: Route is (0, 0), (0, 1), (1, 1), (2, 1), (2, 0), (3, 0) The minimum route takes 5 steps."
   ]
  },
  {
   "cell_type": "code",
   "execution_count": 1283,
   "metadata": {},
   "outputs": [],
   "source": [
    "def find_treasure(t_map, row, col, curr_steps, min_steps):\n",
    "    if row >= len(t_map) or row < 0 or col >= len(t_map[0]) or col < 0 or t_map[row][col] == 'D' or t_map[row][col] == '#':\n",
    "        return None, min_steps\n",
    "\n",
    "    if t_map[row][col] == 'X':\n",
    "        curr_steps += 1\n",
    "\n",
    "        if min_steps > curr_steps:\n",
    "            min_steps = min(curr_steps, min_steps)\n",
    "\n",
    "        return None, min_steps\n",
    "\n",
    "    else:\n",
    "        tmp = t_map[row][col]\n",
    "        t_map[row][col] = '#'\n",
    "        curr_steps += 1\n",
    "        \n",
    "        left = find_treasure(t_map, row, col-1, curr_steps, min_steps)\n",
    "        right = find_treasure(t_map, row, col+1, curr_steps, min_steps)\n",
    "        up = find_treasure(t_map, row-1, col, curr_steps, min_steps)\n",
    "        down = find_treasure(t_map, row+1, col, curr_steps, min_steps)\n",
    "\n",
    "        t_map[row][col] = tmp\n",
    "\n",
    "        return curr_steps, min(left[1], right[1], up[1], down[1])"
   ]
  },
  {
   "cell_type": "code",
   "execution_count": 1284,
   "metadata": {
    "scrolled": true
   },
   "outputs": [
    {
     "name": "stdout",
     "output_type": "stream",
     "text": [
      "Result:  0 3\n"
     ]
    }
   ],
   "source": [
    "if __name__ == '__main__':\n",
    "    treasure_map = [['O', 'O', 'O', 'X'],\n",
    " ['O', 'O', 'O', 'O'],\n",
    " ['O', 'O', 'O', 'O'],\n",
    " ['O', 'O', 'O', 'O']]\n",
    "\n",
    "    res = find_treasure(treasure_map, 0, 0, -1, float('inf'))\n",
    "    print(\"Result: \", res[0], res[1])"
   ]
  },
  {
   "cell_type": "code",
   "execution_count": 1285,
   "metadata": {},
   "outputs": [],
   "source": [
    "from collections import deque"
   ]
  },
  {
   "cell_type": "code",
   "execution_count": 1288,
   "metadata": {},
   "outputs": [],
   "source": [
    "def solution(m):\n",
    "    if len(m) == 0 or len(m[0]) == 0:\n",
    "        return -1  # impossible\n",
    "\n",
    "    matrix = [row[:] for row in m]\n",
    "    nrow, ncol = len(matrix), len(matrix[0])\n",
    "    print(matrix)\n",
    "\n",
    "    q = deque([((0, 0), 0)])  # ((x, y), step)\n",
    "    matrix[0][0] = \"D\"\n",
    "    \n",
    "    while q:\n",
    "        (x, y), step = q.popleft()\n",
    "\n",
    "        for dx, dy in [[0, 1], [0, -1], [1, 0], [-1, 0]]:\n",
    "            print('dx:', dx, 'dy:', dy)\n",
    "            \n",
    "            if 0 <= x+dx < nrow and 0 <= y+dy < ncol:\n",
    "                if matrix[x+dx][y+dy] == \"X\":\n",
    "                    return step+1\n",
    "                elif matrix[x+dx][y+dy] == \"O\":\n",
    "                    # mark visited\n",
    "                    matrix[x + dx][y + dy] = \"D\"\n",
    "                    q.append(((x+dx, y+dy), step+1))\n",
    "\n",
    "    return -1"
   ]
  },
  {
   "cell_type": "code",
   "execution_count": 1289,
   "metadata": {},
   "outputs": [
    {
     "name": "stdout",
     "output_type": "stream",
     "text": [
      "[['O', 'O', 'O', 'O'], ['D', 'O', 'D', 'O'], ['O', 'O', 'O', 'O'], ['X', 'D', 'D', 'O']]\n",
      "dx: 0 dy: 1\n",
      "dx: 0 dy: -1\n",
      "dx: 1 dy: 0\n",
      "dx: -1 dy: 0\n",
      "dx: 0 dy: 1\n",
      "dx: 0 dy: -1\n",
      "dx: 1 dy: 0\n",
      "dx: -1 dy: 0\n",
      "dx: 0 dy: 1\n",
      "dx: 0 dy: -1\n",
      "dx: 1 dy: 0\n",
      "dx: -1 dy: 0\n",
      "dx: 0 dy: 1\n",
      "dx: 0 dy: -1\n",
      "dx: 1 dy: 0\n",
      "dx: -1 dy: 0\n",
      "dx: 0 dy: 1\n",
      "dx: 0 dy: -1\n",
      "dx: 1 dy: 0\n",
      "dx: -1 dy: 0\n",
      "dx: 0 dy: 1\n",
      "dx: 0 dy: -1\n",
      "dx: 1 dy: 0\n",
      "dx: -1 dy: 0\n",
      "dx: 0 dy: 1\n",
      "dx: 0 dy: -1\n",
      "dx: 1 dy: 0\n",
      "dx: -1 dy: 0\n",
      "dx: 0 dy: 1\n",
      "dx: 0 dy: -1\n",
      "dx: 1 dy: 0\n",
      "dx: -1 dy: 0\n",
      "dx: 0 dy: 1\n",
      "dx: 0 dy: -1\n",
      "dx: 1 dy: 0\n"
     ]
    },
    {
     "data": {
      "text/plain": [
       "5"
      ]
     },
     "execution_count": 1289,
     "metadata": {},
     "output_type": "execute_result"
    }
   ],
   "source": [
    "li_in = [['O', 'O', 'O', 'O'],\n",
    " ['D', 'O', 'D', 'O'],\n",
    " ['O', 'O', 'O', 'O'],\n",
    " ['X', 'D', 'D', 'O']]\n",
    "\n",
    "solution(li_in)"
   ]
  },
  {
   "cell_type": "markdown",
   "metadata": {},
   "source": [
    "### Reverse:"
   ]
  },
  {
   "cell_type": "code",
   "execution_count": 1290,
   "metadata": {},
   "outputs": [],
   "source": [
    "li_in = [1,2,3,4,5]\n",
    "m =2\n",
    "n= 4"
   ]
  },
  {
   "cell_type": "code",
   "execution_count": 1318,
   "metadata": {},
   "outputs": [],
   "source": [
    "class ListNode(object):\n",
    "    def __init__(self, x):\n",
    "        self.val = x\n",
    "        self.next = None\n",
    "        \n",
    "    def reverseBetween(self, head:ListNode, m, n):\n",
    "    # append the link list.\n",
    "        m = m -1 \n",
    "        _list = []\n",
    "    \n",
    "        while head.next:\n",
    "            _list.append(head)\n",
    "            head = head.next\n",
    "        _list.append(head)\n",
    "    \n",
    "        print(_list)\n",
    "        \n",
    "        _front = _list[:m]\n",
    "        _end = _list[n:]\n",
    "        _middle = _list[m:n]\n",
    "    \n",
    "        _middle.reverse()\n",
    "    \n",
    "        _list = _front + _middle + _end\n",
    "    \n",
    "        #Relink\n",
    "        for i in range(len(_list)-1):\n",
    "            _list[i].next = _list[i+1]\n",
    "        \n",
    "        _list[-1].next = None\n",
    "    \n",
    "        return _list[0]"
   ]
  },
  {
   "cell_type": "code",
   "execution_count": 1319,
   "metadata": {},
   "outputs": [
    {
     "data": {
      "text/plain": [
       "<__main__.ListNode at 0x1ef49698ba8>"
      ]
     },
     "execution_count": 1319,
     "metadata": {},
     "output_type": "execute_result"
    }
   ],
   "source": [
    "ListNode(1)\n",
    "ListNode(2)\n",
    "ListNode(3)\n",
    "ListNode(4)\n",
    "ListNode(5)\n",
    "ListNode(6)"
   ]
  },
  {
   "cell_type": "code",
   "execution_count": 1320,
   "metadata": {},
   "outputs": [],
   "source": [
    "ListNode(1).next = ListNode(2)\n",
    "ListNode(2).next = ListNode(3)\n",
    "ListNode(3).next = ListNode(4)\n",
    "ListNode(4).next = ListNode(5)\n",
    "ListNode(5).next = ListNode(6)"
   ]
  },
  {
   "cell_type": "code",
   "execution_count": 1321,
   "metadata": {},
   "outputs": [
    {
     "name": "stdout",
     "output_type": "stream",
     "text": [
      "<__main__.ListNode object at 0x000001EF49698940>\n"
     ]
    }
   ],
   "source": [
    "print(reverseBetween(ListNode(1), 2,4))"
   ]
  },
  {
   "cell_type": "code",
   "execution_count": 1336,
   "metadata": {},
   "outputs": [],
   "source": [
    "from collections import deque"
   ]
  },
  {
   "cell_type": "code",
   "execution_count": 1398,
   "metadata": {},
   "outputs": [],
   "source": [
    "A = \"abcde\"\n",
    "B = \"cdeab\""
   ]
  },
  {
   "cell_type": "code",
   "execution_count": 1401,
   "metadata": {},
   "outputs": [],
   "source": [
    "    def rotateString(A, B):\n",
    "        \"\"\"\n",
    "        :type A: str\n",
    "        :type B: str\n",
    "        :rtype: bool\n",
    "        \"\"\"\n",
    "        if len(A)!=len(B):\n",
    "            return\n",
    "        \n",
    "        if len(A)==len(B)==0:\n",
    "            return True\n",
    "        \n",
    "        for i in range(len(A)):\n",
    "            popitem = qa.popleft()\n",
    "            qa.append(popitem)\n",
    "            \n",
    "            if ''.join(qa) == B or len(A)==len(B)==0:\n",
    "                return True\n",
    "    \n",
    "        return False"
   ]
  },
  {
   "cell_type": "code",
   "execution_count": 1402,
   "metadata": {
    "scrolled": true
   },
   "outputs": [
    {
     "data": {
      "text/plain": [
       "True"
      ]
     },
     "execution_count": 1402,
     "metadata": {},
     "output_type": "execute_result"
    }
   ],
   "source": [
    "rotateString(A, B)"
   ]
  },
  {
   "cell_type": "code",
   "execution_count": 1407,
   "metadata": {},
   "outputs": [],
   "source": [
    "def grayCode(n):\n",
    "    if n == 0:\n",
    "        return 0\n",
    "    elif n<0 or isinstance(n, float):\n",
    "        return\n",
    "\n",
    "    li_res = []\n",
    "    "
   ]
  },
  {
   "cell_type": "code",
   "execution_count": 1408,
   "metadata": {},
   "outputs": [
    {
     "data": {
      "text/plain": [
       "[0, 1, 2, 3]"
      ]
     },
     "execution_count": 1408,
     "metadata": {},
     "output_type": "execute_result"
    }
   ],
   "source": [
    "grayCode(2)"
   ]
  },
  {
   "cell_type": "code",
   "execution_count": 1414,
   "metadata": {
    "scrolled": false
   },
   "outputs": [
    {
     "data": {
      "text/plain": [
       "1"
      ]
     },
     "execution_count": 1414,
     "metadata": {},
     "output_type": "execute_result"
    }
   ],
   "source": [
    "y =3\n",
    "3>>1"
   ]
  },
  {
   "cell_type": "markdown",
   "metadata": {},
   "source": [
    "### Average Scores:  \n",
    "Description:  \n",
    "There are two properties in the node student id and scores, to ensure that each student will have at least 5 points, find the average of 5 highest scores for each person.  \n",
    "\n",
    "Example:  \n",
    "Input: [[1,91],[1,92],[2,93],[2,99],[2,98],[2,97],[1,60],[1,58],[2,100],[1,61]]  \n",
    "Output:  \n",
    "1: 72.40  \n",
    "2: 97.40  \n",
    "Example 2:  \n",
    "Input: [[1,90],[1,90],[1,90],[1,90],[1,90],[1,90]]  \n",
    "Output: 1: 90.00\n"
   ]
  },
  {
   "cell_type": "code",
   "execution_count": 1543,
   "metadata": {},
   "outputs": [],
   "source": [
    "import statistics"
   ]
  },
  {
   "cell_type": "code",
   "execution_count": 1812,
   "metadata": {},
   "outputs": [],
   "source": [
    "li_in = [[1,91],[1,92],[2,93],[2,99],[2,98],[1, 90],[2,85], [2,97],[1,60],[1,58],[2,100],[1,61], [3,58],[4,100],[3,61]]\n"
   ]
  },
  {
   "cell_type": "code",
   "execution_count": 1813,
   "metadata": {},
   "outputs": [],
   "source": [
    "def calmean(li_in):\n",
    "    str_rest=''\n",
    "    li_in.sort(key = lambda x: x[0])\n",
    "   \n",
    "    li_temp = list(filter(lambda item: [item[0] for item in li_in].count(item[0])>5, li_in ))\n",
    "    \n",
    "    set_digits = set(items[0] for items in li_temp)\n",
    "    \n",
    "    for digit in set_digits:\n",
    "        li_temp_digit = list(filter(lambda x: x[0]==digit, li_temp))\n",
    "        li_temp_digit.sort(key = lambda x:x[1], reverse=True)\n",
    "        meanValue = statistics.mean([item[1] for item in li_temp_digit[:5]])\n",
    "        \n",
    "        str_rest += str(digit)+': '+ str(meanValue)+\"\\n\"\n",
    "    return str_rest"
   ]
  },
  {
   "cell_type": "code",
   "execution_count": 1814,
   "metadata": {
    "scrolled": true
   },
   "outputs": [
    {
     "name": "stdout",
     "output_type": "stream",
     "text": [
      "1: 78.8\n",
      "2: 97.4\n",
      "\n"
     ]
    }
   ],
   "source": [
    "print(calmean(li_in))"
   ]
  },
  {
   "cell_type": "markdown",
   "metadata": {},
   "source": [
    "### K nearest points:"
   ]
  },
  {
   "cell_type": "code",
   "execution_count": 1954,
   "metadata": {},
   "outputs": [],
   "source": [
    "li_point = [[3,3],[5,-1],[-2,4],[-2,2]]\n",
    "K=1"
   ]
  },
  {
   "cell_type": "code",
   "execution_count": 1955,
   "metadata": {},
   "outputs": [],
   "source": [
    "import math"
   ]
  },
  {
   "cell_type": "code",
   "execution_count": 1956,
   "metadata": {},
   "outputs": [],
   "source": [
    "def kClosest(li_point, K):\n",
    "    if K>len(li_point) or K<0 or isinstance(K, float):\n",
    "        return\n",
    "    \n",
    "    li_res = []\n",
    "    li_dis = [math.sqrt(item[0]**2+item[1]**2) for item in li_point]    \n",
    "\n",
    "    li_t_dis = list(zip(li_point, li_dis))\n",
    "    print(li_t_dis)\n",
    "    \n",
    "    li_t_dis.sort(key=lambda x:x[1])\n",
    "    li_res = li_t_dis[:K]\n",
    "    \n",
    "    return [items[0] for items in li_res]"
   ]
  },
  {
   "cell_type": "code",
   "execution_count": 1957,
   "metadata": {},
   "outputs": [
    {
     "name": "stdout",
     "output_type": "stream",
     "text": [
      "[([3, 3], 4.242640687119285), ([5, -1], 5.0990195135927845), ([-2, 4], 4.47213595499958), ([-2, 2], 2.8284271247461903)]\n"
     ]
    },
    {
     "data": {
      "text/plain": [
       "[[-2, 2]]"
      ]
     },
     "execution_count": 1957,
     "metadata": {},
     "output_type": "execute_result"
    }
   ],
   "source": [
    "kClosest(li_point, K)"
   ]
  },
  {
   "cell_type": "markdown",
   "metadata": {},
   "source": [
    "### Overlap Rectangle\n",
    "// Returns true if two rectangles (l1, r1) and (l2, r2) overlap\n",
    "//  A rectangle is represented as a list [x1, y1, x2, y2], where (x1, y1) are the coordinates of its bottom-left corner, and (x2, y2) are the coordinates of its top-right corner.  "
   ]
  },
  {
   "cell_type": "markdown",
   "metadata": {},
   "source": [
    "Input: rec1 = [0,0,2,2], rec2 = [1,1,3,3]  \n",
    "Output: true"
   ]
  },
  {
   "cell_type": "code",
   "execution_count": null,
   "metadata": {},
   "outputs": [],
   "source": [
    "class LRUCache:\n",
    "    def __init__(self, capacity):\n",
    "        self.deque = collections.deque([])\n",
    "        self.dic = {}\n",
    "        self.capacity = capacity\n",
    "\n",
    "    def get(self, key):\n",
    "        if key not in self.dic:\n",
    "            return -1\n",
    "        self.deque.remove(key)\n",
    "        self.deque.append(key)\n",
    "        return self.dic[key]\n",
    "\n",
    "    def put(self, key, value):\n",
    "        if key in self.dic:    \n",
    "            self.deque.remove(key)\n",
    "        elif len(self.dic) == self.capacity:\n",
    "            v = self.deque.popleft()  # remove the Least Recently Used element\n",
    "            self.dic.pop(v)\n",
    "        self.deque.append(key)\n",
    "        self.dic[key] = value "
   ]
  },
  {
   "cell_type": "markdown",
   "metadata": {},
   "source": [
    "###  Find closese given sum(numbers, target):\n",
    "__e.g.1:__  \n",
    "Input:  \n",
    "arr1 = [[1,-1], [2,-2], [3,4], [4,-6], [5,5], [6,7]]  \n",
    "arr2 = [[1,6], [2,3], [3,4], [4,0]]  \n",
    "k = 8  \n",
    "\n",
    "Output : [(3, 3), (5, 2)]  \n",
    "\n",
    "__e.g.2__  \n",
    "Input :   \n",
    "arr1 = [[1,1], [2,2], [3,4], [4,5], [5,7]]   \n",
    "arr2 = [[1,5], [2,6], [3,3], [4,4], [5,8]]    \n",
    "k = 9  \n",
    "Output : [(1, 5), (3, 1), (4, 4)]\n"
   ]
  },
  {
   "cell_type": "code",
   "execution_count": 2539,
   "metadata": {},
   "outputs": [],
   "source": [
    "arr1 = [[1,1], [2,2], [3,4], [4,5], [5,7]]\n",
    "arr2 = [[1,5], [2,6], [3,3], [4,4], [5,8]]\n",
    "k=9"
   ]
  },
  {
   "cell_type": "code",
   "execution_count": 2534,
   "metadata": {},
   "outputs": [],
   "source": [
    "import sys"
   ]
  },
  {
   "cell_type": "code",
   "execution_count": 2541,
   "metadata": {},
   "outputs": [],
   "source": [
    "def findclose(arr1, arr2, k):\n",
    "    res = sys.maxsize #!!!!!!!!!!!!!!!!!!!!!!!\n",
    "    li_tmp = []\n",
    "    \n",
    "    if arr1 == None or arr2 == None or k<0 or isinstance(k, float):\n",
    "        return\n",
    "    \n",
    "    if k==0:\n",
    "        return []\n",
    "    \n",
    "    for item1 in arr1:\n",
    "        for item2 in arr2:\n",
    "            if abs(k-item1[1]-item2[1])<=res:\n",
    "                res = abs(k-item1[1]-item2[1])\n",
    "                \n",
    "                if len(li_tmp)>0 and li_tmp[-1][0]>res:\n",
    "                    \n",
    "                    li_tmp = [x for x in li_tmp if x[0]==res]\n",
    "                \n",
    "                li_tmp.append([res, item1[0], item2[0]])\n",
    "                \n",
    "    li_res=[[item[1], item[2]] for item in li_tmp]    \n",
    "    return li_res"
   ]
  },
  {
   "cell_type": "code",
   "execution_count": 2542,
   "metadata": {
    "scrolled": false
   },
   "outputs": [
    {
     "data": {
      "text/plain": [
       "[[1, 5], [3, 1], [4, 4]]"
      ]
     },
     "execution_count": 2542,
     "metadata": {},
     "output_type": "execute_result"
    }
   ],
   "source": [
    "findclose(arr1, arr2, k)"
   ]
  },
  {
   "cell_type": "markdown",
   "metadata": {},
   "source": [
    "### BFS-Shortest path between 2 points:"
   ]
  },
  {
   "cell_type": "markdown",
   "metadata": {},
   "source": [
    "__Note__:\n",
    "1. we need for the queue to keep track of possible paths (implemented as list of nodes) instead of nodes.  \n",
    "2. when the algorithm checks for a neighbour node, it needs to check whether the neighbour node corresponds to the goal node.  \n",
    "3. (there’s no need to keep exploring the graph.)"
   ]
  },
  {
   "cell_type": "markdown",
   "metadata": {},
   "source": [
    "__Method 1__: Dequeue"
   ]
  },
  {
   "cell_type": "code",
   "execution_count": 2543,
   "metadata": {},
   "outputs": [],
   "source": [
    "#Define a graph:\n",
    "graph = {'A': ['B', 'C', 'E'],\n",
    "         'B': ['A','D', 'E'],\n",
    "         'C': ['A', 'F', 'G'],\n",
    "         'D': ['B'],\n",
    "         'E': ['A', 'B','D'],\n",
    "         'F': ['C'],\n",
    "         'G': ['C']}"
   ]
  },
  {
   "cell_type": "code",
   "execution_count": 2575,
   "metadata": {},
   "outputs": [],
   "source": [
    "from collections import deque"
   ]
  },
  {
   "cell_type": "code",
   "execution_count": 2582,
   "metadata": {},
   "outputs": [],
   "source": [
    "def bfs_shortest_path (graph, start, goal):\n",
    "    # keep track of explored nodes:\n",
    "    visited = []\n",
    "    # keep track of all paths to be checked:\n",
    "    #queue = [[start]]\n",
    "    dequeue = deque(start)\n",
    "    \n",
    "    # return path if start is the goal:\n",
    "    if start == goal:\n",
    "        return \"done.\"\n",
    "    \n",
    "    # keeps looping until all possible paths have been checked\n",
    "    while dequeue:\n",
    "       # pop the first path from the queue\n",
    "        path = dequeue.popleft()\n",
    "        node = path[-1]\n",
    "        \n",
    "        if node not in visited:\n",
    "            neighbours = graph[node]\n",
    "            # go through all neighbour nodes, construct a new path and\n",
    "            # push it into the queue\n",
    "            for neighbour in neighbours:\n",
    "                new_path = list(path)\n",
    "                new_path.append(neighbour)\n",
    "                dequeue.append(new_path)\n",
    "                \n",
    "                # return path if neighbour is goal\n",
    "                if neighbour == goal:\n",
    "                    return new_path\n",
    "                \n",
    "            # mark node as explored\n",
    "            visited.append(node)\n",
    "        # in case there's no path between the 2 nodes\n",
    "    return \"So sorry, but a connecting path doesn't exist :(\""
   ]
  },
  {
   "cell_type": "code",
   "execution_count": 2585,
   "metadata": {
    "scrolled": true
   },
   "outputs": [
    {
     "data": {
      "text/plain": [
       "['F', 'C', 'A', 'B', 'D']"
      ]
     },
     "execution_count": 2585,
     "metadata": {},
     "output_type": "execute_result"
    }
   ],
   "source": [
    "bfs_shortest_path(graph, 'F', 'D') "
   ]
  },
  {
   "cell_type": "markdown",
   "metadata": {},
   "source": [
    "__Method 2-Generator__:"
   ]
  },
  {
   "cell_type": "markdown",
   "metadata": {},
   "source": [
    "- This implementation can again be altered slightly to instead return all possible paths between two vertices, the first of which being one of the shortest such path."
   ]
  },
  {
   "cell_type": "code",
   "execution_count": 2589,
   "metadata": {},
   "outputs": [],
   "source": [
    "graph = {'A': set(['B', 'C']),\n",
    "         'B': set(['A', 'D', 'E']),\n",
    "         'C': set(['A', 'F']),\n",
    "         'D': set(['B']),\n",
    "         'E': set(['B', 'F']),\n",
    "         'F': set(['C', 'E'])}"
   ]
  },
  {
   "cell_type": "code",
   "execution_count": 2611,
   "metadata": {},
   "outputs": [],
   "source": [
    "def bfs_paths(graph, start, goal):\n",
    "    queue = [(start, [start])]\n",
    "    print('queue = [(start, [start])]: ', queue)\n",
    "    \n",
    "    while queue:\n",
    "        \n",
    "        (vertex, path) = queue.pop(0)\n",
    "        for next in graph[vertex] - set(path):\n",
    "            if next == goal:\n",
    "                yield path + [next]\n",
    "                \n",
    "            else:\n",
    "                queue.append((next, path + [next]))\n",
    "                \n",
    "    return list(queue)"
   ]
  },
  {
   "cell_type": "code",
   "execution_count": 2623,
   "metadata": {
    "scrolled": false
   },
   "outputs": [
    {
     "name": "stdout",
     "output_type": "stream",
     "text": [
      "queue = [(start, [start])]:  [('A', ['A'])]\n",
      "\n",
      "(vertex, path) = queue.pop(0):  ('A', ['A'])\n",
      "graph[vertex]:  {'C', 'B'} set(path):  {'A'} graph[vertex] - set(path):  {'C', 'B'}\n",
      "\n",
      "\t next:  C\n",
      "\tqueue.append((next, path + [next])):  [('C', ['A', 'C'])]\n",
      "\n",
      "\t next:  B\n",
      "\tqueue.append((next, path + [next])):  [('C', ['A', 'C']), ('B', ['A', 'B'])]\n",
      "\n",
      "(vertex, path) = queue.pop(0):  ('C', ['A', 'C'])\n",
      "graph[vertex]:  {'A', 'F'} set(path):  {'A', 'C'} graph[vertex] - set(path):  {'F'}\n",
      "\n",
      "\t next:  F\n",
      "\t path:  ['A', 'C'] [next]:  ['F']\n",
      "\t path + [next]:  ['A', 'C', 'F']\n",
      "\n",
      "(vertex, path) = queue.pop(0):  ('B', ['A', 'B'])\n",
      "graph[vertex]:  {'A', 'D', 'E'} set(path):  {'A', 'B'} graph[vertex] - set(path):  {'D', 'E'}\n",
      "\n",
      "\t next:  D\n",
      "\tqueue.append((next, path + [next])):  [('D', ['A', 'B', 'D'])]\n",
      "\n",
      "\t next:  E\n",
      "\tqueue.append((next, path + [next])):  [('D', ['A', 'B', 'D']), ('E', ['A', 'B', 'E'])]\n",
      "\n",
      "(vertex, path) = queue.pop(0):  ('D', ['A', 'B', 'D'])\n",
      "graph[vertex]:  {'B'} set(path):  {'A', 'D', 'B'} graph[vertex] - set(path):  set()\n",
      "\n",
      "(vertex, path) = queue.pop(0):  ('E', ['A', 'B', 'E'])\n",
      "graph[vertex]:  {'F', 'B'} set(path):  {'A', 'E', 'B'} graph[vertex] - set(path):  {'F'}\n",
      "\n",
      "\t next:  F\n",
      "\t path:  ['A', 'B', 'E'] [next]:  ['F']\n",
      "\t path + [next]:  ['A', 'B', 'E', 'F']\n"
     ]
    },
    {
     "data": {
      "text/plain": [
       "[['A', 'C', 'F'], ['A', 'B', 'E', 'F']]"
      ]
     },
     "execution_count": 2623,
     "metadata": {},
     "output_type": "execute_result"
    }
   ],
   "source": [
    "list(bfs_paths(graph, 'A', 'F'))"
   ]
  },
  {
   "cell_type": "code",
   "execution_count": 2624,
   "metadata": {},
   "outputs": [],
   "source": [
    "def shortest_path(graph, start, goal):\n",
    "    try:\n",
    "        return next(bfs_paths(graph, start, goal)) #!!!!!!!!!!!!!!!!!!!!!!!!!!!!!!!!!!!!\n",
    "    \n",
    "    except StopIteration:\n",
    "        return None"
   ]
  },
  {
   "cell_type": "code",
   "execution_count": 2627,
   "metadata": {},
   "outputs": [
    {
     "name": "stdout",
     "output_type": "stream",
     "text": [
      "queue = [(start, [start])]:  [('A', ['A'])]\n",
      "\n",
      "(vertex, path) = queue.pop(0):  ('A', ['A'])\n",
      "graph[vertex]:  {'C', 'B'} set(path):  {'A'} graph[vertex] - set(path):  {'C', 'B'}\n",
      "\n",
      "\t next:  C\n",
      "\tqueue.append((next, path + [next])):  [('C', ['A', 'C'])]\n",
      "\n",
      "\t next:  B\n",
      "\tqueue.append((next, path + [next])):  [('C', ['A', 'C']), ('B', ['A', 'B'])]\n",
      "\n",
      "(vertex, path) = queue.pop(0):  ('C', ['A', 'C'])\n",
      "graph[vertex]:  {'A', 'F'} set(path):  {'A', 'C'} graph[vertex] - set(path):  {'F'}\n",
      "\n",
      "\t next:  F\n",
      "\t path:  ['A', 'C'] [next]:  ['F']\n",
      "\t path + [next]:  ['A', 'C', 'F']\n"
     ]
    },
    {
     "data": {
      "text/plain": [
       "['A', 'C', 'F']"
      ]
     },
     "execution_count": 2627,
     "metadata": {},
     "output_type": "execute_result"
    }
   ],
   "source": [
    "shortest_path(graph, 'A', 'F')"
   ]
  },
  {
   "cell_type": "markdown",
   "metadata": {},
   "source": [
    "### DFS: Stack:  \n",
    "https://eddmann.com/posts/depth-first-search-and-breadth-first-search-in-python/"
   ]
  },
  {
   "cell_type": "code",
   "execution_count": 2617,
   "metadata": {},
   "outputs": [],
   "source": [
    "graph = {'A': set(['B', 'C']),\n",
    "         'B': set(['A', 'D', 'E']),\n",
    "         'C': set(['A', 'F']),\n",
    "         'D': set(['B']),\n",
    "         'E': set(['B', 'F']),\n",
    "         'F': set(['C', 'E'])}"
   ]
  },
  {
   "cell_type": "code",
   "execution_count": 2620,
   "metadata": {},
   "outputs": [],
   "source": [
    "def dfs_paths(graph, start, goal):\n",
    "    stack = [(start, [start])]\n",
    "    while stack:\n",
    "        (vertex, path) = stack.pop(0)\n",
    "        for next in graph[vertex]-set(path):\n",
    "            if next == goal:\n",
    "                yield path+[next]\n",
    "            else:\n",
    "                stack.append((next, path+[next]))"
   ]
  },
  {
   "cell_type": "code",
   "execution_count": 2621,
   "metadata": {},
   "outputs": [
    {
     "data": {
      "text/plain": [
       "[['A', 'C', 'F'], ['A', 'B', 'E', 'F']]"
      ]
     },
     "execution_count": 2621,
     "metadata": {},
     "output_type": "execute_result"
    }
   ],
   "source": [
    "list(dfs_paths(graph, 'A', 'F'))"
   ]
  },
  {
   "cell_type": "code",
   "execution_count": null,
   "metadata": {},
   "outputs": [],
   "source": []
  }
 ],
 "metadata": {
  "kernelspec": {
   "display_name": "Python 3",
   "language": "python",
   "name": "python3"
  },
  "language_info": {
   "codemirror_mode": {
    "name": "ipython",
    "version": 3
   },
   "file_extension": ".py",
   "mimetype": "text/x-python",
   "name": "python",
   "nbconvert_exporter": "python",
   "pygments_lexer": "ipython3",
   "version": "3.7.0b3"
  }
 },
 "nbformat": 4,
 "nbformat_minor": 2
}
