{
 "cells": [
  {
   "cell_type": "markdown",
   "metadata": {},
   "source": [
    "### Create Dictionary:"
   ]
  },
  {
   "cell_type": "markdown",
   "metadata": {},
   "source": [
    "-<font color='red'>Dictionaries are containers which map one key to its value with access time complexity to be O(1).</font>"
   ]
  },
  {
   "cell_type": "code",
   "execution_count": 26,
   "metadata": {},
   "outputs": [
    {
     "data": {
      "text/plain": [
       "{'Name': 'Geeks', 1: [2, 3, 4]}"
      ]
     },
     "execution_count": 26,
     "metadata": {},
     "output_type": "execute_result"
    }
   ],
   "source": [
    "dict1 = {'Name':'Geeks', 1:[2,3,4]}\n",
    "dict1"
   ]
  },
  {
   "cell_type": "code",
   "execution_count": 27,
   "metadata": {},
   "outputs": [
    {
     "data": {
      "text/plain": [
       "{1: 3, 'Name': 'Geeks'}"
      ]
     },
     "execution_count": 27,
     "metadata": {},
     "output_type": "execute_result"
    }
   ],
   "source": [
    "dict1 = dict({('Name','Geeks'),(1,3)})\n",
    "dict1"
   ]
  },
  {
   "cell_type": "markdown",
   "metadata": {},
   "source": [
    "- __Add new key-value:__"
   ]
  },
  {
   "cell_type": "code",
   "execution_count": 28,
   "metadata": {},
   "outputs": [],
   "source": [
    "dict1['new_key']='new_value'"
   ]
  },
  {
   "cell_type": "code",
   "execution_count": 29,
   "metadata": {
    "scrolled": true
   },
   "outputs": [
    {
     "data": {
      "text/plain": [
       "{1: 3, 'Name': 'Geeks', 'new_key': 'new_value'}"
      ]
     },
     "execution_count": 29,
     "metadata": {},
     "output_type": "execute_result"
    }
   ],
   "source": [
    "dict1"
   ]
  },
  {
   "cell_type": "markdown",
   "metadata": {},
   "source": [
    "- Update a value:"
   ]
  },
  {
   "cell_type": "code",
   "execution_count": 30,
   "metadata": {},
   "outputs": [],
   "source": [
    "dict1['new_key']='new_value2'"
   ]
  },
  {
   "cell_type": "code",
   "execution_count": 31,
   "metadata": {},
   "outputs": [
    {
     "data": {
      "text/plain": [
       "{1: 3, 'Name': 'Geeks', 'new_key': 'new_value2'}"
      ]
     },
     "execution_count": 31,
     "metadata": {},
     "output_type": "execute_result"
    }
   ],
   "source": [
    "dict1"
   ]
  },
  {
   "cell_type": "markdown",
   "metadata": {},
   "source": [
    "- Acessing a element using get key:"
   ]
  },
  {
   "cell_type": "code",
   "execution_count": 32,
   "metadata": {},
   "outputs": [
    {
     "data": {
      "text/plain": [
       "'new_value2'"
      ]
     },
     "execution_count": 32,
     "metadata": {},
     "output_type": "execute_result"
    }
   ],
   "source": [
    "dict1.get('new_key')"
   ]
  },
  {
   "cell_type": "code",
   "execution_count": 577,
   "metadata": {},
   "outputs": [
    {
     "data": {
      "text/plain": [
       "0"
      ]
     },
     "execution_count": 577,
     "metadata": {},
     "output_type": "execute_result"
    }
   ],
   "source": [
    "dict1.get('NoThisKey', 0) # dict.get(key, defaultValue):It allows you to provide a default value if the key is missing"
   ]
  },
  {
   "cell_type": "markdown",
   "metadata": {},
   "source": [
    "- __Delete element__:  \n",
    "    - __Deleting a Key value:__ del(dict1[key])\n",
    "    - __Deleting a Key:__ pop(key)\n",
    "    - __Deleting an arbitrary Key-value pair__: dict1.popitem()\n",
    "    - __Deleting entire Dictionary__: dict1.clear()"
   ]
  },
  {
   "cell_type": "code",
   "execution_count": 33,
   "metadata": {},
   "outputs": [],
   "source": [
    "dict1 = {1: 3, 'Name': 'Geeks', 'new_key': 'new_value2', 'last_key':'last_value'}"
   ]
  },
  {
   "cell_type": "code",
   "execution_count": 34,
   "metadata": {},
   "outputs": [
    {
     "data": {
      "text/plain": [
       "{'Name': 'Geeks', 'new_key': 'new_value2', 'last_key': 'last_value'}"
      ]
     },
     "execution_count": 34,
     "metadata": {},
     "output_type": "execute_result"
    }
   ],
   "source": [
    "#Deleting a Key value:\n",
    "del(dict1[1])\n",
    "dict1"
   ]
  },
  {
   "cell_type": "code",
   "execution_count": 35,
   "metadata": {},
   "outputs": [
    {
     "data": {
      "text/plain": [
       "'Geeks'"
      ]
     },
     "execution_count": 35,
     "metadata": {},
     "output_type": "execute_result"
    }
   ],
   "source": [
    "#PopedItem and return this item:\n",
    "popedItem = dict1.pop('Name')\n",
    "popedItem"
   ]
  },
  {
   "cell_type": "code",
   "execution_count": 36,
   "metadata": {},
   "outputs": [
    {
     "data": {
      "text/plain": [
       "{'new_key': 'new_value2', 'last_key': 'last_value'}"
      ]
     },
     "execution_count": 36,
     "metadata": {},
     "output_type": "execute_result"
    }
   ],
   "source": [
    "dict1"
   ]
  },
  {
   "cell_type": "code",
   "execution_count": 37,
   "metadata": {
    "scrolled": true
   },
   "outputs": [
    {
     "data": {
      "text/plain": [
       "('last_key', 'last_value')"
      ]
     },
     "execution_count": 37,
     "metadata": {},
     "output_type": "execute_result"
    }
   ],
   "source": [
    "# Deleting an arbitrary Key-value pair:\n",
    "popedItem2 = dict1.popitem()\n",
    "popedItem2"
   ]
  },
  {
   "cell_type": "code",
   "execution_count": 40,
   "metadata": {},
   "outputs": [
    {
     "name": "stdout",
     "output_type": "stream",
     "text": [
      "dict_values(['new_value2'])\n",
      "dict_keys(['new_key'])\n",
      "dict_items([('new_key', 'new_value2')])\n"
     ]
    }
   ],
   "source": [
    "# Get all Dictionary values:\n",
    "print(dict1.values())\n",
    "\n",
    "# Get all Dictionary keys:\n",
    "print(dict1.keys())\n",
    "\n",
    "# Get all Dictionary items:\n",
    "print(dict1.items())"
   ]
  },
  {
   "cell_type": "markdown",
   "metadata": {},
   "source": [
    "__Note__: <font color='red'>popitem() method removes the item that was last inserted into the dictionary.   \n",
    "    In versions before 3.7, the popitem() method removes a random item.</font>"
   ]
  },
  {
   "cell_type": "code",
   "execution_count": 24,
   "metadata": {},
   "outputs": [],
   "source": [
    "# Deleting entire Dictionary \n",
    "dict1.clear()"
   ]
  },
  {
   "cell_type": "code",
   "execution_count": 25,
   "metadata": {
    "scrolled": true
   },
   "outputs": [
    {
     "data": {
      "text/plain": [
       "{}"
      ]
     },
     "execution_count": 25,
     "metadata": {},
     "output_type": "execute_result"
    }
   ],
   "source": [
    "dict1"
   ]
  },
  {
   "cell_type": "markdown",
   "metadata": {},
   "source": [
    "### Get() method for dictionaries:  \n",
    "- Get () returns the value for the given key, if present in the dictionary. If not, then it will return None (if get() is used with only one argument).\n"
   ]
  },
  {
   "cell_type": "code",
   "execution_count": 41,
   "metadata": {},
   "outputs": [
    {
     "name": "stdout",
     "output_type": "stream",
     "text": [
      "1\n"
     ]
    }
   ],
   "source": [
    "dic = {\"A\":1, \"B\":2}\n",
    "print(dic.get('A')) "
   ]
  },
  {
   "cell_type": "code",
   "execution_count": 43,
   "metadata": {},
   "outputs": [
    {
     "name": "stdout",
     "output_type": "stream",
     "text": [
      "None\n"
     ]
    }
   ],
   "source": [
    "print(dic.get('C')) #!!!!!!!!!!!!!!!!!!!!!!! Avoid using dic['C']"
   ]
  },
  {
   "cell_type": "markdown",
   "metadata": {},
   "source": [
    "### defaultdict() to handle the key missed error:  \n",
    "- A default value is set at the declaration. There is no need to invoke the function again and again and pass similar value as arguments. Hence saving time.  \n",
    "- The implementation of defaultdict is faster than get() or setdefault()."
   ]
  },
  {
   "cell_type": "code",
   "execution_count": 52,
   "metadata": {},
   "outputs": [],
   "source": [
    "from collections import defaultdict"
   ]
  },
  {
   "cell_type": "code",
   "execution_count": 53,
   "metadata": {},
   "outputs": [],
   "source": [
    "defaultdict = defaultdict(lambda: 'Key not found') # A default value is set at the declaration. "
   ]
  },
  {
   "cell_type": "code",
   "execution_count": 54,
   "metadata": {},
   "outputs": [],
   "source": [
    "defaultdict['a']=1\n",
    "defaultdict['b']=2\n",
    "defaultdict['c']=3"
   ]
  },
  {
   "cell_type": "code",
   "execution_count": 55,
   "metadata": {},
   "outputs": [
    {
     "data": {
      "text/plain": [
       "defaultdict(<function __main__.<lambda>()>, {'a': 1, 'b': 2, 'c': 3})"
      ]
     },
     "execution_count": 55,
     "metadata": {},
     "output_type": "execute_result"
    }
   ],
   "source": [
    "defaultdict"
   ]
  },
  {
   "cell_type": "code",
   "execution_count": 49,
   "metadata": {},
   "outputs": [
    {
     "data": {
      "text/plain": [
       "1"
      ]
     },
     "execution_count": 49,
     "metadata": {},
     "output_type": "execute_result"
    }
   ],
   "source": [
    "defaultdict.get('a')"
   ]
  },
  {
   "cell_type": "code",
   "execution_count": 48,
   "metadata": {},
   "outputs": [
    {
     "data": {
      "text/plain": [
       "'Key not found'"
      ]
     },
     "execution_count": 48,
     "metadata": {},
     "output_type": "execute_result"
    }
   ],
   "source": [
    "defaultdict['z']"
   ]
  },
  {
   "cell_type": "code",
   "execution_count": 50,
   "metadata": {},
   "outputs": [
    {
     "data": {
      "text/plain": [
       "'Key not found'"
      ]
     },
     "execution_count": 50,
     "metadata": {},
     "output_type": "execute_result"
    }
   ],
   "source": [
    "defaultdict.get('z')"
   ]
  },
  {
   "cell_type": "code",
   "execution_count": 51,
   "metadata": {
    "scrolled": true
   },
   "outputs": [
    {
     "data": {
      "text/plain": [
       "defaultdict(<function __main__.<lambda>()>,\n",
       "            {'a': 1, 'b': 2, 'c': 3, 'z': 'Key not found'})"
      ]
     },
     "execution_count": 51,
     "metadata": {},
     "output_type": "execute_result"
    }
   ],
   "source": [
    "defaultdict # Key not found: add 'z' into dictionary"
   ]
  },
  {
   "cell_type": "markdown",
   "metadata": {},
   "source": [
    "### print all distinct elements of a given integer array | Ordered Dictionary:  \n",
    "Input: arr[] = {12, 10, 9, 45, 2, 10, 10, 45}  \n",
    "Output: 12, 10, 9, 45, 2  \n",
    "\n",
    "Input: arr[] = {1, 2, 3, 4, 5}  \n",
    "Output: 1, 2, 3, 4, 5  \n",
    "\n",
    "Input: arr[] = {1, 1, 1, 1, 1}  \n",
    "Output: 1"
   ]
  },
  {
   "cell_type": "markdown",
   "metadata": {},
   "source": [
    "- Method 1:"
   ]
  },
  {
   "cell_type": "code",
   "execution_count": 112,
   "metadata": {},
   "outputs": [],
   "source": [
    "arr_order= [12, 10, 100, 9, 45, 2, 10, 10, 45]"
   ]
  },
  {
   "cell_type": "code",
   "execution_count": 113,
   "metadata": {},
   "outputs": [],
   "source": [
    "from collections import Counter"
   ]
  },
  {
   "cell_type": "code",
   "execution_count": 114,
   "metadata": {
    "scrolled": true
   },
   "outputs": [
    {
     "data": {
      "text/plain": [
       "Counter({12: 1, 10: 3, 100: 1, 9: 1, 45: 2, 2: 1})"
      ]
     },
     "execution_count": 114,
     "metadata": {},
     "output_type": "execute_result"
    }
   ],
   "source": [
    "dictCount = Counter(arr_order)\n",
    "dictCount"
   ]
  },
  {
   "cell_type": "code",
   "execution_count": 115,
   "metadata": {},
   "outputs": [
    {
     "data": {
      "text/plain": [
       "[12, 10, 100, 9, 45, 2]"
      ]
     },
     "execution_count": 115,
     "metadata": {},
     "output_type": "execute_result"
    }
   ],
   "source": [
    "list(dictCount.keys())"
   ]
  },
  {
   "cell_type": "markdown",
   "metadata": {},
   "source": [
    "#### Method 2: OrderedDict.fromkeys(iterable) function:  \n",
    "- It converts any iterable into dictionary having elements as Key in the same order they appeared in array."
   ]
  },
  {
   "cell_type": "code",
   "execution_count": 102,
   "metadata": {},
   "outputs": [],
   "source": [
    "from collections import OrderedDict"
   ]
  },
  {
   "cell_type": "code",
   "execution_count": 122,
   "metadata": {},
   "outputs": [],
   "source": [
    "def printDistinct(arr):\n",
    "    \n",
    "    ordict = OrderedDict.fromkeys(arr)\n",
    "    print('OrderedDict.fromkeys(arr): ', ordict) \n",
    "    \n",
    "    res = [key for (key,value) in ordict.items()]\n",
    "    return ', '.join(map(str, res))"
   ]
  },
  {
   "cell_type": "code",
   "execution_count": 123,
   "metadata": {
    "scrolled": false
   },
   "outputs": [
    {
     "name": "stdout",
     "output_type": "stream",
     "text": [
      "OrderedDict.fromkeys(arr):  OrderedDict([(12, None), (10, None), (100, None), (9, None), (45, None), (2, None)])\n"
     ]
    },
    {
     "data": {
      "text/plain": [
       "'12, 10, 100, 9, 45, 2'"
      ]
     },
     "execution_count": 123,
     "metadata": {},
     "output_type": "execute_result"
    }
   ],
   "source": [
    "printDistinct(arr_order)"
   ]
  },
  {
   "cell_type": "code",
   "execution_count": 330,
   "metadata": {},
   "outputs": [],
   "source": [
    "ranks  = [3,4,3,0,2,2,3,0,0]"
   ]
  },
  {
   "cell_type": "markdown",
   "metadata": {},
   "source": [
    "### OrderedDict:\n",
    "- An OrderedDict is a dictionary subclass that remembers the order that keys were first inserted.  \n",
    "- A regular dict doesn’t track the insertion order, and iterating it gives the values in an arbitrary order.  \n",
    "- The order the items are inserted is remembered by OrderedDict."
   ]
  },
  {
   "cell_type": "code",
   "execution_count": 358,
   "metadata": {},
   "outputs": [],
   "source": [
    "from collections import OrderedDict"
   ]
  },
  {
   "cell_type": "code",
   "execution_count": 360,
   "metadata": {},
   "outputs": [
    {
     "data": {
      "text/plain": [
       "OrderedDict([('a', 2), ('b', 3), ('c', 1), ('d', 8)])"
      ]
     },
     "execution_count": 360,
     "metadata": {},
     "output_type": "execute_result"
    }
   ],
   "source": [
    "od = OrderedDict()\n",
    "od['a']=2\n",
    "od['b']=3\n",
    "od['c']=1\n",
    "od['d']=8\n",
    "\n",
    "od"
   ]
  },
  {
   "cell_type": "markdown",
   "metadata": {},
   "source": [
    "__Compare with general dictionary__:"
   ]
  },
  {
   "cell_type": "code",
   "execution_count": 361,
   "metadata": {},
   "outputs": [
    {
     "data": {
      "text/plain": [
       "{'a': 2, 'b': 3, 'c': 1, 'd': 8}"
      ]
     },
     "execution_count": 361,
     "metadata": {},
     "output_type": "execute_result"
    }
   ],
   "source": [
    "dic = {}\n",
    "dic['a']=2\n",
    "dic['b']=3\n",
    "dic['c']=1\n",
    "dic['d']=8\n",
    "\n",
    "dic # The order may be arbitory."
   ]
  },
  {
   "cell_type": "code",
   "execution_count": 363,
   "metadata": {},
   "outputs": [
    {
     "data": {
      "text/plain": [
       "{'a': 2, 'b': 3, 'c': 100, 'd': 8}"
      ]
     },
     "execution_count": 363,
     "metadata": {},
     "output_type": "execute_result"
    }
   ],
   "source": [
    "dic['c']=100\n",
    "dic"
   ]
  },
  {
   "cell_type": "markdown",
   "metadata": {},
   "source": [
    "### OrderDict: Change the value of key-value:"
   ]
  },
  {
   "cell_type": "markdown",
   "metadata": {},
   "source": [
    "Key value Change:  \n",
    "- If the value of a certain key is changed, the position of the key remains unchanged in OrderedDict.  "
   ]
  },
  {
   "cell_type": "code",
   "execution_count": 362,
   "metadata": {},
   "outputs": [
    {
     "data": {
      "text/plain": [
       "OrderedDict([('a', 2), ('b', 3), ('c', 4), ('d', 8)])"
      ]
     },
     "execution_count": 362,
     "metadata": {},
     "output_type": "execute_result"
    }
   ],
   "source": [
    "od['c'] = 4\n",
    "od # keep the same position of od['c']"
   ]
  },
  {
   "cell_type": "markdown",
   "metadata": {},
   "source": [
    "### Order: Deletion and Re-Inserting:   \n",
    "- Deleting and re-inserting the same key will push it to the back as OrderedDict however maintains the order of insertion."
   ]
  },
  {
   "cell_type": "code",
   "execution_count": 364,
   "metadata": {},
   "outputs": [
    {
     "data": {
      "text/plain": [
       "OrderedDict([('a', 2), ('b', 3), ('c', 1), ('d', 8)])"
      ]
     },
     "execution_count": 364,
     "metadata": {},
     "output_type": "execute_result"
    }
   ],
   "source": [
    "od = OrderedDict()\n",
    "od['a']=2\n",
    "od['b']=3\n",
    "od['c']=1\n",
    "od['d']=8\n",
    "\n",
    "od"
   ]
  },
  {
   "cell_type": "code",
   "execution_count": 365,
   "metadata": {},
   "outputs": [
    {
     "data": {
      "text/plain": [
       "OrderedDict([('a', 2), ('b', 3), ('d', 8)])"
      ]
     },
     "execution_count": 365,
     "metadata": {},
     "output_type": "execute_result"
    }
   ],
   "source": [
    "od.pop('c') # pop od['c']\n",
    "od"
   ]
  },
  {
   "cell_type": "code",
   "execution_count": 366,
   "metadata": {},
   "outputs": [
    {
     "data": {
      "text/plain": [
       "OrderedDict([('a', 2), ('b', 3), ('d', 8), ('c', 3)])"
      ]
     },
     "execution_count": 366,
     "metadata": {},
     "output_type": "execute_result"
    }
   ],
   "source": [
    "od['c'] = 3  # Re-inserting od['c']\n",
    "od"
   ]
  },
  {
   "cell_type": "markdown",
   "metadata": {},
   "source": [
    "### ChainMap:  \n",
    "- “ChainMap” which encapsulates many dictionaries into one unit. ChainMap is member of module “collections“.  "
   ]
  },
  {
   "cell_type": "code",
   "execution_count": 422,
   "metadata": {},
   "outputs": [],
   "source": [
    "from collections import ChainMap"
   ]
  },
  {
   "cell_type": "code",
   "execution_count": 423,
   "metadata": {},
   "outputs": [],
   "source": [
    "dic1 = {'a':1, 'b':2}\n",
    "dic2 = {'b':3, 'c':2}"
   ]
  },
  {
   "cell_type": "code",
   "execution_count": 424,
   "metadata": {},
   "outputs": [],
   "source": [
    "chain = ChainMap(dic1,dic2)"
   ]
  },
  {
   "cell_type": "code",
   "execution_count": 425,
   "metadata": {
    "scrolled": false
   },
   "outputs": [
    {
     "name": "stdout",
     "output_type": "stream",
     "text": [
      "[{'a': 1, 'b': 2}, {'b': 3, 'c': 2}]\n",
      "['b', 'c', 'a']\n",
      "[2, 2, 1]\n"
     ]
    }
   ],
   "source": [
    "print(chain.maps)\n",
    "print(list(chain.keys()))\n",
    "print(list(chain.values()))"
   ]
  },
  {
   "cell_type": "code",
   "execution_count": 426,
   "metadata": {},
   "outputs": [],
   "source": [
    "dic3 = {'e':3}"
   ]
  },
  {
   "cell_type": "code",
   "execution_count": 427,
   "metadata": {},
   "outputs": [
    {
     "data": {
      "text/plain": [
       "ChainMap({'e': 3}, {'a': 1, 'b': 2}, {'b': 3, 'c': 2})"
      ]
     },
     "execution_count": 427,
     "metadata": {},
     "output_type": "execute_result"
    }
   ],
   "source": [
    "chain = chain.new_child(dic3)\n",
    "chain"
   ]
  },
  {
   "cell_type": "code",
   "execution_count": 428,
   "metadata": {},
   "outputs": [
    {
     "data": {
      "text/plain": [
       "2"
      ]
     },
     "execution_count": 428,
     "metadata": {},
     "output_type": "execute_result"
    }
   ],
   "source": [
    "chain['b']"
   ]
  },
  {
   "cell_type": "code",
   "execution_count": 429,
   "metadata": {},
   "outputs": [
    {
     "data": {
      "text/plain": [
       "[{'b': 3, 'c': 2}, {'a': 1, 'b': 2}, {'e': 3}]"
      ]
     },
     "execution_count": 429,
     "metadata": {},
     "output_type": "execute_result"
    }
   ],
   "source": [
    "chain.maps = reversed(chain.maps)\n",
    "list(chain.maps)"
   ]
  },
  {
   "cell_type": "markdown",
   "metadata": {},
   "source": [
    "### Majority Element:  \n",
    "- A majority element in an array A[] of size n is an element that appears more than n/2 times (and hence there is at most one such element).  \n",
    "- e.g.:   \n",
    "\n",
    "Input : 3 3 4 2 4 4 2 4 4  \n",
    "Output : 4  \n",
    "\n",
    "Input : 3 3 4 2 4 4 2 4  \n",
    "Output : NONE   "
   ]
  },
  {
   "cell_type": "code",
   "execution_count": 483,
   "metadata": {},
   "outputs": [],
   "source": [
    "def getMajor(arr):\n",
    "    dic = dict(Counter(arr))\n",
    "    print(dic, len(arr))\n",
    "    return ([key for (key,value) in dic.items() if value>(len(arr)/2)])\n",
    "    "
   ]
  },
  {
   "cell_type": "code",
   "execution_count": 484,
   "metadata": {},
   "outputs": [
    {
     "name": "stdout",
     "output_type": "stream",
     "text": [
      "{3: 2, 4: 5, 2: 2} 9\n"
     ]
    },
    {
     "data": {
      "text/plain": [
       "[4]"
      ]
     },
     "execution_count": 484,
     "metadata": {},
     "output_type": "execute_result"
    }
   ],
   "source": [
    "getMajor([3,3,4,2,4,4,2,4, 4])"
   ]
  },
  {
   "cell_type": "markdown",
   "metadata": {},
   "source": [
    "### Find winner of election:  \n",
    "Input :  \n",
    "votes[] = {\"john\", \"johnny\", \"jackie\",   \n",
    "                    \"johnny\", \"john\", \"jackie\",   \n",
    "                    \"jamie\", \"jamie\", \"john\",  \n",
    "                    \"johnny\", \"jamie\", \"johnny\",   \n",
    "                    \"john\"};  \n",
    "Output :   \n",
    "John  \n",
    "- We have four Candidates with name as 'John', 'Johnny', 'jamie', 'jackie'.   \n",
    "The candidates John and Johny get maximum votes. Since John is alphabetically smaller, we print it."
   ]
  },
  {
   "cell_type": "code",
   "execution_count": 510,
   "metadata": {},
   "outputs": [],
   "source": [
    "import collections"
   ]
  },
  {
   "cell_type": "code",
   "execution_count": 487,
   "metadata": {},
   "outputs": [],
   "source": [
    "arr = [\"john\", \"johnny\", \"jackie\",\n",
    "\"johnny\", \"john\", \"jackie\",\n",
    "\"jamie\", \"jamie\", \"john\",\n",
    "\"johnny\", \"jamie\", \"johnny\",\n",
    "\"john\"]"
   ]
  },
  {
   "cell_type": "code",
   "execution_count": 541,
   "metadata": {},
   "outputs": [],
   "source": [
    "def elect(arr):\n",
    "    dic_counter = Counter(arr)\n",
    "    dic_temp ={}\n",
    "    \n",
    "    for value in dic_counter.values(): #!!!!!!!!!!!!!!!!!!!!!!!!!!\n",
    "        dic_temp[value]=[]\n",
    "    \n",
    "    for (key, value) in dic_counter.items(): \n",
    "        dic_temp[value].append(key)\n",
    "        \n",
    "    #print(dic_temp) {4: ['john', 'johnny'], 2: ['jackie'], 3: ['jamie']}\n",
    "    \n",
    "    maxVote = sorted(dic_temp.keys(), reverse=True)[0]\n",
    "    \n",
    "    if len(dic_temp[maxVote])>0:\n",
    "        print(sorted(dic_temp[maxVote])[0])\n",
    "    else:\n",
    "        print(dic_temp[maxVote][0])\n",
    "    "
   ]
  },
  {
   "cell_type": "code",
   "execution_count": 542,
   "metadata": {},
   "outputs": [
    {
     "name": "stdout",
     "output_type": "stream",
     "text": [
      "{4: ['john', 'johnny'], 2: ['jackie'], 3: ['jamie']}\n",
      "john\n"
     ]
    }
   ],
   "source": [
    "elect(arr)"
   ]
  },
  {
   "cell_type": "markdown",
   "metadata": {},
   "source": [
    "### Possible Words using given characters in Python:  \n",
    "Note: Repetitions of characters is not allowed.  \n",
    "Examples:\n",
    "\n",
    "Input :   \n",
    "Dict = [\"go\",\"bat\",\"me\",\"eat\",\"goal\",\"boy\", \"run\"]  \n",
    "arr = ['e','o','b', 'a','m','g', 'l']   \n",
    "Output :   \n",
    "go, me, goal.   "
   ]
  },
  {
   "cell_type": "code",
   "execution_count": 544,
   "metadata": {},
   "outputs": [],
   "source": [
    "dic = [\"go\",\"bat\",\"me\",\"eat\",\"goal\",\"boy\", \"run\"]\n",
    "arr = ['e','o','b', 'a','m','g', 'l']"
   ]
  },
  {
   "cell_type": "code",
   "execution_count": 578,
   "metadata": {},
   "outputs": [],
   "source": [
    "def charCount(word): \n",
    "    dict = {} \n",
    "    for i in word: \n",
    "        dict[i] = dict.get(i, 0) + 1\n",
    "    return dict"
   ]
  },
  {
   "cell_type": "code",
   "execution_count": 593,
   "metadata": {},
   "outputs": [],
   "source": [
    "def possible_words(lwords, charSet): \n",
    "    for word in lwords: \n",
    "        flag = 1  # !!!!!!!!!!!!!!!!!!!!! Label flag\n",
    "        dict_charsCount = charCount(word)\n",
    "        print('charCount(word): ', dict_charsCount)\n",
    "        \n",
    "        for key in dict_charsCount: #!!!!!!!!!!!!!!!!!!!!!!!!!! iterate key in dictionary.\n",
    "            print('key: ', key)\n",
    "            if key not in charSet: \n",
    "                flag = 0\n",
    "            else: \n",
    "                if charSet.count(key) != dict_charsCount[key]: \n",
    "                    flag = 0\n",
    "        if flag == 1: \n",
    "            print(word) \n",
    "  "
   ]
  },
  {
   "cell_type": "code",
   "execution_count": 594,
   "metadata": {},
   "outputs": [
    {
     "name": "stdout",
     "output_type": "stream",
     "text": [
      "charCount(word):  {'g': 1, 'o': 1}\n",
      "key:  g\n",
      "key:  o\n",
      "go\n",
      "charCount(word):  {'b': 1, 'a': 1, 't': 1}\n",
      "key:  b\n",
      "key:  a\n",
      "key:  t\n",
      "charCount(word):  {'m': 1, 'e': 1}\n",
      "key:  m\n",
      "key:  e\n",
      "me\n",
      "charCount(word):  {'e': 1, 'a': 1, 't': 1}\n",
      "key:  e\n",
      "key:  a\n",
      "key:  t\n",
      "charCount(word):  {'g': 1, 'o': 1, 'a': 1, 'l': 1}\n",
      "key:  g\n",
      "key:  o\n",
      "key:  a\n",
      "key:  l\n",
      "goal\n",
      "charCount(word):  {'b': 1, 'o': 1, 'y': 1}\n",
      "key:  b\n",
      "key:  o\n",
      "key:  y\n",
      "charCount(word):  {'r': 1, 'u': 1, 'n': 1}\n",
      "key:  r\n",
      "key:  u\n",
      "key:  n\n"
     ]
    }
   ],
   "source": [
    "possible_words(dic, arr)"
   ]
  },
  {
   "cell_type": "markdown",
   "metadata": {},
   "source": [
    "### Check if frequencies can become same:    \n",
    "- we need to remove at most one character from this string in such a way that frequency of each distinct character becomes same in the string:   \n",
    "\n",
    "Input  :   \n",
    "    str = “xyyz”  \n",
    "Output :   \n",
    "    Yes\n",
    "- We can remove character ’y’ from abovestring to make the frequency of each character same. \n",
    "\n",
    "Input :   \n",
    "    str = “xyyzz”   \n",
    "Output :   \n",
    "    Yes  \n",
    "- We can remove character ‘x’ from abovestring to make the frequency of each  character same.\n",
    "\n",
    "Input :   \n",
    "    str = “xxxxyyzz”   \n",
    "Output :   \n",
    "    No  \n",
    "- It is not possible to make frequency of each character same just by removing at most one character from above string.\n"
   ]
  },
  {
   "cell_type": "code",
   "execution_count": 656,
   "metadata": {},
   "outputs": [],
   "source": [
    "string = 'xxyyyzz'"
   ]
  },
  {
   "cell_type": "code",
   "execution_count": 657,
   "metadata": {},
   "outputs": [],
   "source": [
    "def allSame(input):\n",
    "    dic = dict(Counter(input))\n",
    "    print(dic)\n",
    "    \n",
    "    same = set(dic.values())\n",
    "    print('same:', same, 'len(same): ', len(same))\n",
    "    \n",
    "    if len(same)==1:\n",
    "        print('Yes') \n",
    "    \n",
    "    elif len(same)==2:\n",
    "        if list(same)[0]==1:\n",
    "            print('list(same)[0]: ', list(same)[0])\n",
    "            print('Yes')\n",
    "        else:\n",
    "            print('No')\n"
   ]
  },
  {
   "cell_type": "code",
   "execution_count": 658,
   "metadata": {},
   "outputs": [
    {
     "name": "stdout",
     "output_type": "stream",
     "text": [
      "{'x': 2, 'y': 3, 'z': 2}\n",
      "same: {2, 3} len(same):  2\n",
      "No\n"
     ]
    }
   ],
   "source": [
    "allSame(string)"
   ]
  },
  {
   "cell_type": "code",
   "execution_count": 660,
   "metadata": {},
   "outputs": [
    {
     "name": "stdout",
     "output_type": "stream",
     "text": [
      "{'x': 1, 'y': 2, 'z': 2}\n",
      "same: {1, 2} len(same):  2\n",
      "list(same)[0]:  1\n",
      "Yes\n"
     ]
    }
   ],
   "source": [
    "string1 = 'xyyzz'\n",
    "allSame(string1)"
   ]
  },
  {
   "cell_type": "markdown",
   "metadata": {},
   "source": [
    "### Find common elements in three sorted arrays by dictionary intersection:  \n",
    "Input:   \n",
    "    ar1 = [1, 5, 10, 20, 40, 80]  \n",
    "        ar2 = [6, 7, 20, 80, 100]  \n",
    "        ar3 = [3, 4, 15, 20, 30, 70, 80, 120]  \n",
    "Output:   \n",
    "    [80, 20]\n",
    "\n",
    "Input:    \n",
    "    ar1 = [1, 5, 5]  \n",
    "        ar2 = [3, 4, 5, 5, 10]  \n",
    "        ar3 = [5, 5, 10, 20]  \n",
    "Output:   \n",
    "    [5, 5]"
   ]
  },
  {
   "cell_type": "code",
   "execution_count": 683,
   "metadata": {},
   "outputs": [],
   "source": [
    "ar1 = [1, 5, 10, 20, 40, 80]\n",
    "ar2 = [6, 7, 20, 80, 100]\n",
    "ar3 = [3, 4, 15, 20, 30, 70, 80, 120]"
   ]
  },
  {
   "cell_type": "code",
   "execution_count": 684,
   "metadata": {},
   "outputs": [],
   "source": [
    "def commonElement(ar1, ar2, ar3):\n",
    "    dic_counter1 = dict(Counter(ar1))\n",
    "    dic_counter2 = dict(Counter(ar2))\n",
    "    dic_counter3 = dict(Counter(ar3))\n",
    "    \n",
    "    dict_intersection =  dict(dic_counter1.items()&dic_counter2.items()&dic_counter3.items()) #!!!!!!!!!!!!!!!!!!!!!!!\n",
    "       \n",
    "    print('dict_intersection: ', dict_intersection)\n",
    "    \n",
    "    # Print the times * element:\n",
    "    lis_res = []\n",
    "    \n",
    "    for (key, value) in dict_intersection.items():\n",
    "        for i in range(0, value):\n",
    "            lis_res.append(int(key))\n",
    "        \n",
    "    print(lis_res)"
   ]
  },
  {
   "cell_type": "code",
   "execution_count": 685,
   "metadata": {},
   "outputs": [
    {
     "name": "stdout",
     "output_type": "stream",
     "text": [
      "dict_intersection:  {80: 1, 20: 1}\n",
      "[80, 20]\n"
     ]
    }
   ],
   "source": [
    "commonElement(ar1, ar2, ar3)"
   ]
  },
  {
   "cell_type": "markdown",
   "metadata": {},
   "source": [
    "### Check order of character in string - OrderedDict( ):  \n",
    "Input:   \n",
    "string = \"engineers rock\"  \n",
    "pattern = \"er\";  \n",
    "Output: true  \n",
    "Explanation:   \n",
    "All 'e' in the input string are before all 'r'.  \n",
    "\n",
    "Input:   \n",
    "string = \"engineers rock\"  \n",
    "pattern = \"egr\";  \n",
    "Output: false  \n",
    "Explanation:   \n",
    "There are two 'e' after 'g' in the input string.  \n",
    "\n",
    "Input:   \n",
    "string = \"engineers rock\"  \n",
    "pattern = \"gsr\";  \n",
    "Output: false  \n",
    "Explanation:  \n",
    "There are one 'r' before 's' in the input string.\n"
   ]
  },
  {
   "cell_type": "code",
   "execution_count": 699,
   "metadata": {},
   "outputs": [],
   "source": [
    "str_input =  \"engineers rock\"\n",
    "pattern = 'gsr'"
   ]
  },
  {
   "cell_type": "code",
   "execution_count": 706,
   "metadata": {},
   "outputs": [],
   "source": [
    "def checkOrder(str_input, pattern):\n",
    "    dic = OrderedDict.fromkeys(str_input) #!!!!!!!!!!!!!!!!!!!!!!!!! Only once per char, depends on order.\n",
    "    print(dic)\n",
    "    ptrlen = 0\n",
    "    \n",
    "    for (key, value) in dic.items():\n",
    "        print('KEY:', key)\n",
    "        if key == pattern[ptrlen]:\n",
    "            print('equal key: ', key, 'ptrlen:', ptrlen, 'pattern[ptrlen]:', pattern[ptrlen])\n",
    "            ptrlen+=1\n",
    "            \n",
    "        if ptrlen == len(pattern):\n",
    "            return True\n",
    "        \n",
    "    return False"
   ]
  },
  {
   "cell_type": "code",
   "execution_count": 707,
   "metadata": {},
   "outputs": [
    {
     "name": "stdout",
     "output_type": "stream",
     "text": [
      "OrderedDict([('e', None), ('n', None), ('g', None), ('i', None), ('r', None), ('s', None), (' ', None), ('o', None), ('c', None), ('k', None)])\n",
      "KEY: e\n",
      "KEY: n\n",
      "KEY: g\n",
      "equal key:  g ptrlen: 0 pattern[ptrlen]: g\n",
      "KEY: i\n",
      "KEY: r\n",
      "KEY: s\n",
      "equal key:  s ptrlen: 1 pattern[ptrlen]: s\n",
      "KEY:  \n",
      "KEY: o\n",
      "KEY: c\n",
      "KEY: k\n"
     ]
    },
    {
     "data": {
      "text/plain": [
       "False"
      ]
     },
     "execution_count": 707,
     "metadata": {},
     "output_type": "execute_result"
    }
   ],
   "source": [
    "checkOrder(str_input, pattern)"
   ]
  },
  {
   "cell_type": "code",
   "execution_count": null,
   "metadata": {},
   "outputs": [],
   "source": []
  }
 ],
 "metadata": {
  "kernelspec": {
   "display_name": "Python 3",
   "language": "python",
   "name": "python3"
  },
  "language_info": {
   "codemirror_mode": {
    "name": "ipython",
    "version": 3
   },
   "file_extension": ".py",
   "mimetype": "text/x-python",
   "name": "python",
   "nbconvert_exporter": "python",
   "pygments_lexer": "ipython3",
   "version": "3.7.0b3"
  }
 },
 "nbformat": 4,
 "nbformat_minor": 2
}
