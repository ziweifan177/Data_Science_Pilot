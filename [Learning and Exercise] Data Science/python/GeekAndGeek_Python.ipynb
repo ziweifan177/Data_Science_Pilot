{
 "cells": [
  {
   "cell_type": "markdown",
   "metadata": {},
   "source": [
    "#### https://www.geeksforgeeks.org/python-programming-language/"
   ]
  },
  {
   "cell_type": "markdown",
   "metadata": {},
   "source": [
    "#### 1. Namespaces and Scope in Python\n",
    "https://www.geeksforgeeks.org/namespaces-and-scope-in-python/"
   ]
  },
  {
   "cell_type": "markdown",
   "metadata": {},
   "source": [
    "<img src='Image/1.png'>"
   ]
  },
  {
   "cell_type": "code",
   "execution_count": 1,
   "metadata": {},
   "outputs": [],
   "source": [
    "def out_fun():\n",
    "    print('entering out_fun:')\n",
    "    \n",
    "    def in_fun():\n",
    "        print('entering in_fun:')\n",
    "        \n",
    "        in_var=10\n",
    "        print('in_var', in_var)\n",
    "        print('out of in_fun')\n",
    "    \n",
    "    in_fun()\n",
    "    print(in_var)"
   ]
  },
  {
   "cell_type": "code",
   "execution_count": 2,
   "metadata": {},
   "outputs": [
    {
     "name": "stdout",
     "output_type": "stream",
     "text": [
      "entering out_fun:\n",
      "entering in_fun:\n",
      "in_var 10\n",
      "out of in_fun\n"
     ]
    },
    {
     "ename": "NameError",
     "evalue": "name 'in_var' is not defined",
     "output_type": "error",
     "traceback": [
      "\u001b[1;31m---------------------------------------------------------------------------\u001b[0m",
      "\u001b[1;31mNameError\u001b[0m                                 Traceback (most recent call last)",
      "\u001b[1;32m<ipython-input-2-f0306c3c2c7e>\u001b[0m in \u001b[0;36m<module>\u001b[1;34m\u001b[0m\n\u001b[1;32m----> 1\u001b[1;33m \u001b[0mout_fun\u001b[0m\u001b[1;33m(\u001b[0m\u001b[1;33m)\u001b[0m\u001b[1;33m\u001b[0m\u001b[0m\n\u001b[0m",
      "\u001b[1;32m<ipython-input-1-0dfc731fa546>\u001b[0m in \u001b[0;36mout_fun\u001b[1;34m()\u001b[0m\n\u001b[0;32m     10\u001b[0m \u001b[1;33m\u001b[0m\u001b[0m\n\u001b[0;32m     11\u001b[0m     \u001b[0min_fun\u001b[0m\u001b[1;33m(\u001b[0m\u001b[1;33m)\u001b[0m\u001b[1;33m\u001b[0m\u001b[0m\n\u001b[1;32m---> 12\u001b[1;33m     \u001b[0mprint\u001b[0m\u001b[1;33m(\u001b[0m\u001b[0min_var\u001b[0m\u001b[1;33m)\u001b[0m\u001b[1;33m\u001b[0m\u001b[0m\n\u001b[0m",
      "\u001b[1;31mNameError\u001b[0m: name 'in_var' is not defined"
     ]
    }
   ],
   "source": [
    "out_fun()"
   ]
  },
  {
   "cell_type": "markdown",
   "metadata": {},
   "source": [
    "#### Note:\n",
    "- Outer functions don’t have accessibility of inner local variables"
   ]
  },
  {
   "cell_type": "markdown",
   "metadata": {},
   "source": [
    "### 2. If:\n",
    "- if statement\n",
    "- if..else statements\n",
    "- nested if statements\n",
    "- if-elif ladder  \n",
    "https://www.geeksforgeeks.org/decision-making-python-else-nested-elif/"
   ]
  },
  {
   "cell_type": "markdown",
   "metadata": {},
   "source": [
    "<img src='Image/2.png'>"
   ]
  },
  {
   "cell_type": "markdown",
   "metadata": {},
   "source": [
    "#### if:"
   ]
  },
  {
   "cell_type": "code",
   "execution_count": null,
   "metadata": {
    "scrolled": true
   },
   "outputs": [],
   "source": [
    "i = 10\n",
    "if i > 15:\n",
    "    print('if block', i)\n",
    "\n",
    "print('out of block')"
   ]
  },
  {
   "cell_type": "markdown",
   "metadata": {},
   "source": [
    "#### if-else:"
   ]
  },
  {
   "cell_type": "code",
   "execution_count": null,
   "metadata": {},
   "outputs": [],
   "source": [
    "#### if-else:\n",
    "\n",
    "i2=10\n",
    "\n",
    "if i2>15:\n",
    "    print('1st if block:', i2)\n",
    "else:\n",
    "    print('2nd if block:', i2)\n",
    "    \n",
    "print('out of all blocks.')"
   ]
  },
  {
   "cell_type": "markdown",
   "metadata": {},
   "source": [
    "- The block of code following the else statement is executed as the condition present in the if statement is false after call the statement which is not in block(without spaces)."
   ]
  },
  {
   "cell_type": "markdown",
   "metadata": {},
   "source": [
    "#### nested if:"
   ]
  },
  {
   "cell_type": "code",
   "execution_count": null,
   "metadata": {},
   "outputs": [],
   "source": [
    "i3 = 10\n",
    "\n",
    "if i3 < 15:\n",
    "    print('1st if: i3 < 15')\n",
    "    \n",
    "    # Nested - if statement \n",
    "    # Will only be executed if statement above \n",
    "    # it is true \n",
    "    if i3 < 12:\n",
    "        print('nested if: i3 < 12')\n",
    "\n",
    "print ('i3 > 15')"
   ]
  },
  {
   "cell_type": "markdown",
   "metadata": {},
   "source": [
    "#### if-elif-else ladder:"
   ]
  },
  {
   "cell_type": "markdown",
   "metadata": {},
   "source": [
    "- As soon as one of the conditions controlling the if is true, the statement associated with that if is executed, and the rest of the ladder is bypassed.\n",
    "-  If none of the conditions is true, then the final else statement will be executed."
   ]
  },
  {
   "cell_type": "code",
   "execution_count": null,
   "metadata": {
    "scrolled": true
   },
   "outputs": [],
   "source": [
    "i4 = 10\n",
    "\n",
    "if (i4 == 10):\n",
    "    print('10')\n",
    "elif (i4 == 12): #bypass\n",
    "    print('12')\n",
    "elif(i4 == 14):#bypass\n",
    "    print('14')\n",
    "else: #bypass\n",
    "    print('no present.')\n",
    "    \n",
    "print('out')"
   ]
  },
  {
   "cell_type": "markdown",
   "metadata": {},
   "source": [
    "### 3. Input:"
   ]
  },
  {
   "cell_type": "markdown",
   "metadata": {},
   "source": [
    "#### Single input:"
   ]
  },
  {
   "cell_type": "code",
   "execution_count": null,
   "metadata": {
    "scrolled": true
   },
   "outputs": [],
   "source": [
    "g = input(\"input:\")"
   ]
  },
  {
   "cell_type": "code",
   "execution_count": null,
   "metadata": {},
   "outputs": [],
   "source": [
    "type(g)"
   ]
  },
  {
   "cell_type": "markdown",
   "metadata": {},
   "source": [
    "- Whatever you enter as input, input function convert it into a string. "
   ]
  },
  {
   "cell_type": "markdown",
   "metadata": {},
   "source": [
    "#### Multiple input:"
   ]
  },
  {
   "cell_type": "code",
   "execution_count": 3,
   "metadata": {},
   "outputs": [
    {
     "name": "stdout",
     "output_type": "stream",
     "text": [
      "input: 3,3,4,5\n"
     ]
    }
   ],
   "source": [
    "x1, x2, x3, x4 = input('input: ').split(',')"
   ]
  },
  {
   "cell_type": "code",
   "execution_count": 4,
   "metadata": {},
   "outputs": [
    {
     "data": {
      "text/plain": [
       "str"
      ]
     },
     "execution_count": 4,
     "metadata": {},
     "output_type": "execute_result"
    }
   ],
   "source": [
    "type(x1)"
   ]
  },
  {
   "cell_type": "code",
   "execution_count": 5,
   "metadata": {},
   "outputs": [
    {
     "name": "stdout",
     "output_type": "stream",
     "text": [
      "input: 5,6,7,8\n"
     ]
    }
   ],
   "source": [
    "x1, x2, x3, x4 = input('input: ').split(',')"
   ]
  },
  {
   "cell_type": "code",
   "execution_count": 6,
   "metadata": {
    "scrolled": true
   },
   "outputs": [
    {
     "name": "stdout",
     "output_type": "stream",
     "text": [
      "input: 4,5\n",
      "[4, 5]\n"
     ]
    }
   ],
   "source": [
    "# Make a list:\n",
    "li = list(map(int, input('input: ').split(',')))\n",
    "print(li)"
   ]
  },
  {
   "cell_type": "markdown",
   "metadata": {},
   "source": [
    "#### OR:"
   ]
  },
  {
   "cell_type": "code",
   "execution_count": 7,
   "metadata": {},
   "outputs": [
    {
     "name": "stdout",
     "output_type": "stream",
     "text": [
      "input:2,3,4\n",
      "[2, 3, 4]\n"
     ]
    }
   ],
   "source": [
    "li = [int(x) for x in input('input:').split(',')]\n",
    "print(li)"
   ]
  },
  {
   "cell_type": "code",
   "execution_count": 8,
   "metadata": {},
   "outputs": [
    {
     "name": "stdout",
     "output_type": "stream",
     "text": [
      "input:4,5,6\n",
      "4 5 6\n"
     ]
    }
   ],
   "source": [
    "x, y, z = [int(x) for x in input('input:').split(',')]\n",
    "print(x, y, z)"
   ]
  },
  {
   "cell_type": "markdown",
   "metadata": {},
   "source": [
    "### 4. Print without newline in Python 3.x: end = ' ')"
   ]
  },
  {
   "cell_type": "code",
   "execution_count": 9,
   "metadata": {},
   "outputs": [
    {
     "name": "stdout",
     "output_type": "stream",
     "text": [
      "1st line 2nd line\n"
     ]
    }
   ],
   "source": [
    "print('1st line', end=' ')\n",
    "print('2nd line')"
   ]
  },
  {
   "cell_type": "code",
   "execution_count": 10,
   "metadata": {},
   "outputs": [
    {
     "name": "stdout",
     "output_type": "stream",
     "text": [
      "1st line@2nd line\n"
     ]
    }
   ],
   "source": [
    "print('1st line', end='@')\n",
    "print('2nd line')"
   ]
  },
  {
   "cell_type": "code",
   "execution_count": 11,
   "metadata": {},
   "outputs": [
    {
     "name": "stdout",
     "output_type": "stream",
     "text": [
      "0 1 2 3 "
     ]
    }
   ],
   "source": [
    "for i in range(4):\n",
    "    print(i, end = ' ')"
   ]
  },
  {
   "cell_type": "markdown",
   "metadata": {},
   "source": [
    "### 5. separator:"
   ]
  },
  {
   "cell_type": "code",
   "execution_count": 12,
   "metadata": {},
   "outputs": [
    {
     "name": "stdout",
     "output_type": "stream",
     "text": [
      "ABC\n"
     ]
    }
   ],
   "source": [
    "print('A', 'B', 'C', sep='')"
   ]
  },
  {
   "cell_type": "code",
   "execution_count": 13,
   "metadata": {},
   "outputs": [
    {
     "name": "stdout",
     "output_type": "stream",
     "text": [
      "test@jupyter@Sep.7th\n"
     ]
    }
   ],
   "source": [
    "print('test', 'jupyter','Sep.7th', sep='@')"
   ]
  },
  {
   "cell_type": "code",
   "execution_count": 14,
   "metadata": {},
   "outputs": [
    {
     "name": "stdout",
     "output_type": "stream",
     "text": [
      "Sep-7th@2019"
     ]
    }
   ],
   "source": [
    "print('Sep', '7th', sep='-', end = '@2019')"
   ]
  },
  {
   "cell_type": "markdown",
   "metadata": {},
   "source": [
    "### 5. String:"
   ]
  },
  {
   "cell_type": "markdown",
   "metadata": {},
   "source": [
    "#### Index access:"
   ]
  },
  {
   "cell_type": "markdown",
   "metadata": {},
   "source": [
    "<img src = 'Image/String-Indexing.jpg'>"
   ]
  },
  {
   "cell_type": "code",
   "execution_count": 15,
   "metadata": {},
   "outputs": [
    {
     "name": "stdout",
     "output_type": "stream",
     "text": [
      "ksForGeek\n",
      "ksForGee\n"
     ]
    }
   ],
   "source": [
    "String1 = \"GeeksForGeeks\"\n",
    "print(String1[3:12]) # Last excluded.\n",
    "print(String1[3:-2]) # Last included."
   ]
  },
  {
   "cell_type": "markdown",
   "metadata": {},
   "source": [
    "#### updation and deletion:\n",
    "- Updation or deletion of characters from a String is not allowed. \n",
    "- Strings are immutable\n",
    "- Have to updating Entire String by re-assignment."
   ]
  },
  {
   "cell_type": "markdown",
   "metadata": {},
   "source": [
    "#### Positional Formatting :"
   ]
  },
  {
   "cell_type": "code",
   "execution_count": 16,
   "metadata": {
    "scrolled": true
   },
   "outputs": [
    {
     "name": "stdout",
     "output_type": "stream",
     "text": [
      "string2, string1, string3\n"
     ]
    }
   ],
   "source": [
    "String0 = \"{1}, {0}, {2}\".format(\"string1\", \"string2\", \"string3\")\n",
    "print(String0)"
   ]
  },
  {
   "cell_type": "code",
   "execution_count": 17,
   "metadata": {},
   "outputs": [
    {
     "name": "stdout",
     "output_type": "stream",
     "text": [
      "string2, string2, string3\n"
     ]
    }
   ],
   "source": [
    "String0 = \"{1}, {1}, {2}\".format(\"string1\", \"string2\", \"string3\")\n",
    "print(String0)"
   ]
  },
  {
   "cell_type": "markdown",
   "metadata": {},
   "source": [
    "#### Keyword formatting:"
   ]
  },
  {
   "cell_type": "code",
   "execution_count": 18,
   "metadata": {},
   "outputs": [
    {
     "name": "stdout",
     "output_type": "stream",
     "text": [
      "String2, String3, String1\n"
     ]
    }
   ],
   "source": [
    "String2 = \"{b}, {c}, {a}\".format(a=\"String1\", b=\"String2\", c=\"String3\")\n",
    "print(String2)"
   ]
  },
  {
   "cell_type": "markdown",
   "metadata": {},
   "source": [
    "#### Formatting of Integers:"
   ]
  },
  {
   "cell_type": "code",
   "execution_count": 19,
   "metadata": {},
   "outputs": [
    {
     "name": "stdout",
     "output_type": "stream",
     "text": [
      "10000\n",
      "<class 'str'>\n"
     ]
    }
   ],
   "source": [
    "String3 = '{0:b}'.format(16) # Binary representation \n",
    "print(String3)\n",
    "print(type(String3))"
   ]
  },
  {
   "cell_type": "markdown",
   "metadata": {},
   "source": [
    "#### Formatting of Floats:"
   ]
  },
  {
   "cell_type": "code",
   "execution_count": 20,
   "metadata": {},
   "outputs": [
    {
     "name": "stdout",
     "output_type": "stream",
     "text": [
      "3.141593e+07\n",
      "<class 'str'>\n"
     ]
    }
   ],
   "source": [
    "# Exponent representation\n",
    "String4 = '{0:e}'.format(31415926)\n",
    "print(String4)\n",
    "print(type(String4))"
   ]
  },
  {
   "cell_type": "markdown",
   "metadata": {},
   "source": [
    "#### Rounding off Integers:"
   ]
  },
  {
   "cell_type": "code",
   "execution_count": 21,
   "metadata": {},
   "outputs": [
    {
     "name": "stdout",
     "output_type": "stream",
     "text": [
      " 0.17\n"
     ]
    }
   ],
   "source": [
    "String5 = '{0: .2f}'.format(1/6)\n",
    "print(String5)"
   ]
  },
  {
   "cell_type": "markdown",
   "metadata": {},
   "source": [
    "#### If all characters in the string are digits:"
   ]
  },
  {
   "cell_type": "code",
   "execution_count": 22,
   "metadata": {},
   "outputs": [
    {
     "name": "stdout",
     "output_type": "stream",
     "text": [
      "False\n",
      "True\n"
     ]
    }
   ],
   "source": [
    "print(String5.isdigit()) # 0.17\n",
    "print(String3.isdigit()) # 10000"
   ]
  },
  {
   "cell_type": "code",
   "execution_count": 23,
   "metadata": {},
   "outputs": [
    {
     "name": "stdout",
     "output_type": "stream",
     "text": [
      "False\n",
      "True\n"
     ]
    }
   ],
   "source": [
    "print(String5.isdecimal()) # 0.17\n",
    "print(String3.isdecimal()) # 10000"
   ]
  },
  {
   "cell_type": "markdown",
   "metadata": {},
   "source": [
    "#### If all characters in the string are alphabets:"
   ]
  },
  {
   "cell_type": "code",
   "execution_count": 24,
   "metadata": {},
   "outputs": [
    {
     "name": "stdout",
     "output_type": "stream",
     "text": [
      "True\n",
      "False\n"
     ]
    }
   ],
   "source": [
    "String1 = 'abcde'\n",
    "print(String1.isalpha()) # ksForGeek\n",
    "\n",
    "String2 = 'a,b,c,d,e'\n",
    "print(String2.isalpha())"
   ]
  },
  {
   "cell_type": "code",
   "execution_count": 25,
   "metadata": {},
   "outputs": [
    {
     "data": {
      "text/plain": [
       "'ABCDE'"
      ]
     },
     "execution_count": 25,
     "metadata": {},
     "output_type": "execute_result"
    }
   ],
   "source": [
    "String1.upper()"
   ]
  },
  {
   "cell_type": "code",
   "execution_count": 26,
   "metadata": {},
   "outputs": [
    {
     "data": {
      "text/plain": [
       "'abcde'"
      ]
     },
     "execution_count": 26,
     "metadata": {},
     "output_type": "execute_result"
    }
   ],
   "source": [
    "String1.lower()"
   ]
  },
  {
   "cell_type": "markdown",
   "metadata": {},
   "source": [
    "### List:"
   ]
  },
  {
   "cell_type": "markdown",
   "metadata": {},
   "source": [
    "- A single list may contain DataTypes like Integers, Strings, as well as Objects.\n",
    "- List is a type of container in Data Structures, are also very useful for implementing stacks and queues"
   ]
  },
  {
   "cell_type": "markdown",
   "metadata": {},
   "source": [
    "#### Multiple types:"
   ]
  },
  {
   "cell_type": "code",
   "execution_count": 27,
   "metadata": {},
   "outputs": [
    {
     "name": "stdout",
     "output_type": "stream",
     "text": [
      "[1, 'a', 4, 'c', 2, 'b']\n"
     ]
    }
   ],
   "source": [
    "li0 = [1,'a',4,'c',2,'b']\n",
    "print(li0)"
   ]
  },
  {
   "cell_type": "markdown",
   "metadata": {},
   "source": [
    "#### Add element:\n",
    "   -  __End of the List:__   \n",
    "        - Append(): Single element, tuple, lists  \n",
    "   - __Desired position:__  \n",
    "        - Insert():  \n",
    "   - __End of the list, and add multiple elements:__\n",
    "        - extend()"
   ]
  },
  {
   "cell_type": "code",
   "execution_count": 28,
   "metadata": {},
   "outputs": [
    {
     "name": "stdout",
     "output_type": "stream",
     "text": [
      "[0, 1, 2, 3]\n",
      "[0, 1, 2, 3, (3, 4)]\n"
     ]
    }
   ],
   "source": [
    "# List after Addition of a Tuple: \n",
    "li1 = []\n",
    "\n",
    "for i in range(4):\n",
    "    li1.append(i)\n",
    "    \n",
    "print(li1)\n",
    "\n",
    "li1.append((3,4))\n",
    "print(li1)"
   ]
  },
  {
   "cell_type": "code",
   "execution_count": 29,
   "metadata": {},
   "outputs": [
    {
     "name": "stdout",
     "output_type": "stream",
     "text": [
      "[0, 1, 2, 3, (3, 4), [5, 6, 7]]\n"
     ]
    }
   ],
   "source": [
    "# after Addition of a list: \n",
    "li_ = [5,6,7]\n",
    "li1.append(li_)\n",
    "\n",
    "print(li1)"
   ]
  },
  {
   "cell_type": "code",
   "execution_count": 30,
   "metadata": {},
   "outputs": [
    {
     "name": "stdout",
     "output_type": "stream",
     "text": [
      "[0, 1, 2, 3, (3, 4), [5, 6, 7], 5, 6, 7]\n"
     ]
    }
   ],
   "source": [
    "li1.extend(li_) # Multiple elements\n",
    "print(li1)"
   ]
  },
  {
   "cell_type": "code",
   "execution_count": 31,
   "metadata": {},
   "outputs": [
    {
     "data": {
      "text/plain": [
       "[0, 1, 2, 'test', 3, (3, 4), [5, 6, 7], 5, 6, 7]"
      ]
     },
     "execution_count": 31,
     "metadata": {},
     "output_type": "execute_result"
    }
   ],
   "source": [
    "li1.insert(3, 'test')\n",
    "li1"
   ]
  },
  {
   "cell_type": "markdown",
   "metadata": {},
   "source": [
    "#### Multi-Dimensional List:"
   ]
  },
  {
   "cell_type": "code",
   "execution_count": 32,
   "metadata": {},
   "outputs": [],
   "source": [
    "li2 = [['Geeks', 'For'] , ['Geeks']]"
   ]
  },
  {
   "cell_type": "code",
   "execution_count": 33,
   "metadata": {},
   "outputs": [
    {
     "name": "stdout",
     "output_type": "stream",
     "text": [
      "For\n"
     ]
    }
   ],
   "source": [
    "print(li2[0][1])"
   ]
  },
  {
   "cell_type": "markdown",
   "metadata": {},
   "source": [
    "#### Removing Elements from the List:"
   ]
  },
  {
   "cell_type": "markdown",
   "metadata": {},
   "source": [
    "- Remove():\n",
    "    - Single element; multiple: iterator.\n",
    "- Pop():\n",
    "    "
   ]
  },
  {
   "cell_type": "code",
   "execution_count": 34,
   "metadata": {},
   "outputs": [],
   "source": [
    "li3 = [1, 2, 3, 4, 5, 6,  \n",
    "        7, 8, 9, 10, 11, 12] "
   ]
  },
  {
   "cell_type": "code",
   "execution_count": 35,
   "metadata": {},
   "outputs": [
    {
     "name": "stdout",
     "output_type": "stream",
     "text": [
      "[1, 2, 3, 4, 6, 7, 8, 9, 10, 11, 12]\n"
     ]
    }
   ],
   "source": [
    "li3.remove(5)\n",
    "print(li3)"
   ]
  },
  {
   "cell_type": "code",
   "execution_count": 36,
   "metadata": {},
   "outputs": [
    {
     "name": "stdout",
     "output_type": "stream",
     "text": [
      "[2, 4, 7, 8, 9, 10, 11, 12]\n"
     ]
    }
   ],
   "source": [
    "# Multiple remove:\n",
    "for i in range(3):\n",
    "    li3.remove(li3[i])\n",
    "    \n",
    "print(li3)"
   ]
  },
  {
   "cell_type": "code",
   "execution_count": 37,
   "metadata": {},
   "outputs": [
    {
     "data": {
      "text/plain": [
       "12"
      ]
     },
     "execution_count": 37,
     "metadata": {},
     "output_type": "execute_result"
    }
   ],
   "source": [
    "# Pop(): Default last element.\n",
    "li3.pop()"
   ]
  },
  {
   "cell_type": "code",
   "execution_count": 38,
   "metadata": {},
   "outputs": [
    {
     "name": "stdout",
     "output_type": "stream",
     "text": [
      "[2, 4, 7, 8, 9, 10, 11]\n"
     ]
    }
   ],
   "source": [
    "print(li3)"
   ]
  },
  {
   "cell_type": "markdown",
   "metadata": {},
   "source": [
    "#### Remove by specific location:"
   ]
  },
  {
   "cell_type": "code",
   "execution_count": 39,
   "metadata": {},
   "outputs": [
    {
     "data": {
      "text/plain": [
       "7"
      ]
     },
     "execution_count": 39,
     "metadata": {},
     "output_type": "execute_result"
    }
   ],
   "source": [
    "li3.pop(2) # pop by index."
   ]
  },
  {
   "cell_type": "code",
   "execution_count": 40,
   "metadata": {},
   "outputs": [
    {
     "name": "stdout",
     "output_type": "stream",
     "text": [
      "[2, 4, 8, 9, 10, 11]\n"
     ]
    }
   ],
   "source": [
    "print(li3)"
   ]
  },
  {
   "cell_type": "markdown",
   "metadata": {},
   "source": [
    "#### Slicing:"
   ]
  },
  {
   "cell_type": "code",
   "execution_count": 41,
   "metadata": {},
   "outputs": [
    {
     "data": {
      "text/plain": [
       "[11, 10, 9, 8, 4, 2]"
      ]
     },
     "execution_count": 41,
     "metadata": {},
     "output_type": "execute_result"
    }
   ],
   "source": [
    "li3[::-1]"
   ]
  },
  {
   "cell_type": "code",
   "execution_count": 42,
   "metadata": {},
   "outputs": [
    {
     "data": {
      "text/plain": [
       "[2, 4]"
      ]
     },
     "execution_count": 42,
     "metadata": {},
     "output_type": "execute_result"
    }
   ],
   "source": [
    "li3[:-4] # Elements sliced till 4th element from last:"
   ]
  },
  {
   "cell_type": "code",
   "execution_count": 43,
   "metadata": {},
   "outputs": [
    {
     "data": {
      "text/plain": [
       "[2, 4, 8, 9, 10, 11]"
      ]
     },
     "execution_count": 43,
     "metadata": {},
     "output_type": "execute_result"
    }
   ],
   "source": [
    "li3[:]"
   ]
  },
  {
   "cell_type": "code",
   "execution_count": 44,
   "metadata": {},
   "outputs": [
    {
     "data": {
      "text/plain": [
       "[['Geeks', 'For'], ['Geeks']]"
      ]
     },
     "execution_count": 44,
     "metadata": {},
     "output_type": "execute_result"
    }
   ],
   "source": [
    "li2"
   ]
  },
  {
   "cell_type": "markdown",
   "metadata": {},
   "source": [
    "#### Filter + lambda:"
   ]
  },
  {
   "cell_type": "code",
   "execution_count": 45,
   "metadata": {},
   "outputs": [],
   "source": [
    "# Get result contains odd numbers of the list and even numbers of the list.\n",
    "seq = [0, 1, 2, 3, 5, 8, 13] \n",
    "\n",
    "result = filter(lambda x : x%2, seq)"
   ]
  },
  {
   "cell_type": "code",
   "execution_count": 46,
   "metadata": {},
   "outputs": [
    {
     "data": {
      "text/plain": [
       "[1, 3, 5, 13]"
      ]
     },
     "execution_count": 46,
     "metadata": {},
     "output_type": "execute_result"
    }
   ],
   "source": [
    "list(result)"
   ]
  },
  {
   "cell_type": "code",
   "execution_count": 47,
   "metadata": {},
   "outputs": [
    {
     "name": "stdout",
     "output_type": "stream",
     "text": [
      "[0, 2, 8]\n"
     ]
    }
   ],
   "source": [
    "\n",
    "result = filter(lambda x : x%2 == 0, seq)\n",
    "print(list(result))"
   ]
  },
  {
   "cell_type": "markdown",
   "metadata": {},
   "source": [
    "#### map + lambda:"
   ]
  },
  {
   "cell_type": "code",
   "execution_count": 48,
   "metadata": {},
   "outputs": [
    {
     "name": "stdout",
     "output_type": "stream",
     "text": [
      "<class 'map'> [0, 1, 0, 1, 1, 0, 1]\n",
      "[True, False, True, False, False, True, False]\n"
     ]
    }
   ],
   "source": [
    "seq = [0, 1, 2, 3, 5, 8, 13] \n",
    "\n",
    "result = map(lambda x : x%2, seq)\n",
    "print(type(result), list(result))\n",
    "\n",
    "result = map(lambda x : x%2 == 0, seq)\n",
    "print(list(result))"
   ]
  },
  {
   "cell_type": "code",
   "execution_count": 49,
   "metadata": {
    "scrolled": true
   },
   "outputs": [
    {
     "name": "stdout",
     "output_type": "stream",
     "text": [
      "[0, 2, 4, 6, 10, 16, 26]\n",
      "<class 'map'>\n"
     ]
    }
   ],
   "source": [
    "seq = [0, 1, 2, 3, 5, 8, 13] \n",
    "\n",
    "def double_num(num):\n",
    "    return num*2\n",
    "\n",
    "result = map(lambda x: double_num(x), seq)\n",
    "\n",
    "print(list(result))\n",
    "print(type(result))"
   ]
  },
  {
   "cell_type": "markdown",
   "metadata": {},
   "source": [
    "#### List comprehension:"
   ]
  },
  {
   "cell_type": "markdown",
   "metadata": {},
   "source": [
    "- an elegant way of defining and creating a list. List Comprehension allows us to create a list using for loop with lesser code."
   ]
  },
  {
   "cell_type": "code",
   "execution_count": 50,
   "metadata": {},
   "outputs": [
    {
     "name": "stdout",
     "output_type": "stream",
     "text": [
      "[0, 2, 4, 6, 8, 10]\n"
     ]
    }
   ],
   "source": [
    "li5 = [i for i in range(11) if i%2 == 0]\n",
    "print(li5)"
   ]
  },
  {
   "cell_type": "markdown",
   "metadata": {},
   "source": [
    "#### List Generator:m\n",
    "- Instead of creating a list and keeping the whole sequence in the memory, the generator generates the next element in demand.\n",
    "- Thus we can say that the generator expressions are memory efficient than the lists."
   ]
  },
  {
   "cell_type": "code",
   "execution_count": 51,
   "metadata": {},
   "outputs": [
    {
     "name": "stdout",
     "output_type": "stream",
     "text": [
      "<generator object <genexpr> at 0x000001C7FEC866D8> <class 'generator'>\n"
     ]
    }
   ],
   "source": [
    "generator_ = (i for i in range(10) if i%2 ==0 )\n",
    "print(generator_, end=' ')\n",
    "print(type(generator_))"
   ]
  },
  {
   "cell_type": "code",
   "execution_count": 52,
   "metadata": {},
   "outputs": [
    {
     "name": "stdout",
     "output_type": "stream",
     "text": [
      "0\n",
      "2\n",
      "4\n",
      "6\n",
      "8\n"
     ]
    }
   ],
   "source": [
    "for i in generator_:\n",
    "    print(i)"
   ]
  },
  {
   "cell_type": "markdown",
   "metadata": {},
   "source": [
    "#### min/max:"
   ]
  },
  {
   "cell_type": "code",
   "execution_count": 53,
   "metadata": {},
   "outputs": [],
   "source": [
    "a = [3, 4, 1, 3, 4, 5] "
   ]
  },
  {
   "cell_type": "code",
   "execution_count": 54,
   "metadata": {},
   "outputs": [
    {
     "name": "stdout",
     "output_type": "stream",
     "text": [
      "2 value: 1\n"
     ]
    }
   ],
   "source": [
    "print(a.index(min(a)), 'value:', min(a))"
   ]
  },
  {
   "cell_type": "code",
   "execution_count": 55,
   "metadata": {},
   "outputs": [
    {
     "name": "stdout",
     "output_type": "stream",
     "text": [
      "5 value: 5\n"
     ]
    }
   ],
   "source": [
    "print(a.index(max(a)), 'value:', max(a))"
   ]
  },
  {
   "cell_type": "markdown",
   "metadata": {},
   "source": [
    "#### multiples of n without using any loop:- range()"
   ]
  },
  {
   "cell_type": "code",
   "execution_count": 56,
   "metadata": {},
   "outputs": [
    {
     "name": "stdout",
     "output_type": "stream",
     "text": [
      "range(1, 10) type: <class 'range'>\n"
     ]
    }
   ],
   "source": [
    "# initializing a with range() \n",
    "a = range(1,10)\n",
    "print(a, 'type:', type(a))"
   ]
  },
  {
   "cell_type": "markdown",
   "metadata": {},
   "source": [
    "- The variable storing the range created by range() takes more memory."
   ]
  },
  {
   "cell_type": "code",
   "execution_count": 57,
   "metadata": {},
   "outputs": [
    {
     "name": "stdout",
     "output_type": "stream",
     "text": [
      "9\n"
     ]
    }
   ],
   "source": [
    "print(len(a))"
   ]
  },
  {
   "cell_type": "code",
   "execution_count": 58,
   "metadata": {},
   "outputs": [
    {
     "name": "stdout",
     "output_type": "stream",
     "text": [
      "1 2 3 4 5 6 7 8 9\n"
     ]
    }
   ],
   "source": [
    "print(*a) # Print out all elements."
   ]
  },
  {
   "cell_type": "code",
   "execution_count": 59,
   "metadata": {},
   "outputs": [
    {
     "name": "stdout",
     "output_type": "stream",
     "text": [
      "48\n"
     ]
    }
   ],
   "source": [
    "import sys\n",
    "print(sys.getsizeof(a)) # The size allotted using range()"
   ]
  },
  {
   "cell_type": "markdown",
   "metadata": {},
   "source": [
    "- As range() returns the list, all the operations that can be applied on the list can be used on it."
   ]
  },
  {
   "cell_type": "code",
   "execution_count": 60,
   "metadata": {},
   "outputs": [
    {
     "data": {
      "text/plain": [
       "range(3, 6)"
      ]
     },
     "execution_count": 60,
     "metadata": {},
     "output_type": "execute_result"
    }
   ],
   "source": [
    "a[2:5]"
   ]
  },
  {
   "cell_type": "markdown",
   "metadata": {},
   "source": [
    "- Ex: Given n and m, print first m multiples of a n number without using any loops in Python:  \n",
    "    - Input : n = 2, m = 3  \n",
    "    - Output : 2 4 6  \n",
    "\n",
    "    - Input : n = 3, m = 4  \n",
    "    - Output : 3 6 9 12 "
   ]
  },
  {
   "cell_type": "code",
   "execution_count": 61,
   "metadata": {},
   "outputs": [
    {
     "name": "stdout",
     "output_type": "stream",
     "text": [
      "n = 4\n",
      "m = 6\n"
     ]
    }
   ],
   "source": [
    "n = int(input('n = '))\n",
    "m = int(input('m = '))"
   ]
  },
  {
   "cell_type": "code",
   "execution_count": 62,
   "metadata": {},
   "outputs": [
    {
     "name": "stdout",
     "output_type": "stream",
     "text": [
      "4 8 12 16 20 24\n"
     ]
    }
   ],
   "source": [
    "li = range(n, (n*m)+1 ,n)\n",
    "print(*li)\n",
    "\n",
    "# inserts all elements from n to (m * n)+1 incremented by n. "
   ]
  },
  {
   "cell_type": "markdown",
   "metadata": {},
   "source": [
    "- In Python 3, print(*(range(x)) is equivalent to print(\" \".join([str(i) for i in range(x)]))"
   ]
  },
  {
   "cell_type": "markdown",
   "metadata": {},
   "source": [
    "#### Matrix/List Equality:"
   ]
  },
  {
   "cell_type": "code",
   "execution_count": 63,
   "metadata": {},
   "outputs": [],
   "source": [
    "A = [ [1, 1, 1, 1],[2, 2, 2, 2], [3, 3, 3, 3], [4, 4, 4, 4]] \n",
    "   \n",
    "B = [ [1, 1, 1, 1], [2, 2, 2, 2], [3, 3, 3, 3], [4, 4, 4, 4]] "
   ]
  },
  {
   "cell_type": "code",
   "execution_count": 64,
   "metadata": {},
   "outputs": [
    {
     "name": "stdout",
     "output_type": "stream",
     "text": [
      "Equal\n"
     ]
    }
   ],
   "source": [
    "if (A == B):\n",
    "    print('Equal')\n",
    "else:\n",
    "    print('No.')"
   ]
  },
  {
   "cell_type": "markdown",
   "metadata": {},
   "source": [
    "#### Ex. Sort the values of first list using second list:"
   ]
  },
  {
   "cell_type": "markdown",
   "metadata": {},
   "source": [
    "Input : \n",
    "list1 = [\"a\", \"b\", \"c\", \"d\", \"e\", \"f\", \"g\", \"h\", \"i\"]  \n",
    "list2 = [ 0,   1,   1,    0,   1,   2,   2,   0,   1]  \n",
    "\n",
    "Output :  \n",
    "['a', 'd', 'h', 'b', 'c', 'e', 'i', 'f', 'g']  \n",
    "\n",
    "\n",
    "Input :  \n",
    "list1 = [\"g\", \"e\", \"e\", \"k\", \"s\", \"f\", \"o\", \"r\", \"g\", \"e\", \"e\", \"k\", \"s\"]    \n",
    "list2 = [ 0,   1,   1,    0,   1,   2,   2,   0,   1]  \n",
    "\n",
    "Output :   \n",
    "['g', 'k', 'r', 'e', 'e', 'g', 's', 'f', 'o']  "
   ]
  },
  {
   "cell_type": "code",
   "execution_count": 52,
   "metadata": {},
   "outputs": [],
   "source": [
    "list1 = [\"a\", \"b\", \"c\", \"d\", \"e\", \"f\", \"g\", \"h\", \"i\"]\n",
    "list2 = [ 0, 1, 1, 0, 1, 2, 2, 0, 1]"
   ]
  },
  {
   "cell_type": "code",
   "execution_count": 66,
   "metadata": {},
   "outputs": [],
   "source": [
    "def zip_sort(list1, list2):\n",
    "    zipped_list = list(zip(list2, list1))\n",
    "    result = [ele for index, ele in sorted(zipped_list)] #!!!!!!!!!!!!!!!!!!!!\n",
    "                       \n",
    "    return result"
   ]
  },
  {
   "cell_type": "code",
   "execution_count": 67,
   "metadata": {},
   "outputs": [
    {
     "data": {
      "text/plain": [
       "['a', 'd', 'h', 'b', 'c', 'e', 'i', 'f', 'g']"
      ]
     },
     "execution_count": 67,
     "metadata": {},
     "output_type": "execute_result"
    }
   ],
   "source": [
    "zip_sort(list1, list2)"
   ]
  },
  {
   "cell_type": "markdown",
   "metadata": {},
   "source": [
    "#### Set and intersection:"
   ]
  },
  {
   "cell_type": "markdown",
   "metadata": {},
   "source": [
    "- List could be converted to Set.\n",
    "- Get intersection: & OR intersection()"
   ]
  },
  {
   "cell_type": "markdown",
   "metadata": {},
   "source": [
    "__Ex.Print all the common elements of two lists:__  \n",
    "Given two lists, print all the common element of two lists.  \n",
    "Input :  \n",
    "list1 = [1, 2, 3, 4, 5]   \n",
    "list2 = [5, 6, 7, 8, 9]  \n",
    "\n",
    "Output : {5}  \n",
    "Explanation: The common elements of both the lists are 3 and 4  \n",
    "\n",
    "Input :  \n",
    "list1 = [1, 2, 3, 4, 5]  \n",
    "list2 = [6, 7, 8, 9]  \n",
    "Output : No common elements   \n",
    "\n",
    "Explanation: They do not have any elements in common in between them"
   ]
  },
  {
   "cell_type": "code",
   "execution_count": 68,
   "metadata": {},
   "outputs": [],
   "source": [
    "a = [1, 2, 3, 4, 5]\n",
    "b =   [1, 2, 3, 4, 5]"
   ]
  },
  {
   "cell_type": "code",
   "execution_count": 69,
   "metadata": {},
   "outputs": [],
   "source": [
    "def common_member(a, b): \n",
    "    set_a = set(a)\n",
    "    set_b = set(b)\n",
    "    \n",
    "    set_inter = set_a&set_b\n",
    "    \n",
    "    return set_inter"
   ]
  },
  {
   "cell_type": "code",
   "execution_count": 70,
   "metadata": {},
   "outputs": [
    {
     "name": "stdout",
     "output_type": "stream",
     "text": [
      "{1, 2, 3, 4, 5}\n"
     ]
    }
   ],
   "source": [
    "if (common_member(a, b)):\n",
    "    print(common_member(a, b))\n",
    "\n",
    "else:\n",
    "    print('No intersection.')"
   ]
  },
  {
   "cell_type": "markdown",
   "metadata": {},
   "source": [
    "__OR:__"
   ]
  },
  {
   "cell_type": "code",
   "execution_count": 71,
   "metadata": {},
   "outputs": [],
   "source": [
    "def common_member(a, b): \n",
    "    set_a = set(a)\n",
    "    set_b = set(b)\n",
    "    \n",
    "    if (set_a.intersection(set_b)):\n",
    "        return set_a.intersection(set_b)\n",
    "    else:\n",
    "        return 'No intersection.'"
   ]
  },
  {
   "cell_type": "code",
   "execution_count": 72,
   "metadata": {},
   "outputs": [
    {
     "data": {
      "text/plain": [
       "{1, 2, 3, 4, 5}"
      ]
     },
     "execution_count": 72,
     "metadata": {},
     "output_type": "execute_result"
    }
   ],
   "source": [
    "common_member(a, b)"
   ]
  },
  {
   "cell_type": "markdown",
   "metadata": {},
   "source": [
    "#### Count occurrences of an element in a list:\n",
    "- __list.count()__: return a int.\n",
    "- __counter()__: returns a dictionary with occurences of all elements as a key-value pair"
   ]
  },
  {
   "cell_type": "code",
   "execution_count": 73,
   "metadata": {},
   "outputs": [],
   "source": [
    "def count(lst, x):\n",
    "    return lst.count(x)"
   ]
  },
  {
   "cell_type": "code",
   "execution_count": 74,
   "metadata": {},
   "outputs": [
    {
     "data": {
      "text/plain": [
       "5"
      ]
     },
     "execution_count": 74,
     "metadata": {},
     "output_type": "execute_result"
    }
   ],
   "source": [
    "lst = [8, 6, 8, 10, 8, 20, 10, 8, 8] \n",
    "x = 8\n",
    "\n",
    "count(lst, x)"
   ]
  },
  {
   "cell_type": "markdown",
   "metadata": {},
   "source": [
    "__OR:__"
   ]
  },
  {
   "cell_type": "code",
   "execution_count": 75,
   "metadata": {},
   "outputs": [],
   "source": [
    "from collections import Counter"
   ]
  },
  {
   "cell_type": "code",
   "execution_count": 76,
   "metadata": {},
   "outputs": [
    {
     "data": {
      "text/plain": [
       "Counter({8: 5, 6: 1, 10: 2, 20: 1})"
      ]
     },
     "execution_count": 76,
     "metadata": {},
     "output_type": "execute_result"
    }
   ],
   "source": [
    "counter = Counter(lst)\n",
    "counter"
   ]
  },
  {
   "cell_type": "code",
   "execution_count": 77,
   "metadata": {},
   "outputs": [
    {
     "data": {
      "text/plain": [
       "5"
      ]
     },
     "execution_count": 77,
     "metadata": {},
     "output_type": "execute_result"
    }
   ],
   "source": [
    "counter[8] # Get the occurencies of element 8."
   ]
  },
  {
   "cell_type": "markdown",
   "metadata": {},
   "source": [
    "#### Convert given number into binary:\n",
    "- bin()"
   ]
  },
  {
   "cell_type": "markdown",
   "metadata": {},
   "source": [
    "- Ex. count number of 1s in binary representation of an integer.  \n",
    "\n",
    "Input : n = 6  \n",
    "Output : 2  \n",
    "Binary representation of 6 is 110 and has 2 set bits  \n",
    "\n",
    "Input : n = 11  \n",
    "Output : 3  \n",
    "Binary representation of 11 is 1101 and has 3 set bits  "
   ]
  },
  {
   "cell_type": "code",
   "execution_count": 78,
   "metadata": {},
   "outputs": [],
   "source": [
    "def countSetBits(num): \n",
    "    binary = bin(num)\n",
    "    \n",
    "    sum = count(list(binary),'1')\n",
    "    print(list(binary))\n",
    "    return sum"
   ]
  },
  {
   "cell_type": "code",
   "execution_count": 79,
   "metadata": {},
   "outputs": [
    {
     "name": "stdout",
     "output_type": "stream",
     "text": [
      "['0', 'b', '1', '0', '1', '1']\n"
     ]
    },
    {
     "data": {
      "text/plain": [
       "3"
      ]
     },
     "execution_count": 79,
     "metadata": {},
     "output_type": "execute_result"
    }
   ],
   "source": [
    "countSetBits(11)"
   ]
  },
  {
   "cell_type": "markdown",
   "metadata": {},
   "source": [
    "#### Nested 'for' list comprehension:\n",
    "- How to fill the elements in list/array?\n",
    "- Nested list"
   ]
  },
  {
   "cell_type": "markdown",
   "metadata": {},
   "source": [
    "- E.x.: Creating a 3D List:  \n",
    "\n",
    "Input :   \n",
    "3 x 3 x 3  \n",
    "Output :  \n",
    "[[['#', '#', '#'], ['#', '#', '#'], ['#', '#', '#']],  \n",
    " [['#', '#', '#'], ['#', '#', '#'], ['#', '#', '#']],  \n",
    " [['#', '#', '#'], ['#', '#', '#'], ['#', '#', '#']]]  \n",
    "\n",
    "Input :  \n",
    "5 x 3 x 2  \n",
    "Output :  \n",
    "[[['#', '#', '#', '#', '#'],  \n",
    "  ['#', '#', '#', '#', '#'],  \n",
    "  ['#', '#', '#', '#', '#']],  \n",
    " [['#', '#', '#', '#', '#'],  \n",
    "  ['#', '#', '#', '#', '#'],  \n",
    "  ['#', '#', '#', '#', '#']]]"
   ]
  },
  {
   "cell_type": "code",
   "execution_count": 80,
   "metadata": {},
   "outputs": [],
   "source": [
    "def ThreeD(a, b, c): \n",
    "    mat = [[['#' for i in range(a)] for j in range(b)] for k in range(c)] #!!!!!!!!!\n",
    "    return mat"
   ]
  },
  {
   "cell_type": "code",
   "execution_count": 81,
   "metadata": {},
   "outputs": [
    {
     "data": {
      "text/plain": [
       "[[['#', '#', '#', '#', '#'],\n",
       "  ['#', '#', '#', '#', '#'],\n",
       "  ['#', '#', '#', '#', '#']],\n",
       " [['#', '#', '#', '#', '#'],\n",
       "  ['#', '#', '#', '#', '#'],\n",
       "  ['#', '#', '#', '#', '#']]]"
      ]
     },
     "execution_count": 81,
     "metadata": {},
     "output_type": "execute_result"
    }
   ],
   "source": [
    "ThreeD(5, 3, 2)"
   ]
  },
  {
   "cell_type": "markdown",
   "metadata": {},
   "source": [
    "#### Merge two 3D list into one:\n",
    "- Use + to merge 2 matrix:"
   ]
  },
  {
   "cell_type": "code",
   "execution_count": 82,
   "metadata": {},
   "outputs": [],
   "source": [
    "def merge3D(a,b,c):\n",
    "    list1 = [[['1' for i in range(a)] for j in range(b)] for k in range(c)]\n",
    "    list2 = [[['2' for i in range(a)] for j in range(b)] for k in range(c)]\n",
    "    \n",
    "    return list1 + list2"
   ]
  },
  {
   "cell_type": "code",
   "execution_count": 83,
   "metadata": {},
   "outputs": [
    {
     "data": {
      "text/plain": [
       "[[['1', '1', '1'], ['1', '1', '1'], ['1', '1', '1']],\n",
       " [['1', '1', '1'], ['1', '1', '1'], ['1', '1', '1']],\n",
       " [['1', '1', '1'], ['1', '1', '1'], ['1', '1', '1']],\n",
       " [['2', '2', '2'], ['2', '2', '2'], ['2', '2', '2']],\n",
       " [['2', '2', '2'], ['2', '2', '2'], ['2', '2', '2']],\n",
       " [['2', '2', '2'], ['2', '2', '2'], ['2', '2', '2']]]"
      ]
     },
     "execution_count": 83,
     "metadata": {},
     "output_type": "execute_result"
    }
   ],
   "source": [
    "merge3D(3, 3, 3)"
   ]
  },
  {
   "cell_type": "markdown",
   "metadata": {},
   "source": [
    "#### Creating a sorted merged list of two unsorted lists:"
   ]
  },
  {
   "cell_type": "markdown",
   "metadata": {},
   "source": [
    "Input :   \n",
    "list1 = [25, 18, 9, 41, 26, 31]  \n",
    "list2 = [25, 45, 3, 32, 15, 20]  \n",
    "Output :  \n",
    "[3, 9, 15, 18, 20, 25, 25, 26, 31, 32, 41, 45]  \n",
    "\n",
    "Input :   \n",
    "list1 = [\"suraj\", \"anand\", \"gaurav\", \"aman\", \"kishore\"]  \n",
    "list2 = [\"rohan\", \"ram\", \"mohan\", \"priya\", \"komal\"]  \n",
    "Output :  \n",
    "['aman', 'anand', 'gaurav', 'kishore', 'komal',   \n",
    "'mohan', 'priya', 'ram', 'rohan', 'suraj']  "
   ]
  },
  {
   "cell_type": "code",
   "execution_count": 84,
   "metadata": {},
   "outputs": [],
   "source": [
    "list1 = [25, 18, 9, 41, 26, 31]\n",
    "list2 = [25, 45, 3, 32, 15, 20]"
   ]
  },
  {
   "cell_type": "code",
   "execution_count": 85,
   "metadata": {},
   "outputs": [
    {
     "data": {
      "text/plain": [
       "[3, 9, 15, 18, 20, 25, 25, 26, 31, 32, 41, 45]"
      ]
     },
     "execution_count": 85,
     "metadata": {},
     "output_type": "execute_result"
    }
   ],
   "source": [
    "list1.extend(list2)\n",
    "sorted(list1)"
   ]
  },
  {
   "cell_type": "markdown",
   "metadata": {},
   "source": [
    "__OR:__"
   ]
  },
  {
   "cell_type": "code",
   "execution_count": 86,
   "metadata": {},
   "outputs": [],
   "source": [
    "list_extend = list1 + list2\n",
    "list_extend.sort()"
   ]
  },
  {
   "cell_type": "code",
   "execution_count": 87,
   "metadata": {},
   "outputs": [
    {
     "data": {
      "text/plain": [
       "[3, 3, 9, 15, 15, 18, 20, 20, 25, 25, 25, 26, 31, 32, 32, 41, 45, 45]"
      ]
     },
     "execution_count": 87,
     "metadata": {},
     "output_type": "execute_result"
    }
   ],
   "source": [
    "list_extend"
   ]
  },
  {
   "cell_type": "markdown",
   "metadata": {},
   "source": [
    "- Note:  \n",
    "    __1. sort 2 lists:__  \n",
    "        I. sorted()  \n",
    "        II. list.sort()  \n",
    "    __2. extend 2 lists:__ \n",
    "        I. l1.extend(l2)  \n",
    "        II. l1 + l2"
   ]
  },
  {
   "cell_type": "markdown",
   "metadata": {},
   "source": [
    "#### Largest, Smallest, Second Largest, Second Smallest in a List:"
   ]
  },
  {
   "cell_type": "markdown",
   "metadata": {},
   "source": [
    "Input : list = [12, 45, 2, 41, 31, 10, 8, 6, 4]  \n",
    "Output :   \n",
    "Largest element is: 45  \n",
    "Smallest element is: 2  \n",
    "Second Largest element is: 41  \n",
    "Second Smallest element is: 4  \n",
    "\n",
    "Input : list = [22, 85, 62, 40, 55, 12, 39, 2, 43]  \n",
    "Output :  \n",
    "Largest element is: 85  \n",
    "Smallest element is: 2  \n",
    "Second Largest element is: 62  \n",
    "Second Smallest element is: 12  "
   ]
  },
  {
   "cell_type": "code",
   "execution_count": 88,
   "metadata": {},
   "outputs": [],
   "source": [
    "list_ori = [12, 45, 2, 41, 31, 10, 8, 6, 4]"
   ]
  },
  {
   "cell_type": "code",
   "execution_count": 89,
   "metadata": {},
   "outputs": [
    {
     "data": {
      "text/plain": [
       "(45, 2)"
      ]
     },
     "execution_count": 89,
     "metadata": {},
     "output_type": "execute_result"
    }
   ],
   "source": [
    "max(list_ori), min(list_ori)"
   ]
  },
  {
   "cell_type": "code",
   "execution_count": 90,
   "metadata": {},
   "outputs": [
    {
     "data": {
      "text/plain": [
       "41"
      ]
     },
     "execution_count": 90,
     "metadata": {},
     "output_type": "execute_result"
    }
   ],
   "source": [
    "list_ori.sort()\n",
    "list_ori[-2]"
   ]
  },
  {
   "cell_type": "code",
   "execution_count": 91,
   "metadata": {},
   "outputs": [
    {
     "data": {
      "text/plain": [
       "4"
      ]
     },
     "execution_count": 91,
     "metadata": {},
     "output_type": "execute_result"
    }
   ],
   "source": [
    "list_ori.sort()\n",
    "list_ori[1]"
   ]
  },
  {
   "cell_type": "markdown",
   "metadata": {},
   "source": [
    "#### Find average of a list\n",
    "e.g.: \n",
    "Input : [4, 5, 1, 2, 9, 7, 10, 8]  \n",
    "Output : Average of the list = 5.75  \n",
    "\n",
    "Input : [15, 9, 55, 41, 35, 20, 62, 49]  \n",
    "Output : Average of the list = 35.75"
   ]
  },
  {
   "cell_type": "code",
   "execution_count": 92,
   "metadata": {},
   "outputs": [],
   "source": [
    "list_ori =  [15, 9, 55, 41, 35, 20, 62, 49]"
   ]
  },
  {
   "cell_type": "code",
   "execution_count": 93,
   "metadata": {},
   "outputs": [
    {
     "data": {
      "text/plain": [
       "35.75"
      ]
     },
     "execution_count": 93,
     "metadata": {},
     "output_type": "execute_result"
    }
   ],
   "source": [
    "avg = sum(list_ori)/len(list_ori)\n",
    "round(avg,2)"
   ]
  },
  {
   "cell_type": "markdown",
   "metadata": {},
   "source": [
    "__OR:__"
   ]
  },
  {
   "cell_type": "markdown",
   "metadata": {},
   "source": [
    "Using reduce() and lambda:  \n",
    "<font color='red'>reduce() to reduce the loop and by using the lambda function can compute summation of list.</font>"
   ]
  },
  {
   "cell_type": "code",
   "execution_count": 94,
   "metadata": {},
   "outputs": [],
   "source": [
    "from functools import reduce #!!!!!!!!!!!!!!!!!!!!!!!!!!!!!!!"
   ]
  },
  {
   "cell_type": "code",
   "execution_count": 95,
   "metadata": {},
   "outputs": [],
   "source": [
    "list_sum = reduce(lambda a, b: a+b, list_ori) #!!!!!!!!!!!!!!!!!!!!!!!!!!!!!!!"
   ]
  },
  {
   "cell_type": "code",
   "execution_count": 96,
   "metadata": {},
   "outputs": [
    {
     "data": {
      "text/plain": [
       "286"
      ]
     },
     "execution_count": 96,
     "metadata": {},
     "output_type": "execute_result"
    }
   ],
   "source": [
    "list_sum"
   ]
  },
  {
   "cell_type": "code",
   "execution_count": 97,
   "metadata": {},
   "outputs": [
    {
     "data": {
      "text/plain": [
       "35.75"
      ]
     },
     "execution_count": 97,
     "metadata": {},
     "output_type": "execute_result"
    }
   ],
   "source": [
    "avg = list_sum/len(list_ori)\n",
    "avg"
   ]
  },
  {
   "cell_type": "markdown",
   "metadata": {},
   "source": [
    "__OR:__  \n",
    "Use mean()"
   ]
  },
  {
   "cell_type": "code",
   "execution_count": 98,
   "metadata": {},
   "outputs": [],
   "source": [
    "from statistics import mean"
   ]
  },
  {
   "cell_type": "code",
   "execution_count": 99,
   "metadata": {},
   "outputs": [
    {
     "data": {
      "text/plain": [
       "35.75"
      ]
     },
     "execution_count": 99,
     "metadata": {},
     "output_type": "execute_result"
    }
   ],
   "source": [
    "mean(list_ori)"
   ]
  },
  {
   "cell_type": "markdown",
   "metadata": {},
   "source": [
    "#### Sort a List according to the Length of the Elements:"
   ]
  },
  {
   "cell_type": "markdown",
   "metadata": {},
   "source": [
    "Input : \n",
    "list = [\"rohan\", \"amy\", \"sapna\", \"muhammad\", \"aakash\", \"raunak\", \"chinmoy\"]  \n",
    "Output : ['amy', 'rohan', 'sapna', 'aakash', 'raunak', 'chinmoy', 'muhammad']  \n",
    "\n",
    "Input :   \n",
    "list = [[\"ram\", \"mohan\", \"aman\"], [\"gaurav\"], [\"amy\", \"sima\", \"ankita\", \"rinku\"]]  \n",
    "Output :  \n",
    "[['gaurav'], ['ram', 'mohan', 'aman'], ['amy', 'sima', 'ankita', 'rinku']]"
   ]
  },
  {
   "cell_type": "code",
   "execution_count": 105,
   "metadata": {},
   "outputs": [],
   "source": [
    "list_word = [\"rohan\", \"amy\", \"sapna\", \"muhammad\", \"aakash\", \"raunak\", \"chinmoy\"]\n",
    "list_len = []"
   ]
  },
  {
   "cell_type": "code",
   "execution_count": 106,
   "metadata": {},
   "outputs": [
    {
     "data": {
      "text/plain": [
       "[5, 3, 5, 8, 6, 6, 7]"
      ]
     },
     "execution_count": 106,
     "metadata": {},
     "output_type": "execute_result"
    }
   ],
   "source": [
    "for ele in list_word:\n",
    "    list_len.append(len(ele))\n",
    "\n",
    "list_len"
   ]
  },
  {
   "cell_type": "code",
   "execution_count": 116,
   "metadata": {},
   "outputs": [
    {
     "data": {
      "text/plain": [
       "[('rohan', 5),\n",
       " ('amy', 3),\n",
       " ('sapna', 5),\n",
       " ('muhammad', 8),\n",
       " ('aakash', 6),\n",
       " ('raunak', 6),\n",
       " ('chinmoy', 7)]"
      ]
     },
     "execution_count": 116,
     "metadata": {},
     "output_type": "execute_result"
    }
   ],
   "source": [
    "list(zip(list_word, list_len))"
   ]
  },
  {
   "cell_type": "code",
   "execution_count": 119,
   "metadata": {},
   "outputs": [
    {
     "data": {
      "text/plain": [
       "['amy', 'rohan', 'sapna', 'aakash', 'raunak', 'chinmoy', 'muhammad']"
      ]
     },
     "execution_count": 119,
     "metadata": {},
     "output_type": "execute_result"
    }
   ],
   "source": [
    "list_sorted_word = [ele for (index, ele) in sorted(list(zip(list_len, list_word)))]\n",
    "list_sorted_word"
   ]
  },
  {
   "cell_type": "markdown",
   "metadata": {},
   "source": [
    "__OR:__"
   ]
  },
  {
   "cell_type": "markdown",
   "metadata": {},
   "source": [
    "by '<font color = 'red'>sorted(unsorted_list, key=len)'</font>"
   ]
  },
  {
   "cell_type": "code",
   "execution_count": 120,
   "metadata": {},
   "outputs": [
    {
     "data": {
      "text/plain": [
       "['amy', 'rohan', 'sapna', 'aakash', 'raunak', 'chinmoy', 'muhammad']"
      ]
     },
     "execution_count": 120,
     "metadata": {},
     "output_type": "execute_result"
    }
   ],
   "source": [
    "sorted(list_word, key=len)"
   ]
  },
  {
   "cell_type": "markdown",
   "metadata": {},
   "source": [
    "__OR:__  \n",
    "<font color='red'>list_word.sort(key=len)</font>"
   ]
  },
  {
   "cell_type": "code",
   "execution_count": 123,
   "metadata": {},
   "outputs": [],
   "source": [
    "list_word.sort(key=len)"
   ]
  },
  {
   "cell_type": "code",
   "execution_count": 124,
   "metadata": {},
   "outputs": [
    {
     "data": {
      "text/plain": [
       "['amy', 'rohan', 'sapna', 'aakash', 'raunak', 'chinmoy', 'muhammad']"
      ]
     },
     "execution_count": 124,
     "metadata": {},
     "output_type": "execute_result"
    }
   ],
   "source": [
    "list_word"
   ]
  },
  {
   "cell_type": "markdown",
   "metadata": {},
   "source": [
    "#### Multiply all numbers in the list (3 different ways):\n",
    "Input :  list1 = [1, 2, 3]  \n",
    "Output : 6   \n",
    "Explanation: 1*2*3=6   \n",
    "\n",
    "Input : list1 = [3, 2, 4]   \n",
    "Output : 24   "
   ]
  },
  {
   "cell_type": "code",
   "execution_count": 127,
   "metadata": {},
   "outputs": [],
   "source": [
    "list1 = [3, 2, 4]"
   ]
  },
  {
   "cell_type": "code",
   "execution_count": 128,
   "metadata": {},
   "outputs": [
    {
     "data": {
      "text/plain": [
       "24"
      ]
     },
     "execution_count": 128,
     "metadata": {},
     "output_type": "execute_result"
    }
   ],
   "source": [
    "res = reduce(lambda a,b: a*b, list1)\n",
    "res"
   ]
  },
  {
   "cell_type": "markdown",
   "metadata": {},
   "source": [
    "__OR:__  \n",
    "<font color = 'red'>numpy.prod() to get the multiplications </font> "
   ]
  },
  {
   "cell_type": "code",
   "execution_count": 129,
   "metadata": {},
   "outputs": [],
   "source": [
    "import numpy"
   ]
  },
  {
   "cell_type": "code",
   "execution_count": 132,
   "metadata": {},
   "outputs": [
    {
     "data": {
      "text/plain": [
       "24"
      ]
     },
     "execution_count": 132,
     "metadata": {},
     "output_type": "execute_result"
    }
   ],
   "source": [
    "res = numpy.prod(list1)\n",
    "res"
   ]
  },
  {
   "cell_type": "markdown",
   "metadata": {},
   "source": [
    "#### Generate random numbers within a given range and store in a list"
   ]
  },
  {
   "cell_type": "markdown",
   "metadata": {},
   "source": [
    "Maintained repetition only:  \n",
    "Input :   \n",
    "lst1 = [23, 15, 2, 14, 14, 16, 20 ,52]  \n",
    "lst2 = [2, 48, 15, 12, 26, 32, 47, 54]  \n",
    "Output :  \n",
    "[23, 15, 2, 14, 14, 16, 20, 52, 2, 48, 15, 12, 26, 32, 47, 54]"
   ]
  },
  {
   "cell_type": "code",
   "execution_count": 143,
   "metadata": {},
   "outputs": [],
   "source": [
    "lst1 = [23, 15, 2, 14, 14, 16, 20 ,52]\n",
    "lst2 = [2, 48, 15, 12, 26, 32, 47, 54]"
   ]
  },
  {
   "cell_type": "code",
   "execution_count": 144,
   "metadata": {},
   "outputs": [
    {
     "data": {
      "text/plain": [
       "[23, 15, 2, 14, 14, 16, 20, 52, 2, 48, 15, 12, 26, 32, 47, 54]"
      ]
     },
     "execution_count": 144,
     "metadata": {},
     "output_type": "execute_result"
    }
   ],
   "source": [
    "lst1.extend(lst2)\n",
    "lst1"
   ]
  },
  {
   "cell_type": "markdown",
   "metadata": {},
   "source": [
    "Maintained repetition and order  \n",
    "Input :   \n",
    "lst1 = [23, 15, 2, 14, 14, 16, 20 ,52]  \n",
    "lst2 = [2, 48, 15, 12, 26, 32, 47, 54]  \n",
    "Output :  \n",
    "[2, 2, 12, 14, 14, 15, 15, 16, 20, 23, 26, 32, 47, 48, 52, 54]"
   ]
  },
  {
   "cell_type": "code",
   "execution_count": 150,
   "metadata": {},
   "outputs": [],
   "source": [
    "lst1 = [23, 15, 2, 14, 14, 16, 20 ,52]\n",
    "lst2 = [2, 48, 15, 12, 26, 32, 47, 54]"
   ]
  },
  {
   "cell_type": "code",
   "execution_count": 151,
   "metadata": {},
   "outputs": [],
   "source": [
    "lst1.extend(lst2)"
   ]
  },
  {
   "cell_type": "code",
   "execution_count": 152,
   "metadata": {},
   "outputs": [
    {
     "data": {
      "text/plain": [
       "[23, 15, 2, 14, 14, 16, 20, 52, 2, 48, 15, 12, 26, 32, 47, 54]"
      ]
     },
     "execution_count": 152,
     "metadata": {},
     "output_type": "execute_result"
    }
   ],
   "source": [
    "lst1"
   ]
  },
  {
   "cell_type": "code",
   "execution_count": 153,
   "metadata": {},
   "outputs": [
    {
     "data": {
      "text/plain": [
       "[2, 2, 12, 14, 14, 15, 15, 16, 20, 23, 26, 32, 47, 48, 52, 54]"
      ]
     },
     "execution_count": 153,
     "metadata": {},
     "output_type": "execute_result"
    }
   ],
   "source": [
    "sorted(lst1)"
   ]
  },
  {
   "cell_type": "markdown",
   "metadata": {},
   "source": [
    "Without repetition: \n",
    "Input :  \n",
    "lst1 = [23, 15, 2, 14, 14, 16, 20 ,52]  \n",
    "lst2 = [2, 48, 15, 12, 26, 32, 47, 54]  \n",
    "Output :  \n",
    "[32, 2, 12, 14, 15, 16, 48, 47, 20, 52, 54, 23, 26]"
   ]
  },
  {
   "cell_type": "markdown",
   "metadata": {},
   "source": [
    "<font color = 'red'> use the set() function to remove repetition</font>"
   ]
  },
  {
   "cell_type": "code",
   "execution_count": 157,
   "metadata": {},
   "outputs": [],
   "source": [
    "lst1 = [23, 15, 2, 14, 14, 16, 20 ,52]\n",
    "lst2 = [2, 48, 15, 12, 26, 32, 47, 54]"
   ]
  },
  {
   "cell_type": "code",
   "execution_count": 159,
   "metadata": {},
   "outputs": [],
   "source": [
    "lst1.extend(lst2)"
   ]
  },
  {
   "cell_type": "code",
   "execution_count": 160,
   "metadata": {},
   "outputs": [
    {
     "data": {
      "text/plain": [
       "[32, 2, 12, 14, 15, 16, 48, 47, 20, 52, 54, 23, 26]"
      ]
     },
     "execution_count": 160,
     "metadata": {},
     "output_type": "execute_result"
    }
   ],
   "source": [
    "list(set(lst1)) #!!!!!!!!!!!!!!!!!!!!!!!!!"
   ]
  },
  {
   "cell_type": "markdown",
   "metadata": {},
   "source": [
    "Union of three lists  \n",
    "Input :  \n",
    "lst1 = [23, 15, 2, 14, 14, 16, 20 ,52]  \n",
    "lst2 = [2, 48, 15, 12, 26, 32, 47, 54]  \n",
    "lst3 = [4, 78, 5, 6, 9, 25, 64, 32, 59]  \n",
    "Output :  \n",
    "[32, 64, 2, 4, 5, 6, 9, 12, 14, 15, 16, 48, 47, 78, 20, 52, 54, 23, 25, 26, 59]"
   ]
  },
  {
   "cell_type": "code",
   "execution_count": 169,
   "metadata": {},
   "outputs": [],
   "source": [
    "lst1 = [23, 15, 2, 14, 14, 16, 20 ,52]\n",
    "lst2 = [2, 48, 15, 12, 26, 32, 47, 54]\n",
    "lst3 = [4, 78, 5, 6, 9, 25, 64, 32, 59]"
   ]
  },
  {
   "cell_type": "code",
   "execution_count": 167,
   "metadata": {
    "scrolled": true
   },
   "outputs": [],
   "source": [
    "lst1.extend(lst2)"
   ]
  },
  {
   "cell_type": "code",
   "execution_count": 168,
   "metadata": {},
   "outputs": [
    {
     "data": {
      "text/plain": [
       "{2, 4, 5, 6, 9, 12, 14, 15, 16, 20, 23, 25, 26, 32, 47, 48, 52, 54, 59, 64, 78}"
      ]
     },
     "execution_count": 168,
     "metadata": {},
     "output_type": "execute_result"
    }
   ],
   "source": [
    "lst1.extend(lst3)\n",
    "set(lst1)"
   ]
  },
  {
   "cell_type": "markdown",
   "metadata": {},
   "source": [
    "__OR:__\n",
    " - This can be done efficiently by using both the set() and <font color='red'>union()</font> function.\n",
    " - This also takes care of the repetition and prevents them."
   ]
  },
  {
   "cell_type": "code",
   "execution_count": 172,
   "metadata": {},
   "outputs": [
    {
     "data": {
      "text/plain": [
       "[2, 4, 5, 6, 9, 12, 14, 15, 16, 20, 23, 25, 26, 32, 47, 48, 52, 54, 59, 64, 78]"
      ]
     },
     "execution_count": 172,
     "metadata": {},
     "output_type": "execute_result"
    }
   ],
   "source": [
    "set_res = set().union(lst1, lst2, lst3)\n",
    "list(set_res)"
   ]
  },
  {
   "cell_type": "markdown",
   "metadata": {},
   "source": [
    "#### Intersection of two lists:\n",
    "Input :   \n",
    "lst1 = [15, 9, 10, 56, 23, 78, 5, 4, 9]  \n",
    "lst2 = [9, 4, 5, 36, 47, 26, 10, 45, 87]  \n",
    "Output :  \n",
    "[9, 10, 4, 5]  \n",
    "\n",
    "Input :  \n",
    "lst1 = [4, 9, 1, 17, 11, 26, 28, 54, 69]  \n",
    "lst2 = [9, 9, 74, 21, 45, 11, 63, 28, 26]  \n",
    "Output :  \n",
    "[9, 11, 26, 28]  "
   ]
  },
  {
   "cell_type": "markdown",
   "metadata": {},
   "source": [
    "<font color = 'red'>Use & get intersection.</font>"
   ]
  },
  {
   "cell_type": "code",
   "execution_count": 207,
   "metadata": {},
   "outputs": [],
   "source": [
    "lst1 = [4, 9, 1, 17, 11, 26, 28, 54, 69] \n",
    "lst2 = [9, 9, 74, 21, 45, 11, 63, 28, 26] "
   ]
  },
  {
   "cell_type": "code",
   "execution_count": 201,
   "metadata": {
    "scrolled": true
   },
   "outputs": [
    {
     "data": {
      "text/plain": [
       "[9, 26, 11, 28]"
      ]
     },
     "execution_count": 201,
     "metadata": {},
     "output_type": "execute_result"
    }
   ],
   "source": [
    "list(set(lst1)&set(lst2)) #!!!!!!!!!!!!!!! Use &"
   ]
  },
  {
   "cell_type": "markdown",
   "metadata": {},
   "source": [
    "__OR:__"
   ]
  },
  {
   "cell_type": "code",
   "execution_count": 203,
   "metadata": {},
   "outputs": [],
   "source": [
    "list_res = [val for val in lst1 if val in lst2]"
   ]
  },
  {
   "cell_type": "code",
   "execution_count": 204,
   "metadata": {},
   "outputs": [
    {
     "data": {
      "text/plain": [
       "[9, 11, 26, 28]"
      ]
     },
     "execution_count": 204,
     "metadata": {},
     "output_type": "execute_result"
    }
   ],
   "source": [
    "list_res"
   ]
  },
  {
   "cell_type": "markdown",
   "metadata": {},
   "source": [
    "__OR:__  \n",
    "<font color='red'>built-in function called interscetion() to compute the intersected list.</font> For set()"
   ]
  },
  {
   "cell_type": "code",
   "execution_count": 208,
   "metadata": {},
   "outputs": [
    {
     "data": {
      "text/plain": [
       "[9, 26, 11, 28]"
      ]
     },
     "execution_count": 208,
     "metadata": {},
     "output_type": "execute_result"
    }
   ],
   "source": [
    "list(set(lst1).intersection(lst2))"
   ]
  },
  {
   "cell_type": "markdown",
   "metadata": {},
   "source": [
    "#### Generate random numbers within a given range and store in a list:\n",
    "Input : num = 10, start = 20, end = 40  \n",
    "Output : [23, 20, 30, 33, 30, 36, 37, 27, 28, 38]  \n",
    "The output contains 10 random numbers in range [20, 40].  \n",
    "\n",
    "Input : num = 5, start = 10, end = 15  \n",
    "Output : [15, 11, 15, 12, 11]  \n",
    "The output contains 5 random numbers inrange [10, 15]."
   ]
  },
  {
   "cell_type": "code",
   "execution_count": 212,
   "metadata": {},
   "outputs": [],
   "source": [
    "num = 10\n",
    "start = 20\n",
    "end = 40\n",
    "list_res = []"
   ]
  },
  {
   "cell_type": "markdown",
   "metadata": {},
   "source": [
    "<font color= 'red'>Use random.randint(start, end)</font>"
   ]
  },
  {
   "cell_type": "code",
   "execution_count": 215,
   "metadata": {},
   "outputs": [],
   "source": [
    "import random "
   ]
  },
  {
   "cell_type": "code",
   "execution_count": 220,
   "metadata": {},
   "outputs": [
    {
     "data": {
      "text/plain": [
       "[33, 36, 38, 26, 29, 27, 28, 29, 25, 28]"
      ]
     },
     "execution_count": 220,
     "metadata": {},
     "output_type": "execute_result"
    }
   ],
   "source": [
    "for i in range(10):\n",
    "    list_res.append(random.randint(20,40))\n",
    "    \n",
    "list_res"
   ]
  },
  {
   "cell_type": "markdown",
   "metadata": {},
   "source": [
    "#### Move all zeroes to end of array using List Comprehension in Python\n",
    "Input :  arr = [1, 2, 0, 4, 3, 0, 5, 0]  \n",
    "Output : arr = [1, 2, 4, 3, 5, 0, 0, 0]  \n",
    "\n",
    "Input : arr  = [1, 2, 0, 0, 0, 3, 6]  \n",
    "Output : arr = [1, 2, 3, 6, 0, 0, 0]"
   ]
  },
  {
   "cell_type": "code",
   "execution_count": 230,
   "metadata": {},
   "outputs": [],
   "source": [
    "arr =  [1, 2, 0, 0, 0, 3, 6]\n",
    "list_res=[]"
   ]
  },
  {
   "cell_type": "code",
   "execution_count": 231,
   "metadata": {},
   "outputs": [
    {
     "data": {
      "text/plain": [
       "[1, 2, 3, 6]"
      ]
     },
     "execution_count": 231,
     "metadata": {},
     "output_type": "execute_result"
    }
   ],
   "source": [
    "list_res = list(filter(lambda a: a>0, arr))\n",
    "list_res"
   ]
  },
  {
   "cell_type": "code",
   "execution_count": 232,
   "metadata": {},
   "outputs": [
    {
     "name": "stdout",
     "output_type": "stream",
     "text": [
      "3\n"
     ]
    },
    {
     "data": {
      "text/plain": [
       "[1, 2, 3, 6, 0, 0, 0]"
      ]
     },
     "execution_count": 232,
     "metadata": {},
     "output_type": "execute_result"
    }
   ],
   "source": [
    "zero_num = len(arr)-len(list_res)\n",
    "print(zero_num)\n",
    "\n",
    "for count_zero in range(zero_num):\n",
    "    list_res.append(0)\n",
    "\n",
    "list_res"
   ]
  },
  {
   "cell_type": "markdown",
   "metadata": {},
   "source": [
    "__OR:__  \n",
    "<font color='red'> '+' to merge 2 lists</font>  \n",
    "<font color='red'> [], for </font>"
   ]
  },
  {
   "cell_type": "code",
   "execution_count": 233,
   "metadata": {},
   "outputs": [
    {
     "data": {
      "text/plain": [
       "[1, 2, 3, 6, 0, 0, 0]"
      ]
     },
     "execution_count": 233,
     "metadata": {},
     "output_type": "execute_result"
    }
   ],
   "source": [
    "list_res = [non_zero for non_zero in arr if non_zero!=0] + [zero for zero in arr if zero==0]#!!!!!!!!!!!!!!!!!!!\n",
    "list_res"
   ]
  },
  {
   "cell_type": "markdown",
   "metadata": {},
   "source": [
    "#### Sort a list according to the second element in sublist:\n",
    "Input : [['rishav', 10], ['akash', 5], ['ram', 20], ['gaurav', 15]]  \n",
    "Output : [['akash', 5], ['rishav', 10], ['gaurav', 15], ['ram', 20]]  \n",
    "\n",
    "Input : [['452', 10], ['256', 5], ['100', 20], ['135', 15]]  \n",
    "Output : [['256', 5], ['452', 10], ['135', 15], ['100', 20]]"
   ]
  },
  {
   "cell_type": "markdown",
   "metadata": {},
   "source": [
    "<font color = 'red'> dictionary: sort by value or key:  \n",
    "- By value: sorted(in_dict.items(), key = lambda item: item[0]) __OR:__ sorted(mydict.keys())\n",
    "- By value: sorted(in_dict.items(), key = lambda item: item[1])\n",
    "</font>"
   ]
  },
  {
   "cell_type": "code",
   "execution_count": 74,
   "metadata": {},
   "outputs": [],
   "source": [
    "in_list =  [['452', 10], ['256', 5], ['100', 20], ['135', 15]]\n",
    "out_list = []"
   ]
  },
  {
   "cell_type": "code",
   "execution_count": 75,
   "metadata": {},
   "outputs": [
    {
     "data": {
      "text/plain": [
       "{'452': 10, '256': 5, '100': 20, '135': 15}"
      ]
     },
     "execution_count": 75,
     "metadata": {},
     "output_type": "execute_result"
    }
   ],
   "source": [
    "in_dict = dict(in_list)\n",
    "in_dict"
   ]
  },
  {
   "cell_type": "code",
   "execution_count": 76,
   "metadata": {},
   "outputs": [
    {
     "data": {
      "text/plain": [
       "[('256', 5), ('452', 10), ('135', 15), ('100', 20)]"
      ]
     },
     "execution_count": 76,
     "metadata": {},
     "output_type": "execute_result"
    }
   ],
   "source": [
    "sorted_list = list(sorted(in_dict.items(), key = lambda item: item[1]))\n",
    "sorted_list"
   ]
  },
  {
   "cell_type": "code",
   "execution_count": 77,
   "metadata": {},
   "outputs": [],
   "source": [
    "for ele in sorted_list:\n",
    "    ele = list(ele)\n",
    "    out_list.append(ele)"
   ]
  },
  {
   "cell_type": "code",
   "execution_count": 78,
   "metadata": {
    "scrolled": true
   },
   "outputs": [
    {
     "data": {
      "text/plain": [
       "[['256', 5], ['452', 10], ['135', 15], ['100', 20]]"
      ]
     },
     "execution_count": 78,
     "metadata": {},
     "output_type": "execute_result"
    }
   ],
   "source": [
    "out_list"
   ]
  },
  {
   "cell_type": "markdown",
   "metadata": {},
   "source": [
    "__OR:__  \n",
    "<font color = 'red'>list.sort(key=lambda x: x[1])</font>"
   ]
  },
  {
   "cell_type": "code",
   "execution_count": 79,
   "metadata": {},
   "outputs": [
    {
     "data": {
      "text/plain": [
       "[['256', 5], ['452', 10], ['135', 15], ['100', 20]]"
      ]
     },
     "execution_count": 79,
     "metadata": {},
     "output_type": "execute_result"
    }
   ],
   "source": [
    "in_list.sort(key = lambda x: x[1]) \n",
    "in_list"
   ]
  },
  {
   "cell_type": "markdown",
   "metadata": {},
   "source": [
    "__OR:__  \n",
    "<font color = 'red'>sorted(list, key = lambda x:x[1]) </font>"
   ]
  },
  {
   "cell_type": "code",
   "execution_count": 80,
   "metadata": {},
   "outputs": [
    {
     "data": {
      "text/plain": [
       "[['256', 5], ['452', 10], ['135', 15], ['100', 20]]"
      ]
     },
     "execution_count": 80,
     "metadata": {},
     "output_type": "execute_result"
    }
   ],
   "source": [
    "sorted(in_list, key = lambda x:x[1])"
   ]
  },
  {
   "cell_type": "markdown",
   "metadata": {},
   "source": [
    "__NOTE:__  \n",
    "<font color='red'>Remove(), del(), pop()</font>"
   ]
  },
  {
   "cell_type": "markdown",
   "metadata": {},
   "source": [
    "<img src='Image/4.png'>"
   ]
  },
  {
   "cell_type": "code",
   "execution_count": null,
   "metadata": {},
   "outputs": [],
   "source": [
    "#### Convert an array to an ordinary list with the same items:\n"
   ]
  },
  {
   "cell_type": "markdown",
   "metadata": {},
   "source": [
    "__NOTE:__\n",
    "- <font color = 'red'>Array VS. List: </font> \n",
    "    - <font color = 'red'>Similarity: </font>  \n",
    "        - Both are used for storing data  \n",
    "        - Both are mutable  \n",
    "        - Both can be indexed and iterated through  \n",
    "        - Both can be sliced  \n",
    "   \n",
    "    - <font color = 'red'>The main difference between: the functions that you can perform to them.  \n",
    "        - Arrays are specially optimised for arithmetic computations. </font>\n",
    "        - E.g.:  \n",
    "        you can divide an array by 3, and each number in the array will be divided by 3 and the result will be printed if you request it.   \n",
    "        If you try to divide a list by 3, Python will tell you that it can't be done, and an error will be thrown."
   ]
  },
  {
   "cell_type": "code",
   "execution_count": 96,
   "metadata": {
    "scrolled": false
   },
   "outputs": [
    {
     "ename": "TypeError",
     "evalue": "unsupported operand type(s) for /: 'list' and 'float'",
     "output_type": "error",
     "traceback": [
      "\u001b[1;31m---------------------------------------------------------------------------\u001b[0m",
      "\u001b[1;31mTypeError\u001b[0m                                 Traceback (most recent call last)",
      "\u001b[1;32m<ipython-input-96-54aec7895a9e>\u001b[0m in \u001b[0;36m<module>\u001b[1;34m\u001b[0m\n\u001b[0;32m      1\u001b[0m \u001b[0mlis\u001b[0m \u001b[1;33m=\u001b[0m \u001b[1;33m[\u001b[0m\u001b[1;36m0\u001b[0m\u001b[1;33m,\u001b[0m\u001b[1;36m3\u001b[0m\u001b[1;33m,\u001b[0m\u001b[1;36m4\u001b[0m\u001b[1;33m,\u001b[0m\u001b[1;36m5\u001b[0m\u001b[1;33m]\u001b[0m\u001b[1;33m\u001b[0m\u001b[0m\n\u001b[1;32m----> 2\u001b[1;33m \u001b[0mlis\u001b[0m\u001b[1;33m/\u001b[0m\u001b[1;36m3.0\u001b[0m\u001b[1;33m\u001b[0m\u001b[0m\n\u001b[0m",
      "\u001b[1;31mTypeError\u001b[0m: unsupported operand type(s) for /: 'list' and 'float'"
     ]
    }
   ],
   "source": [
    "lis = [0,3,4,5] # List: could NOT be operated by arithmetic computations for every element.\n",
    "lis/3.0"
   ]
  },
  {
   "cell_type": "code",
   "execution_count": 97,
   "metadata": {},
   "outputs": [],
   "source": [
    "from numpy import array #!!!!!!!!!!!!!!!!!!!!!"
   ]
  },
  {
   "cell_type": "code",
   "execution_count": 98,
   "metadata": {},
   "outputs": [
    {
     "name": "stdout",
     "output_type": "stream",
     "text": [
      "[ 3  6  9 12]\n"
     ]
    }
   ],
   "source": [
    "x = array([3, 6, 9, 12]) # Array: could be operated by arithmetic computations for every element.\n",
    "x/3.0\n",
    "print(x)"
   ]
  },
  {
   "cell_type": "markdown",
   "metadata": {},
   "source": [
    "#### Convert an array to an ordinary list with the same items：\n",
    "Input : array('i', [1, 3, 5, 3, 7, 1, 9, 3])  \n",
    "Output :[1, 3, 5, 3, 7, 1, 9, 3]  \n",
    "Explanation: the array with elements [1, 3, 5, 3, 7, 1, 9, 3] are converted into list with the same elements.  \n",
    "\n",
    "Input :array('k', [45, 23, 56, 12])  \n",
    "Output :[45, 23, 56, 12]  \n",
    "Explanation: the array with elements [45, 23, 56, 12] are converted into list with the same elements."
   ]
  },
  {
   "cell_type": "code",
   "execution_count": 106,
   "metadata": {},
   "outputs": [],
   "source": [
    "#from numpy import array\n",
    "from array import *"
   ]
  },
  {
   "cell_type": "code",
   "execution_count": 108,
   "metadata": {},
   "outputs": [
    {
     "name": "stdout",
     "output_type": "stream",
     "text": [
      "<class 'array.array'>\n"
     ]
    }
   ],
   "source": [
    "arr_in = array('i', [45,34,67])\n",
    "print(type(arr_in))"
   ]
  },
  {
   "cell_type": "code",
   "execution_count": 110,
   "metadata": {},
   "outputs": [
    {
     "data": {
      "text/plain": [
       "[45, 34, 67]"
      ]
     },
     "execution_count": 110,
     "metadata": {},
     "output_type": "execute_result"
    }
   ],
   "source": [
    "list_out = list(arr_in)\n",
    "list_out"
   ]
  },
  {
   "cell_type": "code",
   "execution_count": 111,
   "metadata": {},
   "outputs": [
    {
     "data": {
      "text/plain": [
       "list"
      ]
     },
     "execution_count": 111,
     "metadata": {},
     "output_type": "execute_result"
    }
   ],
   "source": [
    "type(list_out)"
   ]
  },
  {
   "cell_type": "code",
   "execution_count": 112,
   "metadata": {},
   "outputs": [
    {
     "data": {
      "text/plain": [
       "[45, 34, 67]"
      ]
     },
     "execution_count": 112,
     "metadata": {},
     "output_type": "execute_result"
    }
   ],
   "source": [
    "__OR:__\n",
    "list_out = arr_in.tolist()\n",
    "list_out"
   ]
  },
  {
   "cell_type": "code",
   "execution_count": 113,
   "metadata": {},
   "outputs": [
    {
     "data": {
      "text/plain": [
       "list"
      ]
     },
     "execution_count": 113,
     "metadata": {},
     "output_type": "execute_result"
    }
   ],
   "source": [
    "type(list_out)"
   ]
  },
  {
   "cell_type": "markdown",
   "metadata": {},
   "source": [
    "#### Find Cumulative sum of a list:\n",
    "The problem statement asks to produce a new list whose  i(th) element will be equal to the sum of the  (i+1)th  elements.  \n",
    "Input : list = [10, 20, 30, 40, 50]  \n",
    "Output : [10, 30, 60, 100, 150]  \n",
    "\n",
    "Input : list = [4, 10, 15, 18, 20]  \n",
    "Output : [4, 14, 29, 47, 67]"
   ]
  },
  {
   "cell_type": "code",
   "execution_count": 136,
   "metadata": {},
   "outputs": [],
   "source": [
    "li_in = [10, 20, 30, 40, 50]\n",
    "li_temp = []\n",
    "li_res = []"
   ]
  },
  {
   "cell_type": "code",
   "execution_count": 131,
   "metadata": {},
   "outputs": [],
   "source": [
    "from functools import reduce"
   ]
  },
  {
   "cell_type": "code",
   "execution_count": 132,
   "metadata": {},
   "outputs": [
    {
     "name": "stdout",
     "output_type": "stream",
     "text": [
      "10\n",
      "[10]\n",
      "30\n",
      "[10, 30]\n",
      "60\n",
      "[10, 30, 60]\n",
      "100\n",
      "[10, 30, 60, 100]\n",
      "150\n",
      "[10, 30, 60, 100, 150]\n"
     ]
    }
   ],
   "source": [
    "for ele in li_in:\n",
    "    li_temp.append(ele)\n",
    "    ele_sum = reduce((lambda x, y: x+y), li_temp)\n",
    "    li_res.append(ele_sum)"
   ]
  },
  {
   "cell_type": "code",
   "execution_count": 133,
   "metadata": {},
   "outputs": [
    {
     "data": {
      "text/plain": [
       "[10, 30, 60, 100, 150]"
      ]
     },
     "execution_count": 133,
     "metadata": {},
     "output_type": "execute_result"
    }
   ],
   "source": [
    "li_res"
   ]
  },
  {
   "cell_type": "markdown",
   "metadata": {},
   "source": [
    "__OR:__"
   ]
  },
  {
   "cell_type": "code",
   "execution_count": 151,
   "metadata": {},
   "outputs": [],
   "source": [
    "li_in =[4, 10, 15, 18, 20]\n",
    "li_res = []\n",
    "sum = 0"
   ]
  },
  {
   "cell_type": "code",
   "execution_count": 152,
   "metadata": {
    "scrolled": true
   },
   "outputs": [],
   "source": [
    "for ele in li_in:\n",
    "    sum+=ele\n",
    "    li_res.append(sum)"
   ]
  },
  {
   "cell_type": "code",
   "execution_count": 153,
   "metadata": {},
   "outputs": [
    {
     "data": {
      "text/plain": [
       "[4, 14, 29, 47, 67]"
      ]
     },
     "execution_count": 153,
     "metadata": {},
     "output_type": "execute_result"
    }
   ],
   "source": [
    "li_res"
   ]
  },
  {
   "cell_type": "markdown",
   "metadata": {},
   "source": [
    "#### Find missing and additional values in two lists:\n",
    "Input :  \n",
    "list1 = [1, 2, 3, 4, 5, 6]  \n",
    "list2 = [4, 5, 6, 7, 8]  \n",
    "\n",
    "Output :   \n",
    "Missing values in list1 = [8, 7]  \n",
    "         Additional values in list1 = [1, 2, 3]  \n",
    "         Missing values in list2 = [1, 2, 3]  \n",
    "         Additional values in list2 = [7, 8] "
   ]
  },
  {
   "cell_type": "code",
   "execution_count": 154,
   "metadata": {},
   "outputs": [],
   "source": [
    "list1 = [1, 2, 3, 4, 5, 6]\n",
    "list2 = [4, 5, 6, 7, 8]"
   ]
  },
  {
   "cell_type": "code",
   "execution_count": 160,
   "metadata": {},
   "outputs": [
    {
     "data": {
      "text/plain": [
       "{1, 2, 3, 4, 5, 6, 7, 8}"
      ]
     },
     "execution_count": 160,
     "metadata": {},
     "output_type": "execute_result"
    }
   ],
   "source": [
    "set_union = set(list1).union(set(list2))\n",
    "set_union"
   ]
  },
  {
   "cell_type": "code",
   "execution_count": 162,
   "metadata": {},
   "outputs": [
    {
     "data": {
      "text/plain": [
       "{7, 8}"
      ]
     },
     "execution_count": 162,
     "metadata": {},
     "output_type": "execute_result"
    }
   ],
   "source": [
    "missed_list1 = set_union - set(list1)\n",
    "missed_list1"
   ]
  },
  {
   "cell_type": "code",
   "execution_count": 163,
   "metadata": {},
   "outputs": [
    {
     "data": {
      "text/plain": [
       "{4, 5, 6}"
      ]
     },
     "execution_count": 163,
     "metadata": {},
     "output_type": "execute_result"
    }
   ],
   "source": [
    "set_intersection = set(list1) & set(list2)\n",
    "set_intersection"
   ]
  },
  {
   "cell_type": "code",
   "execution_count": 164,
   "metadata": {},
   "outputs": [
    {
     "data": {
      "text/plain": [
       "{1, 2, 3}"
      ]
     },
     "execution_count": 164,
     "metadata": {},
     "output_type": "execute_result"
    }
   ],
   "source": [
    "set_additional = set(list1) - set_intersection\n",
    "set_additional"
   ]
  },
  {
   "cell_type": "markdown",
   "metadata": {},
   "source": [
    "__OR:__  \n",
    "<font color = 'red'>set(list1).difference(list2)</font>"
   ]
  },
  {
   "cell_type": "code",
   "execution_count": 165,
   "metadata": {},
   "outputs": [
    {
     "data": {
      "text/plain": [
       "{1, 2, 3}"
      ]
     },
     "execution_count": 165,
     "metadata": {},
     "output_type": "execute_result"
    }
   ],
   "source": [
    "set(list1).difference(list2) # list1 has, but list2 NO."
   ]
  },
  {
   "cell_type": "code",
   "execution_count": 166,
   "metadata": {},
   "outputs": [
    {
     "data": {
      "text/plain": [
       "{7, 8}"
      ]
     },
     "execution_count": 166,
     "metadata": {},
     "output_type": "execute_result"
    }
   ],
   "source": [
    "set(list2).difference(list1) # list2 has, but list1 NO."
   ]
  },
  {
   "cell_type": "markdown",
   "metadata": {},
   "source": [
    "#### Right rotate a list by n:\n",
    "Input :   \n",
    "n = 2   \n",
    "         List_1 = [1, 2, 3, 4, 5, 6]  \n",
    "Output :   \n",
    "List_1 = [5, 6, 1, 2, 3, 4]  \n",
    "We get output list after right rotating (clockwise) given list by 2.  \n",
    "\n",
    "Input :   \n",
    "n = 3  \n",
    "         List_1 = [3, 0, 1, 4, 2, 3]  \n",
    "Output :   \n",
    "List_1 = [4, 2, 3, 3, 0, 1]"
   ]
  },
  {
   "cell_type": "code",
   "execution_count": 195,
   "metadata": {},
   "outputs": [],
   "source": [
    "n = 2\n",
    "li1 = [1, 2, 3, 4, 5, 6]\n",
    "li_res = []"
   ]
  },
  {
   "cell_type": "code",
   "execution_count": 199,
   "metadata": {},
   "outputs": [
    {
     "data": {
      "text/plain": [
       "[5, 6]"
      ]
     },
     "execution_count": 199,
     "metadata": {},
     "output_type": "execute_result"
    }
   ],
   "source": [
    "for ele in li1[len(li1)-n:]:\n",
    "    li_res.append(ele)\n",
    "\n",
    "list(li_res)"
   ]
  },
  {
   "cell_type": "code",
   "execution_count": 200,
   "metadata": {},
   "outputs": [
    {
     "data": {
      "text/plain": [
       "[5, 6, 1, 2, 3, 4]"
      ]
     },
     "execution_count": 200,
     "metadata": {},
     "output_type": "execute_result"
    }
   ],
   "source": [
    "for ele in li1[:len(li1)-n]:\n",
    "    li_res.append(ele)\n",
    "li_res"
   ]
  },
  {
   "cell_type": "markdown",
   "metadata": {},
   "source": [
    "__OR:__"
   ]
  },
  {
   "cell_type": "code",
   "execution_count": 206,
   "metadata": {},
   "outputs": [],
   "source": [
    "li1 = [1, 2, 3, 4, 5, 6]"
   ]
  },
  {
   "cell_type": "code",
   "execution_count": 207,
   "metadata": {},
   "outputs": [
    {
     "name": "stdout",
     "output_type": "stream",
     "text": [
      "[5, 6, 1, 2, 3, 4]\n"
     ]
    }
   ],
   "source": [
    "list_1 = (list_1[len(li1) - n : len(li1)] + list_1[0 : len(li1) - n]) \n",
    "print(list_1) "
   ]
  },
  {
   "cell_type": "markdown",
   "metadata": {},
   "source": [
    "__OR:__"
   ]
  },
  {
   "cell_type": "code",
   "execution_count": 209,
   "metadata": {},
   "outputs": [],
   "source": [
    "li1 = [1, 2, 3, 4, 5, 6]"
   ]
  },
  {
   "cell_type": "code",
   "execution_count": 211,
   "metadata": {},
   "outputs": [
    {
     "data": {
      "text/plain": [
       "[5, 6, 1, 2, 3, 4]"
      ]
     },
     "execution_count": 211,
     "metadata": {},
     "output_type": "execute_result"
    }
   ],
   "source": [
    "list_res = li1[-n:] + li1[:-n]\n",
    "list_res"
   ]
  },
  {
   "cell_type": "markdown",
   "metadata": {},
   "source": [
    "#### All palindrome numbers in a list:  \n",
    "Input: 10 121 133 155 141 252  \n",
    "Output: 121 141 252  \n",
    "Total palindrome nos. are 3  \n",
    "\n",
    "Input: 111 220 784 565 498 787 363  \n",
    "Output: 111 565 787 363  \n",
    "Total palindrome nos. are 4  "
   ]
  },
  {
   "cell_type": "code",
   "execution_count": 236,
   "metadata": {},
   "outputs": [],
   "source": [
    "li_input = [10,121,133,155,141,252]"
   ]
  },
  {
   "cell_type": "code",
   "execution_count": 237,
   "metadata": {},
   "outputs": [
    {
     "data": {
      "text/plain": [
       "[1, 0, 2, 3]"
      ]
     },
     "execution_count": 237,
     "metadata": {},
     "output_type": "execute_result"
    }
   ],
   "source": [
    "[int(dig) for dig in str(1023)]"
   ]
  },
  {
   "cell_type": "code",
   "execution_count": 238,
   "metadata": {
    "scrolled": true
   },
   "outputs": [
    {
     "data": {
      "text/plain": [
       "[121, 141, 252]"
      ]
     },
     "execution_count": 238,
     "metadata": {},
     "output_type": "execute_result"
    }
   ],
   "source": [
    "list(filter(lambda x: [int(dig) for dig in str(x)] == [int(dig) for dig in str(x)][::-1], li_input))"
   ]
  },
  {
   "cell_type": "markdown",
   "metadata": {},
   "source": [
    "__NOTE:__\n",
    "<font color = 'red'>\n",
    "- filter():  \n",
    "    filter(lambda x: CONDITION_FOR_REMAINING, list)\n",
    "    \n",
    "- int to char list:  \n",
    "    [int(x) for x in str(num)]\n",
    "</font>  "
   ]
  },
  {
   "cell_type": "markdown",
   "metadata": {},
   "source": [
    "#### Split the Even and Odd elements into two different lists:\n",
    "Input :  \n",
    "    [8, 12, 15, 9, 3, 11, 26, 23]  \n",
    "Output :   \n",
    "    Even lists: [8, 12, 26]  \n",
    "         Odd lists: [15, 9, 3, 11, 23]  \n",
    "\n",
    "\n",
    "Input :   \n",
    "    [2, 5, 13, 17, 51, 62, 73, 84, 95]  \n",
    "Output :   \n",
    "    Even lists: [2, 62, 84]  \n",
    "    Odd lists: [5, 13, 17, 51, 73, 95]"
   ]
  },
  {
   "cell_type": "code",
   "execution_count": 252,
   "metadata": {},
   "outputs": [],
   "source": [
    "li_in = [2, 5, 13, 17, 51, 62, 73, 84, 95]"
   ]
  },
  {
   "cell_type": "code",
   "execution_count": 253,
   "metadata": {},
   "outputs": [
    {
     "data": {
      "text/plain": [
       "[5, 13, 17, 51, 73, 95]"
      ]
     },
     "execution_count": 253,
     "metadata": {},
     "output_type": "execute_result"
    }
   ],
   "source": [
    "li_odd = [ele for ele in li_in if ele%2!=0]\n",
    "li_odd"
   ]
  },
  {
   "cell_type": "code",
   "execution_count": 254,
   "metadata": {},
   "outputs": [
    {
     "data": {
      "text/plain": [
       "[2, 62, 84]"
      ]
     },
     "execution_count": 254,
     "metadata": {},
     "output_type": "execute_result"
    }
   ],
   "source": [
    "li_even = [ele for ele in li_in if ele%2 == 0]\n",
    "li_even"
   ]
  },
  {
   "cell_type": "markdown",
   "metadata": {},
   "source": [
    "#### Print duplicates from a list of integers:\n",
    "Input :   \n",
    "    list = [10, 20, 30, 20, 20, 30, 40, 50, -20, 60, 60, -20, -20]  \n",
    "Output :   \n",
    "    output_list = [20, 30, -20, 60]  \n",
    "\n",
    "\n",
    "Input :    \n",
    "    list = [-1, 1, -1, 8]  \n",
    "Output :   \n",
    "    output_list = [-1]"
   ]
  },
  {
   "cell_type": "code",
   "execution_count": 262,
   "metadata": {},
   "outputs": [],
   "source": [
    "lst = [10, 20, 30, 20, 20, 30, 40, 50, -20, 60, 60, -20, -20]"
   ]
  },
  {
   "cell_type": "code",
   "execution_count": 263,
   "metadata": {},
   "outputs": [
    {
     "data": {
      "text/plain": [
       "{-20, 20, 30, 60}"
      ]
     },
     "execution_count": 263,
     "metadata": {},
     "output_type": "execute_result"
    }
   ],
   "source": [
    "set(list(filter(lambda x: lst.count(x)>1, lst)))"
   ]
  },
  {
   "cell_type": "markdown",
   "metadata": {},
   "source": [
    "#### Find all close matches of input string from a list:\n",
    "Input :   \n",
    "    patterns = ['ape', 'apple', 'peach', 'puppy'], input = 'appel'  \n",
    "Output :   \n",
    "    ['apple', 'ape']"
   ]
  },
  {
   "cell_type": "markdown",
   "metadata": {},
   "source": [
    "<font color = 'red'>Use difflib.get_close_matches</font>"
   ]
  },
  {
   "cell_type": "code",
   "execution_count": 264,
   "metadata": {},
   "outputs": [],
   "source": [
    "from difflib import get_close_matches"
   ]
  },
  {
   "cell_type": "code",
   "execution_count": 273,
   "metadata": {},
   "outputs": [],
   "source": [
    "patterns = ['ape', 'apple', 'peach', 'puppy'] \n",
    "input_word = 'app'"
   ]
  },
  {
   "cell_type": "code",
   "execution_count": 274,
   "metadata": {},
   "outputs": [
    {
     "data": {
      "text/plain": [
       "['apple', 'ape']"
      ]
     },
     "execution_count": 274,
     "metadata": {},
     "output_type": "execute_result"
    }
   ],
   "source": [
    "get_close_matches(input_word, patterns)"
   ]
  },
  {
   "cell_type": "markdown",
   "metadata": {},
   "source": [
    "#### Remove empty tuples from a list:\n",
    "Input :   \n",
    "    tuples = [(), ('ram','15','8'), (), ('laxman', 'sita'), ('krishna', 'akbar', '45'), ('',''),()]    \n",
    "Output :   \n",
    "    [('ram', '15', '8'), ('laxman', 'sita'), ('krishna', 'akbar', '45'), ('', '')]  \n",
    "\n",
    "Input :   \n",
    "    tuples = [('','','8'), (), ('0', '00', '000'), ('birbal', '', '45'), (''), (),  ('',''),()]    \n",
    "Output :   \n",
    "    [('', '', '8'), ('0', '00', '000'), ('birbal', '', '45'), ('', '')]"
   ]
  },
  {
   "cell_type": "code",
   "execution_count": 280,
   "metadata": {},
   "outputs": [],
   "source": [
    "tuples = [('','','8'), (), ('0', '00', '000'), ('birbal', '', '45'), (''), (), ('',''),()]"
   ]
  },
  {
   "cell_type": "code",
   "execution_count": 284,
   "metadata": {},
   "outputs": [
    {
     "data": {
      "text/plain": [
       "[('', '', '8'), ('0', '00', '000'), ('birbal', '', '45'), ('', '')]"
      ]
     },
     "execution_count": 284,
     "metadata": {},
     "output_type": "execute_result"
    }
   ],
   "source": [
    "list(filter(lambda x: len(x) != 0, tuples))"
   ]
  },
  {
   "cell_type": "markdown",
   "metadata": {},
   "source": [
    "__OR:__  \n",
    "<font color = 'red'>filter(None, tuples)</font>"
   ]
  },
  {
   "cell_type": "code",
   "execution_count": 285,
   "metadata": {},
   "outputs": [
    {
     "data": {
      "text/plain": [
       "[('', '', '8'), ('0', '00', '000'), ('birbal', '', '45'), ('', '')]"
      ]
     },
     "execution_count": 285,
     "metadata": {},
     "output_type": "execute_result"
    }
   ],
   "source": [
    "list(filter(None, tuples))"
   ]
  },
  {
   "cell_type": "markdown",
   "metadata": {},
   "source": [
    "__OR:__  \n",
    "<font color = 'red'>List comprehension</font>"
   ]
  },
  {
   "cell_type": "code",
   "execution_count": 286,
   "metadata": {},
   "outputs": [
    {
     "data": {
      "text/plain": [
       "[('', '', '8'), ('0', '00', '000'), ('birbal', '', '45'), ('', '')]"
      ]
     },
     "execution_count": 286,
     "metadata": {},
     "output_type": "execute_result"
    }
   ],
   "source": [
    "[ele for ele in tuples if ele]"
   ]
  },
  {
   "cell_type": "code",
   "execution_count": null,
   "metadata": {},
   "outputs": [],
   "source": []
  }
 ],
 "metadata": {
  "kernelspec": {
   "display_name": "Python 3",
   "language": "python",
   "name": "python3"
  },
  "language_info": {
   "codemirror_mode": {
    "name": "ipython",
    "version": 3
   },
   "file_extension": ".py",
   "mimetype": "text/x-python",
   "name": "python",
   "nbconvert_exporter": "python",
   "pygments_lexer": "ipython3",
   "version": "3.7.0b3"
  }
 },
 "nbformat": 4,
 "nbformat_minor": 2
}
