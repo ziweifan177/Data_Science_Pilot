{
 "cells": [
  {
   "cell_type": "markdown",
   "metadata": {},
   "source": [
    "## Tuples:"
   ]
  },
  {
   "cell_type": "markdown",
   "metadata": {},
   "source": [
    "- Tuple VS. List:\n",
    "    - Tuples are :\n",
    "        - immutable, hashable, \n",
    "        - contain a sequence of heterogeneous elements(accessed via unpacking or indexing)\n",
    "        - contain any number of elements and of any datatype (like strings, integers, list, etc.).\n",
    "    - Lists are:\n",
    "        - mutable, un-hashable, \n",
    "        - contain homogeneous elements(accessed by iterating over the list)"
   ]
  },
  {
   "cell_type": "markdown",
   "metadata": {},
   "source": [
    "### Create a tuple and convert list to tuple:"
   ]
  },
  {
   "cell_type": "code",
   "execution_count": 1,
   "metadata": {
    "scrolled": true
   },
   "outputs": [
    {
     "name": "stdout",
     "output_type": "stream",
     "text": [
      "t1 ()\n"
     ]
    }
   ],
   "source": [
    "t1 = ()\n",
    "print('t1', t1)"
   ]
  },
  {
   "cell_type": "markdown",
   "metadata": {},
   "source": [
    "__OR:__  \n",
    "<font color='red'>Creating a Tuple with the use of built-in function </font>"
   ]
  },
  {
   "cell_type": "code",
   "execution_count": 13,
   "metadata": {},
   "outputs": [
    {
     "name": "stdout",
     "output_type": "stream",
     "text": [
      "('t', 'h', 'i', 's', ' ', 'i', 's', ' ', 'a', ' ', 't', 'u', 'p', 'l', 'e', '.')\n"
     ]
    }
   ],
   "source": [
    "t1 = tuple('this is a tuple.')\n",
    "print(t1)"
   ]
  },
  {
   "cell_type": "code",
   "execution_count": 15,
   "metadata": {},
   "outputs": [
    {
     "name": "stdout",
     "output_type": "stream",
     "text": [
      "('3', '8', '8', '4')\n"
     ]
    }
   ],
   "source": [
    "t1 = tuple('3884')\n",
    "print(t1)"
   ]
  },
  {
   "cell_type": "code",
   "execution_count": 2,
   "metadata": {},
   "outputs": [
    {
     "name": "stdout",
     "output_type": "stream",
     "text": [
      "('ele1', 'ele2')\n"
     ]
    }
   ],
   "source": [
    "t1 = ('ele1', 'ele2')\n",
    "print(t1)"
   ]
  },
  {
   "cell_type": "code",
   "execution_count": 6,
   "metadata": {},
   "outputs": [
    {
     "name": "stdout",
     "output_type": "stream",
     "text": [
      "('ele1', 'ele2', 'ele3')\n"
     ]
    }
   ],
   "source": [
    "l1 = ['ele1', 'ele2', 'ele3']\n",
    "print(tuple(l1))"
   ]
  },
  {
   "cell_type": "markdown",
   "metadata": {},
   "source": [
    "### Creating a Tuple with Mixed Datatypes "
   ]
  },
  {
   "cell_type": "code",
   "execution_count": 16,
   "metadata": {},
   "outputs": [
    {
     "data": {
      "text/plain": [
       "(5, 'tuple', 8.3, 'nice')"
      ]
     },
     "execution_count": 16,
     "metadata": {},
     "output_type": "execute_result"
    }
   ],
   "source": [
    "t3 = (5,'tuple', 8.3, 'nice')\n",
    "t3"
   ]
  },
  {
   "cell_type": "markdown",
   "metadata": {},
   "source": [
    "### Creating a Tuple with nested tuples "
   ]
  },
  {
   "cell_type": "code",
   "execution_count": 18,
   "metadata": {},
   "outputs": [
    {
     "data": {
      "text/plain": [
       "(('t1', 't1'), ('t2', 't2'))"
      ]
     },
     "execution_count": 18,
     "metadata": {},
     "output_type": "execute_result"
    }
   ],
   "source": [
    "t1 = ('t1', 't1')\n",
    "t2 = ('t2', 't2')\n",
    "t3 = (t1, t2)\n",
    "t3"
   ]
  },
  {
   "cell_type": "markdown",
   "metadata": {},
   "source": [
    "### Creating a Tuple with repetition: "
   ]
  },
  {
   "cell_type": "code",
   "execution_count": 19,
   "metadata": {},
   "outputs": [
    {
     "data": {
      "text/plain": [
       "(3, 4, 5, 3, 4, 5, 3, 4, 5, 3, 4, 5)"
      ]
     },
     "execution_count": 19,
     "metadata": {},
     "output_type": "execute_result"
    }
   ],
   "source": [
    "t4 = (3,4,5)\n",
    "t4*4"
   ]
  },
  {
   "cell_type": "code",
   "execution_count": 21,
   "metadata": {},
   "outputs": [
    {
     "data": {
      "text/plain": [
       "('t1', 't2', 't1', 't2', 't1', 't2')"
      ]
     },
     "execution_count": 21,
     "metadata": {},
     "output_type": "execute_result"
    }
   ],
   "source": [
    "t1 = ('t1', 't2')\n",
    "t1*3"
   ]
  },
  {
   "cell_type": "code",
   "execution_count": 22,
   "metadata": {},
   "outputs": [
    {
     "data": {
      "text/plain": [
       "('t1', 't1', 't1')"
      ]
     },
     "execution_count": 22,
     "metadata": {},
     "output_type": "execute_result"
    }
   ],
   "source": [
    "t1 = ('t1',)\n",
    "t1*3"
   ]
  },
  {
   "cell_type": "code",
   "execution_count": 23,
   "metadata": {},
   "outputs": [
    {
     "data": {
      "text/plain": [
       "'t1t1t1'"
      ]
     },
     "execution_count": 23,
     "metadata": {},
     "output_type": "execute_result"
    }
   ],
   "source": [
    "t1 = ('t1')\n",
    "t1 * 3"
   ]
  },
  {
   "cell_type": "markdown",
   "metadata": {},
   "source": [
    "### Creating a Tuple with the use of loop"
   ]
  },
  {
   "cell_type": "code",
   "execution_count": 9,
   "metadata": {},
   "outputs": [],
   "source": [
    "t2 = ('Geeks')\n",
    "N = 5"
   ]
  },
  {
   "cell_type": "code",
   "execution_count": 10,
   "metadata": {},
   "outputs": [
    {
     "name": "stdout",
     "output_type": "stream",
     "text": [
      "((((('Geeks',),),),),)\n"
     ]
    }
   ],
   "source": [
    "for i in range(int(N)):\n",
    "    t2 = (t2,)\n",
    "print(t2)"
   ]
  },
  {
   "cell_type": "markdown",
   "metadata": {},
   "source": [
    "### Concatenation of Tuples:\n",
    "<font color='red'> by the use of ‘+’ operator. </font>"
   ]
  },
  {
   "cell_type": "code",
   "execution_count": 25,
   "metadata": {},
   "outputs": [],
   "source": [
    "Tuple1 = (0, 1, 2, 3) \n",
    "Tuple2 = ('Geeks', 'For', 'Geeks')"
   ]
  },
  {
   "cell_type": "code",
   "execution_count": 26,
   "metadata": {},
   "outputs": [],
   "source": [
    "t = Tuple1 + Tuple2"
   ]
  },
  {
   "cell_type": "code",
   "execution_count": 27,
   "metadata": {},
   "outputs": [
    {
     "data": {
      "text/plain": [
       "(0, 1, 2, 3, 'Geeks', 'For', 'Geeks')"
      ]
     },
     "execution_count": 27,
     "metadata": {},
     "output_type": "execute_result"
    }
   ],
   "source": [
    "t"
   ]
  },
  {
   "cell_type": "markdown",
   "metadata": {},
   "source": [
    "### Slicing of Tuple:"
   ]
  },
  {
   "cell_type": "code",
   "execution_count": 28,
   "metadata": {},
   "outputs": [
    {
     "data": {
      "text/plain": [
       "('G', 'E', 'E', 'K', 'S', 'F', 'O', 'R', 'G', 'E', 'E', 'K', 'S')"
      ]
     },
     "execution_count": 28,
     "metadata": {},
     "output_type": "execute_result"
    }
   ],
   "source": [
    "t = tuple('GEEKSFORGEEKS')\n",
    "t"
   ]
  },
  {
   "cell_type": "code",
   "execution_count": 29,
   "metadata": {},
   "outputs": [
    {
     "data": {
      "text/plain": [
       "('E', 'E', 'K', 'S', 'F', 'O', 'R', 'G', 'E', 'E', 'K', 'S')"
      ]
     },
     "execution_count": 29,
     "metadata": {},
     "output_type": "execute_result"
    }
   ],
   "source": [
    "# Removing First element:\n",
    "t = t[1:]\n",
    "t"
   ]
  },
  {
   "cell_type": "code",
   "execution_count": 30,
   "metadata": {},
   "outputs": [
    {
     "data": {
      "text/plain": [
       "('S', 'K', 'E', 'E', 'G', 'R', 'O', 'F', 'S', 'K', 'E', 'E')"
      ]
     },
     "execution_count": 30,
     "metadata": {},
     "output_type": "execute_result"
    }
   ],
   "source": [
    "# Reversing the Tuple:\n",
    "t[::-1]"
   ]
  },
  {
   "cell_type": "code",
   "execution_count": 32,
   "metadata": {},
   "outputs": [
    {
     "data": {
      "text/plain": [
       "('K', 'S', 'F', 'O', 'R', 'G')"
      ]
     },
     "execution_count": 32,
     "metadata": {},
     "output_type": "execute_result"
    }
   ],
   "source": [
    "# Printing elements of a Range \n",
    "t #('E', 'E', 'K', 'S', 'F', 'O', 'R', 'G', 'E', 'E', 'K', 'S')\n",
    "t[2:8] "
   ]
  },
  {
   "cell_type": "markdown",
   "metadata": {},
   "source": [
    "### Deleting a Tuple："
   ]
  },
  {
   "cell_type": "markdown",
   "metadata": {},
   "source": [
    "#### Tuples are immutable and hence they do not allow deletion of a part of it！"
   ]
  },
  {
   "cell_type": "code",
   "execution_count": 35,
   "metadata": {},
   "outputs": [],
   "source": [
    "Tuple1 = (0, 1, 2, 3, 4) "
   ]
  },
  {
   "cell_type": "code",
   "execution_count": 36,
   "metadata": {},
   "outputs": [],
   "source": [
    "del Tuple1"
   ]
  },
  {
   "cell_type": "markdown",
   "metadata": {},
   "source": [
    "### Print unique rows in a given boolean matrix using Set with tuples:"
   ]
  },
  {
   "cell_type": "markdown",
   "metadata": {},
   "source": [
    "Input:  \n",
    "    mat = [[0, 1, 0, 0, 1],  \n",
    "             [1, 0, 1, 1, 0],  \n",
    "             [0, 1, 0, 0, 1],  \n",
    "             [1, 1, 1, 0, 0]]  \n",
    "Output:  \n",
    "          (1, 1, 1, 0, 0)  \n",
    "          (0, 1, 0, 0, 1)  \n",
    "          (1, 0, 1, 1, 0)  "
   ]
  },
  {
   "cell_type": "code",
   "execution_count": 57,
   "metadata": {},
   "outputs": [],
   "source": [
    "mat = [[0, 1, 0, 0, 1],\n",
    "[1, 0, 1, 1, 0],\n",
    "[0, 1, 0, 0, 1],\n",
    "[1, 1, 1, 0, 0]]"
   ]
  },
  {
   "cell_type": "code",
   "execution_count": 58,
   "metadata": {},
   "outputs": [],
   "source": [
    "t_res = map(tuple, mat) #!!!!!!!!!!!!!!! Convert all elements to tuple"
   ]
  },
  {
   "cell_type": "code",
   "execution_count": 59,
   "metadata": {},
   "outputs": [],
   "source": [
    "s_out = set(t_res) #!!!!!!!!!!!!!!!!! Convert map to set."
   ]
  },
  {
   "cell_type": "code",
   "execution_count": 60,
   "metadata": {
    "scrolled": true
   },
   "outputs": [
    {
     "data": {
      "text/plain": [
       "{(0, 1, 0, 0, 1), (1, 0, 1, 1, 0), (1, 1, 1, 0, 0)}"
      ]
     },
     "execution_count": 60,
     "metadata": {},
     "output_type": "execute_result"
    }
   ],
   "source": [
    "s_out"
   ]
  },
  {
   "cell_type": "code",
   "execution_count": 61,
   "metadata": {},
   "outputs": [
    {
     "name": "stdout",
     "output_type": "stream",
     "text": [
      "(1, 1, 1, 0, 0) \n",
      "\n",
      "(0, 1, 0, 0, 1) \n",
      "\n",
      "(1, 0, 1, 1, 0) \n",
      "\n"
     ]
    }
   ],
   "source": [
    "for ele in s_out:\n",
    "    print(ele, '\\n')"
   ]
  },
  {
   "cell_type": "markdown",
   "metadata": {},
   "source": [
    "__NOTE:__  \n",
    "<font color='red'> __map(tuple, list):__ Convert all elements to tuple</font>"
   ]
  },
  {
   "cell_type": "markdown",
   "metadata": {},
   "source": [
    "### Generate all possible valid IP addresses from given string:"
   ]
  },
  {
   "cell_type": "markdown",
   "metadata": {},
   "source": [
    "__Restore the string by returning all possible valid IP address combinations.  \n",
    "A valid IP address must be in the form of A.B.C.D, where A, B, C, and D are numbers from 0-255.  \n",
    "The numbers cannot be 0 prefixed unless they are 0.__  \n",
    "\n",
    "Input : 25525511135  \n",
    "Output : [“255.255.11.135”, “255.255.111.35”]  \n",
    "Explanation:   \n",
    "These are the only valid possible IP addresses.  \n",
    "\n",
    "\n",
    "Input : \"25505011535\"  \n",
    "Output : []  \n",
    "Explanation :   \n",
    "We cannot generate a valid IP address with this string. "
   ]
  },
  {
   "cell_type": "code",
   "execution_count": 67,
   "metadata": {},
   "outputs": [],
   "source": [
    "# Corner cases:\n",
    "def is_valid(ip): \n",
    "    ip = ip.split('.')\n",
    "    print(ip)\n",
    "    \n",
    "    li = list(filter(lambda i: len(i)>0 and len(i)<=3 and int(i)>0 and int(i)<255 and i[0]!= 0, ip))\n",
    "    #!!!!!!!!!!!!!!!!! how to use filter when judge some condition.\n",
    " \n",
    "    if len(li) == 4:\n",
    "        return True\n",
    "    return False"
   ]
  },
  {
   "cell_type": "code",
   "execution_count": 68,
   "metadata": {
    "scrolled": true
   },
   "outputs": [
    {
     "name": "stdout",
     "output_type": "stream",
     "text": [
      "['139', '29939', '39', '29']\n",
      "['139', '39', '29']\n"
     ]
    },
    {
     "data": {
      "text/plain": [
       "False"
      ]
     },
     "execution_count": 68,
     "metadata": {},
     "output_type": "execute_result"
    }
   ],
   "source": [
    "is_valid('139.29939.39.29')"
   ]
  },
  {
   "cell_type": "markdown",
   "metadata": {},
   "source": [
    "### Dictionary to find mirror characters in a string\n",
    "#### we need to mirror the characters from N-th position up to the length of the string in the alphabetical order.   \n",
    "#### In mirror operation, we change ‘a’ to ‘z’, ‘b’ to ‘y’, and so on."
   ]
  },
  {
   "cell_type": "markdown",
   "metadata": {},
   "source": [
    "Input : N = 3  \n",
    "        paradox  \n",
    "Output : paizwlc  \n",
    "We mirror characters from position 3 to end.  \n",
    "\n",
    "Input : N = 6  \n",
    "        pneumonia  \n",
    "Output : pnefnlmrz  "
   ]
  },
  {
   "cell_type": "code",
   "execution_count": 138,
   "metadata": {},
   "outputs": [],
   "source": [
    "str = 'paradox'\n",
    "str_dice = 'abcdefghijklmnopqrstuvwxyz'\n",
    "dic = {}\n",
    "N = 3"
   ]
  },
  {
   "cell_type": "code",
   "execution_count": 139,
   "metadata": {},
   "outputs": [
    {
     "data": {
      "text/plain": [
       "{'a': 'z',\n",
       " 'b': 'y',\n",
       " 'c': 'x',\n",
       " 'd': 'w',\n",
       " 'e': 'v',\n",
       " 'f': 'u',\n",
       " 'g': 't',\n",
       " 'h': 's',\n",
       " 'i': 'r',\n",
       " 'j': 'q',\n",
       " 'k': 'p',\n",
       " 'l': 'o',\n",
       " 'm': 'n',\n",
       " 'n': 'm',\n",
       " 'o': 'l',\n",
       " 'p': 'k',\n",
       " 'q': 'j',\n",
       " 'r': 'i',\n",
       " 's': 'h',\n",
       " 't': 'g',\n",
       " 'u': 'f',\n",
       " 'v': 'e',\n",
       " 'w': 'd',\n",
       " 'x': 'c',\n",
       " 'y': 'b',\n",
       " 'z': 'a'}"
      ]
     },
     "execution_count": 139,
     "metadata": {},
     "output_type": "execute_result"
    }
   ],
   "source": [
    "dic = dict(zip(list(str_dice), list(str_dice)[::-1])) #!!!!!!!!!!!!!!!!!!!!!! Create dictionary with iteration.\n",
    "dic"
   ]
  },
  {
   "cell_type": "code",
   "execution_count": 146,
   "metadata": {},
   "outputs": [],
   "source": [
    "def convert(str, N, dic):\n",
    "    if N>len(str):\n",
    "        return []\n",
    "    else:\n",
    "        piece = str[N-1:]\n",
    "        print('original: ', piece)\n",
    "    \n",
    "        res = list(map(lambda x: dic.get(x), piece)) # !!!!!!!!!!!!!!! Get dictionary value by KEY: or dic[value]\n",
    "        yield ''.join(res)"
   ]
  },
  {
   "cell_type": "code",
   "execution_count": 147,
   "metadata": {
    "scrolled": true
   },
   "outputs": [
    {
     "name": "stdout",
     "output_type": "stream",
     "text": [
      "original:  radox\n"
     ]
    },
    {
     "data": {
      "text/plain": [
       "'izwlc'"
      ]
     },
     "execution_count": 147,
     "metadata": {},
     "output_type": "execute_result"
    }
   ],
   "source": [
    "list(convert(str, N, dic))[0]"
   ]
  },
  {
   "cell_type": "code",
   "execution_count": 149,
   "metadata": {},
   "outputs": [
    {
     "name": "stdout",
     "output_type": "stream",
     "text": [
      "original:  radox\n"
     ]
    },
    {
     "data": {
      "text/plain": [
       "'paizwlc'"
      ]
     },
     "execution_count": 149,
     "metadata": {},
     "output_type": "execute_result"
    }
   ],
   "source": [
    "str[:N-1] + list(convert(str, N, dic))[0] # Expected: paizwlc"
   ]
  },
  {
   "cell_type": "markdown",
   "metadata": {},
   "source": [
    "__NOTE:__  \n",
    "    <font color = 'red'>__Get dictionary value by KEY:__ or dic[value]  </font>  \n",
    "    <font color = 'red'>__Create dictionary by iteration__: dict(zip(XXX, XXX))</font>"
   ]
  },
  {
   "cell_type": "markdown",
   "metadata": {},
   "source": [
    "### Generate two output strings depending upon occurrence of character in input string."
   ]
  },
  {
   "cell_type": "markdown",
   "metadata": {},
   "source": [
    "Input : str[] = \"geeksforgeeks\"  \n",
    "Output : String with characters occurring once: for  \n",
    "String with characters occurring multiple times: egks  \n",
    "\n",
    "Input : str[] = \"geekspractice\"  \n",
    "Output : String with characters occurring once: agikprst  \n",
    "String with characters occurring multiple times: ce"
   ]
  },
  {
   "cell_type": "code",
   "execution_count": 35,
   "metadata": {},
   "outputs": [],
   "source": [
    "str_in = \"geeksforgeeks\"\n",
    "str_out = \"\"\n",
    "dict_temp = {}"
   ]
  },
  {
   "cell_type": "code",
   "execution_count": 36,
   "metadata": {},
   "outputs": [
    {
     "data": {
      "text/plain": [
       "['g', 'e', 'e', 'k', 's', 'f', 'o', 'r', 'g', 'e', 'e', 'k', 's']"
      ]
     },
     "execution_count": 36,
     "metadata": {},
     "output_type": "execute_result"
    }
   ],
   "source": [
    "li_in = list(str_in)\n",
    "li_in"
   ]
  },
  {
   "cell_type": "code",
   "execution_count": 38,
   "metadata": {
    "scrolled": false
   },
   "outputs": [
    {
     "data": {
      "text/plain": [
       "{'g': 2, 'e': 4, 'k': 2, 's': 2, 'f': 1, 'o': 1, 'r': 1}"
      ]
     },
     "execution_count": 38,
     "metadata": {},
     "output_type": "execute_result"
    }
   ],
   "source": [
    "for ele in li_in:\n",
    "    count = 0\n",
    "    #print('\\nele: ', ele)\n",
    "    \n",
    "    for ind in range(li_in.index(ele), len(li_in)):\n",
    "        #print('ind: ', ind, 'li_in[ind]: ', li_in[ind])\n",
    "        \n",
    "        if ele == li_in[ind]:\n",
    "            \n",
    "            count += 1\n",
    "            #print('yes', count)\n",
    "            dict_temp[ele] = count\n",
    "        \n",
    "dict_temp"
   ]
  },
  {
   "cell_type": "code",
   "execution_count": 51,
   "metadata": {},
   "outputs": [
    {
     "data": {
      "text/plain": [
       "'for'"
      ]
     },
     "execution_count": 51,
     "metadata": {},
     "output_type": "execute_result"
    }
   ],
   "source": [
    "dict_res_1_time = dict(filter(lambda ele: ele[1]==1, dict_temp.items())) #!!!!!!!!!!!!!!!!!!!!!! Filter the dictionary by condition\n",
    "''.join(list(dict_res_1_time.keys()))"
   ]
  },
  {
   "cell_type": "markdown",
   "metadata": {},
   "source": [
    "__OR:__  \n",
    "<font color='red'>__from collections import Counter__ </font>"
   ]
  },
  {
   "cell_type": "markdown",
   "metadata": {},
   "source": [
    "- A counter is a container that stores elements as dictionary keys, and their counts are stored as dictionary values.  \n",
    "input = \"geeksforgeeks\"  \n",
    "freqDict = Counter(input)  \n",
    "freqDict"
   ]
  },
  {
   "cell_type": "code",
   "execution_count": 60,
   "metadata": {},
   "outputs": [],
   "source": [
    "str_in = \"geeksforgeeks\""
   ]
  },
  {
   "cell_type": "code",
   "execution_count": 68,
   "metadata": {},
   "outputs": [
    {
     "data": {
      "text/plain": [
       "dict_items([('g', 2), ('e', 4), ('k', 2), ('s', 2), ('f', 1), ('o', 1), ('r', 1)])"
      ]
     },
     "execution_count": 68,
     "metadata": {},
     "output_type": "execute_result"
    }
   ],
   "source": [
    "Counter(str_in).items() #!!!!!!!!!!!!!!!!!!!!!!!! Get dictionary by counting occurance."
   ]
  },
  {
   "cell_type": "code",
   "execution_count": 65,
   "metadata": {},
   "outputs": [
    {
     "data": {
      "text/plain": [
       "'egks'"
      ]
     },
     "execution_count": 65,
     "metadata": {},
     "output_type": "execute_result"
    }
   ],
   "source": [
    "freqDict_More = [key for (key, value) in Counter(str_in).items() if value>1]\n",
    "''.join(sorted(freqDict_More))"
   ]
  },
  {
   "cell_type": "markdown",
   "metadata": {},
   "source": [
    "__NOTE:__  \n",
    "<font color='red'>Filter a dictionary by conditions on keys or values:  \n",
    "- 1. __filter()__:  \n",
    "        dict(filter(lambda elem: elem[0] % 2 == 0, dictOfNames.items()))\n",
    "- 2. __Dict Comprehension__:  \n",
    "        dic = {key for (key,value) in dictOfNames.items() if value>10}\n",
    "</font>"
   ]
  },
  {
   "cell_type": "code",
   "execution_count": 52,
   "metadata": {},
   "outputs": [],
   "source": [
    "dictOfNames = {\n",
    "   7 : 'sam',\n",
    "   8: 'john',\n",
    "   9: 'mathew',\n",
    "   10: 'riti',\n",
    "   11 : 'aadi',\n",
    "   12 : 'sachin'\n",
    "}"
   ]
  },
  {
   "cell_type": "code",
   "execution_count": 54,
   "metadata": {},
   "outputs": [
    {
     "data": {
      "text/plain": [
       "{'john', 'riti', 'sachin'}"
      ]
     },
     "execution_count": 54,
     "metadata": {},
     "output_type": "execute_result"
    }
   ],
   "source": [
    "dic = {value for (key, value) in dictOfNames.items() if int(key)%2==0}\n",
    "dic"
   ]
  },
  {
   "cell_type": "markdown",
   "metadata": {},
   "source": [
    "### Groupby method to remove all consecutive duplicates:  \n",
    "Input  : aaaaabbbbbb  \n",
    "Output : ab  \n",
    "\n",
    "Input : geeksforgeeks  \n",
    "Output : geksforgeks  \n",
    "\n",
    "Input : aabccba  \n",
    "Output : abcba"
   ]
  },
  {
   "cell_type": "code",
   "execution_count": 139,
   "metadata": {},
   "outputs": [],
   "source": [
    "str_in = 'geeksforgeeks'\n",
    "res =[]"
   ]
  },
  {
   "cell_type": "code",
   "execution_count": 140,
   "metadata": {},
   "outputs": [],
   "source": [
    "from itertools import groupby "
   ]
  },
  {
   "cell_type": "code",
   "execution_count": 141,
   "metadata": {},
   "outputs": [
    {
     "name": "stdout",
     "output_type": "stream",
     "text": [
      "g <itertools._grouper object at 0x0000029AF3495470>\n",
      "e <itertools._grouper object at 0x0000029AF34957B8>\n",
      "k <itertools._grouper object at 0x0000029AF3495470>\n",
      "s <itertools._grouper object at 0x0000029AF3495828>\n",
      "f <itertools._grouper object at 0x0000029AF3495470>\n",
      "o <itertools._grouper object at 0x0000029AF34952E8>\n",
      "r <itertools._grouper object at 0x0000029AF3495470>\n",
      "g <itertools._grouper object at 0x0000029AF34952E8>\n",
      "e <itertools._grouper object at 0x0000029AF3495470>\n",
      "k <itertools._grouper object at 0x0000029AF34952E8>\n",
      "s <itertools._grouper object at 0x0000029AF3495470>\n"
     ]
    }
   ],
   "source": [
    "for (key, value) in groupby(str_in):\n",
    "    print(key, value)\n",
    "    res.append(key)"
   ]
  },
  {
   "cell_type": "code",
   "execution_count": 143,
   "metadata": {},
   "outputs": [
    {
     "data": {
      "text/plain": [
       "'geksforgeks'"
      ]
     },
     "execution_count": 143,
     "metadata": {},
     "output_type": "execute_result"
    }
   ],
   "source": [
    "''.join(res)"
   ]
  },
  {
   "cell_type": "markdown",
   "metadata": {},
   "source": [
    "__OR:__"
   ]
  },
  {
   "cell_type": "code",
   "execution_count": 145,
   "metadata": {},
   "outputs": [],
   "source": [
    "import itertools"
   ]
  },
  {
   "cell_type": "code",
   "execution_count": 147,
   "metadata": {},
   "outputs": [],
   "source": [
    "str_in = 'geeksforgeeks'\n",
    "res =[]"
   ]
  },
  {
   "cell_type": "code",
   "execution_count": 148,
   "metadata": {},
   "outputs": [
    {
     "name": "stdout",
     "output_type": "stream",
     "text": [
      "g <itertools._grouper object at 0x0000029AF34398D0>\n",
      "e <itertools._grouper object at 0x0000029AF37B8BA8>\n",
      "k <itertools._grouper object at 0x0000029AF3499B70>\n",
      "s <itertools._grouper object at 0x0000029AF37B8BA8>\n",
      "f <itertools._grouper object at 0x0000029AF3439240>\n",
      "o <itertools._grouper object at 0x0000029AF3677AC8>\n",
      "r <itertools._grouper object at 0x0000029AF3439240>\n",
      "g <itertools._grouper object at 0x0000029AF3677AC8>\n",
      "e <itertools._grouper object at 0x0000029AF3439240>\n",
      "k <itertools._grouper object at 0x0000029AF3677AC8>\n",
      "s <itertools._grouper object at 0x0000029AF3439240>\n"
     ]
    }
   ],
   "source": [
    "for (key, value) in itertools.groupby(str_in):\n",
    "    print(key, value)\n",
    "    res.append(key)"
   ]
  },
  {
   "cell_type": "code",
   "execution_count": 149,
   "metadata": {},
   "outputs": [
    {
     "data": {
      "text/plain": [
       "['g', 'e', 'k', 's', 'f', 'o', 'r', 'g', 'e', 'k', 's']"
      ]
     },
     "execution_count": 149,
     "metadata": {},
     "output_type": "execute_result"
    }
   ],
   "source": [
    "res"
   ]
  },
  {
   "cell_type": "markdown",
   "metadata": {},
   "source": [
    "__NOTE:__  \n",
    "<font color='red'>from itertools import groupby  </font>  \n",
    "__OR:__   \n",
    "<font color='red'>import itertools: itertools.groupby</font>"
   ]
  },
  {
   "cell_type": "markdown",
   "metadata": {},
   "source": [
    "### Remove empty tuples from a list:  \n",
    "Input : tuples = [(), ('ram','15','8'), (), ('laxman', 'sita'), ('krishna', 'akbar', '45'), ('',''),()]  \n",
    "Output : [('ram', '15', '8'), ('laxman', 'sita'), ('krishna', 'akbar', '45'), ('', '')]  \n",
    "\n",
    "Input : tuples = [('','','8'), (), ('0', '00', '000'), ('birbal', '', '45'), (''), (),  ('',''),()]  \n",
    "Output : [('', '', '8'), ('0', '00', '000'), ('birbal', '', '45'), ('', '')]"
   ]
  },
  {
   "cell_type": "code",
   "execution_count": 154,
   "metadata": {},
   "outputs": [],
   "source": [
    "tuples = [(), ('ram','15','8'), (), ('laxman', 'sita'), ('krishna', 'akbar', '45'), ('',''),()]"
   ]
  },
  {
   "cell_type": "code",
   "execution_count": 155,
   "metadata": {},
   "outputs": [
    {
     "data": {
      "text/plain": [
       "[('ram', '15', '8'), ('laxman', 'sita'), ('krishna', 'akbar', '45'), ('', '')]"
      ]
     },
     "execution_count": 155,
     "metadata": {},
     "output_type": "execute_result"
    }
   ],
   "source": [
    "t_res = filter(lambda item: len(item)!=0, tuples)\n",
    "list(t_res)"
   ]
  },
  {
   "cell_type": "markdown",
   "metadata": {},
   "source": [
    "__OR:__"
   ]
  },
  {
   "cell_type": "code",
   "execution_count": 156,
   "metadata": {},
   "outputs": [
    {
     "data": {
      "text/plain": [
       "[('ram', '15', '8'), ('laxman', 'sita'), ('krishna', 'akbar', '45'), ('', '')]"
      ]
     },
     "execution_count": 156,
     "metadata": {},
     "output_type": "execute_result"
    }
   ],
   "source": [
    "t_res = [t for t in tuples if t]\n",
    "t_res"
   ]
  },
  {
   "cell_type": "markdown",
   "metadata": {},
   "source": [
    "__OR:__"
   ]
  },
  {
   "cell_type": "code",
   "execution_count": 157,
   "metadata": {},
   "outputs": [
    {
     "data": {
      "text/plain": [
       "[('ram', '15', '8'), ('laxman', 'sita'), ('krishna', 'akbar', '45'), ('', '')]"
      ]
     },
     "execution_count": 157,
     "metadata": {},
     "output_type": "execute_result"
    }
   ],
   "source": [
    "t_res = filter(None, tuples)\n",
    "list(t_res)"
   ]
  },
  {
   "cell_type": "markdown",
   "metadata": {},
   "source": [
    "### Reversing a Tuple:\n",
    "Input : tuples = ('z','a','d','f','g','e','e','k')  \n",
    "Output : ('k', 'e', 'e', 'g', 'f', 'd', 'a', 'z')  \n",
    "\n",
    "Input : tuples = (10, 11, 12, 13, 14, 15)  \n",
    "Output : (15, 14, 13, 12, 11, 10)"
   ]
  },
  {
   "cell_type": "code",
   "execution_count": 158,
   "metadata": {},
   "outputs": [],
   "source": [
    "tuples = ('z','a','d','f','g','e','e','k')"
   ]
  },
  {
   "cell_type": "code",
   "execution_count": 160,
   "metadata": {},
   "outputs": [
    {
     "data": {
      "text/plain": [
       "('k', 'e', 'e', 'g', 'f', 'd', 'a', 'z')"
      ]
     },
     "execution_count": 160,
     "metadata": {},
     "output_type": "execute_result"
    }
   ],
   "source": [
    "tuple(list(tuples)[::-1])"
   ]
  },
  {
   "cell_type": "markdown",
   "metadata": {},
   "source": [
    "__OR:__  \n",
    "<font color='red'>tuple[::-1]</font>"
   ]
  },
  {
   "cell_type": "code",
   "execution_count": 163,
   "metadata": {},
   "outputs": [],
   "source": [
    "tuples = ('z','a','d','f','g','e','e','k')"
   ]
  },
  {
   "cell_type": "code",
   "execution_count": 164,
   "metadata": {},
   "outputs": [
    {
     "data": {
      "text/plain": [
       "('k', 'e', 'e', 'g', 'f', 'd', 'a', 'z')"
      ]
     },
     "execution_count": 164,
     "metadata": {},
     "output_type": "execute_result"
    }
   ],
   "source": [
    "tuples[::-1]"
   ]
  },
  {
   "cell_type": "markdown",
   "metadata": {},
   "source": [
    "__OR:__  \n",
    "<font color='red'>reversed() built-in function.</font>"
   ]
  },
  {
   "cell_type": "code",
   "execution_count": 166,
   "metadata": {},
   "outputs": [
    {
     "data": {
      "text/plain": [
       "('k', 'e', 'e', 'g', 'f', 'd', 'a', 'z')"
      ]
     },
     "execution_count": 166,
     "metadata": {},
     "output_type": "execute_result"
    }
   ],
   "source": [
    "tuple(reversed(tuples))"
   ]
  },
  {
   "cell_type": "markdown",
   "metadata": {},
   "source": [
    "### Get the fractional and integer parts of the number in a two-item tuple:\n",
    "Input: 100.12  \n",
    "Output:  (100.0, 0.12)  \n",
    "\n",
    "Input: -100.72  \n",
    "Output: (-100.0, -0.72)"
   ]
  },
  {
   "cell_type": "code",
   "execution_count": 169,
   "metadata": {},
   "outputs": [],
   "source": [
    "import math"
   ]
  },
  {
   "cell_type": "code",
   "execution_count": 174,
   "metadata": {},
   "outputs": [
    {
     "data": {
      "text/plain": [
       "(100.0, 0.12000000000000455)"
      ]
     },
     "execution_count": 174,
     "metadata": {},
     "output_type": "execute_result"
    }
   ],
   "source": [
    "t = tuple(reversed(math.modf(100.12)))\n",
    "t"
   ]
  },
  {
   "cell_type": "code",
   "execution_count": 181,
   "metadata": {},
   "outputs": [
    {
     "data": {
      "text/plain": [
       "(100.0, 0.12)"
      ]
     },
     "execution_count": 181,
     "metadata": {},
     "output_type": "execute_result"
    }
   ],
   "source": [
    "tuple(map(lambda x: round(x, 2), t))"
   ]
  },
  {
   "cell_type": "markdown",
   "metadata": {},
   "source": [
    "### Convert a list of Tuples into Dictionary:\n",
    "Input : [(\"akash\", 10), (\"gaurav\", 12), (\"anand\", 14), (\"suraj\", 20), (\"akhil\", 25), (\"ashish\", 30)]  \n",
    "Output : {'akash': [10], 'gaurav': [12], 'anand': [14], 'ashish': [30], 'akhil': [25], 'suraj': [20]}  \n",
    "\n",
    "Input : [('A', 1), ('B', 2), ('C', 3)]  \n",
    "Output : {'B': [2], 'A': [1], 'C': [3]}"
   ]
  },
  {
   "cell_type": "code",
   "execution_count": 208,
   "metadata": {},
   "outputs": [],
   "source": [
    "li_in = [('A', 1), ('B', 2), ('C', 3)]\n",
    "di_res = {}"
   ]
  },
  {
   "cell_type": "code",
   "execution_count": 209,
   "metadata": {},
   "outputs": [
    {
     "data": {
      "text/plain": [
       "{'A': [1], 'B': [2], 'C': [3]}"
      ]
     },
     "execution_count": 209,
     "metadata": {},
     "output_type": "execute_result"
    }
   ],
   "source": [
    "for t in li_in:\n",
    "    li_age = []\n",
    "    li_age.append(t[1])\n",
    "    di_res[t[0]] = li_age\n",
    "di_res"
   ]
  },
  {
   "cell_type": "markdown",
   "metadata": {},
   "source": [
    "__OR:__  \n",
    "<font color='red'>__setdefault()__ to convert the first parameter to key and the second to the value of the dictionary.  \n",
    "Setdefault(key, def_value) function searches for a key and displays its value and creates a new key with def_value if the key is not present.  \n",
    "__append():__ function we just added the values to the dictionary.</font>"
   ]
  },
  {
   "cell_type": "code",
   "execution_count": 220,
   "metadata": {},
   "outputs": [],
   "source": [
    "li_in =  [(\"akash\", 10), (\"gaurav\", 12), (\"anand\", 14), (\"suraj\", 20), (\"akhil\", 25), (\"ashish\", 30)]\n",
    "dic = {}"
   ]
  },
  {
   "cell_type": "code",
   "execution_count": 221,
   "metadata": {},
   "outputs": [
    {
     "data": {
      "text/plain": [
       "{'akash': [10],\n",
       " 'gaurav': [12],\n",
       " 'anand': [14],\n",
       " 'suraj': [20],\n",
       " 'akhil': [25],\n",
       " 'ashish': [30]}"
      ]
     },
     "execution_count": 221,
     "metadata": {},
     "output_type": "execute_result"
    }
   ],
   "source": [
    "for (key, value) in li_in:\n",
    "    dic.setdefault(key, []).append(value) \n",
    "dic"
   ]
  },
  {
   "cell_type": "markdown",
   "metadata": {},
   "source": [
    "__NOTE:__  \n",
    "__setdefault()__ Returns:  \n",
    "1. Value of the key if it is in the dictionary: \n",
    "    - Dictionary1 = { 'A': 'Geeks', 'B': 'For', 'C': 'Geeks'}  \n",
    "    - Dictionary1.setdefault('C') # Geeks\n",
    "2. None if key is not in the dictionary and default_value is not specified.  \n",
    "    - Dictionary1 = { 'A': 'Geeks', 'B': 'For'} \n",
    "    - Dictionary1.setdefault('C') # return None\n",
    "3. default_value if key is not in the dictionary and default_value is specified."
   ]
  },
  {
   "cell_type": "markdown",
   "metadata": {},
   "source": [
    "__OR:__  \n",
    "<font color='red'>Convert tuple by dict()</font>"
   ]
  },
  {
   "cell_type": "code",
   "execution_count": 223,
   "metadata": {},
   "outputs": [],
   "source": [
    "li_in =  [(\"akash\", 10), (\"gaurav\", 12), (\"anand\", 14), (\"suraj\", 20), (\"akhil\", 25), (\"ashish\", 30)]\n",
    "dic = {}"
   ]
  },
  {
   "cell_type": "code",
   "execution_count": 224,
   "metadata": {},
   "outputs": [],
   "source": [
    "dic = dict(li_in)"
   ]
  },
  {
   "cell_type": "code",
   "execution_count": 225,
   "metadata": {},
   "outputs": [
    {
     "data": {
      "text/plain": [
       "{'akash': 10,\n",
       " 'gaurav': 12,\n",
       " 'anand': 14,\n",
       " 'suraj': 20,\n",
       " 'akhil': 25,\n",
       " 'ashish': 30}"
      ]
     },
     "execution_count": 225,
     "metadata": {},
     "output_type": "execute_result"
    }
   ],
   "source": [
    "dic"
   ]
  },
  {
   "cell_type": "markdown",
   "metadata": {},
   "source": [
    "### Sort a tuple by its float element:  \n",
    "Input : tuple = [('lucky', '18.265'), ('nikhil', '14.107'), ('akash', '24.541'), ('anand', '4.256'), ('gaurav', '10.365')]  \n",
    "Output : [('akash', '24.541'), ('lucky', '18.265'), ('nikhil', '14.107'), ('gaurav', '10.365'), ('anand', '4.256')]  \n",
    "\n",
    "Input : tuple = [('234', '9.4'), ('543', '16.9'), ('756', '5.5'), ('132', '4.2'), ('342', '7.3')]  \n",
    "Output : [('543', '16.9'), ('234', '9.4'), ('342', '7.3'), ('756', '5.5'), ('132', '4.2')]"
   ]
  },
  {
   "cell_type": "code",
   "execution_count": 347,
   "metadata": {},
   "outputs": [],
   "source": [
    "tuples = [('lucky', '18.265'), ('nikhil', '14.107'), ('akash', '24.541'), ('anand', '4.256'), ('gaurav', '10.365')]"
   ]
  },
  {
   "cell_type": "code",
   "execution_count": 348,
   "metadata": {},
   "outputs": [
    {
     "data": {
      "text/plain": [
       "[('akash', '24.541'),\n",
       " ('lucky', '18.265'),\n",
       " ('nikhil', '14.107'),\n",
       " ('gaurav', '10.365'),\n",
       " ('anand', '4.256')]"
      ]
     },
     "execution_count": 348,
     "metadata": {},
     "output_type": "execute_result"
    }
   ],
   "source": [
    "sorted(tuples, key = lambda x: float(x[1]), reverse=True) #!!!!!!!!!!!!!!!!!!!!!!!!"
   ]
  },
  {
   "cell_type": "markdown",
   "metadata": {},
   "source": [
    "__NOTE__:  \n",
    "<font color='red'>__sorted(tuple, key = lambda x: XXX, reverse=True)__</font>"
   ]
  },
  {
   "cell_type": "markdown",
   "metadata": {},
   "source": [
    "### Count occurrences of an element in a Tuple:\n",
    "Tuple: (10, 8, 5, 2, 10, 15, 10, 8, 5, 8, 8, 2)  \n",
    "\n",
    "Input : 4  \n",
    "Output : 0 times  \n",
    "\n",
    "Input : 10  \n",
    "Output : 3 times  \n",
    "\n",
    "Input : 8  \n",
    "Output : 4 times  "
   ]
  },
  {
   "cell_type": "code",
   "execution_count": 260,
   "metadata": {},
   "outputs": [],
   "source": [
    "t =  (10, 8, 5, 2, 10, 15, 10, 8, 5, 8, 8, 2)"
   ]
  },
  {
   "cell_type": "code",
   "execution_count": 261,
   "metadata": {},
   "outputs": [
    {
     "data": {
      "text/plain": [
       "Counter({10: 3, 8: 4, 5: 2, 2: 2, 15: 1})"
      ]
     },
     "execution_count": 261,
     "metadata": {},
     "output_type": "execute_result"
    }
   ],
   "source": [
    "dic = Counter(t)\n",
    "dic"
   ]
  },
  {
   "cell_type": "code",
   "execution_count": 262,
   "metadata": {},
   "outputs": [],
   "source": [
    "def count_occ(t, ele):\n",
    "    dic = Counter(t)\n",
    "    return dic[int(ele)]"
   ]
  },
  {
   "cell_type": "code",
   "execution_count": 264,
   "metadata": {},
   "outputs": [
    {
     "data": {
      "text/plain": [
       "1"
      ]
     },
     "execution_count": 264,
     "metadata": {},
     "output_type": "execute_result"
    }
   ],
   "source": [
    "count_occ(t, 15)"
   ]
  },
  {
   "cell_type": "code",
   "execution_count": 265,
   "metadata": {},
   "outputs": [
    {
     "data": {
      "text/plain": [
       "0"
      ]
     },
     "execution_count": 265,
     "metadata": {},
     "output_type": "execute_result"
    }
   ],
   "source": [
    "count_occ(t, 3)"
   ]
  },
  {
   "cell_type": "markdown",
   "metadata": {},
   "source": [
    "__OR:__  \n",
    "<font color = 'red'>tuple __count()__:</font>\n",
    "    "
   ]
  },
  {
   "cell_type": "code",
   "execution_count": 269,
   "metadata": {},
   "outputs": [],
   "source": [
    "t =  (10, 8, 5, 2, 10, 15, 10, 8, 5, 8, 8, 2)"
   ]
  },
  {
   "cell_type": "code",
   "execution_count": 270,
   "metadata": {},
   "outputs": [],
   "source": [
    "def count_ele(tup, ele):\n",
    "    return t.count(ele)"
   ]
  },
  {
   "cell_type": "code",
   "execution_count": 272,
   "metadata": {},
   "outputs": [
    {
     "data": {
      "text/plain": [
       "1"
      ]
     },
     "execution_count": 272,
     "metadata": {},
     "output_type": "execute_result"
    }
   ],
   "source": [
    "count_ele(t, 15)"
   ]
  },
  {
   "cell_type": "code",
   "execution_count": 273,
   "metadata": {},
   "outputs": [
    {
     "data": {
      "text/plain": [
       "0"
      ]
     },
     "execution_count": 273,
     "metadata": {},
     "output_type": "execute_result"
    }
   ],
   "source": [
    "count_ele(t, 3)"
   ]
  },
  {
   "cell_type": "markdown",
   "metadata": {},
   "source": [
    "### Count the elements in a list until an element is a Tuple:\n",
    "Input : [4, 5, 6, 10, (1, 2, 3), 11, 2, 4]  \n",
    "Output : 4  \n",
    "\n",
    "Input : [4, (5, 6), 10, (1, 2, 3), 11, 2, 4]  \n",
    "Output : 1"
   ]
  },
  {
   "cell_type": "code",
   "execution_count": 367,
   "metadata": {},
   "outputs": [],
   "source": [
    "li_in = [4, 5, 6, 10, (1, 2, 3), 11, 2, 4]\n",
    "count = 0"
   ]
  },
  {
   "cell_type": "markdown",
   "metadata": {},
   "source": [
    "<font color= 'red'>__isinstance():__   \n",
    "    checks if the object (first argument) is an instance or subclass of classinfo class (second argument).</font>"
   ]
  },
  {
   "cell_type": "code",
   "execution_count": 368,
   "metadata": {},
   "outputs": [],
   "source": [
    "def Count(li): \n",
    "    counter = 0\n",
    "    \n",
    "    for num in li: \n",
    "        print(num)\n",
    "        if isinstance(num, int): #!!!!!!!!!!!!!!!!! isinstance(ele, type): Is the type?\n",
    "            counter = counter + 1\n",
    "        else:\n",
    "            break\n",
    "    return counter "
   ]
  },
  {
   "cell_type": "code",
   "execution_count": 369,
   "metadata": {},
   "outputs": [
    {
     "name": "stdout",
     "output_type": "stream",
     "text": [
      "4\n",
      "5\n",
      "6\n",
      "10\n",
      "(1, 2, 3)\n",
      "The length:  4\n"
     ]
    }
   ],
   "source": [
    "# Driver Code \n",
    "li = [4, 5, 6, 10, (1, 2, 3), 11, 2, 4] \n",
    "print('The length: ', Count(li)) "
   ]
  },
  {
   "cell_type": "markdown",
   "metadata": {},
   "source": [
    "### Sort Tuples in Increasing Order by any key:\n",
    "Input : tuple = [(2, 5), (1, 2), (4, 4), (2, 3)]  m = 0  \n",
    "Output : [(1, 2), (2, 3), (2, 5), (4, 4)]  \n",
    "Explanation: Sorted using the 0th index key.\n",
    "\n",
    "Input :  [(23, 45, 20), (25, 44, 39), (89, 40, 23)] m = 2  \n",
    "Output : Sorted: [(23, 45, 20), (89, 40, 23), (25, 44, 39)]  \n",
    "Explanation: Sorted using the 2nd index key"
   ]
  },
  {
   "cell_type": "code",
   "execution_count": 383,
   "metadata": {},
   "outputs": [],
   "source": [
    "import operator"
   ]
  },
  {
   "cell_type": "code",
   "execution_count": 427,
   "metadata": {},
   "outputs": [
    {
     "data": {
      "text/plain": [
       "[(89, 40, 23), (25, 44, 39), (23, 45, 20)]"
      ]
     },
     "execution_count": 427,
     "metadata": {},
     "output_type": "execute_result"
    }
   ],
   "source": [
    "li_ori = [(23, 45, 20), (25, 44, 39), (89, 40, 23)] \n",
    "sorted(li_ori, key = lambda x: int(x[2-1]))"
   ]
  },
  {
   "cell_type": "code",
   "execution_count": 428,
   "metadata": {},
   "outputs": [],
   "source": [
    "def sort_tuple(li_ori, m):\n",
    "    # Judge if m < the length of every elements:\n",
    "    if m > min([len(ele) for ele in li_ori]) or m<0:\n",
    "        print(m)\n",
    "        return m\n",
    "    \n",
    "    # If m < the min length of every len in list:\n",
    "    else:\n",
    "        return sorted(li_ori, key = lambda x: int(x[m])) "
   ]
  },
  {
   "cell_type": "code",
   "execution_count": 430,
   "metadata": {
    "scrolled": true
   },
   "outputs": [
    {
     "data": {
      "text/plain": [
       "[(23, 45, 20), (89, 40, 23), (25, 44, 39)]"
      ]
     },
     "execution_count": 430,
     "metadata": {},
     "output_type": "execute_result"
    }
   ],
   "source": [
    "sort_tuple(li_ori, 2)"
   ]
  },
  {
   "cell_type": "markdown",
   "metadata": {},
   "source": [
    "__OR:__"
   ]
  },
  {
   "cell_type": "code",
   "execution_count": 434,
   "metadata": {},
   "outputs": [],
   "source": [
    "def sort_tuple(li_ori, m):\n",
    "    return sorted(li_ori, key = lambda x: x[m])"
   ]
  },
  {
   "cell_type": "code",
   "execution_count": 435,
   "metadata": {},
   "outputs": [
    {
     "data": {
      "text/plain": [
       "[(23, 45, 20), (89, 40, 23), (25, 44, 39)]"
      ]
     },
     "execution_count": 435,
     "metadata": {},
     "output_type": "execute_result"
    }
   ],
   "source": [
    "sort_tuple(li_ori, 2)"
   ]
  },
  {
   "cell_type": "markdown",
   "metadata": {},
   "source": [
    "### Namedtuple in Python:\n",
    "<font color='red'>__collections.Namedtuple:__</font>  \n",
    "   - contain keys that are hashed to a particular value (similar dictionary):\n",
    "        - supports both __access from key value and iteration__, the functionality that dictionaries lack.\n",
    "   - __Access Operations__:\n",
    "        - Access by <font color='red'>index;</font>\n",
    "        - Access by <font color='red'>keyname;</font>\n",
    "        - Using <font color='red'>getattr()</font>: to access the value by giving namedtuple and key value as its argument."
   ]
  },
  {
   "cell_type": "code",
   "execution_count": 436,
   "metadata": {},
   "outputs": [],
   "source": [
    "import collections "
   ]
  },
  {
   "cell_type": "code",
   "execution_count": 450,
   "metadata": {},
   "outputs": [],
   "source": [
    "Student = collections.namedtuple('Student',['name','age','DOB']) "
   ]
  },
  {
   "cell_type": "code",
   "execution_count": 451,
   "metadata": {},
   "outputs": [],
   "source": [
    "S1 = Student('Nandini','19','2541997') # adding value to namedtuple"
   ]
  },
  {
   "cell_type": "code",
   "execution_count": 452,
   "metadata": {},
   "outputs": [
    {
     "data": {
      "text/plain": [
       "Student(name='Nandini', age='19', DOB='2541997')"
      ]
     },
     "execution_count": 452,
     "metadata": {},
     "output_type": "execute_result"
    }
   ],
   "source": [
    "S1"
   ]
  },
  {
   "cell_type": "code",
   "execution_count": 453,
   "metadata": {},
   "outputs": [],
   "source": [
    "S2 = Student('Nandini','20','2541997') # adding value to namedtuple"
   ]
  },
  {
   "cell_type": "code",
   "execution_count": 454,
   "metadata": {},
   "outputs": [
    {
     "data": {
      "text/plain": [
       "Student(name='Nandini', age='20', DOB='2541997')"
      ]
     },
     "execution_count": 454,
     "metadata": {},
     "output_type": "execute_result"
    }
   ],
   "source": [
    "S2"
   ]
  },
  {
   "cell_type": "code",
   "execution_count": 455,
   "metadata": {},
   "outputs": [
    {
     "name": "stdout",
     "output_type": "stream",
     "text": [
      "The Student Name using index is : Nandini\n",
      "The Student Age using index is : 19\n"
     ]
    }
   ],
   "source": [
    "print (\"The Student Name using index is : \",end =\"\")\n",
    "print (S1[0])  # Access by index\n",
    "\n",
    "print (\"The Student Age using index is : \",end =\"\") \n",
    "print (S1[1])  # Access by index"
   ]
  },
  {
   "cell_type": "code",
   "execution_count": 456,
   "metadata": {},
   "outputs": [
    {
     "name": "stdout",
     "output_type": "stream",
     "text": [
      "The Student Name using index is : Nandini\n",
      "The Student Age using index is : 20\n"
     ]
    }
   ],
   "source": [
    "print (\"The Student Name using index is : \",end =\"\") \n",
    "print (S2[0]) \n",
    "\n",
    "print (\"The Student Age using index is : \",end =\"\") \n",
    "print (S2[1]) "
   ]
  },
  {
   "cell_type": "code",
   "execution_count": 458,
   "metadata": {},
   "outputs": [
    {
     "name": "stdout",
     "output_type": "stream",
     "text": [
      "The Student name using keyname is : Nandini\n",
      "The Student name using keyname is : 19\n"
     ]
    }
   ],
   "source": [
    "print (\"The Student name using keyname is : \",end =\"\") \n",
    "print(S1.name) # Access by name\n",
    "\n",
    "print (\"The Student name using keyname is : \",end =\"\") \n",
    "print(S1.age) # Access by name"
   ]
  },
  {
   "cell_type": "code",
   "execution_count": 460,
   "metadata": {},
   "outputs": [
    {
     "name": "stdout",
     "output_type": "stream",
     "text": [
      "The Student name using getattr() is : Nandini\n",
      "The Student name using getattr() is : 19\n"
     ]
    }
   ],
   "source": [
    "print (\"The Student name using getattr() is : \",end =\"\") \n",
    "print (getattr(S1,'name')) # Access by getattr()\n",
    "\n",
    "print (\"The Student name using getattr() is : \",end =\"\") \n",
    "print (getattr(S1,'age'))  # Access by getattr()"
   ]
  },
  {
   "cell_type": "markdown",
   "metadata": {},
   "source": [
    "#### Convert list to namedtuple:"
   ]
  },
  {
   "cell_type": "code",
   "execution_count": 465,
   "metadata": {},
   "outputs": [],
   "source": [
    "Student = collections.namedtuple('Student',['name','age','DOB']) \n",
    "S1 = Student('Nandini2','20','2541997')"
   ]
  },
  {
   "cell_type": "code",
   "execution_count": 466,
   "metadata": {},
   "outputs": [],
   "source": [
    "li = ['Manjeet', '19', '411997' ] "
   ]
  },
  {
   "cell_type": "markdown",
   "metadata": {},
   "source": [
    "<font color='red'>Using ___make()__ to return namedtuple(): </font>"
   ]
  },
  {
   "cell_type": "code",
   "execution_count": 470,
   "metadata": {},
   "outputs": [],
   "source": [
    "S_li = Student._make(li)"
   ]
  },
  {
   "cell_type": "code",
   "execution_count": 472,
   "metadata": {},
   "outputs": [
    {
     "name": "stdout",
     "output_type": "stream",
     "text": [
      "Manjeet 19 411997\n"
     ]
    }
   ],
   "source": [
    "print(S_li.name, S_li.age, S_li.DOB)"
   ]
  }
 ],
 "metadata": {
  "kernelspec": {
   "display_name": "Python 3",
   "language": "python",
   "name": "python3"
  },
  "language_info": {
   "codemirror_mode": {
    "name": "ipython",
    "version": 3
   },
   "file_extension": ".py",
   "mimetype": "text/x-python",
   "name": "python",
   "nbconvert_exporter": "python",
   "pygments_lexer": "ipython3",
   "version": "3.7.0b3"
  }
 },
 "nbformat": 4,
 "nbformat_minor": 2
}
