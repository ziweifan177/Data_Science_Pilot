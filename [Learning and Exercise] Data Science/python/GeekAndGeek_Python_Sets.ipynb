{
 "cells": [
  {
   "cell_type": "markdown",
   "metadata": {},
   "source": [
    "#### Accept the strings which contains all vowels:\n",
    "- Given a string, the task is to check and accept the given string if contains all vowels i.e. ‘a’, ‘e’, ‘i’.’o’, ‘u’ or ‘A’, ‘E’, ‘I’, ‘O’, ‘U’ .  \n",
    "- \n",
    "E.g.:  \n",
    "Input : geeksforgeeks  \n",
    "Output : Not Accepted  \n",
    "\n",
    "- Input : ABeeIghiObhkUul  \n",
    "Output : Accepted"
   ]
  },
  {
   "cell_type": "markdown",
   "metadata": {},
   "source": [
    "#### Method 1:"
   ]
  },
  {
   "cell_type": "code",
   "execution_count": null,
   "metadata": {},
   "outputs": [],
   "source": [
    "def findVowel(string):\n",
    "    set_vowels =set(list('aeiouAEIOU'.lower()))\n",
    "    set_string = set(list(string.lower())) #!!!!!!!!!!!!!!!! lower()/upper()/islower()/isupper()\n",
    "    \n",
    "    print(set_vowels, set_string)\n",
    "    \n",
    "    if set_vowels.issubset(set_string): #!!!!!!!!!!!! If subset.\n",
    "        print('Accept')\n",
    "        \n",
    "    else:\n",
    "        print('Not')"
   ]
  },
  {
   "cell_type": "code",
   "execution_count": null,
   "metadata": {
    "scrolled": true
   },
   "outputs": [],
   "source": [
    "findVowel('geeksforgeeks')"
   ]
  },
  {
   "cell_type": "markdown",
   "metadata": {},
   "source": [
    "#### Method 2:"
   ]
  },
  {
   "cell_type": "code",
   "execution_count": null,
   "metadata": {},
   "outputs": [],
   "source": [
    "def check(string) : \n",
    "    vowels = set(\"aeiou\") \n",
    "    s = set({}) \n",
    "  \n",
    "    for char in string: \n",
    "        if char in vowels: \n",
    "            s.add(char) \n",
    "            print(s)\n",
    "        else: \n",
    "            pass\n",
    "              \n",
    "    if len(s) == len(vowels): \n",
    "        print(\"Accepted\", len(s)) \n",
    "    else : \n",
    "        print(\"Not Accepted\", len(s)) \n",
    "  "
   ]
  },
  {
   "cell_type": "code",
   "execution_count": null,
   "metadata": {},
   "outputs": [],
   "source": [
    "check('ABeeIghiObhkUul')"
   ]
  },
  {
   "cell_type": "markdown",
   "metadata": {},
   "source": [
    "### Python program to find common elements in three lists using sets:\n",
    "- Given three arrays, we have to find common elements in three sorted lists using sets.  \n",
    "Input : ar1 = [1, 5, 10, 20, 40, 80]  \n",
    "        ar2 = [6, 7, 20, 80, 100]  \n",
    "        ar3 = [3, 4, 15, 20, 30, 70, 80, 120]  \n",
    "\n",
    "Output : [80, 20]  \n",
    "\n",
    "Input : ar1 = [1, 5, 5]  \n",
    "        ar2 = [3, 4, 5, 5, 10]  \n",
    "        ar3 = [5, 5, 10, 20]  \n",
    "\n",
    "Output : [5]  "
   ]
  },
  {
   "cell_type": "markdown",
   "metadata": {},
   "source": [
    "#### Method 1:"
   ]
  },
  {
   "cell_type": "code",
   "execution_count": null,
   "metadata": {},
   "outputs": [],
   "source": [
    "ar1 = [1, 5, 5]\n",
    "ar2 = [3, 4, 5, 5, 10]\n",
    "ar3 = [5, 5, 10, 20]"
   ]
  },
  {
   "cell_type": "code",
   "execution_count": null,
   "metadata": {},
   "outputs": [],
   "source": [
    "def commonEle(ar1, ar2, ar3):\n",
    "    set1, set2, set3 = set(ar1), set(ar2), set(ar3)\n",
    "    \n",
    "    set_12 = set1-(set1-set2) #!!!!!!!!!!!!!!!!! X-Y: the elements in X, but not in Y.\n",
    "    \n",
    "    set123 = set_12-(set_12-set3)\n",
    "    print(set123)"
   ]
  },
  {
   "cell_type": "code",
   "execution_count": null,
   "metadata": {},
   "outputs": [],
   "source": [
    "commonEle(ar1, ar2, ar3)"
   ]
  },
  {
   "cell_type": "markdown",
   "metadata": {},
   "source": [
    "#### Method 2:"
   ]
  },
  {
   "cell_type": "code",
   "execution_count": null,
   "metadata": {},
   "outputs": [],
   "source": [
    "ar1 = [1, 5, 5]\n",
    "ar2 = [3, 4, 5, 5, 10]\n",
    "ar3 = [5, 5, 10, 20]"
   ]
  },
  {
   "cell_type": "code",
   "execution_count": null,
   "metadata": {},
   "outputs": [],
   "source": [
    "def commonEle(ar1, ar2, ar3):\n",
    "    set12 = set(ar1).intersection(set(ar2)) #!!!!!!!!!!!!!!!!!!!! set intersection.\n",
    "    set123 = set12.intersection(set(ar3))\n",
    "    \n",
    "    return set123"
   ]
  },
  {
   "cell_type": "code",
   "execution_count": null,
   "metadata": {},
   "outputs": [],
   "source": [
    "commonEle(ar1, ar2, ar3)"
   ]
  },
  {
   "cell_type": "markdown",
   "metadata": {},
   "source": [
    "### Find missing and additional values in two lists:  \n",
    "Input :   \n",
    "list1 = [1, 2, 3, 4, 5, 6]   \n",
    "list2 = [4, 5, 6, 7, 8] \n",
    "        \n",
    "Output :   \n",
    "Missing values in list1 = [8, 7]  \n",
    "Additional values in list1 = [1, 2, 3]   \n",
    "Missing values in list2 = [1, 2, 3]   \n",
    "Additional values in list2 = [7, 8]   "
   ]
  },
  {
   "cell_type": "code",
   "execution_count": null,
   "metadata": {},
   "outputs": [],
   "source": [
    "list1 = [1, 2, 3, 4, 5, 6]\n",
    "list2 = [4, 5, 6, 7, 8]"
   ]
  },
  {
   "cell_type": "markdown",
   "metadata": {},
   "source": [
    "#### Method 1:"
   ]
  },
  {
   "cell_type": "code",
   "execution_count": null,
   "metadata": {},
   "outputs": [],
   "source": [
    "def findMiss_Additional(list1, list2):\n",
    "    print('Missing values in list1: ', set(list2)-set(list1))\n",
    "    print('Missing values in list2:', set(list1)-set(list2))\n",
    "    print('Additional values in list1: ', set(list1)-set(list2))\n",
    "    print('Additional values in list2: ', set(list2)-set(list1))"
   ]
  },
  {
   "cell_type": "code",
   "execution_count": null,
   "metadata": {},
   "outputs": [],
   "source": [
    "findMiss_Additional(list1, list2)"
   ]
  },
  {
   "cell_type": "markdown",
   "metadata": {},
   "source": [
    "#### Method 2:"
   ]
  },
  {
   "cell_type": "code",
   "execution_count": null,
   "metadata": {},
   "outputs": [],
   "source": [
    "print(\"Missing values in second list:\", (set(list1).difference(list2))) # !!!!!!!!!!!!!!! Difference: list1 but not in list2"
   ]
  },
  {
   "cell_type": "markdown",
   "metadata": {},
   "source": [
    "### Pairs of complete strings in two sets:  \n",
    "Input :   \n",
    "set1[] = {\"abcdefgh\", \"geeksforgeeks\",\n",
    "                 \"lmnopqrst\", \"abc\"}  \n",
    "set2[] = {\"ijklmnopqrstuvwxyz\", \n",
    "           \"abcdefghijklmnopqrstuvwxyz\", \n",
    "            \"defghijklmnopqrstuvwxyz\"}   \n",
    "Output : 7  \n",
    "The total complete pairs that are forming are:  \n",
    "\"abcdefghijklmnopqrstuvwxyz\"  \n",
    "\"abcdefghabcdefghijklmnopqrstuvwxyz\"  \n",
    "\"abcdefghdefghijklmnopqrstuvwxyz\"  \n",
    "\"geeksforgeeksabcdefghijklmnopqrstuvwxyz\"  \n",
    "\"lmnopqrstabcdefghijklmnopqrstuvwxyz\"  \n",
    "\"abcabcdefghijklmnopqrstuvwxyz\"  \n",
    "\"abcdefghijklmnopqrstuvwxyz\""
   ]
  },
  {
   "cell_type": "code",
   "execution_count": null,
   "metadata": {},
   "outputs": [],
   "source": [
    "set1 = {\"abcdefgh\", \"geeksforgeeks\", \"lmnopqrst\", \"abc\"}\n",
    "set2 = {\"ijklmnopqrstuvwxyz\", \"abcdefghijklmnopqrstuvwxyz\", \"defghijklmnopqrstuvwxyz\"}"
   ]
  },
  {
   "cell_type": "code",
   "execution_count": null,
   "metadata": {},
   "outputs": [],
   "source": [
    "def complete(set1, set2):\n",
    "    count = 0\n",
    "    for item1 in set1:\n",
    "        for item2 in set2:\n",
    "            res = item1 + item2\n",
    "            str_res = set([char for char in res if ord(char)>=ord('a') and ord(char)<=ord('z')])\n",
    "            \n",
    "            if len(str_res)==26: \n",
    "                count = count + 1\n",
    "    return count"
   ]
  },
  {
   "cell_type": "code",
   "execution_count": null,
   "metadata": {},
   "outputs": [],
   "source": [
    "complete(set1, set2)"
   ]
  },
  {
   "cell_type": "markdown",
   "metadata": {},
   "source": [
    "### Check whether a given string is Heterogram or not:  \n",
    "Input :  \n",
    "S = \"the big dwarf only jumps\"  \n",
    "Output : Yes   \n",
    "Each alphabet in the string S is occurred only once.  \n",
    "\n",
    "Input :   \n",
    "S = \"geeksforgeeks\"   \n",
    "Output :   \n",
    "No  \n",
    "Since alphabet 'g', 'e', 'k', 's' occurred more than once."
   ]
  },
  {
   "cell_type": "markdown",
   "metadata": {},
   "source": [
    "#### Method 1:"
   ]
  },
  {
   "cell_type": "code",
   "execution_count": null,
   "metadata": {},
   "outputs": [],
   "source": [
    "def checkIfHeter(string):\n",
    "    list_str = list(string.replace(' ', ''))\n",
    "    set_str = set(list(string.replace(' ', '')))\n",
    "    \n",
    "    if len(list_str) == len(set_str):\n",
    "        return True\n",
    "    else:\n",
    "        return False"
   ]
  },
  {
   "cell_type": "code",
   "execution_count": null,
   "metadata": {},
   "outputs": [],
   "source": [
    "S = \"geeksforgeeks\""
   ]
  },
  {
   "cell_type": "code",
   "execution_count": null,
   "metadata": {},
   "outputs": [],
   "source": [
    "checkIfHeter(S)"
   ]
  },
  {
   "cell_type": "markdown",
   "metadata": {},
   "source": [
    "#### Method 2:"
   ]
  },
  {
   "cell_type": "code",
   "execution_count": null,
   "metadata": {},
   "outputs": [],
   "source": [
    "S = \"geeksforgeeks\""
   ]
  },
  {
   "cell_type": "code",
   "execution_count": null,
   "metadata": {},
   "outputs": [],
   "source": [
    "res = [char for char in list(S) if ord(char)>=ord('a') and ord(char)<=ord('z')] #!!!!!!!!!!!!!!!!!! ord(): return an integer representing the Unicode code point of the character \n",
    "\n",
    "if len(res) == len(set(res)):\n",
    "    print('Yes')\n",
    "else:\n",
    "    print('No')"
   ]
  },
  {
   "cell_type": "markdown",
   "metadata": {},
   "source": [
    "### Maximum and Minimum in a Set:  \n",
    "Input : set = ([8, 16, 24, 1, 25, 3, 10, 65, 55])  \n",
    "Output : max is 65  \n",
    "\n",
    "Input : set = ([4, 12, 10, 9, 4, 13])  \n",
    "Output : min is 4"
   ]
  },
  {
   "cell_type": "code",
   "execution_count": null,
   "metadata": {},
   "outputs": [],
   "source": [
    "def getMax(set1): \n",
    "    return max(set1) #!!!!!!!!!!!!!!!!!! max(set)\n",
    "\n",
    "def getMin(set1):\n",
    "    return min(set1)  #!!!!!!!!!!!!!!!!!! min(set)"
   ]
  },
  {
   "cell_type": "code",
   "execution_count": null,
   "metadata": {},
   "outputs": [],
   "source": [
    "set1 = ([8, 16, 24, 1, 25, 3, 10, 65, 55])\n",
    "set2 = ([4, 12, 10, 9, 4, 13])"
   ]
  },
  {
   "cell_type": "code",
   "execution_count": null,
   "metadata": {},
   "outputs": [],
   "source": [
    "print('max:', getMax(set1)) \n",
    "print('min:', getMin(set2))"
   ]
  },
  {
   "cell_type": "markdown",
   "metadata": {},
   "source": [
    "### Remove items from Set  \n",
    "- We will try to a way in which the elements can be removed from the set in a sequential manner.  \n",
    "\n",
    "Input :   \n",
    "set([12, 10, 13, 15, 8, 9])  \n",
    "Output :  \n",
    "{9, 10, 12, 13, 15}  \n",
    "{10, 12, 13, 15}  \n",
    "{12, 13, 15}  \n",
    "{13, 15}  \n",
    "{15}  \n",
    "set()  \n",
    "\n",
    "Input :   \n",
    "set(['a','b','c','d','e'])  \n",
    "Output :  \n",
    "{'d', 'c', 'a', 'b'}  \n",
    "{'c', 'a', 'b'}  \n",
    "{'a', 'b'}  \n",
    "{'b'}  \n",
    "set()"
   ]
  },
  {
   "cell_type": "code",
   "execution_count": null,
   "metadata": {},
   "outputs": [],
   "source": [
    "set1 = ([12, 10, 13, 15, 8, 9])\n",
    "set2 = (['a','b','c','d','e'])"
   ]
  },
  {
   "cell_type": "code",
   "execution_count": null,
   "metadata": {},
   "outputs": [],
   "source": [
    "from collections import deque"
   ]
  },
  {
   "cell_type": "code",
   "execution_count": null,
   "metadata": {},
   "outputs": [],
   "source": [
    "def removeSort(set_):\n",
    "    while set_:\n",
    "        set_.pop()\n",
    "        print(set_)"
   ]
  },
  {
   "cell_type": "code",
   "execution_count": null,
   "metadata": {
    "scrolled": true
   },
   "outputs": [],
   "source": [
    "removeSort(set1)"
   ]
  },
  {
   "cell_type": "code",
   "execution_count": null,
   "metadata": {},
   "outputs": [],
   "source": [
    "removeSort(set2)"
   ]
  },
  {
   "cell_type": "markdown",
   "metadata": {},
   "source": [
    "__NOTE__:  \n",
    "- <font color='red'>set.pop():</font> The element that is  <font color='red'>the smallest in the set is removed first</font> followed by removing elements in increasing order. "
   ]
  },
  {
   "cell_type": "markdown",
   "metadata": {},
   "source": [
    "### Set difference to find lost element from a duplicated array:  \n",
    "Input:  \n",
    "A = [1, 4, 5, 7, 9]  \n",
    "B = [4, 5, 7, 9]  \n",
    "\n",
    "Output: \n",
    "[1]  \n",
    "1 is missing from second array.  \n",
    "\n",
    "Input: \n",
    "A = [2, 3, 4, 5]  \n",
    "B = [2, 3, 4, 5, 6]  \n",
    "\n",
    "Output: [6]  \n",
    "6 is missing from first array."
   ]
  },
  {
   "cell_type": "code",
   "execution_count": 3,
   "metadata": {},
   "outputs": [],
   "source": [
    "li_1 = [1, 4, 5, 7, 9]\n",
    "li_2 = [4, 5, 7, 9]"
   ]
  },
  {
   "cell_type": "code",
   "execution_count": 4,
   "metadata": {},
   "outputs": [],
   "source": [
    "def lostElement(A,B): \n",
    "    A = set(list(A))\n",
    "    B = set(list(B))\n",
    "  \n",
    "    if len(A) > len(B): \n",
    "        print (list(A-B)) \n",
    "    else: \n",
    "        print (list(B-A)) "
   ]
  },
  {
   "cell_type": "code",
   "execution_count": 5,
   "metadata": {},
   "outputs": [
    {
     "name": "stdout",
     "output_type": "stream",
     "text": [
      "[1]\n"
     ]
    }
   ],
   "source": [
    "lostElement(li_1, li_2)"
   ]
  },
  {
   "cell_type": "markdown",
   "metadata": {},
   "source": [
    "### Minimum number of subsets with distinct elements using Counter:"
   ]
  },
  {
   "cell_type": "markdown",
   "metadata": {},
   "source": [
    "Input :   \n",
    "arr[] = {1, 2, 3, 4}    \n",
    "Output :\n",
    "1  \n",
    "Explanation : A single subset can contains all values and all values are distinct.  \n",
    "\n",
    "Input :   \n",
    "arr[] = {1, 2, 3, 3}  \n",
    "Output : \n",
    "2  \n",
    "Explanation : We need to create two subsets  \n",
    "{1, 2, 3} and {3} [or {1, 3} and {2, 3}] such that both subsets have distinct elements."
   ]
  },
  {
   "cell_type": "code",
   "execution_count": 9,
   "metadata": {},
   "outputs": [],
   "source": [
    "from collections import Counter"
   ]
  },
  {
   "cell_type": "code",
   "execution_count": 12,
   "metadata": {},
   "outputs": [],
   "source": [
    "def subsets(arr):\n",
    "    freqDict = Counter(arr) # !!!!!!!!!!!!!!!!!!!!! Counter(list)=> Counter({3: 3, 1: 1, 2: 1})\n",
    "    print(freqDict)\n",
    "    \n",
    "    print(max(freqDict.values()))"
   ]
  },
  {
   "cell_type": "code",
   "execution_count": 15,
   "metadata": {},
   "outputs": [
    {
     "name": "stdout",
     "output_type": "stream",
     "text": [
      "Counter({3: 3, 1: 1, 2: 1})\n",
      "3\n"
     ]
    }
   ],
   "source": [
    "subsets(arr=[1,2,3,3,3])"
   ]
  },
  {
   "cell_type": "markdown",
   "metadata": {},
   "source": [
    "### Check if two lists have at-least one element common:\n",
    "Input :   \n",
    "a = [1, 2, 3, 4, 5]  \n",
    "        b = [5, 6, 7, 8, 9]  \n",
    "Output : True  \n",
    "\n",
    "Input :   \n",
    "a=[1, 2, 3, 4, 5]  \n",
    "        b=[6, 7, 8, 9]  \n",
    "Output : False"
   ]
  },
  {
   "cell_type": "markdown",
   "metadata": {},
   "source": [
    "#### Method 1: set.intersection"
   ]
  },
  {
   "cell_type": "code",
   "execution_count": 19,
   "metadata": {},
   "outputs": [],
   "source": [
    "def checkCommon(arr1, arr2):\n",
    "    common = set(arr1).intersection(set(arr2))\n",
    "    print(common)\n",
    "    \n",
    "    if len(common) == 0:\n",
    "        return False\n",
    "    else:\n",
    "        return True"
   ]
  },
  {
   "cell_type": "code",
   "execution_count": 20,
   "metadata": {},
   "outputs": [
    {
     "name": "stdout",
     "output_type": "stream",
     "text": [
      "set()\n"
     ]
    },
    {
     "data": {
      "text/plain": [
       "False"
      ]
     },
     "execution_count": 20,
     "metadata": {},
     "output_type": "execute_result"
    }
   ],
   "source": [
    "checkCommon(arr1=[1, 2, 3, 4, 5], arr2=[6, 7, 8, 9])"
   ]
  },
  {
   "cell_type": "code",
   "execution_count": 21,
   "metadata": {
    "scrolled": true
   },
   "outputs": [
    {
     "name": "stdout",
     "output_type": "stream",
     "text": [
      "{5}\n"
     ]
    },
    {
     "data": {
      "text/plain": [
       "True"
      ]
     },
     "execution_count": 21,
     "metadata": {},
     "output_type": "execute_result"
    }
   ],
   "source": [
    "checkCommon(arr1=[1, 2, 3, 4, 5], arr2=[5, 6, 7, 8, 9])"
   ]
  },
  {
   "cell_type": "markdown",
   "metadata": {},
   "source": [
    "#### Method 2:  Set and property "
   ]
  },
  {
   "cell_type": "code",
   "execution_count": 23,
   "metadata": {},
   "outputs": [],
   "source": [
    "def checkCommon2(arr1, arr2):\n",
    "    if(set(arr1)&set(arr2)): #!!!!!!!!!!!!!!!!!!!!!!!!!! &\n",
    "        return True\n",
    "    else:\n",
    "        return False"
   ]
  },
  {
   "cell_type": "code",
   "execution_count": 24,
   "metadata": {},
   "outputs": [
    {
     "data": {
      "text/plain": [
       "True"
      ]
     },
     "execution_count": 24,
     "metadata": {},
     "output_type": "execute_result"
    }
   ],
   "source": [
    "checkCommon2(arr1=[1, 2, 3, 4, 5], arr2=[5, 6, 7, 8, 9])"
   ]
  },
  {
   "cell_type": "code",
   "execution_count": 25,
   "metadata": {},
   "outputs": [
    {
     "name": "stdout",
     "output_type": "stream",
     "text": [
      "set()\n"
     ]
    },
    {
     "data": {
      "text/plain": [
       "False"
      ]
     },
     "execution_count": 25,
     "metadata": {},
     "output_type": "execute_result"
    }
   ],
   "source": [
    "checkCommon(arr1=[1, 2, 3, 4, 5], arr2=[6, 7, 8, 9])"
   ]
  },
  {
   "cell_type": "markdown",
   "metadata": {},
   "source": [
    "### Count number of vowels using sets in given string:  \n",
    "Input : GeeksforGeeks  \n",
    "Output : No. of vowels : 5  \n",
    "\n",
    "Input : Hello World  \n",
    "Output : No. of vowels :  3"
   ]
  },
  {
   "cell_type": "code",
   "execution_count": 31,
   "metadata": {},
   "outputs": [],
   "source": [
    "def countVowel(string_in):\n",
    "    li_vowels = list('aeiouAEIOU')\n",
    "    return len([char for char in string_in if char in li_vowels])"
   ]
  },
  {
   "cell_type": "code",
   "execution_count": 33,
   "metadata": {},
   "outputs": [
    {
     "data": {
      "text/plain": [
       "3"
      ]
     },
     "execution_count": 33,
     "metadata": {},
     "output_type": "execute_result"
    }
   ],
   "source": [
    "countVowel('Hello World')"
   ]
  },
  {
   "cell_type": "markdown",
   "metadata": {},
   "source": [
    "### Check if string is panagram:  \n",
    "Input : The quick brown fox jumps over the lazy dog  \n",
    "Output : The string is a pangram  \n",
    "\n",
    "Input : geeks for geeks  \n",
    "Output : The string is not pangram"
   ]
  },
  {
   "cell_type": "markdown",
   "metadata": {},
   "source": [
    "#### Method 1: Frequency Table:"
   ]
  },
  {
   "cell_type": "code",
   "execution_count": 46,
   "metadata": {},
   "outputs": [],
   "source": [
    "def checkPanagram(string):\n",
    "    length = len(set([char for char in list(string) if ord(char)>=ord('a') and ord(char)<=ord('z')]))\n",
    "    \n",
    "    if length == 26:\n",
    "        return True\n",
    "    else:\n",
    "        return False"
   ]
  },
  {
   "cell_type": "code",
   "execution_count": 47,
   "metadata": {},
   "outputs": [
    {
     "data": {
      "text/plain": [
       "True"
      ]
     },
     "execution_count": 47,
     "metadata": {},
     "output_type": "execute_result"
    }
   ],
   "source": [
    "checkPanagram('The quick brown fox jumps over the lazy dog')"
   ]
  },
  {
   "cell_type": "code",
   "execution_count": 48,
   "metadata": {},
   "outputs": [
    {
     "data": {
      "text/plain": [
       "False"
      ]
     },
     "execution_count": 48,
     "metadata": {},
     "output_type": "execute_result"
    }
   ],
   "source": [
    "checkPanagram('geeks for geeks')"
   ]
  },
  {
   "cell_type": "markdown",
   "metadata": {},
   "source": [
    "#### Method 2: import ascii_lowercase:  \n",
    "<font color = 'red'>By using import ascii_lowercase we import all the lower characters in set and all characters of string in another set.</font>"
   ]
  },
  {
   "cell_type": "code",
   "execution_count": 49,
   "metadata": {},
   "outputs": [],
   "source": [
    "from string import ascii_lowercase"
   ]
  },
  {
   "cell_type": "code",
   "execution_count": 53,
   "metadata": {},
   "outputs": [],
   "source": [
    "def checkPanagram2(string):\n",
    "    return set(ascii_lowercase)-set(string)==set([]) #!!!!!!!!!!!!!!!!!!!!!!!! Return"
   ]
  },
  {
   "cell_type": "code",
   "execution_count": 51,
   "metadata": {},
   "outputs": [
    {
     "data": {
      "text/plain": [
       "True"
      ]
     },
     "execution_count": 51,
     "metadata": {},
     "output_type": "execute_result"
    }
   ],
   "source": [
    "checkPanagram2('The quick brown fox jumps over the lazy dog')"
   ]
  },
  {
   "cell_type": "code",
   "execution_count": 52,
   "metadata": {},
   "outputs": [
    {
     "data": {
      "text/plain": [
       "False"
      ]
     },
     "execution_count": 52,
     "metadata": {},
     "output_type": "execute_result"
    }
   ],
   "source": [
    "checkPanagram2('geeks for geeks')"
   ]
  },
  {
   "cell_type": "markdown",
   "metadata": {},
   "source": [
    "### set operations (union, intersection, difference and symmetric difference):  \n",
    "Input :  \n",
    "A = {0, 2, 4, 6, 8}  \n",
    "B = {1, 2, 3, 4, 5}  \n",
    "\n",
    "Output :  \n",
    " Union : [0, 1, 2, 3, 4, 5, 6, 8]  \n",
    " Intersection : [2, 4]  \n",
    " Difference : [8, 0, 6]  \n",
    " Symmetric difference : [0, 1, 3, 5, 6, 8]"
   ]
  },
  {
   "cell_type": "code",
   "execution_count": 56,
   "metadata": {},
   "outputs": [],
   "source": [
    "def operation_union(set1, set2):\n",
    "    return set1 | set2 #!!!!!!!!!!!!!!!!!!!!!!!!!!!!!!!! Union: |, NOT +"
   ]
  },
  {
   "cell_type": "code",
   "execution_count": 57,
   "metadata": {},
   "outputs": [
    {
     "data": {
      "text/plain": [
       "{0, 1, 2, 3, 4, 5, 6, 8}"
      ]
     },
     "execution_count": 57,
     "metadata": {},
     "output_type": "execute_result"
    }
   ],
   "source": [
    "operation_union({0, 2, 4, 6, 8}, {1, 2, 3, 4, 5})"
   ]
  },
  {
   "cell_type": "code",
   "execution_count": 58,
   "metadata": {},
   "outputs": [],
   "source": [
    "def operation_intersection1(set1, set2):\n",
    "    return set1&set2  "
   ]
  },
  {
   "cell_type": "code",
   "execution_count": 59,
   "metadata": {},
   "outputs": [
    {
     "data": {
      "text/plain": [
       "{2, 4}"
      ]
     },
     "execution_count": 59,
     "metadata": {},
     "output_type": "execute_result"
    }
   ],
   "source": [
    "operation_intersection({0, 2, 4, 6, 8}, {1, 2, 3, 4, 5})"
   ]
  },
  {
   "cell_type": "code",
   "execution_count": 60,
   "metadata": {},
   "outputs": [],
   "source": [
    "def operation_intersection2(set1, set2):\n",
    "    return set1.intersection(set2)"
   ]
  },
  {
   "cell_type": "code",
   "execution_count": 61,
   "metadata": {},
   "outputs": [
    {
     "data": {
      "text/plain": [
       "{2, 4}"
      ]
     },
     "execution_count": 61,
     "metadata": {},
     "output_type": "execute_result"
    }
   ],
   "source": [
    "operation_intersection2({0, 2, 4, 6, 8}, {1, 2, 3, 4, 5})"
   ]
  },
  {
   "cell_type": "code",
   "execution_count": 66,
   "metadata": {},
   "outputs": [],
   "source": [
    "def operation_Symmetricdifference(set1, set2):\n",
    "    return set1^set2 "
   ]
  },
  {
   "cell_type": "code",
   "execution_count": 67,
   "metadata": {},
   "outputs": [
    {
     "data": {
      "text/plain": [
       "{0, 1, 3, 5, 6, 8}"
      ]
     },
     "execution_count": 67,
     "metadata": {},
     "output_type": "execute_result"
    }
   ],
   "source": [
    "operation_Symmetricdifference({0, 2, 4, 6, 8}, {1, 2, 3, 4, 5})"
   ]
  },
  {
   "cell_type": "markdown",
   "metadata": {},
   "source": [
    "### Concatenated string with uncommon characters in Python:"
   ]
  },
  {
   "cell_type": "markdown",
   "metadata": {},
   "source": [
    "Input :   \n",
    "    S1 = \"aacdb\"  \n",
    "        S2 = \"gafd\"  \n",
    "Output :   \n",
    "    \"cbgf\"  \n",
    "\n",
    "Input :   \n",
    "    S1 = \"abcs\";  \n",
    "        S2 = \"cxzca\";  \n",
    "Output :   \n",
    "    \"bsxz\""
   ]
  },
  {
   "cell_type": "code",
   "execution_count": 74,
   "metadata": {},
   "outputs": [],
   "source": [
    "def concat(s1, s2):\n",
    "    return ''.join(set(list(s1))^set(list(s2)))"
   ]
  },
  {
   "cell_type": "code",
   "execution_count": 75,
   "metadata": {},
   "outputs": [
    {
     "data": {
      "text/plain": [
       "'gfbc'"
      ]
     },
     "execution_count": 75,
     "metadata": {},
     "output_type": "execute_result"
    }
   ],
   "source": [
    "concat( \"aacdb\", \"gafd\")"
   ]
  },
  {
   "cell_type": "code",
   "execution_count": 76,
   "metadata": {},
   "outputs": [
    {
     "data": {
      "text/plain": [
       "'xsbz'"
      ]
     },
     "execution_count": 76,
     "metadata": {},
     "output_type": "execute_result"
    }
   ],
   "source": [
    "concat( \"abcs\", \"cxzca\")"
   ]
  }
 ],
 "metadata": {
  "kernelspec": {
   "display_name": "Python 3",
   "language": "python",
   "name": "python3"
  },
  "language_info": {
   "codemirror_mode": {
    "name": "ipython",
    "version": 3
   },
   "file_extension": ".py",
   "mimetype": "text/x-python",
   "name": "python",
   "nbconvert_exporter": "python",
   "pygments_lexer": "ipython3",
   "version": "3.7.0b3"
  }
 },
 "nbformat": 4,
 "nbformat_minor": 2
}
